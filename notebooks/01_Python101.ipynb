{
 "cells": [
  {
   "cell_type": "markdown",
   "id": "792d3e22-a99c-479e-8d5e-3f0ef2a0aa73",
   "metadata": {
    "tags": []
   },
   "source": [
    "# Base Python Concepts\n",
    "Author: Omar Al Darwish\n"
   ]
  },
  {
   "cell_type": "markdown",
   "id": "dd5958b9-d1a6-47c4-a129-13d0872d21d1",
   "metadata": {
    "jp-MarkdownHeadingCollapsed": true,
    "tags": []
   },
   "source": [
    "## Hello World!"
   ]
  },
  {
   "cell_type": "code",
   "execution_count": 142,
   "id": "9fe2f1de-e9bb-48c0-b2c1-a09c1904acab",
   "metadata": {},
   "outputs": [
    {
     "name": "stdout",
     "output_type": "stream",
     "text": [
      "Hello World!\n",
      "This is a code cell, you can execute python code here!\n"
     ]
    }
   ],
   "source": [
    "print(\"Hello World!\")\n",
    "print(\"This is a code cell, you can execute python code here!\")\n"
   ]
  },
  {
   "cell_type": "markdown",
   "id": "c533ef8c",
   "metadata": {
    "jp-MarkdownHeadingCollapsed": true,
    "tags": []
   },
   "source": [
    "## Python as a glorified calculator"
   ]
  },
  {
   "cell_type": "markdown",
   "id": "11029a68",
   "metadata": {},
   "source": [
    "The following operators are available in python:\n",
    "\n",
    "| Operators | Operation | Example |\n",
    "| :-: | :-: | :-: |\n",
    "| + | Addition | 2 + 2 = 4\n",
    "| -\t| Subtraction | 5 - 2 = 3\n",
    "| /\t| Division | 22 / 8 = 2.75 |\n",
    "| *\t| Multiplication | 3 * 3 = 9\n",
    "| ** | Exponent | 2 ** 3 = 8\n",
    "| % | Modulus/Remainder | 22 % 8 = 6\n",
    "| // | Integer division\t| 22 // 8 = 2\n",
    "\n",
    "\n",
    "credit: https://www.pythoncheatsheet.org/cheatsheet/basics\n"
   ]
  },
  {
   "cell_type": "code",
   "execution_count": 32,
   "id": "91387815",
   "metadata": {},
   "outputs": [
    {
     "name": "stdout",
     "output_type": "stream",
     "text": [
      "4\n",
      "3\n",
      "2.75\n",
      "9\n",
      "8\n",
      "6\n",
      "2\n"
     ]
    }
   ],
   "source": [
    "print(2 + 2)\n",
    "print(5 - 2)\n",
    "print(22 / 8)\n",
    "print(3 * 3)\n",
    "print(2 ** 3)\n",
    "print(22 % 8)\n",
    "print(22 // 8)"
   ]
  },
  {
   "cell_type": "markdown",
   "id": "45e0335c",
   "metadata": {},
   "source": [
    "Each line of code is executed sequentially and the output is displayed under the cell. If you want to comment inside a code block (it is generally good practice to do so!) you can use the hash sign (#):"
   ]
  },
  {
   "cell_type": "code",
   "execution_count": 1,
   "id": "06572d38",
   "metadata": {},
   "outputs": [
    {
     "data": {
      "text/plain": [
       "3"
      ]
     },
     "execution_count": 1,
     "metadata": {},
     "output_type": "execute_result"
    }
   ],
   "source": [
    "#This is comment! I'm adding 10+10\n",
    "10 + 10\n",
    "\n",
    "5 - 2 #This is another comment :)"
   ]
  },
  {
   "cell_type": "markdown",
   "id": "0dbdd67d-49fa-4810-9ec1-c062986810a5",
   "metadata": {},
   "source": [
    "Notice how if we don't use the print statement, the result of only the last executed statement is channeled out, this is the default behaviour in Jupyter. To avoid using print to channel the output we can use the code snippet below to tell jupyter we want the result of all statemetns inside a cell to be displayed on the screen. Don't worry about what the code cell is doing for now, you can abstract that away and use it as a tool to channel output!"
   ]
  },
  {
   "cell_type": "code",
   "execution_count": 4,
   "id": "88629048-67c8-4dac-9601-c7d76ceaa87f",
   "metadata": {},
   "outputs": [],
   "source": [
    "from IPython.core.interactiveshell import InteractiveShell\n",
    "InteractiveShell.ast_node_interactivity = \"all\""
   ]
  },
  {
   "cell_type": "code",
   "execution_count": 5,
   "id": "fcef5f7f-48b5-4508-8d50-3bcd0b60f638",
   "metadata": {},
   "outputs": [
    {
     "data": {
      "text/plain": [
       "20"
      ]
     },
     "execution_count": 5,
     "metadata": {},
     "output_type": "execute_result"
    },
    {
     "data": {
      "text/plain": [
       "3"
      ]
     },
     "execution_count": 5,
     "metadata": {},
     "output_type": "execute_result"
    }
   ],
   "source": [
    "#This is comment! I'm adding 10+10\n",
    "10 + 10\n",
    "\n",
    "5 - 2 #This is another comment :)"
   ]
  },
  {
   "cell_type": "markdown",
   "id": "a1cf7120",
   "metadata": {
    "jp-MarkdownHeadingCollapsed": true,
    "tags": []
   },
   "source": [
    "## Creating Variables (Reference Assignment)"
   ]
  },
  {
   "cell_type": "markdown",
   "id": "4b2ec3e4",
   "metadata": {},
   "source": [
    "Use the equal sign (=) to assign and object to a variable name. Whatever is right to the euqal sign is evaluated, and the resulting object is \"assigend\" to whatever is on the left side of the operator."
   ]
  },
  {
   "cell_type": "code",
   "execution_count": 7,
   "id": "bee94434",
   "metadata": {},
   "outputs": [
    {
     "data": {
      "text/plain": [
       "10"
      ]
     },
     "execution_count": 7,
     "metadata": {},
     "output_type": "execute_result"
    },
    {
     "data": {
      "text/plain": [
       "20"
      ]
     },
     "execution_count": 7,
     "metadata": {},
     "output_type": "execute_result"
    },
    {
     "name": "stdout",
     "output_type": "stream",
     "text": [
      "The variable x has the value: 10\n",
      "The variable y has the value: 20\n"
     ]
    }
   ],
   "source": [
    "x = 10\n",
    "y = 20\n",
    "\n",
    "x\n",
    "y\n",
    "\n",
    "print(\"The variable x has the value:\", x)\n",
    "print(\"The variable y has the value:\", y)"
   ]
  },
  {
   "cell_type": "markdown",
   "id": "fa851eff",
   "metadata": {},
   "source": [
    "In Jupyter notebooks you can use the magic command %whos to inspect variables declared in your scope"
   ]
  },
  {
   "cell_type": "code",
   "execution_count": 10,
   "id": "ef62fb05",
   "metadata": {},
   "outputs": [
    {
     "name": "stdout",
     "output_type": "stream",
     "text": [
      "Variable           Type             Data/Info\n",
      "---------------------------------------------\n",
      "InteractiveShell   MetaHasTraits    <class 'IPython.core.inte<...>eshell.InteractiveShell'>\n",
      "x                  int              10\n",
      "y                  int              20\n",
      "z                  int              100\n"
     ]
    }
   ],
   "source": [
    "%whos"
   ]
  },
  {
   "cell_type": "code",
   "execution_count": 11,
   "id": "66264225-fff5-49f7-adf1-074a1bfd895d",
   "metadata": {},
   "outputs": [
    {
     "name": "stdout",
     "output_type": "stream",
     "text": [
      "Variable           Type             Data/Info\n",
      "---------------------------------------------\n",
      "InteractiveShell   MetaHasTraits    <class 'IPython.core.inte<...>eshell.InteractiveShell'>\n",
      "x                  int              10\n",
      "y                  int              20\n",
      "z                  int              100\n"
     ]
    }
   ],
   "source": [
    "z=100\n",
    "%whos"
   ]
  },
  {
   "cell_type": "markdown",
   "id": "a6c84c2f-ec36-4a91-8464-6feac28f0869",
   "metadata": {},
   "source": [
    "In other environments, where magic commands don't exist, we can use locals() or globals()"
   ]
  },
  {
   "cell_type": "code",
   "execution_count": 3,
   "id": "aed16495-1208-4b88-933e-4aef3b541e84",
   "metadata": {},
   "outputs": [
    {
     "data": {
      "text/plain": [
       "{'__name__': '__main__',\n",
       " '__doc__': 'Automatically created module for IPython interactive environment',\n",
       " '__package__': None,\n",
       " '__loader__': None,\n",
       " '__spec__': None,\n",
       " '__builtin__': <module 'builtins' (built-in)>,\n",
       " '__builtins__': <module 'builtins' (built-in)>,\n",
       " '_ih': ['',\n",
       "  'x = 10\\ny = 20\\n\\nprint(\"The variable x has the value:\", x)\\nprint(\"The variable y has the value:\", y)',\n",
       "  'get_ipython().run_line_magic(\\'whos\\', \\'\\')\\nz=100\\nprint()\\nprint(\"The variable z has the value:\", z)\\nprint()\\nget_ipython().run_line_magic(\\'whos\\', \\'\\')',\n",
       "  'locals()'],\n",
       " '_oh': {},\n",
       " '_dh': [PosixPath('/Users/darwish/Documents/Dev/PythonJumpstart/notebooks')],\n",
       " 'In': ['',\n",
       "  'x = 10\\ny = 20\\n\\nprint(\"The variable x has the value:\", x)\\nprint(\"The variable y has the value:\", y)',\n",
       "  'get_ipython().run_line_magic(\\'whos\\', \\'\\')\\nz=100\\nprint()\\nprint(\"The variable z has the value:\", z)\\nprint()\\nget_ipython().run_line_magic(\\'whos\\', \\'\\')',\n",
       "  'locals()'],\n",
       " 'Out': {},\n",
       " 'get_ipython': <bound method InteractiveShell.get_ipython of <ipykernel.zmqshell.ZMQInteractiveShell object at 0x1071c3bb0>>,\n",
       " 'exit': <IPython.core.autocall.ZMQExitAutocall at 0x1071d67f0>,\n",
       " 'quit': <IPython.core.autocall.ZMQExitAutocall at 0x1071d67f0>,\n",
       " '_': '',\n",
       " '__': '',\n",
       " '___': '',\n",
       " '_i': '%whos\\nz=100\\nprint()\\nprint(\"The variable z has the value:\", z)\\nprint()\\n%whos',\n",
       " '_ii': 'x = 10\\ny = 20\\n\\nprint(\"The variable x has the value:\", x)\\nprint(\"The variable y has the value:\", y)',\n",
       " '_iii': '',\n",
       " '_i1': 'x = 10\\ny = 20\\n\\nprint(\"The variable x has the value:\", x)\\nprint(\"The variable y has the value:\", y)',\n",
       " 'x': 10,\n",
       " 'y': 20,\n",
       " '_i2': '%whos\\nz=100\\nprint()\\nprint(\"The variable z has the value:\", z)\\nprint()\\n%whos',\n",
       " 'z': 100,\n",
       " '_i3': 'locals()'}"
      ]
     },
     "execution_count": 3,
     "metadata": {},
     "output_type": "execute_result"
    }
   ],
   "source": [
    "locals()"
   ]
  },
  {
   "cell_type": "markdown",
   "id": "f56d3ea1",
   "metadata": {},
   "source": [
    "***\n",
    "\n",
    "You can assign the same variable to different object types in python"
   ]
  },
  {
   "cell_type": "code",
   "execution_count": 12,
   "id": "213b4f5a",
   "metadata": {},
   "outputs": [
    {
     "name": "stdout",
     "output_type": "stream",
     "text": [
      "Variable           Type             Data/Info\n",
      "---------------------------------------------\n",
      "InteractiveShell   MetaHasTraits    <class 'IPython.core.inte<...>eshell.InteractiveShell'>\n",
      "x                  int              10\n",
      "y                  int              20\n",
      "z                  int              100\n",
      "\n",
      "Variable           Type             Data/Info\n",
      "---------------------------------------------\n",
      "InteractiveShell   MetaHasTraits    <class 'IPython.core.inte<...>eshell.InteractiveShell'>\n",
      "x                  str              Hello World!\n",
      "y                  int              20\n",
      "z                  int              100\n"
     ]
    }
   ],
   "source": [
    "x = 10\n",
    "%whos\n",
    "print()\n",
    "x = \"Hello World!\"\n",
    "%whos"
   ]
  },
  {
   "cell_type": "markdown",
   "id": "0466652d-1262-452b-ba55-f0f3a1330e8f",
   "metadata": {},
   "source": [
    "For more advanced use cases, you can also access the memory ID of the object using the id() function"
   ]
  },
  {
   "cell_type": "code",
   "execution_count": 13,
   "id": "68b84797-e6fc-443c-a915-8677b675771f",
   "metadata": {},
   "outputs": [
    {
     "data": {
      "text/plain": [
       "4409039184"
      ]
     },
     "execution_count": 13,
     "metadata": {},
     "output_type": "execute_result"
    },
    {
     "data": {
      "text/plain": [
       "4394827248"
      ]
     },
     "execution_count": 13,
     "metadata": {},
     "output_type": "execute_result"
    },
    {
     "data": {
      "text/plain": [
       "4394827248"
      ]
     },
     "execution_count": 13,
     "metadata": {},
     "output_type": "execute_result"
    }
   ],
   "source": [
    "x = 15678\n",
    "id(x)\n",
    "\n",
    "y = \"hello\"\n",
    "id(y)\n",
    "\n",
    "z = y\n",
    "id(y)"
   ]
  },
  {
   "cell_type": "markdown",
   "id": "3735f369",
   "metadata": {},
   "source": [
    "***\n",
    "watchout for reserved keywords, its best practice not to use these as variable names, for example don't call a variable print!"
   ]
  },
  {
   "cell_type": "code",
   "execution_count": 14,
   "id": "1a61476d",
   "metadata": {},
   "outputs": [
    {
     "ename": "TypeError",
     "evalue": "'int' object is not callable",
     "output_type": "error",
     "traceback": [
      "\u001b[0;31m---------------------------------------------------------------------------\u001b[0m",
      "\u001b[0;31mTypeError\u001b[0m                                 Traceback (most recent call last)",
      "Input \u001b[0;32mIn [14]\u001b[0m, in \u001b[0;36m<cell line: 3>\u001b[0;34m()\u001b[0m\n\u001b[1;32m      1\u001b[0m \u001b[38;5;66;03m#assigning to a reserved keyword is bad practice\u001b[39;00m\n\u001b[1;32m      2\u001b[0m \u001b[38;5;28mprint\u001b[39m \u001b[38;5;241m=\u001b[39m \u001b[38;5;241m10\u001b[39m\n\u001b[0;32m----> 3\u001b[0m \u001b[38;5;28;43mprint\u001b[39;49m\u001b[43m(\u001b[49m\u001b[38;5;241;43m10\u001b[39;49m\u001b[43m)\u001b[49m\n",
      "\u001b[0;31mTypeError\u001b[0m: 'int' object is not callable"
     ]
    }
   ],
   "source": [
    "#assigning to a reserved keyword is bad practice\n",
    "print = 10\n",
    "print(10)"
   ]
  },
  {
   "cell_type": "markdown",
   "id": "29e0a98b",
   "metadata": {},
   "source": [
    "Often python programmers will use a trailing underscore to avoid the above, to reset the variable assignment which we've done, we can simply delete that variable using the del command"
   ]
  },
  {
   "cell_type": "code",
   "execution_count": 16,
   "id": "bc45f9b1",
   "metadata": {},
   "outputs": [
    {
     "name": "stdout",
     "output_type": "stream",
     "text": [
      "10\n"
     ]
    }
   ],
   "source": [
    "del print\n",
    "print_ = 10\n",
    "print(print_)"
   ]
  },
  {
   "cell_type": "markdown",
   "id": "9afb203a",
   "metadata": {},
   "source": [
    "***\n",
    "You can also self-assign to variables, this is very hlepful if you're trying to keep a tally."
   ]
  },
  {
   "cell_type": "code",
   "execution_count": 17,
   "id": "a4471102",
   "metadata": {},
   "outputs": [
    {
     "name": "stdout",
     "output_type": "stream",
     "text": [
      "10\n",
      "20\n",
      "30\n"
     ]
    }
   ],
   "source": [
    "x = 10\n",
    "print(x)\n",
    "x = x + 10\n",
    "print(x)\n",
    "\n",
    "#or as short hand\n",
    "x+=10\n",
    "print(x)"
   ]
  },
  {
   "cell_type": "markdown",
   "id": "2b45ea1b",
   "metadata": {},
   "source": [
    "The \"+=\" is an augmented operator, it literally translates to x = x + 10. You can also use augmented operators with the other math operators as well."
   ]
  },
  {
   "cell_type": "code",
   "execution_count": 11,
   "id": "71905f96",
   "metadata": {},
   "outputs": [
    {
     "data": {
      "text/plain": [
       "1"
      ]
     },
     "execution_count": 11,
     "metadata": {},
     "output_type": "execute_result"
    },
    {
     "data": {
      "text/plain": [
       "2"
      ]
     },
     "execution_count": 11,
     "metadata": {},
     "output_type": "execute_result"
    },
    {
     "data": {
      "text/plain": [
       "3"
      ]
     },
     "execution_count": 11,
     "metadata": {},
     "output_type": "execute_result"
    },
    {
     "data": {
      "text/plain": [
       "4"
      ]
     },
     "execution_count": 11,
     "metadata": {},
     "output_type": "execute_result"
    }
   ],
   "source": [
    "x = 1\n",
    "x\n",
    "x += 1\n",
    "x\n",
    "x += 1\n",
    "x\n",
    "x += 1\n",
    "x\n"
   ]
  },
  {
   "cell_type": "code",
   "execution_count": 18,
   "id": "955d37e9-8533-495f-9907-7e6d671823cb",
   "metadata": {},
   "outputs": [
    {
     "data": {
      "text/plain": [
       "2"
      ]
     },
     "execution_count": 18,
     "metadata": {},
     "output_type": "execute_result"
    },
    {
     "data": {
      "text/plain": [
       "4"
      ]
     },
     "execution_count": 18,
     "metadata": {},
     "output_type": "execute_result"
    },
    {
     "data": {
      "text/plain": [
       "8"
      ]
     },
     "execution_count": 18,
     "metadata": {},
     "output_type": "execute_result"
    },
    {
     "data": {
      "text/plain": [
       "16"
      ]
     },
     "execution_count": 18,
     "metadata": {},
     "output_type": "execute_result"
    }
   ],
   "source": [
    "x = 2\n",
    "x\n",
    "x *= 2\n",
    "x\n",
    "x *= 2\n",
    "x\n",
    "x *= 2\n",
    "x"
   ]
  },
  {
   "cell_type": "code",
   "execution_count": 12,
   "id": "9571f0a4",
   "metadata": {},
   "outputs": [
    {
     "data": {
      "text/plain": [
       "2"
      ]
     },
     "execution_count": 12,
     "metadata": {},
     "output_type": "execute_result"
    },
    {
     "data": {
      "text/plain": [
       "4"
      ]
     },
     "execution_count": 12,
     "metadata": {},
     "output_type": "execute_result"
    },
    {
     "data": {
      "text/plain": [
       "16"
      ]
     },
     "execution_count": 12,
     "metadata": {},
     "output_type": "execute_result"
    },
    {
     "data": {
      "text/plain": [
       "256"
      ]
     },
     "execution_count": 12,
     "metadata": {},
     "output_type": "execute_result"
    }
   ],
   "source": [
    "#exponentiation\n",
    "x = 2\n",
    "x\n",
    "x **= 2\n",
    "x\n",
    "x **= 2\n",
    "x\n",
    "x **= 2\n",
    "x"
   ]
  },
  {
   "cell_type": "code",
   "execution_count": 13,
   "id": "b7a46e31",
   "metadata": {},
   "outputs": [
    {
     "data": {
      "text/plain": [
       "135450"
      ]
     },
     "execution_count": 13,
     "metadata": {},
     "output_type": "execute_result"
    },
    {
     "data": {
      "text/plain": [
       "13545"
      ]
     },
     "execution_count": 13,
     "metadata": {},
     "output_type": "execute_result"
    },
    {
     "data": {
      "text/plain": [
       "1354"
      ]
     },
     "execution_count": 13,
     "metadata": {},
     "output_type": "execute_result"
    },
    {
     "data": {
      "text/plain": [
       "135"
      ]
     },
     "execution_count": 13,
     "metadata": {},
     "output_type": "execute_result"
    },
    {
     "data": {
      "text/plain": [
       "13"
      ]
     },
     "execution_count": 13,
     "metadata": {},
     "output_type": "execute_result"
    },
    {
     "data": {
      "text/plain": [
       "1"
      ]
     },
     "execution_count": 13,
     "metadata": {},
     "output_type": "execute_result"
    }
   ],
   "source": [
    "#shave off the last digit\n",
    "x = 135450 \n",
    "x\n",
    "x //= 10\n",
    "x\n",
    "x //= 10\n",
    "x\n",
    "x //= 10\n",
    "x\n",
    "x //= 10\n",
    "x\n",
    "x //= 10\n",
    "x"
   ]
  },
  {
   "cell_type": "markdown",
   "id": "21428613",
   "metadata": {
    "jp-MarkdownHeadingCollapsed": true,
    "tags": []
   },
   "source": [
    "## Base Python Objects"
   ]
  },
  {
   "cell_type": "markdown",
   "id": "f4e3f8fb",
   "metadata": {},
   "source": [
    "Python is an object-oriented language, we will not be discussing this in detail, but if you're interested you can read more at: https://python.swaroopch.com/oop.html.\n",
    "\n",
    "All you need to know for now is that when we write python code, we are fundamentally creating and manipulating objects. Each object belongs to a class (i.e. its type), classes can inherit from each other, and objects can be converted from one class to another if the operation is permitted. we can use the function type() to inspect the type of a variable."
   ]
  },
  {
   "cell_type": "markdown",
   "id": "eae1b56d",
   "metadata": {
    "tags": []
   },
   "source": [
    "### Numeric Types"
   ]
  },
  {
   "cell_type": "markdown",
   "id": "24ab833d",
   "metadata": {
    "tags": []
   },
   "source": [
    "#### Integers"
   ]
  },
  {
   "cell_type": "markdown",
   "id": "1505e4cc",
   "metadata": {},
   "source": [
    "An integer is the number zero (0), a positive natural number (1, 2, 3, etc.) or a negative integer with a minus sign (−1, −2, −3, etc.)\n",
    "\n",
    "Source: https://en.wikipedia.org/wiki/Integer"
   ]
  },
  {
   "cell_type": "code",
   "execution_count": 11,
   "id": "4cec6345",
   "metadata": {},
   "outputs": [
    {
     "data": {
      "text/plain": [
       "10"
      ]
     },
     "execution_count": 11,
     "metadata": {},
     "output_type": "execute_result"
    },
    {
     "data": {
      "text/plain": [
       "int"
      ]
     },
     "execution_count": 11,
     "metadata": {},
     "output_type": "execute_result"
    },
    {
     "name": "stdout",
     "output_type": "stream",
     "text": [
      "x_2 is a <class 'int'> and has a value of: -75\n"
     ]
    }
   ],
   "source": [
    "x_1 = 10\n",
    "x_1\n",
    "type(x_1)\n",
    "\n",
    "#or more neatly:\n",
    "\n",
    "x_2 = -20 - 55\n",
    "print(\"x_2 is a\", type(x_2), \"and has a value of:\", x_2)"
   ]
  },
  {
   "cell_type": "markdown",
   "id": "3b927ca6-aa36-4254-b5b1-415a7b2c18aa",
   "metadata": {},
   "source": [
    "you can also test to see if an object is of a certain class by using the isinstance() function"
   ]
  },
  {
   "cell_type": "code",
   "execution_count": 13,
   "id": "b8c4ce9b-2f4e-4de8-a036-95ba8247a314",
   "metadata": {},
   "outputs": [
    {
     "data": {
      "text/plain": [
       "True"
      ]
     },
     "execution_count": 13,
     "metadata": {},
     "output_type": "execute_result"
    },
    {
     "data": {
      "text/plain": [
       "False"
      ]
     },
     "execution_count": 13,
     "metadata": {},
     "output_type": "execute_result"
    }
   ],
   "source": [
    "x_3 = 10\n",
    "isinstance(x_3, int)\n",
    "isinstance(x_3, float)"
   ]
  },
  {
   "cell_type": "markdown",
   "id": "1dbe0022-ba7e-48b2-a8c7-0d62ae19fde0",
   "metadata": {},
   "source": [
    "You can also instatiate an object by calling its \"constuctor\" or \"initializer\". In python, constructors are called by calling the name of the class."
   ]
  },
  {
   "cell_type": "code",
   "execution_count": 14,
   "id": "f9056feb-353b-4f1b-ba08-5fb67860d51a",
   "metadata": {},
   "outputs": [],
   "source": [
    "#these statemetns are equivalent\n",
    "x_3 = int(1000)\n",
    "x_4 = 1000"
   ]
  },
  {
   "cell_type": "markdown",
   "id": "6118fd98-42ff-4c55-a59f-2d26bdacefc3",
   "metadata": {
    "tags": []
   },
   "source": [
    "#### Floats"
   ]
  },
  {
   "cell_type": "markdown",
   "id": "bc4027f1-de65-47a3-9513-e6fed553568b",
   "metadata": {},
   "source": [
    "In computing, floating-point arithmetic (FP) is arithmetic that represents real numbers approximately, using an integer with a fixed precision, called the significand, scaled by an integer exponent of a fixed base. For example, 12.345 can be represented as a base-ten floating-point number:\n",
    "\n",
    "![alternatvie text](https://wikimedia.org/api/rest_v1/media/math/render/svg/dcd36557db1b343d74991d99aeb50aadce64eb3a)\n",
    "\n",
    "In practice, most floating-point numbers use base two, though base ten (decimal floating point) is also common.\n",
    "\n",
    "source: https://en.wikipedia.org/wiki/Floating-point_arithmetic"
   ]
  },
  {
   "cell_type": "code",
   "execution_count": 18,
   "id": "4798d6a4-75df-456d-8014-144692118c7f",
   "metadata": {},
   "outputs": [
    {
     "data": {
      "text/plain": [
       "10.5"
      ]
     },
     "execution_count": 18,
     "metadata": {},
     "output_type": "execute_result"
    },
    {
     "data": {
      "text/plain": [
       "float"
      ]
     },
     "execution_count": 18,
     "metadata": {},
     "output_type": "execute_result"
    },
    {
     "data": {
      "text/plain": [
       "1.6666666666666667"
      ]
     },
     "execution_count": 18,
     "metadata": {},
     "output_type": "execute_result"
    },
    {
     "data": {
      "text/plain": [
       "float"
      ]
     },
     "execution_count": 18,
     "metadata": {},
     "output_type": "execute_result"
    }
   ],
   "source": [
    "y_1 = 10.5\n",
    "y_1\n",
    "type(y_1)\n",
    "y_2 = 5 / 3\n",
    "y_2\n",
    "type(y_2)"
   ]
  },
  {
   "cell_type": "markdown",
   "id": "8bca51cb-dabc-4ba2-8776-5fb5f5c158a4",
   "metadata": {},
   "source": [
    "watch out for float precision, computer systems can't represent decimals accurately! Read more on the topic here: https://0.30000000000000004.com/"
   ]
  },
  {
   "cell_type": "code",
   "execution_count": 19,
   "id": "a2abecf3-e64d-437d-b4cd-4e48ae031b06",
   "metadata": {},
   "outputs": [
    {
     "data": {
      "text/plain": [
       "0.30000000000000004"
      ]
     },
     "execution_count": 19,
     "metadata": {},
     "output_type": "execute_result"
    }
   ],
   "source": [
    "0.1 + 0.1 + 0.1"
   ]
  },
  {
   "cell_type": "markdown",
   "id": "1e005db0-f770-41d3-8610-2a6b3b44a28f",
   "metadata": {},
   "source": [
    "If high decimal precision is required, you can using the package Decimal from python (more on packages later!)"
   ]
  },
  {
   "cell_type": "code",
   "execution_count": 19,
   "id": "49698704-ee00-432c-8d14-0080a23f31dd",
   "metadata": {},
   "outputs": [
    {
     "data": {
      "text/plain": [
       "0.1"
      ]
     },
     "execution_count": 19,
     "metadata": {},
     "output_type": "execute_result"
    },
    {
     "data": {
      "text/plain": [
       "Decimal('0.1000000000000000055511151231257827021181583404541015625')"
      ]
     },
     "execution_count": 19,
     "metadata": {},
     "output_type": "execute_result"
    },
    {
     "data": {
      "text/plain": [
       "Decimal('0.1')"
      ]
     },
     "execution_count": 19,
     "metadata": {},
     "output_type": "execute_result"
    },
    {
     "data": {
      "text/plain": [
       "Decimal('0.3')"
      ]
     },
     "execution_count": 19,
     "metadata": {},
     "output_type": "execute_result"
    }
   ],
   "source": [
    "from decimal import Decimal\n",
    "1/10\n",
    "Decimal(1/10)\n",
    "Decimal(1)/Decimal(10)\n",
    "Decimal(1)/Decimal(10) + Decimal(1)/Decimal(10) + Decimal(1)/Decimal(10)"
   ]
  },
  {
   "cell_type": "markdown",
   "id": "2c040d70-63a9-4797-8085-62717d4739ce",
   "metadata": {},
   "source": [
    "floats can be converted, or more technically casted, into integers. Note that this is not a rounding operation, numbers to the right of the decimal are just dropped."
   ]
  },
  {
   "cell_type": "code",
   "execution_count": 20,
   "id": "a0a6ac46-d5d2-44eb-bc2e-e0de24f01b05",
   "metadata": {},
   "outputs": [
    {
     "data": {
      "text/plain": [
       "10503.56"
      ]
     },
     "execution_count": 20,
     "metadata": {},
     "output_type": "execute_result"
    },
    {
     "data": {
      "text/plain": [
       "float"
      ]
     },
     "execution_count": 20,
     "metadata": {},
     "output_type": "execute_result"
    },
    {
     "data": {
      "text/plain": [
       "10503"
      ]
     },
     "execution_count": 20,
     "metadata": {},
     "output_type": "execute_result"
    },
    {
     "data": {
      "text/plain": [
       "int"
      ]
     },
     "execution_count": 20,
     "metadata": {},
     "output_type": "execute_result"
    }
   ],
   "source": [
    "total = 10503.56\n",
    "total\n",
    "type(total)\n",
    "total_integer = int(total)\n",
    "total_integer\n",
    "type(total_integer)"
   ]
  },
  {
   "cell_type": "markdown",
   "id": "3ad751ca-ac38-4174-abc8-5a7c21311d7b",
   "metadata": {},
   "source": [
    "To round floats, you can use the round() function"
   ]
  },
  {
   "cell_type": "code",
   "execution_count": 21,
   "id": "05064224-710e-4a85-ac95-2fb3f542c675",
   "metadata": {},
   "outputs": [
    {
     "name": "stdout",
     "output_type": "stream",
     "text": [
      "100 degrees Fahrenheit is 37.77777777777778 degrees celsius\n",
      "100 degrees Fahrenheit is 37.8 degrees celsius\n"
     ]
    }
   ],
   "source": [
    "T_fahrenheit = 100\n",
    "\n",
    "#ugly\n",
    "T_celsius = (T_fahrenheit - 32) * 5 / 9\n",
    "print(T_fahrenheit, \"degrees Fahrenheit\", \"is\", T_celsius, \"degrees celsius\")\n",
    "\n",
    "#better\n",
    "T_celsius = round((T_fahrenheit - 32) * 5 / 9, 1)\n",
    "print(T_fahrenheit, \"degrees Fahrenheit\", \"is\", T_celsius, \"degrees celsius\")"
   ]
  },
  {
   "cell_type": "markdown",
   "id": "1a714d12-2e4b-4149-bbf6-c19a42e32411",
   "metadata": {},
   "source": [
    "### Booleans"
   ]
  },
  {
   "cell_type": "markdown",
   "id": "be3f6e34-9469-42f6-b8f1-582c87e55c20",
   "metadata": {},
   "source": [
    "Boolean objects represent a truth value (True vs. False), a great example is what results from a comparision operation:\n",
    "\n",
    "|Operator|Meaning|\n",
    "|:-:|:-:|\n",
    "|==|equal to\n",
    "|!=|not equal to|\n",
    "|<|less than|\n",
    "|<=|less than or equal to|\n",
    "|>|greater than|\n",
    "|>=|greater than or equal to|"
   ]
  },
  {
   "cell_type": "code",
   "execution_count": 20,
   "id": "6da14723-1197-41c0-9518-22266c3d1186",
   "metadata": {},
   "outputs": [
    {
     "data": {
      "text/plain": [
       "True"
      ]
     },
     "execution_count": 20,
     "metadata": {},
     "output_type": "execute_result"
    },
    {
     "data": {
      "text/plain": [
       "False"
      ]
     },
     "execution_count": 20,
     "metadata": {},
     "output_type": "execute_result"
    }
   ],
   "source": [
    "x = 10\n",
    "y = 10 \n",
    "\n",
    "x == y\n",
    "x > y"
   ]
  },
  {
   "cell_type": "code",
   "execution_count": 21,
   "id": "f1ffe421-2afd-4c03-9917-26cff43fbd0d",
   "metadata": {},
   "outputs": [
    {
     "data": {
      "text/plain": [
       "False"
      ]
     },
     "execution_count": 21,
     "metadata": {},
     "output_type": "execute_result"
    },
    {
     "data": {
      "text/plain": [
       "bool"
      ]
     },
     "execution_count": 21,
     "metadata": {},
     "output_type": "execute_result"
    }
   ],
   "source": [
    "z = x > y\n",
    "z\n",
    "type(z)"
   ]
  },
  {
   "cell_type": "markdown",
   "id": "2433c3e1-40c7-4906-90b1-25c4ba8b7d37",
   "metadata": {},
   "source": [
    "float and integer comparison will check for the integer part"
   ]
  },
  {
   "cell_type": "code",
   "execution_count": 28,
   "id": "c8822a72-27d4-4188-87a5-702420542da1",
   "metadata": {},
   "outputs": [
    {
     "data": {
      "text/plain": [
       "True"
      ]
     },
     "execution_count": 28,
     "metadata": {},
     "output_type": "execute_result"
    }
   ],
   "source": [
    "37.0 == 37"
   ]
  },
  {
   "cell_type": "markdown",
   "id": "f75e972d-d8a6-4315-8c2f-18a3800ae1c6",
   "metadata": {},
   "source": [
    "but watchout for decimal precision!"
   ]
  },
  {
   "cell_type": "code",
   "execution_count": 27,
   "id": "737459d9-e117-4e6c-bc6e-b086f1cc6be9",
   "metadata": {},
   "outputs": [
    {
     "data": {
      "text/plain": [
       "False"
      ]
     },
     "execution_count": 27,
     "metadata": {},
     "output_type": "execute_result"
    }
   ],
   "source": [
    "0.2 * 5 == 2"
   ]
  },
  {
   "cell_type": "markdown",
   "id": "2ea2c2fb-9365-4efa-801f-86d2c2f0b262",
   "metadata": {},
   "source": [
    "You can use the reserved keywords True and False to declare booleans directly."
   ]
  },
  {
   "cell_type": "code",
   "execution_count": 22,
   "id": "42f62c27-c716-4c80-866f-d50483cf65a7",
   "metadata": {},
   "outputs": [],
   "source": [
    "a = True\n",
    "b = False"
   ]
  },
  {
   "cell_type": "markdown",
   "id": "7da87e72-e18f-4606-bdf7-771efefe5a9e",
   "metadata": {},
   "source": [
    "You can perform binary operations using the reserved keywords, or/and/not."
   ]
  },
  {
   "cell_type": "code",
   "execution_count": 24,
   "id": "7a964168-9d68-4cd5-a67f-102fbb7e5886",
   "metadata": {},
   "outputs": [
    {
     "name": "stdout",
     "output_type": "stream",
     "text": [
      "True and True is True\n",
      "True and False is False\n",
      "False and True is False\n",
      "False and False is False\n",
      "\n",
      "True or True is True\n",
      "True or False is True\n",
      "False or True is True\n",
      "False or False is False\n"
     ]
    }
   ],
   "source": [
    "print(a , \"and\", not b, \"is\", a and not b)\n",
    "print(a , \"and\", b, \"is\", a and b)\n",
    "print(not a , \"and\", not b, \"is\", not a and not b)\n",
    "print(not a , \"and\", b, \"is\", not a and b)\n",
    "\n",
    "print()\n",
    "\n",
    "\n",
    "print(a , \"or\", not b, \"is\", a or not b)\n",
    "print(a , \"or\", b, \"is\", a or b)\n",
    "print(not a , \"or\", not b, \"is\", not a or not b)\n",
    "print(not a , \"or\", b, \"is\", not a or b)"
   ]
  },
  {
   "cell_type": "markdown",
   "id": "092cd516-9192-4f6c-8813-4313784271b7",
   "metadata": {},
   "source": [
    "***\n",
    "Numeric variables with value zero are  interpreted as a boolean False, any other value is a Boolean True"
   ]
  },
  {
   "cell_type": "code",
   "execution_count": 41,
   "id": "c31a2163-5eff-4a86-be92-e396bd38139d",
   "metadata": {},
   "outputs": [
    {
     "data": {
      "text/plain": [
       "False"
      ]
     },
     "execution_count": 41,
     "metadata": {},
     "output_type": "execute_result"
    },
    {
     "data": {
      "text/plain": [
       "False"
      ]
     },
     "execution_count": 41,
     "metadata": {},
     "output_type": "execute_result"
    },
    {
     "data": {
      "text/plain": [
       "True"
      ]
     },
     "execution_count": 41,
     "metadata": {},
     "output_type": "execute_result"
    },
    {
     "data": {
      "text/plain": [
       "True"
      ]
     },
     "execution_count": 41,
     "metadata": {},
     "output_type": "execute_result"
    }
   ],
   "source": [
    "bool(0)\n",
    "bool(0.0)\n",
    "bool(10)\n",
    "bool(15.3431)"
   ]
  },
  {
   "cell_type": "markdown",
   "id": "1e36c99c-a866-4234-93db-6c839018ae6b",
   "metadata": {},
   "source": [
    "be careful when using numeric data-types with binary operators, python binary operators are lazy and might take some shortcuts. The classic example of that is shown below, the first statement returns an integer while the second statement returns a boolean! More on that here: https://realpython.com/python-and-operator/"
   ]
  },
  {
   "cell_type": "code",
   "execution_count": 50,
   "id": "63a08137-33fc-4526-9e71-966cdc674d66",
   "metadata": {},
   "outputs": [
    {
     "data": {
      "text/plain": [
       "10"
      ]
     },
     "execution_count": 50,
     "metadata": {},
     "output_type": "execute_result"
    },
    {
     "data": {
      "text/plain": [
       "True"
      ]
     },
     "execution_count": 50,
     "metadata": {},
     "output_type": "execute_result"
    }
   ],
   "source": [
    "10 or True\n",
    "True or 10"
   ]
  },
  {
   "cell_type": "markdown",
   "id": "daa4a7f5-4732-43d5-8196-dd81ace4b853",
   "metadata": {},
   "source": [
    "### Strings"
   ]
  },
  {
   "cell_type": "markdown",
   "id": "554d948f-7dd2-411a-b521-ff5aabd523fc",
   "metadata": {},
   "source": [
    "strings are python objects we use to store and manipulate text data in python. Strings can be declared using double or single quotes:"
   ]
  },
  {
   "cell_type": "code",
   "execution_count": 25,
   "id": "85eabe19-459a-488a-bd76-8b838bcc5dac",
   "metadata": {},
   "outputs": [
    {
     "data": {
      "text/plain": [
       "str"
      ]
     },
     "execution_count": 25,
     "metadata": {},
     "output_type": "execute_result"
    },
    {
     "data": {
      "text/plain": [
       "str"
      ]
     },
     "execution_count": 25,
     "metadata": {},
     "output_type": "execute_result"
    },
    {
     "data": {
      "text/plain": [
       "True"
      ]
     },
     "execution_count": 25,
     "metadata": {},
     "output_type": "execute_result"
    }
   ],
   "source": [
    "var_1 = \"Hello World!\"\n",
    "var_2 = 'Hello World!'\n",
    "\n",
    "type(var_1)\n",
    "type(var_2)\n",
    "var_1 == var_2"
   ]
  },
  {
   "cell_type": "markdown",
   "id": "ca88fbde-3a63-49d2-a435-a6c63637adfc",
   "metadata": {},
   "source": [
    "under the hood, strings in python are stroed as sequences (collections) of characters, which is why they fall into a special gorup of python objects called iterables. This allows us to manipulate strings with index based methods using square brackets. This will be very helpful when we look into other collections like lists and tuples."
   ]
  },
  {
   "cell_type": "code",
   "execution_count": 26,
   "id": "b2ed5435-babb-4ffd-aa19-e1b02b4b48bb",
   "metadata": {},
   "outputs": [
    {
     "data": {
      "text/plain": [
       "'J'"
      ]
     },
     "execution_count": 26,
     "metadata": {},
     "output_type": "execute_result"
    },
    {
     "data": {
      "text/plain": [
       "'o'"
      ]
     },
     "execution_count": 26,
     "metadata": {},
     "output_type": "execute_result"
    },
    {
     "data": {
      "text/plain": [
       "'John'"
      ]
     },
     "execution_count": 26,
     "metadata": {},
     "output_type": "execute_result"
    },
    {
     "data": {
      "text/plain": [
       "'Doe'"
      ]
     },
     "execution_count": 26,
     "metadata": {},
     "output_type": "execute_result"
    }
   ],
   "source": [
    "name = \"John Doe\"\n",
    "name[0]\n",
    "name[1]\n",
    "name[0:4]\n",
    "name[5:8]"
   ]
  },
  {
   "cell_type": "markdown",
   "id": "a8185515-8bf8-44aa-8a55-eed980f55ef3",
   "metadata": {},
   "source": [
    "you can calculate the length of a string, or other iterables, using the function len()"
   ]
  },
  {
   "cell_type": "code",
   "execution_count": 65,
   "id": "73c0c274-a41a-4081-abae-58480faee702",
   "metadata": {},
   "outputs": [
    {
     "data": {
      "text/plain": [
       "8"
      ]
     },
     "execution_count": 65,
     "metadata": {},
     "output_type": "execute_result"
    }
   ],
   "source": [
    "len(name)"
   ]
  },
  {
   "cell_type": "markdown",
   "id": "77931129-aa3f-448a-a327-4229eaab09a0",
   "metadata": {},
   "source": [
    "***\n",
    "Strings can be concatenated using the + operator"
   ]
  },
  {
   "cell_type": "code",
   "execution_count": 69,
   "id": "ef508b64-1cad-4fb7-9d91-61c6f78cb195",
   "metadata": {},
   "outputs": [
    {
     "data": {
      "text/plain": [
       "'hello world!'"
      ]
     },
     "execution_count": 69,
     "metadata": {},
     "output_type": "execute_result"
    },
    {
     "data": {
      "text/plain": [
       "'John Doe'"
      ]
     },
     "execution_count": 69,
     "metadata": {},
     "output_type": "execute_result"
    }
   ],
   "source": [
    "\"hello\" + \" \" + \"world!\"\n",
    "\"John\" + \" Doe\""
   ]
  },
  {
   "cell_type": "markdown",
   "id": "51a33430-773f-4aca-b162-933b953f80bd",
   "metadata": {},
   "source": [
    "the preferred way to do this however is by using the join method"
   ]
  },
  {
   "cell_type": "code",
   "execution_count": 72,
   "id": "3497f8f4-89e1-40fe-a89a-39dcb57b3832",
   "metadata": {},
   "outputs": [
    {
     "data": {
      "text/plain": [
       "'John Doe'"
      ]
     },
     "execution_count": 72,
     "metadata": {},
     "output_type": "execute_result"
    },
    {
     "data": {
      "text/plain": [
       "'John_Doe'"
      ]
     },
     "execution_count": 72,
     "metadata": {},
     "output_type": "execute_result"
    }
   ],
   "source": [
    "\" \".join([\"John\", \"Doe\"])\n",
    "\"_\".join([\"John\", \"Doe\"])"
   ]
  },
  {
   "cell_type": "markdown",
   "id": "9866efc9-4eff-43f8-b059-5ba47d481887",
   "metadata": {},
   "source": [
    "Using the * operator on strings has a nice property:"
   ]
  },
  {
   "cell_type": "code",
   "execution_count": 76,
   "id": "7d1f4c9f-e7d3-4afa-9eb8-6e7842ef9d2a",
   "metadata": {},
   "outputs": [
    {
     "data": {
      "text/plain": [
       "'hello hello hello hello hello hello hello hello hello hello '"
      ]
     },
     "execution_count": 76,
     "metadata": {},
     "output_type": "execute_result"
    },
    {
     "data": {
      "text/plain": [
       "'======================================================================'"
      ]
     },
     "execution_count": 76,
     "metadata": {},
     "output_type": "execute_result"
    }
   ],
   "source": [
    "\"hello \"*10\n",
    "#Useful for creating seperators for example:\n",
    "\"=\"*70"
   ]
  },
  {
   "cell_type": "markdown",
   "id": "b8931de2-4bea-46b7-9a7b-ccfbad0b7cb3",
   "metadata": {},
   "source": [
    "***\n",
    "There are many more useful strings methods, we can check them using dir()"
   ]
  },
  {
   "cell_type": "code",
   "execution_count": 77,
   "id": "8fa201f2-b751-4f61-a04f-1883f24b952e",
   "metadata": {},
   "outputs": [
    {
     "data": {
      "text/plain": [
       "['__add__',\n",
       " '__class__',\n",
       " '__contains__',\n",
       " '__delattr__',\n",
       " '__dir__',\n",
       " '__doc__',\n",
       " '__eq__',\n",
       " '__format__',\n",
       " '__ge__',\n",
       " '__getattribute__',\n",
       " '__getitem__',\n",
       " '__getnewargs__',\n",
       " '__gt__',\n",
       " '__hash__',\n",
       " '__init__',\n",
       " '__init_subclass__',\n",
       " '__iter__',\n",
       " '__le__',\n",
       " '__len__',\n",
       " '__lt__',\n",
       " '__mod__',\n",
       " '__mul__',\n",
       " '__ne__',\n",
       " '__new__',\n",
       " '__reduce__',\n",
       " '__reduce_ex__',\n",
       " '__repr__',\n",
       " '__rmod__',\n",
       " '__rmul__',\n",
       " '__setattr__',\n",
       " '__sizeof__',\n",
       " '__str__',\n",
       " '__subclasshook__',\n",
       " 'capitalize',\n",
       " 'casefold',\n",
       " 'center',\n",
       " 'count',\n",
       " 'encode',\n",
       " 'endswith',\n",
       " 'expandtabs',\n",
       " 'find',\n",
       " 'format',\n",
       " 'format_map',\n",
       " 'index',\n",
       " 'isalnum',\n",
       " 'isalpha',\n",
       " 'isascii',\n",
       " 'isdecimal',\n",
       " 'isdigit',\n",
       " 'isidentifier',\n",
       " 'islower',\n",
       " 'isnumeric',\n",
       " 'isprintable',\n",
       " 'isspace',\n",
       " 'istitle',\n",
       " 'isupper',\n",
       " 'join',\n",
       " 'ljust',\n",
       " 'lower',\n",
       " 'lstrip',\n",
       " 'maketrans',\n",
       " 'partition',\n",
       " 'removeprefix',\n",
       " 'removesuffix',\n",
       " 'replace',\n",
       " 'rfind',\n",
       " 'rindex',\n",
       " 'rjust',\n",
       " 'rpartition',\n",
       " 'rsplit',\n",
       " 'rstrip',\n",
       " 'split',\n",
       " 'splitlines',\n",
       " 'startswith',\n",
       " 'strip',\n",
       " 'swapcase',\n",
       " 'title',\n",
       " 'translate',\n",
       " 'upper',\n",
       " 'zfill']"
      ]
     },
     "execution_count": 77,
     "metadata": {},
     "output_type": "execute_result"
    }
   ],
   "source": [
    "dir(str)"
   ]
  },
  {
   "cell_type": "markdown",
   "id": "80880774-c9c0-45c1-b849-8bb444a4dc52",
   "metadata": {},
   "source": [
    "Or by calling the help() function"
   ]
  },
  {
   "cell_type": "code",
   "execution_count": 29,
   "id": "71f6df18-f80b-41ba-83c3-2426c7694a48",
   "metadata": {},
   "outputs": [
    {
     "name": "stdout",
     "output_type": "stream",
     "text": [
      "Help on class str in module builtins:\n",
      "\n",
      "class str(object)\n",
      " |  str(object='') -> str\n",
      " |  str(bytes_or_buffer[, encoding[, errors]]) -> str\n",
      " |  \n",
      " |  Create a new string object from the given object. If encoding or\n",
      " |  errors is specified, then the object must expose a data buffer\n",
      " |  that will be decoded using the given encoding and error handler.\n",
      " |  Otherwise, returns the result of object.__str__() (if defined)\n",
      " |  or repr(object).\n",
      " |  encoding defaults to sys.getdefaultencoding().\n",
      " |  errors defaults to 'strict'.\n",
      " |  \n",
      " |  Methods defined here:\n",
      " |  \n",
      " |  __add__(self, value, /)\n",
      " |      Return self+value.\n",
      " |  \n",
      " |  __contains__(self, key, /)\n",
      " |      Return key in self.\n",
      " |  \n",
      " |  __eq__(self, value, /)\n",
      " |      Return self==value.\n",
      " |  \n",
      " |  __format__(self, format_spec, /)\n",
      " |      Return a formatted version of the string as described by format_spec.\n",
      " |  \n",
      " |  __ge__(self, value, /)\n",
      " |      Return self>=value.\n",
      " |  \n",
      " |  __getattribute__(self, name, /)\n",
      " |      Return getattr(self, name).\n",
      " |  \n",
      " |  __getitem__(self, key, /)\n",
      " |      Return self[key].\n",
      " |  \n",
      " |  __getnewargs__(...)\n",
      " |  \n",
      " |  __gt__(self, value, /)\n",
      " |      Return self>value.\n",
      " |  \n",
      " |  __hash__(self, /)\n",
      " |      Return hash(self).\n",
      " |  \n",
      " |  __iter__(self, /)\n",
      " |      Implement iter(self).\n",
      " |  \n",
      " |  __le__(self, value, /)\n",
      " |      Return self<=value.\n",
      " |  \n",
      " |  __len__(self, /)\n",
      " |      Return len(self).\n",
      " |  \n",
      " |  __lt__(self, value, /)\n",
      " |      Return self<value.\n",
      " |  \n",
      " |  __mod__(self, value, /)\n",
      " |      Return self%value.\n",
      " |  \n",
      " |  __mul__(self, value, /)\n",
      " |      Return self*value.\n",
      " |  \n",
      " |  __ne__(self, value, /)\n",
      " |      Return self!=value.\n",
      " |  \n",
      " |  __repr__(self, /)\n",
      " |      Return repr(self).\n",
      " |  \n",
      " |  __rmod__(self, value, /)\n",
      " |      Return value%self.\n",
      " |  \n",
      " |  __rmul__(self, value, /)\n",
      " |      Return value*self.\n",
      " |  \n",
      " |  __sizeof__(self, /)\n",
      " |      Return the size of the string in memory, in bytes.\n",
      " |  \n",
      " |  __str__(self, /)\n",
      " |      Return str(self).\n",
      " |  \n",
      " |  capitalize(self, /)\n",
      " |      Return a capitalized version of the string.\n",
      " |      \n",
      " |      More specifically, make the first character have upper case and the rest lower\n",
      " |      case.\n",
      " |  \n",
      " |  casefold(self, /)\n",
      " |      Return a version of the string suitable for caseless comparisons.\n",
      " |  \n",
      " |  center(self, width, fillchar=' ', /)\n",
      " |      Return a centered string of length width.\n",
      " |      \n",
      " |      Padding is done using the specified fill character (default is a space).\n",
      " |  \n",
      " |  count(...)\n",
      " |      S.count(sub[, start[, end]]) -> int\n",
      " |      \n",
      " |      Return the number of non-overlapping occurrences of substring sub in\n",
      " |      string S[start:end].  Optional arguments start and end are\n",
      " |      interpreted as in slice notation.\n",
      " |  \n",
      " |  encode(self, /, encoding='utf-8', errors='strict')\n",
      " |      Encode the string using the codec registered for encoding.\n",
      " |      \n",
      " |      encoding\n",
      " |        The encoding in which to encode the string.\n",
      " |      errors\n",
      " |        The error handling scheme to use for encoding errors.\n",
      " |        The default is 'strict' meaning that encoding errors raise a\n",
      " |        UnicodeEncodeError.  Other possible values are 'ignore', 'replace' and\n",
      " |        'xmlcharrefreplace' as well as any other name registered with\n",
      " |        codecs.register_error that can handle UnicodeEncodeErrors.\n",
      " |  \n",
      " |  endswith(...)\n",
      " |      S.endswith(suffix[, start[, end]]) -> bool\n",
      " |      \n",
      " |      Return True if S ends with the specified suffix, False otherwise.\n",
      " |      With optional start, test S beginning at that position.\n",
      " |      With optional end, stop comparing S at that position.\n",
      " |      suffix can also be a tuple of strings to try.\n",
      " |  \n",
      " |  expandtabs(self, /, tabsize=8)\n",
      " |      Return a copy where all tab characters are expanded using spaces.\n",
      " |      \n",
      " |      If tabsize is not given, a tab size of 8 characters is assumed.\n",
      " |  \n",
      " |  find(...)\n",
      " |      S.find(sub[, start[, end]]) -> int\n",
      " |      \n",
      " |      Return the lowest index in S where substring sub is found,\n",
      " |      such that sub is contained within S[start:end].  Optional\n",
      " |      arguments start and end are interpreted as in slice notation.\n",
      " |      \n",
      " |      Return -1 on failure.\n",
      " |  \n",
      " |  format(...)\n",
      " |      S.format(*args, **kwargs) -> str\n",
      " |      \n",
      " |      Return a formatted version of S, using substitutions from args and kwargs.\n",
      " |      The substitutions are identified by braces ('{' and '}').\n",
      " |  \n",
      " |  format_map(...)\n",
      " |      S.format_map(mapping) -> str\n",
      " |      \n",
      " |      Return a formatted version of S, using substitutions from mapping.\n",
      " |      The substitutions are identified by braces ('{' and '}').\n",
      " |  \n",
      " |  index(...)\n",
      " |      S.index(sub[, start[, end]]) -> int\n",
      " |      \n",
      " |      Return the lowest index in S where substring sub is found,\n",
      " |      such that sub is contained within S[start:end].  Optional\n",
      " |      arguments start and end are interpreted as in slice notation.\n",
      " |      \n",
      " |      Raises ValueError when the substring is not found.\n",
      " |  \n",
      " |  isalnum(self, /)\n",
      " |      Return True if the string is an alpha-numeric string, False otherwise.\n",
      " |      \n",
      " |      A string is alpha-numeric if all characters in the string are alpha-numeric and\n",
      " |      there is at least one character in the string.\n",
      " |  \n",
      " |  isalpha(self, /)\n",
      " |      Return True if the string is an alphabetic string, False otherwise.\n",
      " |      \n",
      " |      A string is alphabetic if all characters in the string are alphabetic and there\n",
      " |      is at least one character in the string.\n",
      " |  \n",
      " |  isascii(self, /)\n",
      " |      Return True if all characters in the string are ASCII, False otherwise.\n",
      " |      \n",
      " |      ASCII characters have code points in the range U+0000-U+007F.\n",
      " |      Empty string is ASCII too.\n",
      " |  \n",
      " |  isdecimal(self, /)\n",
      " |      Return True if the string is a decimal string, False otherwise.\n",
      " |      \n",
      " |      A string is a decimal string if all characters in the string are decimal and\n",
      " |      there is at least one character in the string.\n",
      " |  \n",
      " |  isdigit(self, /)\n",
      " |      Return True if the string is a digit string, False otherwise.\n",
      " |      \n",
      " |      A string is a digit string if all characters in the string are digits and there\n",
      " |      is at least one character in the string.\n",
      " |  \n",
      " |  isidentifier(self, /)\n",
      " |      Return True if the string is a valid Python identifier, False otherwise.\n",
      " |      \n",
      " |      Call keyword.iskeyword(s) to test whether string s is a reserved identifier,\n",
      " |      such as \"def\" or \"class\".\n",
      " |  \n",
      " |  islower(self, /)\n",
      " |      Return True if the string is a lowercase string, False otherwise.\n",
      " |      \n",
      " |      A string is lowercase if all cased characters in the string are lowercase and\n",
      " |      there is at least one cased character in the string.\n",
      " |  \n",
      " |  isnumeric(self, /)\n",
      " |      Return True if the string is a numeric string, False otherwise.\n",
      " |      \n",
      " |      A string is numeric if all characters in the string are numeric and there is at\n",
      " |      least one character in the string.\n",
      " |  \n",
      " |  isprintable(self, /)\n",
      " |      Return True if the string is printable, False otherwise.\n",
      " |      \n",
      " |      A string is printable if all of its characters are considered printable in\n",
      " |      repr() or if it is empty.\n",
      " |  \n",
      " |  isspace(self, /)\n",
      " |      Return True if the string is a whitespace string, False otherwise.\n",
      " |      \n",
      " |      A string is whitespace if all characters in the string are whitespace and there\n",
      " |      is at least one character in the string.\n",
      " |  \n",
      " |  istitle(self, /)\n",
      " |      Return True if the string is a title-cased string, False otherwise.\n",
      " |      \n",
      " |      In a title-cased string, upper- and title-case characters may only\n",
      " |      follow uncased characters and lowercase characters only cased ones.\n",
      " |  \n",
      " |  isupper(self, /)\n",
      " |      Return True if the string is an uppercase string, False otherwise.\n",
      " |      \n",
      " |      A string is uppercase if all cased characters in the string are uppercase and\n",
      " |      there is at least one cased character in the string.\n",
      " |  \n",
      " |  join(self, iterable, /)\n",
      " |      Concatenate any number of strings.\n",
      " |      \n",
      " |      The string whose method is called is inserted in between each given string.\n",
      " |      The result is returned as a new string.\n",
      " |      \n",
      " |      Example: '.'.join(['ab', 'pq', 'rs']) -> 'ab.pq.rs'\n",
      " |  \n",
      " |  ljust(self, width, fillchar=' ', /)\n",
      " |      Return a left-justified string of length width.\n",
      " |      \n",
      " |      Padding is done using the specified fill character (default is a space).\n",
      " |  \n",
      " |  lower(self, /)\n",
      " |      Return a copy of the string converted to lowercase.\n",
      " |  \n",
      " |  lstrip(self, chars=None, /)\n",
      " |      Return a copy of the string with leading whitespace removed.\n",
      " |      \n",
      " |      If chars is given and not None, remove characters in chars instead.\n",
      " |  \n",
      " |  partition(self, sep, /)\n",
      " |      Partition the string into three parts using the given separator.\n",
      " |      \n",
      " |      This will search for the separator in the string.  If the separator is found,\n",
      " |      returns a 3-tuple containing the part before the separator, the separator\n",
      " |      itself, and the part after it.\n",
      " |      \n",
      " |      If the separator is not found, returns a 3-tuple containing the original string\n",
      " |      and two empty strings.\n",
      " |  \n",
      " |  removeprefix(self, prefix, /)\n",
      " |      Return a str with the given prefix string removed if present.\n",
      " |      \n",
      " |      If the string starts with the prefix string, return string[len(prefix):].\n",
      " |      Otherwise, return a copy of the original string.\n",
      " |  \n",
      " |  removesuffix(self, suffix, /)\n",
      " |      Return a str with the given suffix string removed if present.\n",
      " |      \n",
      " |      If the string ends with the suffix string and that suffix is not empty,\n",
      " |      return string[:-len(suffix)]. Otherwise, return a copy of the original\n",
      " |      string.\n",
      " |  \n",
      " |  replace(self, old, new, count=-1, /)\n",
      " |      Return a copy with all occurrences of substring old replaced by new.\n",
      " |      \n",
      " |        count\n",
      " |          Maximum number of occurrences to replace.\n",
      " |          -1 (the default value) means replace all occurrences.\n",
      " |      \n",
      " |      If the optional argument count is given, only the first count occurrences are\n",
      " |      replaced.\n",
      " |  \n",
      " |  rfind(...)\n",
      " |      S.rfind(sub[, start[, end]]) -> int\n",
      " |      \n",
      " |      Return the highest index in S where substring sub is found,\n",
      " |      such that sub is contained within S[start:end].  Optional\n",
      " |      arguments start and end are interpreted as in slice notation.\n",
      " |      \n",
      " |      Return -1 on failure.\n",
      " |  \n",
      " |  rindex(...)\n",
      " |      S.rindex(sub[, start[, end]]) -> int\n",
      " |      \n",
      " |      Return the highest index in S where substring sub is found,\n",
      " |      such that sub is contained within S[start:end].  Optional\n",
      " |      arguments start and end are interpreted as in slice notation.\n",
      " |      \n",
      " |      Raises ValueError when the substring is not found.\n",
      " |  \n",
      " |  rjust(self, width, fillchar=' ', /)\n",
      " |      Return a right-justified string of length width.\n",
      " |      \n",
      " |      Padding is done using the specified fill character (default is a space).\n",
      " |  \n",
      " |  rpartition(self, sep, /)\n",
      " |      Partition the string into three parts using the given separator.\n",
      " |      \n",
      " |      This will search for the separator in the string, starting at the end. If\n",
      " |      the separator is found, returns a 3-tuple containing the part before the\n",
      " |      separator, the separator itself, and the part after it.\n",
      " |      \n",
      " |      If the separator is not found, returns a 3-tuple containing two empty strings\n",
      " |      and the original string.\n",
      " |  \n",
      " |  rsplit(self, /, sep=None, maxsplit=-1)\n",
      " |      Return a list of the substrings in the string, using sep as the separator string.\n",
      " |      \n",
      " |        sep\n",
      " |          The separator used to split the string.\n",
      " |      \n",
      " |          When set to None (the default value), will split on any whitespace\n",
      " |          character (including \\\\n \\\\r \\\\t \\\\f and spaces) and will discard\n",
      " |          empty strings from the result.\n",
      " |        maxsplit\n",
      " |          Maximum number of splits (starting from the left).\n",
      " |          -1 (the default value) means no limit.\n",
      " |      \n",
      " |      Splitting starts at the end of the string and works to the front.\n",
      " |  \n",
      " |  rstrip(self, chars=None, /)\n",
      " |      Return a copy of the string with trailing whitespace removed.\n",
      " |      \n",
      " |      If chars is given and not None, remove characters in chars instead.\n",
      " |  \n",
      " |  split(self, /, sep=None, maxsplit=-1)\n",
      " |      Return a list of the substrings in the string, using sep as the separator string.\n",
      " |      \n",
      " |        sep\n",
      " |          The separator used to split the string.\n",
      " |      \n",
      " |          When set to None (the default value), will split on any whitespace\n",
      " |          character (including \\\\n \\\\r \\\\t \\\\f and spaces) and will discard\n",
      " |          empty strings from the result.\n",
      " |        maxsplit\n",
      " |          Maximum number of splits (starting from the left).\n",
      " |          -1 (the default value) means no limit.\n",
      " |      \n",
      " |      Note, str.split() is mainly useful for data that has been intentionally\n",
      " |      delimited.  With natural text that includes punctuation, consider using\n",
      " |      the regular expression module.\n",
      " |  \n",
      " |  splitlines(self, /, keepends=False)\n",
      " |      Return a list of the lines in the string, breaking at line boundaries.\n",
      " |      \n",
      " |      Line breaks are not included in the resulting list unless keepends is given and\n",
      " |      true.\n",
      " |  \n",
      " |  startswith(...)\n",
      " |      S.startswith(prefix[, start[, end]]) -> bool\n",
      " |      \n",
      " |      Return True if S starts with the specified prefix, False otherwise.\n",
      " |      With optional start, test S beginning at that position.\n",
      " |      With optional end, stop comparing S at that position.\n",
      " |      prefix can also be a tuple of strings to try.\n",
      " |  \n",
      " |  strip(self, chars=None, /)\n",
      " |      Return a copy of the string with leading and trailing whitespace removed.\n",
      " |      \n",
      " |      If chars is given and not None, remove characters in chars instead.\n",
      " |  \n",
      " |  swapcase(self, /)\n",
      " |      Convert uppercase characters to lowercase and lowercase characters to uppercase.\n",
      " |  \n",
      " |  title(self, /)\n",
      " |      Return a version of the string where each word is titlecased.\n",
      " |      \n",
      " |      More specifically, words start with uppercased characters and all remaining\n",
      " |      cased characters have lower case.\n",
      " |  \n",
      " |  translate(self, table, /)\n",
      " |      Replace each character in the string using the given translation table.\n",
      " |      \n",
      " |        table\n",
      " |          Translation table, which must be a mapping of Unicode ordinals to\n",
      " |          Unicode ordinals, strings, or None.\n",
      " |      \n",
      " |      The table must implement lookup/indexing via __getitem__, for instance a\n",
      " |      dictionary or list.  If this operation raises LookupError, the character is\n",
      " |      left untouched.  Characters mapped to None are deleted.\n",
      " |  \n",
      " |  upper(self, /)\n",
      " |      Return a copy of the string converted to uppercase.\n",
      " |  \n",
      " |  zfill(self, width, /)\n",
      " |      Pad a numeric string with zeros on the left, to fill a field of the given width.\n",
      " |      \n",
      " |      The string is never truncated.\n",
      " |  \n",
      " |  ----------------------------------------------------------------------\n",
      " |  Static methods defined here:\n",
      " |  \n",
      " |  __new__(*args, **kwargs) from builtins.type\n",
      " |      Create and return a new object.  See help(type) for accurate signature.\n",
      " |  \n",
      " |  maketrans(...)\n",
      " |      Return a translation table usable for str.translate().\n",
      " |      \n",
      " |      If there is only one argument, it must be a dictionary mapping Unicode\n",
      " |      ordinals (integers) or characters to Unicode ordinals, strings or None.\n",
      " |      Character keys will be then converted to ordinals.\n",
      " |      If there are two arguments, they must be strings of equal length, and\n",
      " |      in the resulting dictionary, each character in x will be mapped to the\n",
      " |      character at the same position in y. If there is a third argument, it\n",
      " |      must be a string, whose characters will be mapped to None in the result.\n",
      "\n"
     ]
    }
   ],
   "source": [
    "help(str)"
   ]
  },
  {
   "cell_type": "code",
   "execution_count": 30,
   "id": "5559a350-4de8-4c8d-aee1-962fcb4b3165",
   "metadata": {},
   "outputs": [
    {
     "data": {
      "text/plain": [
       "'HELLO WORLD!'"
      ]
     },
     "execution_count": 30,
     "metadata": {},
     "output_type": "execute_result"
    },
    {
     "data": {
      "text/plain": [
       "'hello world!'"
      ]
     },
     "execution_count": 30,
     "metadata": {},
     "output_type": "execute_result"
    },
    {
     "data": {
      "text/plain": [
       "'hello world!'"
      ]
     },
     "execution_count": 30,
     "metadata": {},
     "output_type": "execute_result"
    },
    {
     "data": {
      "text/plain": [
       "'Hello world!'"
      ]
     },
     "execution_count": 30,
     "metadata": {},
     "output_type": "execute_result"
    },
    {
     "data": {
      "text/plain": [
       "'Hello World!'"
      ]
     },
     "execution_count": 30,
     "metadata": {},
     "output_type": "execute_result"
    }
   ],
   "source": [
    "#methods for case manipulation\n",
    "x = \"hello world!\"\n",
    "\n",
    "x.upper()\n",
    "x.lower()\n",
    "x.casefold()\n",
    "x.capitalize()\n",
    "x.title()"
   ]
  },
  {
   "cell_type": "markdown",
   "id": "d39475ea-2e8a-48b6-a5ed-b2d15aff9ec2",
   "metadata": {
    "tags": []
   },
   "source": [
    "***\n",
    "You can replace specific characters using the replace() method:"
   ]
  },
  {
   "cell_type": "code",
   "execution_count": 81,
   "id": "b902d8f0-b33d-4e99-9db9-587c6b6aa33f",
   "metadata": {},
   "outputs": [
    {
     "data": {
      "text/plain": [
       "'Pyhton_is_a_great_programming_language'"
      ]
     },
     "execution_count": 81,
     "metadata": {},
     "output_type": "execute_result"
    }
   ],
   "source": [
    "x = \"Pyhton is a great programming language\"\n",
    "x.replace(\" \", \"_\")"
   ]
  },
  {
   "cell_type": "markdown",
   "id": "0f3fceb8-e97c-4505-8a0a-e03be79d1332",
   "metadata": {},
   "source": [
    "****\n",
    "You can strip unwanted characters from the beginning and end of a string:"
   ]
  },
  {
   "cell_type": "code",
   "execution_count": 34,
   "id": "a61dafe6-c407-407f-90c6-e2726bd4dfcf",
   "metadata": {},
   "outputs": [
    {
     "data": {
      "text/plain": [
       "'--------------This is a title from an old-webpage--------------'"
      ]
     },
     "execution_count": 34,
     "metadata": {},
     "output_type": "execute_result"
    },
    {
     "data": {
      "text/plain": [
       "'This is a title from an old-webpage'"
      ]
     },
     "execution_count": 34,
     "metadata": {},
     "output_type": "execute_result"
    },
    {
     "name": "stdout",
     "output_type": "stream",
     "text": [
      "======================================================================\n"
     ]
    },
    {
     "data": {
      "text/plain": [
       "'    This is a string with unwanted spaces     '"
      ]
     },
     "execution_count": 34,
     "metadata": {},
     "output_type": "execute_result"
    },
    {
     "data": {
      "text/plain": [
       "'This is a string with unwanted spaces'"
      ]
     },
     "execution_count": 34,
     "metadata": {},
     "output_type": "execute_result"
    },
    {
     "name": "stdout",
     "output_type": "stream",
     "text": [
      "======================================================================\n",
      "\n",
      "\n",
      "\n",
      "\n",
      "This is a multiline string in python.\n",
      "It automatically inserts special characters\n",
      "to encode a newline when you use\n",
      "the triple quotation marks\n",
      "\n",
      "\n",
      "\n",
      "\n"
     ]
    },
    {
     "data": {
      "text/plain": [
       "'\\n\\n\\n\\nThis is a multiline string in python.\\nIt automatically inserts special characters\\nto encode a newline when you use\\nthe triple quotation marks\\n\\n\\n\\n'"
      ]
     },
     "execution_count": 34,
     "metadata": {},
     "output_type": "execute_result"
    },
    {
     "data": {
      "text/plain": [
       "'This is a multiline string in python.\\nIt automatically inserts special characters\\nto encode a newline when you use\\nthe triple quotation marks'"
      ]
     },
     "execution_count": 34,
     "metadata": {},
     "output_type": "execute_result"
    }
   ],
   "source": [
    "x = \"--------------This is a title from an old-webpage--------------\"\n",
    "x\n",
    "x.strip(\"-\")\n",
    "\n",
    "print(\"=\"*70)\n",
    "\n",
    "x = \"    This is a string with unwanted spaces     \"\n",
    "x\n",
    "x.strip(\" \")\n",
    "\n",
    "print(\"=\"*70)\n",
    "\n",
    "x = \"\"\"\n",
    "\n",
    "\n",
    "\n",
    "This is a multiline string in python.\n",
    "It automatically inserts special characters\n",
    "to encode a newline when you use\n",
    "the triple quotation marks\n",
    "\n",
    "\n",
    "\n",
    "\"\"\"\n",
    "print(x)\n",
    "x\n",
    "x.strip()"
   ]
  },
  {
   "cell_type": "markdown",
   "id": "0255116f-505c-4f4f-a38c-7cde74b1d799",
   "metadata": {},
   "source": [
    "The \"\\n\" is a special character called an escape sequence, there are many others in python:\n",
    "\n",
    "|Sequence | Meaning|\n",
    "|:-:|:-:|\n",
    "| \\\\' | Single Quote\t|\n",
    "| \\\\\\\\ | Backslash |\n",
    "| \\\\n | New Line\t|\n",
    "| \\\\r | Carriage Return |\n",
    "| \\\\t | Tab |\n",
    "| \\\\b | Backspace |"
   ]
  },
  {
   "cell_type": "code",
   "execution_count": 82,
   "id": "adc70f06-2936-4d22-b34d-339dc367b7a9",
   "metadata": {},
   "outputs": [
    {
     "name": "stdout",
     "output_type": "stream",
     "text": [
      "Name\temail\n",
      "John\tjohn.doe@gmail.com\n"
     ]
    }
   ],
   "source": [
    "#example using the \\t operator\n",
    "print(\"Name\\temail\")\n",
    "print(\"John\\tjohn.doe@gmail.com\")"
   ]
  },
  {
   "cell_type": "markdown",
   "id": "32e89dbd-ae4c-49d0-8c0c-9e5ad3976439",
   "metadata": {},
   "source": [
    "***\n",
    "you can test if certain patterns exists within a string and serach for it's location using the find() method. If a string doesn't exist -1 will be returned. Another useful way to check is using the *in* keyword."
   ]
  },
  {
   "cell_type": "code",
   "execution_count": 85,
   "id": "7a8d2c42-0696-40af-ae66-f778a0d8ef69",
   "metadata": {},
   "outputs": [
    {
     "data": {
      "text/plain": [
       "9"
      ]
     },
     "execution_count": 85,
     "metadata": {},
     "output_type": "execute_result"
    },
    {
     "data": {
      "text/plain": [
       "-1"
      ]
     },
     "execution_count": 85,
     "metadata": {},
     "output_type": "execute_result"
    },
    {
     "name": "stdout",
     "output_type": "stream",
     "text": [
      "======================================================================\n"
     ]
    },
    {
     "data": {
      "text/plain": [
       "True"
      ]
     },
     "execution_count": 85,
     "metadata": {},
     "output_type": "execute_result"
    },
    {
     "data": {
      "text/plain": [
       "True"
      ]
     },
     "execution_count": 85,
     "metadata": {},
     "output_type": "execute_result"
    },
    {
     "name": "stdout",
     "output_type": "stream",
     "text": [
      "======================================================================\n"
     ]
    },
    {
     "data": {
      "text/plain": [
       "True"
      ]
     },
     "execution_count": 85,
     "metadata": {},
     "output_type": "execute_result"
    },
    {
     "data": {
      "text/plain": [
       "False"
      ]
     },
     "execution_count": 85,
     "metadata": {},
     "output_type": "execute_result"
    }
   ],
   "source": [
    "email = \"john-doe@gmail.com\"\n",
    "\n",
    "email.find(\"gmail\")\n",
    "email.find(\"yahoo\")\n",
    "\n",
    "print(\"=\"*70)\n",
    "\n",
    "#testing for \"gmail\"\n",
    "email.find(\"gmail\")>=0\n",
    "\n",
    "#or a better way\n",
    "\"gmail\" in email\n",
    "\n",
    "print(\"=\"*70)\n",
    "\n",
    "email.endswith(\".com\")\n",
    "email.endswith(\".org\")"
   ]
  },
  {
   "cell_type": "markdown",
   "id": "996ef1c0-cb46-46d8-a25e-6f6ab5e834c5",
   "metadata": {},
   "source": [
    "***\n",
    "formatted strings, f-strings, are a special way to blend and format numeric within strings, more info can be found here: https://mkaz.blog/code/python-string-format-cookbook/"
   ]
  },
  {
   "cell_type": "code",
   "execution_count": 74,
   "id": "7b84e940-a6d7-480d-b6ef-5a16d9f7523c",
   "metadata": {},
   "outputs": [
    {
     "name": "stdout",
     "output_type": "stream",
     "text": [
      "john doe, sr. manager\n",
      "email\tjohn.doe@gmail.com\n",
      "mobiel\t+971 580 000 000\n",
      "======================================================================\n",
      "John Doe, Sr. Manager\n",
      "email\tjohn.doe@gmail.com\n",
      "mobiel\t+971 580 000 000\n"
     ]
    }
   ],
   "source": [
    "first_name = \"john\" \n",
    "last_name = \"doe\"\n",
    "title = \"sr. manager\"\n",
    "email = \"john.doe@gmail.com\"\n",
    "mobile = \"+971 580 000 000\"\n",
    "\n",
    "print(f\"{first_name} {last_name}, {title}\\nemail\\t{email}\\nmobiel\\t{mobile}\")\n",
    "\n",
    "print(\"=\"*70)\n",
    "\n",
    "print(f\"{first_name.capitalize()} {last_name.capitalize()}, {title.title()}\\nemail\\t{email}\\nmobiel\\t{mobile}\")"
   ]
  },
  {
   "cell_type": "code",
   "execution_count": 80,
   "id": "757ae877-14d9-4da0-892b-d282a9a1119a",
   "metadata": {},
   "outputs": [
    {
     "name": "stdout",
     "output_type": "stream",
     "text": [
      "100.00 degrees Fahrenheit is 37.78 degrees celsius\n",
      "======================================================================\n",
      "The time is 09:05:11\n"
     ]
    }
   ],
   "source": [
    "T_fahrenheit = 100\n",
    "T_celsius = (T_fahrenheit - 32) * 5 / 9\n",
    "print(f\"{T_fahrenheit:0.2f} degrees Fahrenheit is {T_celsius:0.2f} degrees celsius\")\n",
    "\n",
    "print(\"=\"*70)\n",
    "\n",
    "hour = 9\n",
    "minute = 5\n",
    "second = 11\n",
    "\n",
    "print(f\"The time is {hour:02d}:{minute:02d}:{second:02d}\")"
   ]
  },
  {
   "cell_type": "markdown",
   "id": "e30a4408-224d-4626-96c2-d29d8893ed32",
   "metadata": {},
   "source": [
    "***\n",
    "You can tokenize (fancy word for split) a string using the split() method. This returns a list of substrings, more on lists later!"
   ]
  },
  {
   "cell_type": "code",
   "execution_count": 93,
   "id": "33c7ade4-537b-4ad3-8e42-eb542cea25f4",
   "metadata": {},
   "outputs": [
    {
     "data": {
      "text/plain": [
       "['Pyhton', 'is', 'a', 'great', 'programming', 'language']"
      ]
     },
     "execution_count": 93,
     "metadata": {},
     "output_type": "execute_result"
    },
    {
     "data": {
      "text/plain": [
       "['john_doe', 'gmail.com']"
      ]
     },
     "execution_count": 93,
     "metadata": {},
     "output_type": "execute_result"
    }
   ],
   "source": [
    "x = \"Pyhton is a great programming language\"\n",
    "x.split()\n",
    "\n",
    "email = \"john_doe@gmail.com\"\n",
    "email.split(\"@\")"
   ]
  },
  {
   "cell_type": "markdown",
   "id": "3c9fee9a-39db-4b46-89f4-375633967f4e",
   "metadata": {},
   "source": [
    "### Datetime"
   ]
  },
  {
   "cell_type": "markdown",
   "id": "c0eea358-ef9a-4397-8713-bacca557be62",
   "metadata": {},
   "source": [
    "In python we use the datetime package to handle dates، "
   ]
  },
  {
   "cell_type": "code",
   "execution_count": 53,
   "id": "49a37587-b7ce-4be2-8932-a16deec4bd58",
   "metadata": {},
   "outputs": [
    {
     "data": {
      "text/plain": [
       "datetime.date(1993, 2, 1)"
      ]
     },
     "execution_count": 53,
     "metadata": {},
     "output_type": "execute_result"
    },
    {
     "name": "stdout",
     "output_type": "stream",
     "text": [
      "1993-02-01\n"
     ]
    },
    {
     "data": {
      "text/plain": [
       "datetime.date"
      ]
     },
     "execution_count": 53,
     "metadata": {},
     "output_type": "execute_result"
    },
    {
     "name": "stdout",
     "output_type": "stream",
     "text": [
      "======================================================================\n"
     ]
    },
    {
     "data": {
      "text/plain": [
       "datetime.datetime(1993, 2, 1, 15, 5, 20)"
      ]
     },
     "execution_count": 53,
     "metadata": {},
     "output_type": "execute_result"
    },
    {
     "name": "stdout",
     "output_type": "stream",
     "text": [
      "1993-02-01 15:05:20\n"
     ]
    },
    {
     "data": {
      "text/plain": [
       "datetime.datetime"
      ]
     },
     "execution_count": 53,
     "metadata": {},
     "output_type": "execute_result"
    },
    {
     "name": "stdout",
     "output_type": "stream",
     "text": [
      "======================================================================\n"
     ]
    },
    {
     "data": {
      "text/plain": [
       "datetime.date(2022, 10, 17)"
      ]
     },
     "execution_count": 53,
     "metadata": {},
     "output_type": "execute_result"
    },
    {
     "name": "stdout",
     "output_type": "stream",
     "text": [
      "2022-10-17\n"
     ]
    },
    {
     "data": {
      "text/plain": [
       "datetime.date"
      ]
     },
     "execution_count": 53,
     "metadata": {},
     "output_type": "execute_result"
    },
    {
     "name": "stdout",
     "output_type": "stream",
     "text": [
      "======================================================================\n"
     ]
    },
    {
     "data": {
      "text/plain": [
       "datetime.date(2022, 10, 17)"
      ]
     },
     "execution_count": 53,
     "metadata": {},
     "output_type": "execute_result"
    },
    {
     "name": "stdout",
     "output_type": "stream",
     "text": [
      "2022-10-17 17:51:34.191839\n"
     ]
    },
    {
     "data": {
      "text/plain": [
       "datetime.datetime"
      ]
     },
     "execution_count": 53,
     "metadata": {},
     "output_type": "execute_result"
    }
   ],
   "source": [
    "from datetime import datetime, date\n",
    "\n",
    "date1 = date(year=1993, month=2, day=1)\n",
    "date1\n",
    "print(date1)\n",
    "type(date1)\n",
    "\n",
    "print(\"=\"*70)\n",
    "\n",
    "date2 = datetime(year=1993, month=2, day=1, hour=15, minute=5, second=20)\n",
    "date2\n",
    "print(date2)\n",
    "type(date2)\n",
    "\n",
    "print(\"=\"*70)\n",
    "\n",
    "date3 = date.today()\n",
    "date3\n",
    "print(date3)\n",
    "type(date3)\n",
    "\n",
    "print(\"=\"*70)\n",
    "\n",
    "date4 = datetime.now()\n",
    "date3\n",
    "print(date4)\n",
    "type(date4)"
   ]
  },
  {
   "cell_type": "markdown",
   "id": "04ba4adf-183e-4d18-bebc-f731308abcdb",
   "metadata": {},
   "source": [
    "date is the base class (type) and datetime is a sub-class: Every datetime is a date but not every date is a datetime!"
   ]
  },
  {
   "cell_type": "code",
   "execution_count": 62,
   "id": "badc648e-3c15-4bd9-b4f0-2d1625fcb2c7",
   "metadata": {},
   "outputs": [
    {
     "data": {
      "text/plain": [
       "True"
      ]
     },
     "execution_count": 62,
     "metadata": {},
     "output_type": "execute_result"
    },
    {
     "data": {
      "text/plain": [
       "False"
      ]
     },
     "execution_count": 62,
     "metadata": {},
     "output_type": "execute_result"
    },
    {
     "data": {
      "text/plain": [
       "True"
      ]
     },
     "execution_count": 62,
     "metadata": {},
     "output_type": "execute_result"
    },
    {
     "data": {
      "text/plain": [
       "True"
      ]
     },
     "execution_count": 62,
     "metadata": {},
     "output_type": "execute_result"
    }
   ],
   "source": [
    "isinstance(date1, date)\n",
    "isinstance(date1, datetime)\n",
    "isinstance(date2, date)\n",
    "isinstance(date2, datetime)"
   ]
  },
  {
   "cell_type": "markdown",
   "id": "e156b752-0a1a-412d-b531-8f9d8e9cd040",
   "metadata": {},
   "source": [
    "***\n",
    "You can convert strings to datetime objects using the strptime() method, but you have tp specift the format. Check https://strftime.org/ for a list of special sequences."
   ]
  },
  {
   "cell_type": "code",
   "execution_count": 99,
   "id": "cb108151-4190-43a2-bc86-10e1b4649eaa",
   "metadata": {},
   "outputs": [
    {
     "data": {
      "text/plain": [
       "datetime.datetime(2022, 5, 1, 0, 0)"
      ]
     },
     "execution_count": 99,
     "metadata": {},
     "output_type": "execute_result"
    },
    {
     "data": {
      "text/plain": [
       "datetime.datetime(1987, 9, 5, 0, 0)"
      ]
     },
     "execution_count": 99,
     "metadata": {},
     "output_type": "execute_result"
    }
   ],
   "source": [
    "string = \"2022-05-01\"\n",
    "new_date = datetime.strptime(\"2022-05-01\", \"%Y-%m-%d\")\n",
    "new_date\n",
    "\n",
    "new_date = datetime.strptime(\"Sep 5, 1987\", \"%b %d, %Y\")\n",
    "new_date"
   ]
  },
  {
   "cell_type": "markdown",
   "id": "4b3120c8-a5a8-48b0-9373-08f89ec8294c",
   "metadata": {},
   "source": [
    "Similary dates can be converted to strings using strftime():"
   ]
  },
  {
   "cell_type": "code",
   "execution_count": 101,
   "id": "f01c7b72-b468-4aa2-8ea7-a5076221edbe",
   "metadata": {},
   "outputs": [
    {
     "data": {
      "text/plain": [
       "datetime.datetime(2022, 10, 17, 19, 15, 44, 410262)"
      ]
     },
     "execution_count": 101,
     "metadata": {},
     "output_type": "execute_result"
    },
    {
     "name": "stdout",
     "output_type": "stream",
     "text": [
      "Monday, October 17 2022\n"
     ]
    }
   ],
   "source": [
    "new_date = datetime.now()\n",
    "new_date\n",
    "print(new_date.strftime(\"%A, %B %d %Y\"))"
   ]
  },
  {
   "cell_type": "markdown",
   "id": "3a3a23f2-1c2c-4ebd-8850-2f3774ad78b4",
   "metadata": {},
   "source": [
    "***\n",
    "A special object, timedelta, is used to compute time differences:"
   ]
  },
  {
   "cell_type": "code",
   "execution_count": 131,
   "id": "e6a5cf5e-6f93-44bb-bd50-b9139fba75e6",
   "metadata": {},
   "outputs": [
    {
     "data": {
      "text/plain": [
       "datetime.timedelta(days=10850, seconds=70050, microseconds=349324)"
      ]
     },
     "execution_count": 131,
     "metadata": {},
     "output_type": "execute_result"
    },
    {
     "name": "stdout",
     "output_type": "stream",
     "text": [
      "You were born 10,850 days ago!\n",
      "1000 Days from today will be a Sunday!\n"
     ]
    }
   ],
   "source": [
    "from datetime import timedelta\n",
    "\n",
    "birthday = datetime(year=1993, month=2, day=1)\n",
    "today = datetime.today()\n",
    "\n",
    "delta = today - birthday \n",
    "delta\n",
    "print(f\"You were born {delta.days:,} days ago!\" )\n",
    "\n",
    "target_date = datetime.today() + timedelta(days=1000)\n",
    "print(f\"1000 Days from today will be a \", target_date.strftime(\"%A\"), \"!\", sep=\"\")"
   ]
  },
  {
   "cell_type": "markdown",
   "id": "17d30b8d-e9f2-44ba-ab89-3726067d803d",
   "metadata": {
    "tags": []
   },
   "source": [
    "## Sequences"
   ]
  },
  {
   "cell_type": "markdown",
   "id": "6fce3c7b-25a8-473a-b1cc-46be3ac05f54",
   "metadata": {},
   "source": [
    "The past sections discussed objects which contained single units of information, often times we want to create sequences or collections of objects. There are 4 base collection types in python:\n",
    "* Lists\n",
    "* Tuples\n",
    "* Dictionaries\n",
    "* Ranges"
   ]
  },
  {
   "cell_type": "markdown",
   "id": "d1d8253f-9c3f-400c-86a9-f596fcb8be7b",
   "metadata": {
    "jp-MarkdownHeadingCollapsed": true,
    "tags": []
   },
   "source": [
    "### Lists"
   ]
  },
  {
   "cell_type": "markdown",
   "id": "889e0191-62ec-4a2d-a637-5018a55c5883",
   "metadata": {},
   "source": [
    "A python list can be created using square brackets, items within the list can be any object and are seperated by commas"
   ]
  },
  {
   "cell_type": "code",
   "execution_count": 144,
   "id": "fbcb31d1-aad9-4a4b-abf5-405b631e46b7",
   "metadata": {},
   "outputs": [
    {
     "data": {
      "text/plain": [
       "['Living_Room',\n",
       " 'Dining_Room',\n",
       " 'Kitchen',\n",
       " 'Bedroom_1',\n",
       " 'Bedroom_2',\n",
       " 'Bedroom_3']"
      ]
     },
     "execution_count": 144,
     "metadata": {},
     "output_type": "execute_result"
    },
    {
     "data": {
      "text/plain": [
       "list"
      ]
     },
     "execution_count": 144,
     "metadata": {},
     "output_type": "execute_result"
    }
   ],
   "source": [
    "rooms = [\"Living_Room\", \"Dining_Room\", \"Kitchen\", \"Bedroom_1\", \"Bedroom_2\", \"Bedroom_3\"]\n",
    "rooms\n",
    "type(rooms)"
   ]
  },
  {
   "cell_type": "markdown",
   "id": "aef91e6e-8b20-4792-ac6c-b3d76045eacd",
   "metadata": {},
   "source": [
    "you can check for the length of a list using the len() operator"
   ]
  },
  {
   "cell_type": "code",
   "execution_count": 149,
   "id": "45c258cd-3a74-4e1e-90a7-17a2a13bbfc8",
   "metadata": {},
   "outputs": [
    {
     "data": {
      "text/plain": [
       "6"
      ]
     },
     "execution_count": 149,
     "metadata": {},
     "output_type": "execute_result"
    }
   ],
   "source": [
    "len(rooms)"
   ]
  },
  {
   "cell_type": "markdown",
   "id": "4cf17c2f-6159-4d1c-9012-ac234eaaf304",
   "metadata": {},
   "source": [
    "You can access individual items using square brackets and an integer index, we count starting at 0"
   ]
  },
  {
   "cell_type": "code",
   "execution_count": 150,
   "id": "4b0593c1-400c-4510-907b-626ccac99c21",
   "metadata": {},
   "outputs": [
    {
     "data": {
      "text/plain": [
       "'Living_Room'"
      ]
     },
     "execution_count": 150,
     "metadata": {},
     "output_type": "execute_result"
    },
    {
     "data": {
      "text/plain": [
       "'Dining_Room'"
      ]
     },
     "execution_count": 150,
     "metadata": {},
     "output_type": "execute_result"
    },
    {
     "data": {
      "text/plain": [
       "'Kitchen'"
      ]
     },
     "execution_count": 150,
     "metadata": {},
     "output_type": "execute_result"
    },
    {
     "data": {
      "text/plain": [
       "'Bedroom_1'"
      ]
     },
     "execution_count": 150,
     "metadata": {},
     "output_type": "execute_result"
    }
   ],
   "source": [
    "rooms[0]\n",
    "rooms[1]\n",
    "rooms[2]\n",
    "rooms[3]"
   ]
  },
  {
   "cell_type": "markdown",
   "id": "b481c87e-4b26-4055-83f4-bc24d0b4629d",
   "metadata": {},
   "source": [
    "An error will be raised if you use an index beyond the size of the list"
   ]
  },
  {
   "cell_type": "code",
   "execution_count": 151,
   "id": "93d3ad66-49a6-41ab-a746-9cfeb799e1d1",
   "metadata": {},
   "outputs": [
    {
     "ename": "IndexError",
     "evalue": "list index out of range",
     "output_type": "error",
     "traceback": [
      "\u001b[0;31m---------------------------------------------------------------------------\u001b[0m",
      "\u001b[0;31mIndexError\u001b[0m                                Traceback (most recent call last)",
      "Input \u001b[0;32mIn [151]\u001b[0m, in \u001b[0;36m<cell line: 1>\u001b[0;34m()\u001b[0m\n\u001b[0;32m----> 1\u001b[0m \u001b[43mrooms\u001b[49m\u001b[43m[\u001b[49m\u001b[38;5;241;43m10\u001b[39;49m\u001b[43m]\u001b[49m\n",
      "\u001b[0;31mIndexError\u001b[0m: list index out of range"
     ]
    }
   ],
   "source": [
    "rooms[10]"
   ]
  },
  {
   "cell_type": "markdown",
   "id": "9926e31e-b41f-4c59-9143-b984bf22b3fd",
   "metadata": {},
   "source": [
    "you can use negative indicies to start counting from the end of a list instead from the beginning"
   ]
  },
  {
   "cell_type": "code",
   "execution_count": 152,
   "id": "83e3864d-950e-4cf8-b6b2-e802d30790a6",
   "metadata": {},
   "outputs": [
    {
     "data": {
      "text/plain": [
       "'Bedroom_3'"
      ]
     },
     "execution_count": 152,
     "metadata": {},
     "output_type": "execute_result"
    },
    {
     "data": {
      "text/plain": [
       "'Bedroom_2'"
      ]
     },
     "execution_count": 152,
     "metadata": {},
     "output_type": "execute_result"
    }
   ],
   "source": [
    "rooms[-1]\n",
    "rooms[-2]"
   ]
  },
  {
   "cell_type": "markdown",
   "id": "aa55ecd9-b7fe-438a-b4d0-d0c7f4c75872",
   "metadata": {},
   "source": [
    "A sublist can be generate using the syntax start:end:step, ranges are end **exclusive** and the default step is 1. a bla"
   ]
  },
  {
   "cell_type": "code",
   "execution_count": 158,
   "id": "06083f6e-bd6d-4643-b0d2-e1ea74465b86",
   "metadata": {},
   "outputs": [
    {
     "data": {
      "text/plain": [
       "['Dining_Room', 'Kitchen', 'Bedroom_1']"
      ]
     },
     "execution_count": 158,
     "metadata": {},
     "output_type": "execute_result"
    },
    {
     "data": {
      "text/plain": [
       "['Kitchen', 'Bedroom_1', 'Bedroom_2', 'Bedroom_3']"
      ]
     },
     "execution_count": 158,
     "metadata": {},
     "output_type": "execute_result"
    },
    {
     "data": {
      "text/plain": [
       "['Living_Room', 'Dining_Room', 'Kitchen']"
      ]
     },
     "execution_count": 158,
     "metadata": {},
     "output_type": "execute_result"
    },
    {
     "data": {
      "text/plain": [
       "['Bedroom_3',\n",
       " 'Bedroom_2',\n",
       " 'Bedroom_1',\n",
       " 'Kitchen',\n",
       " 'Dining_Room',\n",
       " 'Living_Room']"
      ]
     },
     "execution_count": 158,
     "metadata": {},
     "output_type": "execute_result"
    }
   ],
   "source": [
    "rooms = [\"Living_Room\", \"Dining_Room\", \"Kitchen\", \"Bedroom_1\", \"Bedroom_2\", \"Bedroom_3\"]\n",
    "\n",
    "#index 1 to 4\n",
    "rooms[1:4]\n",
    "\n",
    "#index 2 to end\n",
    "rooms[2:]\n",
    "\n",
    "#start to index 3\n",
    "rooms[:3]\n",
    "\n",
    "#start to end with a step of -1\n",
    "rooms[::-1]"
   ]
  },
  {
   "cell_type": "markdown",
   "id": "ebe3e28a-fbfc-4503-84d7-6a9bedbf7c35",
   "metadata": {},
   "source": [
    "you can also assign to list elements directly"
   ]
  },
  {
   "cell_type": "code",
   "execution_count": 228,
   "id": "94350940-a71d-4707-b11d-a06db530d3bc",
   "metadata": {},
   "outputs": [
    {
     "data": {
      "text/plain": [
       "['Living_Room', 'Dining_Room', 'Kitchen', 'Bedroom_1', 'Bedroom_2']"
      ]
     },
     "execution_count": 228,
     "metadata": {},
     "output_type": "execute_result"
    },
    {
     "data": {
      "text/plain": [
       "['ZZZZZ', 'Dining_Room', 'Kitchen', 'Bedroom_1', 'Bedroom_2']"
      ]
     },
     "execution_count": 228,
     "metadata": {},
     "output_type": "execute_result"
    },
    {
     "data": {
      "text/plain": [
       "['ZZZZZ', 'Dining_Room', 'Kitchen', 'XXXXX', 'Bedroom_2']"
      ]
     },
     "execution_count": 228,
     "metadata": {},
     "output_type": "execute_result"
    },
    {
     "data": {
      "text/plain": [
       "['item_1', 'item_2', 'item_3', 'XXXXX', 'Bedroom_2']"
      ]
     },
     "execution_count": 228,
     "metadata": {},
     "output_type": "execute_result"
    }
   ],
   "source": [
    "rooms = [\"Living_Room\", \"Dining_Room\", \"Kitchen\", \"Bedroom_1\", \"Bedroom_2\"]\n",
    "rooms\n",
    "\n",
    "rooms[0] = \"ZZZZZ\"\n",
    "rooms\n",
    "\n",
    "rooms[3] = \"XXXXX\"\n",
    "rooms\n",
    "\n",
    "\n",
    "rooms[:3] = [\"item_1\", \"item_2\", \"item_3\"]\n",
    "rooms"
   ]
  },
  {
   "cell_type": "markdown",
   "id": "69e11c4e-5093-49b2-aea6-7de5e2ed968b",
   "metadata": {},
   "source": [
    "***\n",
    "Lists can be added together"
   ]
  },
  {
   "cell_type": "code",
   "execution_count": 212,
   "id": "56558910-4ad2-4706-82cf-abc57a7ea6c1",
   "metadata": {},
   "outputs": [
    {
     "data": {
      "text/plain": [
       "['Living_Room',\n",
       " 'Dining_Room',\n",
       " 'Kitchen',\n",
       " 'Bedroom_1',\n",
       " 'Bedroom_2',\n",
       " 'Backyard',\n",
       " 'Patio',\n",
       " 'Balcony_1',\n",
       " 'Balcony_2']"
      ]
     },
     "execution_count": 212,
     "metadata": {},
     "output_type": "execute_result"
    }
   ],
   "source": [
    "rooms = [\"Living_Room\", \"Dining_Room\", \"Kitchen\", \"Bedroom_1\", \"Bedroom_2\"]\n",
    "areas = [\"Backyard\", \"Patio\", \"Balcony_1\", \"Balcony_2\"]\n",
    "\n",
    "rooms + areas"
   ]
  },
  {
   "cell_type": "markdown",
   "id": "00389068-7aaa-439a-8b58-e68541331c49",
   "metadata": {},
   "source": [
    "and can be duplicated with the * operator:"
   ]
  },
  {
   "cell_type": "code",
   "execution_count": 221,
   "id": "f8080858-139c-4224-bbfa-52ba90efb631",
   "metadata": {},
   "outputs": [
    {
     "data": {
      "text/plain": [
       "['Room', 'Room', 'Room', 'Room', 'Room', 'Room', 'Room', 'Room', 'Room']"
      ]
     },
     "execution_count": 221,
     "metadata": {},
     "output_type": "execute_result"
    }
   ],
   "source": [
    "#A list with 9 rooms!\n",
    "[\"Room\"] * 9"
   ]
  },
  {
   "cell_type": "markdown",
   "id": "3246c3c5-6180-4899-8f19-2e4dcea6edef",
   "metadata": {},
   "source": [
    "individual elements can be appended to lists using the append() method:"
   ]
  },
  {
   "cell_type": "code",
   "execution_count": 222,
   "id": "59907ff0-6a61-4f8a-94c8-f772524d6f75",
   "metadata": {},
   "outputs": [
    {
     "data": {
      "text/plain": [
       "[]"
      ]
     },
     "execution_count": 222,
     "metadata": {},
     "output_type": "execute_result"
    },
    {
     "data": {
      "text/plain": [
       "['Living_Room']"
      ]
     },
     "execution_count": 222,
     "metadata": {},
     "output_type": "execute_result"
    },
    {
     "data": {
      "text/plain": [
       "['Living_Room', 'Dining_Room']"
      ]
     },
     "execution_count": 222,
     "metadata": {},
     "output_type": "execute_result"
    }
   ],
   "source": [
    "rooms = list()\n",
    "rooms\n",
    "\n",
    "rooms.append(\"Living_Room\")\n",
    "rooms\n",
    "\n",
    "rooms.append(\"Dining_Room\")\n",
    "rooms"
   ]
  },
  {
   "cell_type": "markdown",
   "id": "38a5ab87-e315-4f79-b8a3-c9a81e4d1569",
   "metadata": {},
   "source": [
    "individual items can be removed from lists using the pop() method or the remove() funciton"
   ]
  },
  {
   "cell_type": "code",
   "execution_count": 223,
   "id": "ddb83782-59c2-4728-877d-c683dc9d455c",
   "metadata": {},
   "outputs": [
    {
     "data": {
      "text/plain": [
       "['Living_Room',\n",
       " 'Dining_Room',\n",
       " 'Kitchen',\n",
       " 'Bedroom_1',\n",
       " 'Bedroom_2',\n",
       " 'Bedroom_3']"
      ]
     },
     "execution_count": 223,
     "metadata": {},
     "output_type": "execute_result"
    },
    {
     "data": {
      "text/plain": [
       "'Bedroom_2'"
      ]
     },
     "execution_count": 223,
     "metadata": {},
     "output_type": "execute_result"
    },
    {
     "data": {
      "text/plain": [
       "['Living_Room', 'Dining_Room', 'Kitchen', 'Bedroom_1', 'Bedroom_3']"
      ]
     },
     "execution_count": 223,
     "metadata": {},
     "output_type": "execute_result"
    }
   ],
   "source": [
    "rooms = [\"Living_Room\", \"Dining_Room\", \"Kitchen\", \"Bedroom_1\", \"Bedroom_2\", \"Bedroom_3\"]\n",
    "rooms\n",
    "#remove element at index 4\n",
    "rooms.pop(4)\n",
    "rooms"
   ]
  },
  {
   "cell_type": "code",
   "execution_count": 224,
   "id": "9310dbe4-c334-4eec-986d-cdd8b87a4710",
   "metadata": {},
   "outputs": [
    {
     "data": {
      "text/plain": [
       "['Living_Room',\n",
       " 'Dining_Room',\n",
       " 'Kitchen',\n",
       " 'Bedroom_1',\n",
       " 'Bedroom_2',\n",
       " 'Bedroom_3']"
      ]
     },
     "execution_count": 224,
     "metadata": {},
     "output_type": "execute_result"
    },
    {
     "data": {
      "text/plain": [
       "['Living_Room', 'Dining_Room', 'Bedroom_1', 'Bedroom_2', 'Bedroom_3']"
      ]
     },
     "execution_count": 224,
     "metadata": {},
     "output_type": "execute_result"
    }
   ],
   "source": [
    "rooms = [\"Living_Room\", \"Dining_Room\", \"Kitchen\", \"Bedroom_1\", \"Bedroom_2\", \"Bedroom_3\"]\n",
    "rooms\n",
    "rooms.remove(\"Kitchen\")\n",
    "rooms"
   ]
  },
  {
   "cell_type": "markdown",
   "id": "f968b119-f061-4ad8-83e8-d48a6b19b66e",
   "metadata": {},
   "source": [
    "trying to remove an element which is not in the list will throw an error:"
   ]
  },
  {
   "cell_type": "code",
   "execution_count": 225,
   "id": "b4b67092-c160-4ddf-a51b-8a7cebc8cafc",
   "metadata": {},
   "outputs": [
    {
     "ename": "ValueError",
     "evalue": "list.remove(x): x not in list",
     "output_type": "error",
     "traceback": [
      "\u001b[0;31m---------------------------------------------------------------------------\u001b[0m",
      "\u001b[0;31mValueError\u001b[0m                                Traceback (most recent call last)",
      "Input \u001b[0;32mIn [225]\u001b[0m, in \u001b[0;36m<cell line: 2>\u001b[0;34m()\u001b[0m\n\u001b[1;32m      1\u001b[0m rooms \u001b[38;5;241m=\u001b[39m [\u001b[38;5;124m\"\u001b[39m\u001b[38;5;124mLiving_Room\u001b[39m\u001b[38;5;124m\"\u001b[39m, \u001b[38;5;124m\"\u001b[39m\u001b[38;5;124mDining_Room\u001b[39m\u001b[38;5;124m\"\u001b[39m, \u001b[38;5;124m\"\u001b[39m\u001b[38;5;124mKitchen\u001b[39m\u001b[38;5;124m\"\u001b[39m, \u001b[38;5;124m\"\u001b[39m\u001b[38;5;124mBedroom_1\u001b[39m\u001b[38;5;124m\"\u001b[39m, \u001b[38;5;124m\"\u001b[39m\u001b[38;5;124mBedroom_2\u001b[39m\u001b[38;5;124m\"\u001b[39m, \u001b[38;5;124m\"\u001b[39m\u001b[38;5;124mBedroom_3\u001b[39m\u001b[38;5;124m\"\u001b[39m]\n\u001b[0;32m----> 2\u001b[0m \u001b[43mrooms\u001b[49m\u001b[38;5;241;43m.\u001b[39;49m\u001b[43mremove\u001b[49m\u001b[43m(\u001b[49m\u001b[38;5;124;43m\"\u001b[39;49m\u001b[38;5;124;43mAtrium\u001b[39;49m\u001b[38;5;124;43m\"\u001b[39;49m\u001b[43m)\u001b[49m\n",
      "\u001b[0;31mValueError\u001b[0m: list.remove(x): x not in list"
     ]
    }
   ],
   "source": [
    "rooms = [\"Living_Room\", \"Dining_Room\", \"Kitchen\", \"Bedroom_1\", \"Bedroom_2\", \"Bedroom_3\"]\n",
    "rooms.remove(\"Atrium\")"
   ]
  },
  {
   "cell_type": "markdown",
   "id": "1844ff4a-6ce1-4a84-97e9-e8d68ef4305b",
   "metadata": {},
   "source": [
    "You can search for individual items using the index() and check if an item is in a list using the *in* keyword. "
   ]
  },
  {
   "cell_type": "code",
   "execution_count": 226,
   "id": "e9066a63-4dbd-4ad2-bbf7-c2cd78b640f4",
   "metadata": {},
   "outputs": [
    {
     "data": {
      "text/plain": [
       "2"
      ]
     },
     "execution_count": 226,
     "metadata": {},
     "output_type": "execute_result"
    },
    {
     "data": {
      "text/plain": [
       "True"
      ]
     },
     "execution_count": 226,
     "metadata": {},
     "output_type": "execute_result"
    },
    {
     "data": {
      "text/plain": [
       "False"
      ]
     },
     "execution_count": 226,
     "metadata": {},
     "output_type": "execute_result"
    },
    {
     "data": {
      "text/plain": [
       "True"
      ]
     },
     "execution_count": 226,
     "metadata": {},
     "output_type": "execute_result"
    }
   ],
   "source": [
    "rooms = [\"Living_Room\", \"Dining_Room\", \"Kitchen\", \"Bedroom_1\", \"Bedroom_2\", \"Bedroom_3\"]\n",
    "rooms.index(\"Kitchen\")\n",
    "\"Kitchen\" in rooms\n",
    "\"Atrium\" in rooms\n",
    "\"Atrium\" not in rooms"
   ]
  },
  {
   "cell_type": "markdown",
   "id": "0023d43f-b347-4c95-8983-181e2cc7d740",
   "metadata": {},
   "source": [
    "Searching for an item which is not in the list will throw an error."
   ]
  },
  {
   "cell_type": "code",
   "execution_count": 190,
   "id": "0cbe1603-3b05-476f-a7ee-ef8d184403f7",
   "metadata": {},
   "outputs": [
    {
     "ename": "ValueError",
     "evalue": "'Atrium' is not in list",
     "output_type": "error",
     "traceback": [
      "\u001b[0;31m---------------------------------------------------------------------------\u001b[0m",
      "\u001b[0;31mValueError\u001b[0m                                Traceback (most recent call last)",
      "Input \u001b[0;32mIn [190]\u001b[0m, in \u001b[0;36m<cell line: 1>\u001b[0;34m()\u001b[0m\n\u001b[0;32m----> 1\u001b[0m \u001b[43mrooms\u001b[49m\u001b[38;5;241;43m.\u001b[39;49m\u001b[43mindex\u001b[49m\u001b[43m(\u001b[49m\u001b[38;5;124;43m\"\u001b[39;49m\u001b[38;5;124;43mAtrium\u001b[39;49m\u001b[38;5;124;43m\"\u001b[39;49m\u001b[43m)\u001b[49m\n",
      "\u001b[0;31mValueError\u001b[0m: 'Atrium' is not in list"
     ]
    }
   ],
   "source": [
    "rooms.index(\"Atrium\")"
   ]
  },
  {
   "cell_type": "markdown",
   "id": "bb98f466-4832-4cce-a858-1a2c4f507dd8",
   "metadata": {
    "jp-MarkdownHeadingCollapsed": true,
    "tags": []
   },
   "source": [
    "### Tuples"
   ]
  },
  {
   "cell_type": "markdown",
   "id": "c6917ba2-a0c1-471b-be68-aee0886325bf",
   "metadata": {},
   "source": [
    "Tuples are a very pythonic data structures, they are basically fixed collections. You can declare a tuple using normal brackets, or by simply seperating items with a comma"
   ]
  },
  {
   "cell_type": "code",
   "execution_count": 233,
   "id": "7ab8bb99-2b7b-4405-a375-a961f2d18c68",
   "metadata": {},
   "outputs": [
    {
     "data": {
      "text/plain": [
       "tuple"
      ]
     },
     "execution_count": 233,
     "metadata": {},
     "output_type": "execute_result"
    },
    {
     "data": {
      "text/plain": [
       "tuple"
      ]
     },
     "execution_count": 233,
     "metadata": {},
     "output_type": "execute_result"
    },
    {
     "data": {
      "text/plain": [
       "True"
      ]
     },
     "execution_count": 233,
     "metadata": {},
     "output_type": "execute_result"
    }
   ],
   "source": [
    "tools = (\"hammer\", \"screw-driver\", \"drill\")\n",
    "tools2 = \"hammer\", \"screw-driver\", \"drill\"\n",
    "\n",
    "type(tools)\n",
    "type(tools2)\n",
    "\n",
    "tools == tools2"
   ]
  },
  {
   "cell_type": "markdown",
   "id": "ae4830e9-fba2-43fb-bb7c-e6d5560363b4",
   "metadata": {},
   "source": [
    "the main difference between lists and tuples is that tuples are immutable, i.e. when they are created you can't change the values inside of them nor their total size."
   ]
  },
  {
   "cell_type": "code",
   "execution_count": 234,
   "id": "3d7e0623-446c-4039-a265-3e08000f523c",
   "metadata": {},
   "outputs": [
    {
     "ename": "AttributeError",
     "evalue": "'tuple' object has no attribute 'append'",
     "output_type": "error",
     "traceback": [
      "\u001b[0;31m---------------------------------------------------------------------------\u001b[0m",
      "\u001b[0;31mAttributeError\u001b[0m                            Traceback (most recent call last)",
      "Input \u001b[0;32mIn [234]\u001b[0m, in \u001b[0;36m<cell line: 2>\u001b[0;34m()\u001b[0m\n\u001b[1;32m      1\u001b[0m tools \u001b[38;5;241m=\u001b[39m (\u001b[38;5;124m\"\u001b[39m\u001b[38;5;124mhammer\u001b[39m\u001b[38;5;124m\"\u001b[39m, \u001b[38;5;124m\"\u001b[39m\u001b[38;5;124mscrew-driver\u001b[39m\u001b[38;5;124m\"\u001b[39m, \u001b[38;5;124m\"\u001b[39m\u001b[38;5;124mdrill\u001b[39m\u001b[38;5;124m\"\u001b[39m)\n\u001b[0;32m----> 2\u001b[0m \u001b[43mtools\u001b[49m\u001b[38;5;241;43m.\u001b[39;49m\u001b[43mappend\u001b[49m(\u001b[38;5;124m\"\u001b[39m\u001b[38;5;124mknife\u001b[39m\u001b[38;5;124m\"\u001b[39m)\n",
      "\u001b[0;31mAttributeError\u001b[0m: 'tuple' object has no attribute 'append'"
     ]
    }
   ],
   "source": [
    "tools = (\"hammer\", \"screw-driver\", \"drill\")\n",
    "tools.append(\"knife\")"
   ]
  },
  {
   "cell_type": "code",
   "execution_count": 235,
   "id": "a24c6f2c-29b9-40c7-bd7f-e3b9f0751cfb",
   "metadata": {},
   "outputs": [
    {
     "ename": "TypeError",
     "evalue": "'tuple' object does not support item assignment",
     "output_type": "error",
     "traceback": [
      "\u001b[0;31m---------------------------------------------------------------------------\u001b[0m",
      "\u001b[0;31mTypeError\u001b[0m                                 Traceback (most recent call last)",
      "Input \u001b[0;32mIn [235]\u001b[0m, in \u001b[0;36m<cell line: 2>\u001b[0;34m()\u001b[0m\n\u001b[1;32m      1\u001b[0m tools \u001b[38;5;241m=\u001b[39m (\u001b[38;5;124m\"\u001b[39m\u001b[38;5;124mhammer\u001b[39m\u001b[38;5;124m\"\u001b[39m, \u001b[38;5;124m\"\u001b[39m\u001b[38;5;124mscrew-driver\u001b[39m\u001b[38;5;124m\"\u001b[39m, \u001b[38;5;124m\"\u001b[39m\u001b[38;5;124mdrill\u001b[39m\u001b[38;5;124m\"\u001b[39m)\n\u001b[0;32m----> 2\u001b[0m tools[\u001b[38;5;241m0\u001b[39m] \u001b[38;5;241m=\u001b[39m \u001b[38;5;124m\"\u001b[39m\u001b[38;5;124mtool_2\u001b[39m\u001b[38;5;124m\"\u001b[39m\n",
      "\u001b[0;31mTypeError\u001b[0m: 'tuple' object does not support item assignment"
     ]
    }
   ],
   "source": [
    "tools = (\"hammer\", \"screw-driver\", \"drill\")\n",
    "tools[0] = \"tool_2\""
   ]
  },
  {
   "cell_type": "markdown",
   "id": "053a5c56-c9f1-490e-8568-89eba30c67d2",
   "metadata": {},
   "source": [
    "tuple items can be unpacked directlty to variable names:"
   ]
  },
  {
   "cell_type": "code",
   "execution_count": 237,
   "id": "6dbb7305-2cf5-41c0-8b56-b6c993db07fc",
   "metadata": {},
   "outputs": [
    {
     "data": {
      "text/plain": [
       "tuple"
      ]
     },
     "execution_count": 237,
     "metadata": {},
     "output_type": "execute_result"
    },
    {
     "data": {
      "text/plain": [
       "'John'"
      ]
     },
     "execution_count": 237,
     "metadata": {},
     "output_type": "execute_result"
    },
    {
     "data": {
      "text/plain": [
       "str"
      ]
     },
     "execution_count": 237,
     "metadata": {},
     "output_type": "execute_result"
    },
    {
     "data": {
      "text/plain": [
       "'Doe'"
      ]
     },
     "execution_count": 237,
     "metadata": {},
     "output_type": "execute_result"
    },
    {
     "data": {
      "text/plain": [
       "str"
      ]
     },
     "execution_count": 237,
     "metadata": {},
     "output_type": "execute_result"
    }
   ],
   "source": [
    "person = (\"John\", \"Doe\")\n",
    "type(person)\n",
    "first, last = person\n",
    "\n",
    "first\n",
    "type(first)\n",
    "\n",
    "last\n",
    "type(last)"
   ]
  },
  {
   "cell_type": "markdown",
   "id": "e7fa451b-7bc4-4e48-82db-14712b05ceed",
   "metadata": {},
   "source": [
    "you can convert between lists and tuples:"
   ]
  },
  {
   "cell_type": "code",
   "execution_count": 252,
   "id": "da151061-1dcd-45b8-964e-9b780b46859c",
   "metadata": {},
   "outputs": [
    {
     "data": {
      "text/plain": [
       "('Apple', 'Orange', 'Pear')"
      ]
     },
     "execution_count": 252,
     "metadata": {},
     "output_type": "execute_result"
    },
    {
     "data": {
      "text/plain": [
       "tuple"
      ]
     },
     "execution_count": 252,
     "metadata": {},
     "output_type": "execute_result"
    },
    {
     "data": {
      "text/plain": [
       "['Apple', 'Orange', 'Pear']"
      ]
     },
     "execution_count": 252,
     "metadata": {},
     "output_type": "execute_result"
    },
    {
     "data": {
      "text/plain": [
       "list"
      ]
     },
     "execution_count": 252,
     "metadata": {},
     "output_type": "execute_result"
    },
    {
     "name": "stdout",
     "output_type": "stream",
     "text": [
      "======================================================================\n"
     ]
    },
    {
     "data": {
      "text/plain": [
       "['Living_Room', 'Dining_Room', 'Kitchen', 'Bedroom_1', 'Bedroom_2']"
      ]
     },
     "execution_count": 252,
     "metadata": {},
     "output_type": "execute_result"
    },
    {
     "data": {
      "text/plain": [
       "list"
      ]
     },
     "execution_count": 252,
     "metadata": {},
     "output_type": "execute_result"
    },
    {
     "data": {
      "text/plain": [
       "('Living_Room', 'Dining_Room', 'Kitchen', 'Bedroom_1', 'Bedroom_2')"
      ]
     },
     "execution_count": 252,
     "metadata": {},
     "output_type": "execute_result"
    },
    {
     "data": {
      "text/plain": [
       "tuple"
      ]
     },
     "execution_count": 252,
     "metadata": {},
     "output_type": "execute_result"
    }
   ],
   "source": [
    "fruits = (\"Apple\", \"Orange\", \"Pear\")\n",
    "fruits\n",
    "type(fruits)\n",
    "\n",
    "fruits_list = list(fruits)\n",
    "fruits_list\n",
    "type(fruits_list)\n",
    "\n",
    "print(\"=\"*70)\n",
    "\n",
    "\n",
    "rooms = [\"Living_Room\", \"Dining_Room\", \"Kitchen\", \"Bedroom_1\", \"Bedroom_2\"]\n",
    "rooms\n",
    "type(rooms)\n",
    "\n",
    "rooms_tuple = tuple(rooms)\n",
    "rooms_tuple\n",
    "type(rooms_tuple)"
   ]
  },
  {
   "cell_type": "markdown",
   "id": "a8747ef6-77a5-42e9-b556-279d7a397d24",
   "metadata": {
    "jp-MarkdownHeadingCollapsed": true,
    "tags": []
   },
   "source": [
    "### Dictionaries"
   ]
  },
  {
   "cell_type": "markdown",
   "id": "8bfc554f-ffdd-4a88-8189-695ec50c2e91",
   "metadata": {},
   "source": [
    "Dictionaries are key,value pair structures in python:"
   ]
  },
  {
   "cell_type": "code",
   "execution_count": 241,
   "id": "b12a6606-50dd-4bd5-b5fd-31b43e350d97",
   "metadata": {},
   "outputs": [
    {
     "data": {
      "text/plain": [
       "dict"
      ]
     },
     "execution_count": 241,
     "metadata": {},
     "output_type": "execute_result"
    },
    {
     "data": {
      "text/plain": [
       "{'first_name': 'John',\n",
       " 'last_name': 'Doe',\n",
       " 'dob': datetime.date(1993, 2, 1),\n",
       " 'email': 'john.doe@gmail.com',\n",
       " 'mobile': '+971 580 000 000',\n",
       " 'address': 'Unit 1 HIVE JVC, Dubai - UAE'}"
      ]
     },
     "execution_count": 241,
     "metadata": {},
     "output_type": "execute_result"
    }
   ],
   "source": [
    "person = {\n",
    "    \"first_name\": \"John\",\n",
    "    \"last_name\": \"Doe\", \n",
    "    \"dob\": date(year=1993, month=2, day=1),\n",
    "    \"email\": \"john.doe@gmail.com\",\n",
    "    \"mobile\": \"+971 580 000 000\",\n",
    "    \"address\": \"Unit 1 HIVE JVC, Dubai - UAE\",\n",
    "}\n",
    "\n",
    "type(person)\n",
    "person"
   ]
  },
  {
   "cell_type": "markdown",
   "id": "b5d0294f-9f5d-42e6-8f63-37fe65debe3b",
   "metadata": {},
   "source": [
    "you can access elements by using square brackets and a key value:"
   ]
  },
  {
   "cell_type": "code",
   "execution_count": 244,
   "id": "e218208a-0a7c-48d8-80de-189e37e15d5d",
   "metadata": {},
   "outputs": [
    {
     "data": {
      "text/plain": [
       "'John'"
      ]
     },
     "execution_count": 244,
     "metadata": {},
     "output_type": "execute_result"
    },
    {
     "data": {
      "text/plain": [
       "'Doe'"
      ]
     },
     "execution_count": 244,
     "metadata": {},
     "output_type": "execute_result"
    },
    {
     "data": {
      "text/plain": [
       "datetime.date(1993, 2, 1)"
      ]
     },
     "execution_count": 244,
     "metadata": {},
     "output_type": "execute_result"
    }
   ],
   "source": [
    "person['first_name']\n",
    "person['last_name']\n",
    "person['dob']"
   ]
  },
  {
   "cell_type": "markdown",
   "id": "3ea34b91-7d4a-4e2d-992e-ed6821aa1edb",
   "metadata": {},
   "source": [
    "you can update the entry in a dictionary by direct assignment"
   ]
  },
  {
   "cell_type": "code",
   "execution_count": 254,
   "id": "11c36ee8-a6d2-4e46-ad3a-86d703b0baf8",
   "metadata": {},
   "outputs": [
    {
     "data": {
      "text/plain": [
       "{'first_name': 'John',\n",
       " 'last_name': 'Doe',\n",
       " 'dob': datetime.date(1993, 2, 1),\n",
       " 'email': 'john.doe@gmail.com',\n",
       " 'mobile': '+971 580 000 000',\n",
       " 'address': 'Unit 1 HIVE JVC, Dubai - UAE'}"
      ]
     },
     "execution_count": 254,
     "metadata": {},
     "output_type": "execute_result"
    },
    {
     "data": {
      "text/plain": [
       "{'first_name': 'John',\n",
       " 'last_name': 'Doe',\n",
       " 'dob': datetime.date(1993, 2, 1),\n",
       " 'email': 'new_email',\n",
       " 'mobile': '+971 580 000 000',\n",
       " 'address': 'Unit 1 HIVE JVC, Dubai - UAE'}"
      ]
     },
     "execution_count": 254,
     "metadata": {},
     "output_type": "execute_result"
    }
   ],
   "source": [
    "person = {\n",
    "    \"first_name\": \"John\",\n",
    "    \"last_name\": \"Doe\", \n",
    "    \"dob\": date(year=1993, month=2, day=1),\n",
    "    \"email\": \"john.doe@gmail.com\",\n",
    "    \"mobile\": \"+971 580 000 000\",\n",
    "    \"address\": \"Unit 1 HIVE JVC, Dubai - UAE\",\n",
    "}\n",
    "\n",
    "person\n",
    "\n",
    "person[\"email\"] = \"new_email\"\n",
    "\n",
    "person"
   ]
  },
  {
   "cell_type": "markdown",
   "id": "3c0573cc-e037-4665-80e6-f83a46e9ec29",
   "metadata": {},
   "source": [
    "calling the values() methods returns all values in the dictionary. You can cast this into a list or a tuple:"
   ]
  },
  {
   "cell_type": "code",
   "execution_count": 256,
   "id": "04c4874a-15d3-4119-958d-088145c02fab",
   "metadata": {},
   "outputs": [
    {
     "data": {
      "text/plain": [
       "dict_values(['John', 'Doe', datetime.date(1993, 2, 1), 'new_email', '+971 580 000 000', 'Unit 1 HIVE JVC, Dubai - UAE'])"
      ]
     },
     "execution_count": 256,
     "metadata": {},
     "output_type": "execute_result"
    },
    {
     "data": {
      "text/plain": [
       "['John',\n",
       " 'Doe',\n",
       " datetime.date(1993, 2, 1),\n",
       " 'new_email',\n",
       " '+971 580 000 000',\n",
       " 'Unit 1 HIVE JVC, Dubai - UAE']"
      ]
     },
     "execution_count": 256,
     "metadata": {},
     "output_type": "execute_result"
    }
   ],
   "source": [
    "person.values()\n",
    "list(person.values())"
   ]
  },
  {
   "cell_type": "markdown",
   "id": "be7b216c-caa0-4e8a-9d29-2ea36fe7718b",
   "metadata": {},
   "source": [
    "calling the keys() methods retutns all keys in a dictionary"
   ]
  },
  {
   "cell_type": "code",
   "execution_count": 257,
   "id": "8e935b10-1e35-4f86-bd72-2678234ce115",
   "metadata": {},
   "outputs": [
    {
     "data": {
      "text/plain": [
       "dict_keys(['first_name', 'last_name', 'dob', 'email', 'mobile', 'address'])"
      ]
     },
     "execution_count": 257,
     "metadata": {},
     "output_type": "execute_result"
    },
    {
     "data": {
      "text/plain": [
       "['first_name', 'last_name', 'dob', 'email', 'mobile', 'address']"
      ]
     },
     "execution_count": 257,
     "metadata": {},
     "output_type": "execute_result"
    }
   ],
   "source": [
    "person.keys()\n",
    "list(person.keys())"
   ]
  },
  {
   "cell_type": "markdown",
   "id": "35c0bab3-6c5e-440d-b7f2-7426e3be696d",
   "metadata": {},
   "source": [
    "calling the items method returns a list of tuples, each tuple contains a key-value pair:"
   ]
  },
  {
   "cell_type": "code",
   "execution_count": 260,
   "id": "8d082d36-5d54-4201-94ce-d178e0341298",
   "metadata": {},
   "outputs": [
    {
     "data": {
      "text/plain": [
       "dict_items([('first_name', 'John'), ('last_name', 'Doe'), ('dob', datetime.date(1993, 2, 1)), ('email', 'new_email'), ('mobile', '+971 580 000 000'), ('address', 'Unit 1 HIVE JVC, Dubai - UAE')])"
      ]
     },
     "execution_count": 260,
     "metadata": {},
     "output_type": "execute_result"
    },
    {
     "data": {
      "text/plain": [
       "[('first_name', 'John'),\n",
       " ('last_name', 'Doe'),\n",
       " ('dob', datetime.date(1993, 2, 1)),\n",
       " ('email', 'new_email'),\n",
       " ('mobile', '+971 580 000 000'),\n",
       " ('address', 'Unit 1 HIVE JVC, Dubai - UAE')]"
      ]
     },
     "execution_count": 260,
     "metadata": {},
     "output_type": "execute_result"
    }
   ],
   "source": [
    "person.items()\n",
    "list(person.items())"
   ]
  },
  {
   "cell_type": "markdown",
   "id": "4bbb8e84-8dbe-41d5-bf1c-fb856b119347",
   "metadata": {
    "tags": []
   },
   "source": [
    "### Ranges"
   ]
  },
  {
   "cell_type": "markdown",
   "id": "1e9fa10f-c679-4f12-aee6-302508d3affe",
   "metadata": {},
   "source": [
    "Often times you would require a sequence of numbers as part of your program, the range() function is an easy short-hand to create iterables which count in a sequence, teh syntax is analogous to that of a slice operation: range(start, end, step), the default start is 0 and default step is 1.\n",
    "\n",
    "By default, the range function return a python generator objects. Generators are advanced object types beyond the scope of this tutorial. For now, to expose the structure of a range object we can simply cast to a list of a tuple."
   ]
  },
  {
   "cell_type": "code",
   "execution_count": 277,
   "id": "fc7dfc98-496e-4c42-8d46-a54c56e04f4f",
   "metadata": {},
   "outputs": [
    {
     "data": {
      "text/plain": [
       "[0, 1, 2, 3, 4, 5, 6, 7, 8, 9]"
      ]
     },
     "execution_count": 277,
     "metadata": {},
     "output_type": "execute_result"
    },
    {
     "data": {
      "text/plain": [
       "[4, 6, 8, 10, 12, 14, 16, 18]"
      ]
     },
     "execution_count": 277,
     "metadata": {},
     "output_type": "execute_result"
    },
    {
     "data": {
      "text/plain": [
       "[15, 16, 17, 18, 19, 20, 21, 22, 23, 24]"
      ]
     },
     "execution_count": 277,
     "metadata": {},
     "output_type": "execute_result"
    },
    {
     "data": {
      "text/plain": [
       "[9, 8, 7, 6, 5, 4, 3, 2, 1]"
      ]
     },
     "execution_count": 277,
     "metadata": {},
     "output_type": "execute_result"
    }
   ],
   "source": [
    "list(range(10))\n",
    "\n",
    "list(range(4, 20, 2))\n",
    "\n",
    "list(range(15, 25))\n",
    "\n",
    "list(range(9, 0, -1))"
   ]
  },
  {
   "cell_type": "markdown",
   "id": "77be7827-360e-4a04-8235-7b12a486670d",
   "metadata": {},
   "source": [
    "## Control Flow"
   ]
  },
  {
   "cell_type": "markdown",
   "id": "edd19b3e-b934-4efb-8518-f5644a841f1a",
   "metadata": {},
   "source": [
    "Until now our code cells ran linearly from top to bottom, in order to create complex programs we might require more complex flow patterns, this is achieved with conditionals, loops, and functions."
   ]
  },
  {
   "cell_type": "markdown",
   "id": "89fe6260-1fe1-4be8-add9-efbb93e070ca",
   "metadata": {},
   "source": [
    "### Conditionals"
   ]
  },
  {
   "cell_type": "markdown",
   "id": "9e1dcf40-ee3d-4a85-be45-d8d46a0089a2",
   "metadata": {},
   "source": [
    "A basic conditional statement in python consists of an if: statement block."
   ]
  },
  {
   "cell_type": "code",
   "execution_count": 284,
   "id": "84ea2ed7-cba5-4b95-bb5a-1d3abe38ddbb",
   "metadata": {},
   "outputs": [
    {
     "name": "stdout",
     "output_type": "stream",
     "text": [
      "Hello World!\n",
      "This will run regardless of the condition.\n"
     ]
    }
   ],
   "source": [
    "condition = False\n",
    "\n",
    "print(\"Hello World!\")\n",
    "\n",
    "if condition:\n",
    "    print(\"The condition is True!\")\n",
    "\n",
    "print(\"This will run regardless of the condition.\")"
   ]
  },
  {
   "cell_type": "markdown",
   "id": "23b28fd0-8968-462f-8c15-c80ab795e03a",
   "metadata": {},
   "source": [
    "you can add an else-block to each if-block, which will only execure if the condition is not met"
   ]
  },
  {
   "cell_type": "code",
   "execution_count": 285,
   "id": "7cef896a-6b9f-4f24-85dd-84c1556ff19f",
   "metadata": {},
   "outputs": [
    {
     "name": "stdout",
     "output_type": "stream",
     "text": [
      "Hello World!\n",
      "The condition is True!\n",
      "This will run regardless of the condition.\n"
     ]
    }
   ],
   "source": [
    "condition = True\n",
    "\n",
    "print(\"Hello World!\")\n",
    "\n",
    "if condition:\n",
    "    print(\"The condition is True!\")\n",
    "else:\n",
    "    print(\"The condition is False!\")\n",
    "\n",
    "print(\"This will run regardless of the condition.\")"
   ]
  },
  {
   "cell_type": "markdown",
   "id": "037ae00f-cefc-4ebc-99cd-29572cb76bb3",
   "metadata": {},
   "source": [
    "in between if and else statement elif (else-if) statements can be added to check futher conditions:"
   ]
  },
  {
   "cell_type": "code",
   "execution_count": 288,
   "id": "f469c514-5cb4-4760-8d75-79e408eb2acb",
   "metadata": {},
   "outputs": [
    {
     "name": "stdout",
     "output_type": "stream",
     "text": [
      "You got an A\n"
     ]
    }
   ],
   "source": [
    "grade = 90\n",
    "\n",
    "if grade >= 90:\n",
    "    print(\"You got an A\")\n",
    "elif grade >= 80:\n",
    "    print(\"You got a B!\")\n",
    "elif grade >= 70:\n",
    "    print(\"You got a C!\")\n",
    "elif grade >= 60:\n",
    "    print(\"You got a D!\")\n",
    "else:\n",
    "    print(\"Sorry you failed!\")\n",
    "    "
   ]
  },
  {
   "cell_type": "markdown",
   "id": "b22c641e-c29b-4920-9bff-2e27c2ebac03",
   "metadata": {},
   "source": [
    "*** \n",
    "python also has a short-hand ternary operator for quick conditional evaluations:"
   ]
  },
  {
   "cell_type": "code",
   "execution_count": 293,
   "id": "b36f502f-d7da-433e-a79b-662eccf66b76",
   "metadata": {},
   "outputs": [
    {
     "name": "stdout",
     "output_type": "stream",
     "text": [
      "Your age is 20, you are allowed to attend the event!\n"
     ]
    }
   ],
   "source": [
    "age = 20\n",
    "condition = \"allowed\" if age >= 18 else \"not allowed\" \n",
    "\n",
    "print(f\"Your age is {age}, you are {condition} to attend the event!\")"
   ]
  },
  {
   "cell_type": "markdown",
   "id": "6a3c7880-f44c-4c87-bcc2-8f2922cecc01",
   "metadata": {},
   "source": [
    "### Case Statements"
   ]
  },
  {
   "cell_type": "markdown",
   "id": "72e46601-c20f-44ae-a18c-7dfbf8010753",
   "metadata": {},
   "source": [
    "to avoid using many if-elif-else statement for specifc comparisons, you can use a match-case statement:"
   ]
  },
  {
   "cell_type": "code",
   "execution_count": 297,
   "id": "7111597d-fbab-4a4b-b220-81f3e566d440",
   "metadata": {},
   "outputs": [
    {
     "name": "stdout",
     "output_type": "stream",
     "text": [
      "404 not found\n"
     ]
    }
   ],
   "source": [
    "http_response_code = 404\n",
    "\n",
    "match http_response_code:\n",
    "    case 200:\n",
    "        print(\"Success!\")\n",
    "    case 404:\n",
    "        print(\"404 not found\")\n",
    "    case 502:\n",
    "        print(\"502 Bad Gateway\")\n",
    "    case _:\n",
    "        print(\"Response Code Not Known\")\n"
   ]
  },
  {
   "cell_type": "markdown",
   "id": "839f6a63-9b8e-4e46-b192-7dfdd46d9e3b",
   "metadata": {},
   "source": [
    "### While Loops"
   ]
  },
  {
   "cell_type": "markdown",
   "id": "86b1eaa4-441a-4d02-adc1-0e14f8ca3a2e",
   "metadata": {},
   "source": [
    "while loops are use to repeat a block of code as long as a condition is true"
   ]
  },
  {
   "cell_type": "code",
   "execution_count": 300,
   "id": "86d51d96-dc42-4952-b77c-90a05487375e",
   "metadata": {},
   "outputs": [
    {
     "name": "stdout",
     "output_type": "stream",
     "text": [
      "Sequence is starting ...\n",
      "T - 10 to launch ...\n",
      "T - 09 to launch ...\n",
      "T - 08 to launch ...\n",
      "T - 07 to launch ...\n",
      "T - 06 to launch ...\n",
      "T - 05 to launch ...\n",
      "T - 04 to launch ...\n",
      "T - 03 to launch ...\n",
      "T - 02 to launch ...\n",
      "T - 01 to launch ...\n",
      "Sequence ended\n"
     ]
    }
   ],
   "source": [
    "counter=10\n",
    "\n",
    "print(\"Sequence is starting ...\")\n",
    "\n",
    "while counter > 0:\n",
    "    print(f\"T - {counter:02d} to launch ...\")\n",
    "    counter-=1\n",
    "    \n",
    "print(\"Sequence ended\")\n",
    "    "
   ]
  },
  {
   "cell_type": "markdown",
   "id": "1e3a756d-f481-4961-bb82-3ce910286449",
   "metadata": {},
   "source": [
    "often times you want to break the loop from within the code block, this can be done using the break keyword"
   ]
  },
  {
   "cell_type": "code",
   "execution_count": 302,
   "id": "112e777e-8099-4b9e-ac77-e5c8577288f8",
   "metadata": {},
   "outputs": [
    {
     "name": "stdout",
     "output_type": "stream",
     "text": [
      "10\n",
      "9\n",
      "8\n",
      "7\n",
      "6\n",
      "5\n",
      "4\n",
      "3\n",
      "2\n",
      "1\n"
     ]
    }
   ],
   "source": [
    "counter = 10\n",
    "\n",
    "while True:\n",
    "    print(counter)\n",
    "    counter-=1\n",
    "    \n",
    "    if counter == 0:\n",
    "        break"
   ]
  },
  {
   "cell_type": "markdown",
   "id": "21bd0f43-c4a6-4022-be5a-048415a55d70",
   "metadata": {},
   "source": [
    "### For Loops"
   ]
  },
  {
   "cell_type": "code",
   "execution_count": null,
   "id": "ec6a641b-d81a-45d1-b297-e7988e69649d",
   "metadata": {},
   "outputs": [],
   "source": []
  },
  {
   "cell_type": "markdown",
   "id": "65492340-c72d-40d5-b3ad-93fce675408d",
   "metadata": {},
   "source": [
    "### Comprehensions"
   ]
  },
  {
   "cell_type": "code",
   "execution_count": null,
   "id": "77ded6ff-27e3-4d8a-9ebb-e0afad1576dc",
   "metadata": {},
   "outputs": [],
   "source": []
  },
  {
   "cell_type": "markdown",
   "id": "77a4cc3f-4591-416d-a825-a81856204780",
   "metadata": {},
   "source": [
    "## Functions"
   ]
  },
  {
   "cell_type": "code",
   "execution_count": null,
   "id": "33e3c184-b111-4cff-8781-abc4a24d2305",
   "metadata": {},
   "outputs": [],
   "source": []
  },
  {
   "cell_type": "markdown",
   "id": "9835dd50-ce76-4eee-bad7-2d2be712423f",
   "metadata": {},
   "source": [
    "### Lambda Functions"
   ]
  },
  {
   "cell_type": "code",
   "execution_count": null,
   "id": "7aff4ccd-3005-485a-a55f-f641a7e4d055",
   "metadata": {},
   "outputs": [],
   "source": []
  },
  {
   "cell_type": "markdown",
   "id": "f981061e-2590-42c5-839c-5ad7597305a3",
   "metadata": {},
   "source": [
    "## importing packages"
   ]
  },
  {
   "cell_type": "code",
   "execution_count": null,
   "id": "d7497f5a-f90c-479d-ba0d-5fece84a8bc8",
   "metadata": {},
   "outputs": [],
   "source": []
  },
  {
   "cell_type": "code",
   "execution_count": null,
   "id": "1c84c66b-364d-42ce-9436-276f6c78cb24",
   "metadata": {},
   "outputs": [],
   "source": []
  }
 ],
 "metadata": {
  "kernelspec": {
   "display_name": "Python 3 (ipykernel)",
   "language": "python",
   "name": "python3"
  },
  "language_info": {
   "codemirror_mode": {
    "name": "ipython",
    "version": 3
   },
   "file_extension": ".py",
   "mimetype": "text/x-python",
   "name": "python",
   "nbconvert_exporter": "python",
   "pygments_lexer": "ipython3",
   "version": "3.10.6"
  },
  "toc-autonumbering": true,
  "toc-showcode": false,
  "toc-showmarkdowntxt": false,
  "toc-showtags": false
 },
 "nbformat": 4,
 "nbformat_minor": 5
}
