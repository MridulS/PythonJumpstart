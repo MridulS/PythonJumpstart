{
 "cells": [
  {
   "cell_type": "markdown",
   "id": "792d3e22-a99c-479e-8d5e-3f0ef2a0aa73",
   "metadata": {
    "tags": []
   },
   "source": [
    "# Base Python Concepts\n",
    "Author: Omar Al Darwish\n"
   ]
  },
  {
   "cell_type": "markdown",
   "id": "dd5958b9-d1a6-47c4-a129-13d0872d21d1",
   "metadata": {
    "tags": [],
    "toc-hr-collapsed": true
   },
   "source": [
    "## Hello World!"
   ]
  },
  {
   "cell_type": "code",
   "execution_count": 142,
   "id": "9fe2f1de-e9bb-48c0-b2c1-a09c1904acab",
   "metadata": {},
   "outputs": [
    {
     "name": "stdout",
     "output_type": "stream",
     "text": [
      "Hello World!\n",
      "This is a code cell, you can execute python code here!\n"
     ]
    }
   ],
   "source": [
    "print(\"Hello World!\")\n",
    "print(\"This is a code cell, you can execute python code here!\")"
   ]
  },
  {
   "cell_type": "markdown",
   "id": "c533ef8c",
   "metadata": {
    "tags": []
   },
   "source": [
    "## Python as a glorified calculator"
   ]
  },
  {
   "cell_type": "markdown",
   "id": "11029a68",
   "metadata": {},
   "source": [
    "The following operators are available in python:\n",
    "\n",
    "| Operators | Operation | Example |\n",
    "| :-: | :-: | :-: |\n",
    "| + | Addition | 2 + 2 = 4\n",
    "| -\t| Subtraction | 5 - 2 = 3\n",
    "| /\t| Division | 22 / 8 = 2.75 |\n",
    "| *\t| Multiplication | 3 * 3 = 9\n",
    "| ** | Exponent | 2 ** 3 = 8\n",
    "| % | Modulus/Remainder | 22 % 8 = 6\n",
    "| // | Integer division\t| 22 // 8 = 2\n",
    "\n",
    "\n",
    "credit: https://www.pythoncheatsheet.org/cheatsheet/basics\n"
   ]
  },
  {
   "cell_type": "code",
   "execution_count": 32,
   "id": "91387815",
   "metadata": {},
   "outputs": [
    {
     "name": "stdout",
     "output_type": "stream",
     "text": [
      "4\n",
      "3\n",
      "2.75\n",
      "9\n",
      "8\n",
      "6\n",
      "2\n"
     ]
    }
   ],
   "source": [
    "print(2 + 2)\n",
    "print(5 - 2)\n",
    "print(22 / 8)\n",
    "print(3 * 3)\n",
    "print(2 ** 3)\n",
    "print(22 % 8)\n",
    "print(22 // 8)"
   ]
  },
  {
   "cell_type": "markdown",
   "id": "45e0335c",
   "metadata": {},
   "source": [
    "Each line of code is executed sequentially and the output is displayed under the cell. If you want to comment inside a code block (it is generally good practice to do so!) you can use the hash sign (#):"
   ]
  },
  {
   "cell_type": "code",
   "execution_count": 1,
   "id": "06572d38",
   "metadata": {},
   "outputs": [
    {
     "data": {
      "text/plain": [
       "3"
      ]
     },
     "execution_count": 1,
     "metadata": {},
     "output_type": "execute_result"
    }
   ],
   "source": [
    "#This is comment! I'm adding 10+10\n",
    "10 + 10\n",
    "\n",
    "5 - 2 #This is another comment :)"
   ]
  },
  {
   "cell_type": "markdown",
   "id": "0dbdd67d-49fa-4810-9ec1-c062986810a5",
   "metadata": {},
   "source": [
    "Notice how if we don't use the print statement, the result of only the last executed statement is channeled out, this is the default behaviour in Jupyter. To avoid using print to channel the output we can use the code snippet below to tell jupyter we want the result of all statemetns inside a cell to be displayed on the screen. Don't worry about what the code cell is doing for now, you can abstract that away and use it as a tool to channel output!"
   ]
  },
  {
   "cell_type": "code",
   "execution_count": 88,
   "id": "88629048-67c8-4dac-9601-c7d76ceaa87f",
   "metadata": {},
   "outputs": [],
   "source": [
    "from IPython.core.interactiveshell import InteractiveShell\n",
    "InteractiveShell.ast_node_interactivity = \"all\""
   ]
  },
  {
   "cell_type": "code",
   "execution_count": 5,
   "id": "fcef5f7f-48b5-4508-8d50-3bcd0b60f638",
   "metadata": {},
   "outputs": [
    {
     "data": {
      "text/plain": [
       "20"
      ]
     },
     "execution_count": 5,
     "metadata": {},
     "output_type": "execute_result"
    },
    {
     "data": {
      "text/plain": [
       "3"
      ]
     },
     "execution_count": 5,
     "metadata": {},
     "output_type": "execute_result"
    }
   ],
   "source": [
    "#This is comment! I'm adding 10+10\n",
    "10 + 10\n",
    "\n",
    "5 - 2 #This is another comment :)"
   ]
  },
  {
   "cell_type": "markdown",
   "id": "a1cf7120",
   "metadata": {
    "tags": []
   },
   "source": [
    "## Creating Variables (Reference Assignment)"
   ]
  },
  {
   "cell_type": "markdown",
   "id": "4b2ec3e4",
   "metadata": {},
   "source": [
    "Use the equal sign (=) to assign and object to a variable name. Whatever is right to the euqal sign is evaluated, and the resulting object is \"assigend\" to whatever is on the left side of the operator."
   ]
  },
  {
   "cell_type": "code",
   "execution_count": 7,
   "id": "bee94434",
   "metadata": {},
   "outputs": [
    {
     "data": {
      "text/plain": [
       "10"
      ]
     },
     "execution_count": 7,
     "metadata": {},
     "output_type": "execute_result"
    },
    {
     "data": {
      "text/plain": [
       "20"
      ]
     },
     "execution_count": 7,
     "metadata": {},
     "output_type": "execute_result"
    },
    {
     "name": "stdout",
     "output_type": "stream",
     "text": [
      "The variable x has the value: 10\n",
      "The variable y has the value: 20\n"
     ]
    }
   ],
   "source": [
    "x = 10\n",
    "y = 20\n",
    "\n",
    "x\n",
    "y\n",
    "\n",
    "print(\"The variable x has the value:\", x)\n",
    "print(\"The variable y has the value:\", y)"
   ]
  },
  {
   "cell_type": "markdown",
   "id": "fa851eff",
   "metadata": {},
   "source": [
    "In Jupyter notebooks you can use the magic command %whos to inspect variables declared in your scope"
   ]
  },
  {
   "cell_type": "code",
   "execution_count": 10,
   "id": "ef62fb05",
   "metadata": {},
   "outputs": [
    {
     "name": "stdout",
     "output_type": "stream",
     "text": [
      "Variable           Type             Data/Info\n",
      "---------------------------------------------\n",
      "InteractiveShell   MetaHasTraits    <class 'IPython.core.inte<...>eshell.InteractiveShell'>\n",
      "x                  int              10\n",
      "y                  int              20\n",
      "z                  int              100\n"
     ]
    }
   ],
   "source": [
    "%whos"
   ]
  },
  {
   "cell_type": "code",
   "execution_count": 11,
   "id": "66264225-fff5-49f7-adf1-074a1bfd895d",
   "metadata": {},
   "outputs": [
    {
     "name": "stdout",
     "output_type": "stream",
     "text": [
      "Variable           Type             Data/Info\n",
      "---------------------------------------------\n",
      "InteractiveShell   MetaHasTraits    <class 'IPython.core.inte<...>eshell.InteractiveShell'>\n",
      "x                  int              10\n",
      "y                  int              20\n",
      "z                  int              100\n"
     ]
    }
   ],
   "source": [
    "z=100\n",
    "%whos"
   ]
  },
  {
   "cell_type": "markdown",
   "id": "a6c84c2f-ec36-4a91-8464-6feac28f0869",
   "metadata": {},
   "source": [
    "In other environments, where magic commands don't exist, we can use locals() or globals()"
   ]
  },
  {
   "cell_type": "code",
   "execution_count": 3,
   "id": "aed16495-1208-4b88-933e-4aef3b541e84",
   "metadata": {},
   "outputs": [
    {
     "data": {
      "text/plain": [
       "{'__name__': '__main__',\n",
       " '__doc__': 'Automatically created module for IPython interactive environment',\n",
       " '__package__': None,\n",
       " '__loader__': None,\n",
       " '__spec__': None,\n",
       " '__builtin__': <module 'builtins' (built-in)>,\n",
       " '__builtins__': <module 'builtins' (built-in)>,\n",
       " '_ih': ['',\n",
       "  'x = 10\\ny = 20\\n\\nprint(\"The variable x has the value:\", x)\\nprint(\"The variable y has the value:\", y)',\n",
       "  'get_ipython().run_line_magic(\\'whos\\', \\'\\')\\nz=100\\nprint()\\nprint(\"The variable z has the value:\", z)\\nprint()\\nget_ipython().run_line_magic(\\'whos\\', \\'\\')',\n",
       "  'locals()'],\n",
       " '_oh': {},\n",
       " '_dh': [PosixPath('/Users/darwish/Documents/Dev/PythonJumpstart/notebooks')],\n",
       " 'In': ['',\n",
       "  'x = 10\\ny = 20\\n\\nprint(\"The variable x has the value:\", x)\\nprint(\"The variable y has the value:\", y)',\n",
       "  'get_ipython().run_line_magic(\\'whos\\', \\'\\')\\nz=100\\nprint()\\nprint(\"The variable z has the value:\", z)\\nprint()\\nget_ipython().run_line_magic(\\'whos\\', \\'\\')',\n",
       "  'locals()'],\n",
       " 'Out': {},\n",
       " 'get_ipython': <bound method InteractiveShell.get_ipython of <ipykernel.zmqshell.ZMQInteractiveShell object at 0x1071c3bb0>>,\n",
       " 'exit': <IPython.core.autocall.ZMQExitAutocall at 0x1071d67f0>,\n",
       " 'quit': <IPython.core.autocall.ZMQExitAutocall at 0x1071d67f0>,\n",
       " '_': '',\n",
       " '__': '',\n",
       " '___': '',\n",
       " '_i': '%whos\\nz=100\\nprint()\\nprint(\"The variable z has the value:\", z)\\nprint()\\n%whos',\n",
       " '_ii': 'x = 10\\ny = 20\\n\\nprint(\"The variable x has the value:\", x)\\nprint(\"The variable y has the value:\", y)',\n",
       " '_iii': '',\n",
       " '_i1': 'x = 10\\ny = 20\\n\\nprint(\"The variable x has the value:\", x)\\nprint(\"The variable y has the value:\", y)',\n",
       " 'x': 10,\n",
       " 'y': 20,\n",
       " '_i2': '%whos\\nz=100\\nprint()\\nprint(\"The variable z has the value:\", z)\\nprint()\\n%whos',\n",
       " 'z': 100,\n",
       " '_i3': 'locals()'}"
      ]
     },
     "execution_count": 3,
     "metadata": {},
     "output_type": "execute_result"
    }
   ],
   "source": [
    "locals()"
   ]
  },
  {
   "cell_type": "markdown",
   "id": "f56d3ea1",
   "metadata": {},
   "source": [
    "***\n",
    "\n",
    "You can assign the same variable to different object types in python"
   ]
  },
  {
   "cell_type": "code",
   "execution_count": 12,
   "id": "213b4f5a",
   "metadata": {},
   "outputs": [
    {
     "name": "stdout",
     "output_type": "stream",
     "text": [
      "Variable           Type             Data/Info\n",
      "---------------------------------------------\n",
      "InteractiveShell   MetaHasTraits    <class 'IPython.core.inte<...>eshell.InteractiveShell'>\n",
      "x                  int              10\n",
      "y                  int              20\n",
      "z                  int              100\n",
      "\n",
      "Variable           Type             Data/Info\n",
      "---------------------------------------------\n",
      "InteractiveShell   MetaHasTraits    <class 'IPython.core.inte<...>eshell.InteractiveShell'>\n",
      "x                  str              Hello World!\n",
      "y                  int              20\n",
      "z                  int              100\n"
     ]
    }
   ],
   "source": [
    "x = 10\n",
    "%whos\n",
    "print()\n",
    "x = \"Hello World!\"\n",
    "%whos"
   ]
  },
  {
   "cell_type": "markdown",
   "id": "0466652d-1262-452b-ba55-f0f3a1330e8f",
   "metadata": {},
   "source": [
    "For more advanced use cases, you can also access the memory ID of the object using the id() function"
   ]
  },
  {
   "cell_type": "code",
   "execution_count": 13,
   "id": "68b84797-e6fc-443c-a915-8677b675771f",
   "metadata": {},
   "outputs": [
    {
     "data": {
      "text/plain": [
       "4409039184"
      ]
     },
     "execution_count": 13,
     "metadata": {},
     "output_type": "execute_result"
    },
    {
     "data": {
      "text/plain": [
       "4394827248"
      ]
     },
     "execution_count": 13,
     "metadata": {},
     "output_type": "execute_result"
    },
    {
     "data": {
      "text/plain": [
       "4394827248"
      ]
     },
     "execution_count": 13,
     "metadata": {},
     "output_type": "execute_result"
    }
   ],
   "source": [
    "x = 15678\n",
    "id(x)\n",
    "\n",
    "y = \"hello\"\n",
    "id(y)\n",
    "\n",
    "z = y\n",
    "id(y)"
   ]
  },
  {
   "cell_type": "markdown",
   "id": "3735f369",
   "metadata": {},
   "source": [
    "***\n",
    "watchout for reserved keywords, its best practice not to use these as variable names, for example don't call a variable print!"
   ]
  },
  {
   "cell_type": "code",
   "execution_count": 14,
   "id": "1a61476d",
   "metadata": {},
   "outputs": [
    {
     "ename": "TypeError",
     "evalue": "'int' object is not callable",
     "output_type": "error",
     "traceback": [
      "\u001b[0;31m---------------------------------------------------------------------------\u001b[0m",
      "\u001b[0;31mTypeError\u001b[0m                                 Traceback (most recent call last)",
      "Input \u001b[0;32mIn [14]\u001b[0m, in \u001b[0;36m<cell line: 3>\u001b[0;34m()\u001b[0m\n\u001b[1;32m      1\u001b[0m \u001b[38;5;66;03m#assigning to a reserved keyword is bad practice\u001b[39;00m\n\u001b[1;32m      2\u001b[0m \u001b[38;5;28mprint\u001b[39m \u001b[38;5;241m=\u001b[39m \u001b[38;5;241m10\u001b[39m\n\u001b[0;32m----> 3\u001b[0m \u001b[38;5;28;43mprint\u001b[39;49m\u001b[43m(\u001b[49m\u001b[38;5;241;43m10\u001b[39;49m\u001b[43m)\u001b[49m\n",
      "\u001b[0;31mTypeError\u001b[0m: 'int' object is not callable"
     ]
    }
   ],
   "source": [
    "#assigning to a reserved keyword is bad practice\n",
    "print = 10\n",
    "print(10)"
   ]
  },
  {
   "cell_type": "markdown",
   "id": "29e0a98b",
   "metadata": {},
   "source": [
    "Often python programmers will use a trailing underscore to avoid the above, to reset the variable assignment which we've done, we can simply delete that variable using the del command"
   ]
  },
  {
   "cell_type": "code",
   "execution_count": 16,
   "id": "bc45f9b1",
   "metadata": {},
   "outputs": [
    {
     "name": "stdout",
     "output_type": "stream",
     "text": [
      "10\n"
     ]
    }
   ],
   "source": [
    "del print\n",
    "print_ = 10\n",
    "print(print_)"
   ]
  },
  {
   "cell_type": "markdown",
   "id": "9afb203a",
   "metadata": {},
   "source": [
    "***\n",
    "You can also self-assign to variables, this is very hlepful if you're trying to keep a tally."
   ]
  },
  {
   "cell_type": "code",
   "execution_count": 17,
   "id": "a4471102",
   "metadata": {},
   "outputs": [
    {
     "name": "stdout",
     "output_type": "stream",
     "text": [
      "10\n",
      "20\n",
      "30\n"
     ]
    }
   ],
   "source": [
    "x = 10\n",
    "print(x)\n",
    "x = x + 10\n",
    "print(x)\n",
    "\n",
    "#or as short hand\n",
    "x+=10\n",
    "print(x)"
   ]
  },
  {
   "cell_type": "markdown",
   "id": "2b45ea1b",
   "metadata": {},
   "source": [
    "The \"+=\" is an augmented operator, it literally translates to x = x + 10. You can also use augmented operators with the other math operators as well."
   ]
  },
  {
   "cell_type": "code",
   "execution_count": 11,
   "id": "71905f96",
   "metadata": {},
   "outputs": [
    {
     "data": {
      "text/plain": [
       "1"
      ]
     },
     "execution_count": 11,
     "metadata": {},
     "output_type": "execute_result"
    },
    {
     "data": {
      "text/plain": [
       "2"
      ]
     },
     "execution_count": 11,
     "metadata": {},
     "output_type": "execute_result"
    },
    {
     "data": {
      "text/plain": [
       "3"
      ]
     },
     "execution_count": 11,
     "metadata": {},
     "output_type": "execute_result"
    },
    {
     "data": {
      "text/plain": [
       "4"
      ]
     },
     "execution_count": 11,
     "metadata": {},
     "output_type": "execute_result"
    }
   ],
   "source": [
    "x = 1\n",
    "x\n",
    "x += 1\n",
    "x\n",
    "x += 1\n",
    "x\n",
    "x += 1\n",
    "x\n"
   ]
  },
  {
   "cell_type": "code",
   "execution_count": 18,
   "id": "955d37e9-8533-495f-9907-7e6d671823cb",
   "metadata": {},
   "outputs": [
    {
     "data": {
      "text/plain": [
       "2"
      ]
     },
     "execution_count": 18,
     "metadata": {},
     "output_type": "execute_result"
    },
    {
     "data": {
      "text/plain": [
       "4"
      ]
     },
     "execution_count": 18,
     "metadata": {},
     "output_type": "execute_result"
    },
    {
     "data": {
      "text/plain": [
       "8"
      ]
     },
     "execution_count": 18,
     "metadata": {},
     "output_type": "execute_result"
    },
    {
     "data": {
      "text/plain": [
       "16"
      ]
     },
     "execution_count": 18,
     "metadata": {},
     "output_type": "execute_result"
    }
   ],
   "source": [
    "x = 2\n",
    "x\n",
    "x *= 2\n",
    "x\n",
    "x *= 2\n",
    "x\n",
    "x *= 2\n",
    "x"
   ]
  },
  {
   "cell_type": "code",
   "execution_count": 12,
   "id": "9571f0a4",
   "metadata": {},
   "outputs": [
    {
     "data": {
      "text/plain": [
       "2"
      ]
     },
     "execution_count": 12,
     "metadata": {},
     "output_type": "execute_result"
    },
    {
     "data": {
      "text/plain": [
       "4"
      ]
     },
     "execution_count": 12,
     "metadata": {},
     "output_type": "execute_result"
    },
    {
     "data": {
      "text/plain": [
       "16"
      ]
     },
     "execution_count": 12,
     "metadata": {},
     "output_type": "execute_result"
    },
    {
     "data": {
      "text/plain": [
       "256"
      ]
     },
     "execution_count": 12,
     "metadata": {},
     "output_type": "execute_result"
    }
   ],
   "source": [
    "#exponentiation\n",
    "x = 2\n",
    "x\n",
    "x **= 2\n",
    "x\n",
    "x **= 2\n",
    "x\n",
    "x **= 2\n",
    "x"
   ]
  },
  {
   "cell_type": "code",
   "execution_count": 13,
   "id": "b7a46e31",
   "metadata": {},
   "outputs": [
    {
     "data": {
      "text/plain": [
       "135450"
      ]
     },
     "execution_count": 13,
     "metadata": {},
     "output_type": "execute_result"
    },
    {
     "data": {
      "text/plain": [
       "13545"
      ]
     },
     "execution_count": 13,
     "metadata": {},
     "output_type": "execute_result"
    },
    {
     "data": {
      "text/plain": [
       "1354"
      ]
     },
     "execution_count": 13,
     "metadata": {},
     "output_type": "execute_result"
    },
    {
     "data": {
      "text/plain": [
       "135"
      ]
     },
     "execution_count": 13,
     "metadata": {},
     "output_type": "execute_result"
    },
    {
     "data": {
      "text/plain": [
       "13"
      ]
     },
     "execution_count": 13,
     "metadata": {},
     "output_type": "execute_result"
    },
    {
     "data": {
      "text/plain": [
       "1"
      ]
     },
     "execution_count": 13,
     "metadata": {},
     "output_type": "execute_result"
    }
   ],
   "source": [
    "#shave off the last digit\n",
    "x = 135450 \n",
    "x\n",
    "x //= 10\n",
    "x\n",
    "x //= 10\n",
    "x\n",
    "x //= 10\n",
    "x\n",
    "x //= 10\n",
    "x\n",
    "x //= 10\n",
    "x"
   ]
  },
  {
   "cell_type": "markdown",
   "id": "21428613",
   "metadata": {
    "jp-MarkdownHeadingCollapsed": true,
    "tags": [],
    "toc-hr-collapsed": true
   },
   "source": [
    "## Base Python Objects"
   ]
  },
  {
   "cell_type": "markdown",
   "id": "f4e3f8fb",
   "metadata": {},
   "source": [
    "Python is an object-oriented language, we will not be discussing this in detail, but if you're interested you can read more at: https://python.swaroopch.com/oop.html.\n",
    "\n",
    "All you need to know for now is that when we write python code, we are fundamentally creating and manipulating objects. Each object belongs to a class (i.e. its type), classes can inherit from each other, and objects can be converted from one class to another if the operation is permitted. we can use the function type() to inspect the type of a variable."
   ]
  },
  {
   "cell_type": "markdown",
   "id": "eae1b56d",
   "metadata": {
    "tags": []
   },
   "source": [
    "### Numeric Types"
   ]
  },
  {
   "cell_type": "markdown",
   "id": "24ab833d",
   "metadata": {
    "tags": []
   },
   "source": [
    "#### Integers"
   ]
  },
  {
   "cell_type": "markdown",
   "id": "1505e4cc",
   "metadata": {},
   "source": [
    "An integer is the number zero (0), a positive natural number (1, 2, 3, etc.) or a negative integer with a minus sign (−1, −2, −3, etc.)\n",
    "\n",
    "Source: https://en.wikipedia.org/wiki/Integer"
   ]
  },
  {
   "cell_type": "code",
   "execution_count": 11,
   "id": "4cec6345",
   "metadata": {},
   "outputs": [
    {
     "data": {
      "text/plain": [
       "10"
      ]
     },
     "execution_count": 11,
     "metadata": {},
     "output_type": "execute_result"
    },
    {
     "data": {
      "text/plain": [
       "int"
      ]
     },
     "execution_count": 11,
     "metadata": {},
     "output_type": "execute_result"
    },
    {
     "name": "stdout",
     "output_type": "stream",
     "text": [
      "x_2 is a <class 'int'> and has a value of: -75\n"
     ]
    }
   ],
   "source": [
    "x_1 = 10\n",
    "x_1\n",
    "type(x_1)\n",
    "\n",
    "#or more neatly:\n",
    "\n",
    "x_2 = -20 - 55\n",
    "print(\"x_2 is a\", type(x_2), \"and has a value of:\", x_2)"
   ]
  },
  {
   "cell_type": "markdown",
   "id": "3b927ca6-aa36-4254-b5b1-415a7b2c18aa",
   "metadata": {},
   "source": [
    "you can also test to see if an object is of a certain class by using the isinstance() function"
   ]
  },
  {
   "cell_type": "code",
   "execution_count": 13,
   "id": "b8c4ce9b-2f4e-4de8-a036-95ba8247a314",
   "metadata": {},
   "outputs": [
    {
     "data": {
      "text/plain": [
       "True"
      ]
     },
     "execution_count": 13,
     "metadata": {},
     "output_type": "execute_result"
    },
    {
     "data": {
      "text/plain": [
       "False"
      ]
     },
     "execution_count": 13,
     "metadata": {},
     "output_type": "execute_result"
    }
   ],
   "source": [
    "x_3 = 10\n",
    "isinstance(x_3, int)\n",
    "isinstance(x_3, float)"
   ]
  },
  {
   "cell_type": "markdown",
   "id": "1dbe0022-ba7e-48b2-a8c7-0d62ae19fde0",
   "metadata": {},
   "source": [
    "You can also instatiate an object by calling its \"constuctor\" or \"initializer\". In python, constructors are called by calling the name of the class."
   ]
  },
  {
   "cell_type": "code",
   "execution_count": 14,
   "id": "f9056feb-353b-4f1b-ba08-5fb67860d51a",
   "metadata": {},
   "outputs": [],
   "source": [
    "#these statemetns are equivalent\n",
    "x_3 = int(1000)\n",
    "x_4 = 1000"
   ]
  },
  {
   "cell_type": "markdown",
   "id": "6118fd98-42ff-4c55-a59f-2d26bdacefc3",
   "metadata": {
    "tags": []
   },
   "source": [
    "#### Floats"
   ]
  },
  {
   "cell_type": "markdown",
   "id": "bc4027f1-de65-47a3-9513-e6fed553568b",
   "metadata": {},
   "source": [
    "In computing, floating-point arithmetic (FP) is arithmetic that represents real numbers approximately, using an integer with a fixed precision, called the significand, scaled by an integer exponent of a fixed base. For example, 12.345 can be represented as a base-ten floating-point number:\n",
    "\n",
    "![alternatvie text](https://wikimedia.org/api/rest_v1/media/math/render/svg/dcd36557db1b343d74991d99aeb50aadce64eb3a)\n",
    "\n",
    "In practice, most floating-point numbers use base two, though base ten (decimal floating point) is also common.\n",
    "\n",
    "source: https://en.wikipedia.org/wiki/Floating-point_arithmetic"
   ]
  },
  {
   "cell_type": "code",
   "execution_count": 18,
   "id": "4798d6a4-75df-456d-8014-144692118c7f",
   "metadata": {},
   "outputs": [
    {
     "data": {
      "text/plain": [
       "10.5"
      ]
     },
     "execution_count": 18,
     "metadata": {},
     "output_type": "execute_result"
    },
    {
     "data": {
      "text/plain": [
       "float"
      ]
     },
     "execution_count": 18,
     "metadata": {},
     "output_type": "execute_result"
    },
    {
     "data": {
      "text/plain": [
       "1.6666666666666667"
      ]
     },
     "execution_count": 18,
     "metadata": {},
     "output_type": "execute_result"
    },
    {
     "data": {
      "text/plain": [
       "float"
      ]
     },
     "execution_count": 18,
     "metadata": {},
     "output_type": "execute_result"
    }
   ],
   "source": [
    "y_1 = 10.5\n",
    "y_1\n",
    "type(y_1)\n",
    "y_2 = 5 / 3\n",
    "y_2\n",
    "type(y_2)"
   ]
  },
  {
   "cell_type": "markdown",
   "id": "8bca51cb-dabc-4ba2-8776-5fb5f5c158a4",
   "metadata": {},
   "source": [
    "watch out for float precision, computer systems can't represent decimals accurately! Read more on the topic here: https://0.30000000000000004.com/"
   ]
  },
  {
   "cell_type": "code",
   "execution_count": 19,
   "id": "a2abecf3-e64d-437d-b4cd-4e48ae031b06",
   "metadata": {},
   "outputs": [
    {
     "data": {
      "text/plain": [
       "0.30000000000000004"
      ]
     },
     "execution_count": 19,
     "metadata": {},
     "output_type": "execute_result"
    }
   ],
   "source": [
    "0.1 + 0.1 + 0.1"
   ]
  },
  {
   "cell_type": "markdown",
   "id": "1e005db0-f770-41d3-8610-2a6b3b44a28f",
   "metadata": {},
   "source": [
    "If high decimal precision is required, you can using the package Decimal from python (more on packages later!)"
   ]
  },
  {
   "cell_type": "code",
   "execution_count": 19,
   "id": "49698704-ee00-432c-8d14-0080a23f31dd",
   "metadata": {},
   "outputs": [
    {
     "data": {
      "text/plain": [
       "0.1"
      ]
     },
     "execution_count": 19,
     "metadata": {},
     "output_type": "execute_result"
    },
    {
     "data": {
      "text/plain": [
       "Decimal('0.1000000000000000055511151231257827021181583404541015625')"
      ]
     },
     "execution_count": 19,
     "metadata": {},
     "output_type": "execute_result"
    },
    {
     "data": {
      "text/plain": [
       "Decimal('0.1')"
      ]
     },
     "execution_count": 19,
     "metadata": {},
     "output_type": "execute_result"
    },
    {
     "data": {
      "text/plain": [
       "Decimal('0.3')"
      ]
     },
     "execution_count": 19,
     "metadata": {},
     "output_type": "execute_result"
    }
   ],
   "source": [
    "from decimal import Decimal\n",
    "1/10\n",
    "Decimal(1/10)\n",
    "Decimal(1)/Decimal(10)\n",
    "Decimal(1)/Decimal(10) + Decimal(1)/Decimal(10) + Decimal(1)/Decimal(10)"
   ]
  },
  {
   "cell_type": "markdown",
   "id": "2c040d70-63a9-4797-8085-62717d4739ce",
   "metadata": {},
   "source": [
    "floats can be converted, or more technically casted, into integers. Note that this is not a rounding operation, numbers to the right of the decimal are just dropped."
   ]
  },
  {
   "cell_type": "code",
   "execution_count": 20,
   "id": "a0a6ac46-d5d2-44eb-bc2e-e0de24f01b05",
   "metadata": {},
   "outputs": [
    {
     "data": {
      "text/plain": [
       "10503.56"
      ]
     },
     "execution_count": 20,
     "metadata": {},
     "output_type": "execute_result"
    },
    {
     "data": {
      "text/plain": [
       "float"
      ]
     },
     "execution_count": 20,
     "metadata": {},
     "output_type": "execute_result"
    },
    {
     "data": {
      "text/plain": [
       "10503"
      ]
     },
     "execution_count": 20,
     "metadata": {},
     "output_type": "execute_result"
    },
    {
     "data": {
      "text/plain": [
       "int"
      ]
     },
     "execution_count": 20,
     "metadata": {},
     "output_type": "execute_result"
    }
   ],
   "source": [
    "total = 10503.56\n",
    "total\n",
    "type(total)\n",
    "total_integer = int(total)\n",
    "total_integer\n",
    "type(total_integer)"
   ]
  },
  {
   "cell_type": "markdown",
   "id": "3ad751ca-ac38-4174-abc8-5a7c21311d7b",
   "metadata": {},
   "source": [
    "To round floats, you can use the round() function"
   ]
  },
  {
   "cell_type": "code",
   "execution_count": 21,
   "id": "05064224-710e-4a85-ac95-2fb3f542c675",
   "metadata": {},
   "outputs": [
    {
     "name": "stdout",
     "output_type": "stream",
     "text": [
      "100 degrees Fahrenheit is 37.77777777777778 degrees celsius\n",
      "100 degrees Fahrenheit is 37.8 degrees celsius\n"
     ]
    }
   ],
   "source": [
    "T_fahrenheit = 100\n",
    "\n",
    "#ugly\n",
    "T_celsius = (T_fahrenheit - 32) * 5 / 9\n",
    "print(T_fahrenheit, \"degrees Fahrenheit\", \"is\", T_celsius, \"degrees celsius\")\n",
    "\n",
    "#better\n",
    "T_celsius = round((T_fahrenheit - 32) * 5 / 9, 1)\n",
    "print(T_fahrenheit, \"degrees Fahrenheit\", \"is\", T_celsius, \"degrees celsius\")"
   ]
  },
  {
   "cell_type": "markdown",
   "id": "1a714d12-2e4b-4149-bbf6-c19a42e32411",
   "metadata": {},
   "source": [
    "### Booleans"
   ]
  },
  {
   "cell_type": "markdown",
   "id": "be3f6e34-9469-42f6-b8f1-582c87e55c20",
   "metadata": {},
   "source": [
    "Boolean objects represent a truth value (True vs. False), a great example is what results from a comparision operation:\n",
    "\n",
    "|Operator|Meaning|\n",
    "|:-:|:-:|\n",
    "|==|equal to\n",
    "|!=|not equal to|\n",
    "|<|less than|\n",
    "|<=|less than or equal to|\n",
    "|>|greater than|\n",
    "|>=|greater than or equal to|"
   ]
  },
  {
   "cell_type": "code",
   "execution_count": 20,
   "id": "6da14723-1197-41c0-9518-22266c3d1186",
   "metadata": {},
   "outputs": [
    {
     "data": {
      "text/plain": [
       "True"
      ]
     },
     "execution_count": 20,
     "metadata": {},
     "output_type": "execute_result"
    },
    {
     "data": {
      "text/plain": [
       "False"
      ]
     },
     "execution_count": 20,
     "metadata": {},
     "output_type": "execute_result"
    }
   ],
   "source": [
    "x = 10\n",
    "y = 10 \n",
    "\n",
    "x == y\n",
    "x > y"
   ]
  },
  {
   "cell_type": "code",
   "execution_count": 21,
   "id": "f1ffe421-2afd-4c03-9917-26cff43fbd0d",
   "metadata": {},
   "outputs": [
    {
     "data": {
      "text/plain": [
       "False"
      ]
     },
     "execution_count": 21,
     "metadata": {},
     "output_type": "execute_result"
    },
    {
     "data": {
      "text/plain": [
       "bool"
      ]
     },
     "execution_count": 21,
     "metadata": {},
     "output_type": "execute_result"
    }
   ],
   "source": [
    "z = x > y\n",
    "z\n",
    "type(z)"
   ]
  },
  {
   "cell_type": "markdown",
   "id": "2433c3e1-40c7-4906-90b1-25c4ba8b7d37",
   "metadata": {},
   "source": [
    "float and integer comparison will check for the integer part"
   ]
  },
  {
   "cell_type": "code",
   "execution_count": 28,
   "id": "c8822a72-27d4-4188-87a5-702420542da1",
   "metadata": {},
   "outputs": [
    {
     "data": {
      "text/plain": [
       "True"
      ]
     },
     "execution_count": 28,
     "metadata": {},
     "output_type": "execute_result"
    }
   ],
   "source": [
    "37.0 == 37"
   ]
  },
  {
   "cell_type": "markdown",
   "id": "f75e972d-d8a6-4315-8c2f-18a3800ae1c6",
   "metadata": {},
   "source": [
    "but watchout for decimal precision!"
   ]
  },
  {
   "cell_type": "code",
   "execution_count": 27,
   "id": "737459d9-e117-4e6c-bc6e-b086f1cc6be9",
   "metadata": {},
   "outputs": [
    {
     "data": {
      "text/plain": [
       "False"
      ]
     },
     "execution_count": 27,
     "metadata": {},
     "output_type": "execute_result"
    }
   ],
   "source": [
    "0.2 * 5 == 2"
   ]
  },
  {
   "cell_type": "markdown",
   "id": "2ea2c2fb-9365-4efa-801f-86d2c2f0b262",
   "metadata": {},
   "source": [
    "You can use the reserved keywords True and False to declare booleans directly."
   ]
  },
  {
   "cell_type": "code",
   "execution_count": 22,
   "id": "42f62c27-c716-4c80-866f-d50483cf65a7",
   "metadata": {},
   "outputs": [],
   "source": [
    "a = True\n",
    "b = False"
   ]
  },
  {
   "cell_type": "markdown",
   "id": "7da87e72-e18f-4606-bdf7-771efefe5a9e",
   "metadata": {},
   "source": [
    "You can perform binary operations using the reserved keywords, or/and/not."
   ]
  },
  {
   "cell_type": "code",
   "execution_count": 24,
   "id": "7a964168-9d68-4cd5-a67f-102fbb7e5886",
   "metadata": {},
   "outputs": [
    {
     "name": "stdout",
     "output_type": "stream",
     "text": [
      "True and True is True\n",
      "True and False is False\n",
      "False and True is False\n",
      "False and False is False\n",
      "\n",
      "True or True is True\n",
      "True or False is True\n",
      "False or True is True\n",
      "False or False is False\n"
     ]
    }
   ],
   "source": [
    "print(a , \"and\", not b, \"is\", a and not b)\n",
    "print(a , \"and\", b, \"is\", a and b)\n",
    "print(not a , \"and\", not b, \"is\", not a and not b)\n",
    "print(not a , \"and\", b, \"is\", not a and b)\n",
    "\n",
    "print()\n",
    "\n",
    "\n",
    "print(a , \"or\", not b, \"is\", a or not b)\n",
    "print(a , \"or\", b, \"is\", a or b)\n",
    "print(not a , \"or\", not b, \"is\", not a or not b)\n",
    "print(not a , \"or\", b, \"is\", not a or b)"
   ]
  },
  {
   "cell_type": "markdown",
   "id": "092cd516-9192-4f6c-8813-4313784271b7",
   "metadata": {},
   "source": [
    "***\n",
    "Numeric variables with value zero are  interpreted as a boolean False, any other value is a Boolean True"
   ]
  },
  {
   "cell_type": "code",
   "execution_count": 41,
   "id": "c31a2163-5eff-4a86-be92-e396bd38139d",
   "metadata": {},
   "outputs": [
    {
     "data": {
      "text/plain": [
       "False"
      ]
     },
     "execution_count": 41,
     "metadata": {},
     "output_type": "execute_result"
    },
    {
     "data": {
      "text/plain": [
       "False"
      ]
     },
     "execution_count": 41,
     "metadata": {},
     "output_type": "execute_result"
    },
    {
     "data": {
      "text/plain": [
       "True"
      ]
     },
     "execution_count": 41,
     "metadata": {},
     "output_type": "execute_result"
    },
    {
     "data": {
      "text/plain": [
       "True"
      ]
     },
     "execution_count": 41,
     "metadata": {},
     "output_type": "execute_result"
    }
   ],
   "source": [
    "bool(0)\n",
    "bool(0.0)\n",
    "bool(10)\n",
    "bool(15.3431)"
   ]
  },
  {
   "cell_type": "markdown",
   "id": "1e36c99c-a866-4234-93db-6c839018ae6b",
   "metadata": {},
   "source": [
    "be careful when using numeric data-types with binary operators, python binary operators are lazy and might take some shortcuts. The classic example of that is shown below, the first statement returns an integer while the second statement returns a boolean! More on that here: https://realpython.com/python-and-operator/"
   ]
  },
  {
   "cell_type": "code",
   "execution_count": 50,
   "id": "63a08137-33fc-4526-9e71-966cdc674d66",
   "metadata": {},
   "outputs": [
    {
     "data": {
      "text/plain": [
       "10"
      ]
     },
     "execution_count": 50,
     "metadata": {},
     "output_type": "execute_result"
    },
    {
     "data": {
      "text/plain": [
       "True"
      ]
     },
     "execution_count": 50,
     "metadata": {},
     "output_type": "execute_result"
    }
   ],
   "source": [
    "10 or True\n",
    "True or 10"
   ]
  },
  {
   "cell_type": "markdown",
   "id": "daa4a7f5-4732-43d5-8196-dd81ace4b853",
   "metadata": {},
   "source": [
    "### Strings"
   ]
  },
  {
   "cell_type": "markdown",
   "id": "554d948f-7dd2-411a-b521-ff5aabd523fc",
   "metadata": {},
   "source": [
    "strings are python objects we use to store and manipulate text data in python. Strings can be declared using double or single quotes:"
   ]
  },
  {
   "cell_type": "code",
   "execution_count": 25,
   "id": "85eabe19-459a-488a-bd76-8b838bcc5dac",
   "metadata": {},
   "outputs": [
    {
     "data": {
      "text/plain": [
       "str"
      ]
     },
     "execution_count": 25,
     "metadata": {},
     "output_type": "execute_result"
    },
    {
     "data": {
      "text/plain": [
       "str"
      ]
     },
     "execution_count": 25,
     "metadata": {},
     "output_type": "execute_result"
    },
    {
     "data": {
      "text/plain": [
       "True"
      ]
     },
     "execution_count": 25,
     "metadata": {},
     "output_type": "execute_result"
    }
   ],
   "source": [
    "var_1 = \"Hello World!\"\n",
    "var_2 = 'Hello World!'\n",
    "\n",
    "type(var_1)\n",
    "type(var_2)\n",
    "var_1 == var_2"
   ]
  },
  {
   "cell_type": "markdown",
   "id": "ca88fbde-3a63-49d2-a435-a6c63637adfc",
   "metadata": {},
   "source": [
    "under the hood, strings in python are stroed as sequences (collections) of characters, which is why they fall into a special gorup of python objects called iterables. This allows us to manipulate strings with index based methods using square brackets. This will be very helpful when we look into other collections like lists and tuples."
   ]
  },
  {
   "cell_type": "code",
   "execution_count": 26,
   "id": "b2ed5435-babb-4ffd-aa19-e1b02b4b48bb",
   "metadata": {},
   "outputs": [
    {
     "data": {
      "text/plain": [
       "'J'"
      ]
     },
     "execution_count": 26,
     "metadata": {},
     "output_type": "execute_result"
    },
    {
     "data": {
      "text/plain": [
       "'o'"
      ]
     },
     "execution_count": 26,
     "metadata": {},
     "output_type": "execute_result"
    },
    {
     "data": {
      "text/plain": [
       "'John'"
      ]
     },
     "execution_count": 26,
     "metadata": {},
     "output_type": "execute_result"
    },
    {
     "data": {
      "text/plain": [
       "'Doe'"
      ]
     },
     "execution_count": 26,
     "metadata": {},
     "output_type": "execute_result"
    }
   ],
   "source": [
    "name = \"John Doe\"\n",
    "name[0]\n",
    "name[1]\n",
    "name[0:4]\n",
    "name[5:8]"
   ]
  },
  {
   "cell_type": "markdown",
   "id": "a8185515-8bf8-44aa-8a55-eed980f55ef3",
   "metadata": {},
   "source": [
    "you can calculate the length of a string, or other iterables, using the function len()"
   ]
  },
  {
   "cell_type": "code",
   "execution_count": 65,
   "id": "73c0c274-a41a-4081-abae-58480faee702",
   "metadata": {},
   "outputs": [
    {
     "data": {
      "text/plain": [
       "8"
      ]
     },
     "execution_count": 65,
     "metadata": {},
     "output_type": "execute_result"
    }
   ],
   "source": [
    "len(name)"
   ]
  },
  {
   "cell_type": "markdown",
   "id": "77931129-aa3f-448a-a327-4229eaab09a0",
   "metadata": {},
   "source": [
    "***\n",
    "Strings can be concatenated using the + operator"
   ]
  },
  {
   "cell_type": "code",
   "execution_count": 69,
   "id": "ef508b64-1cad-4fb7-9d91-61c6f78cb195",
   "metadata": {},
   "outputs": [
    {
     "data": {
      "text/plain": [
       "'hello world!'"
      ]
     },
     "execution_count": 69,
     "metadata": {},
     "output_type": "execute_result"
    },
    {
     "data": {
      "text/plain": [
       "'John Doe'"
      ]
     },
     "execution_count": 69,
     "metadata": {},
     "output_type": "execute_result"
    }
   ],
   "source": [
    "\"hello\" + \" \" + \"world!\"\n",
    "\"John\" + \" Doe\""
   ]
  },
  {
   "cell_type": "markdown",
   "id": "51a33430-773f-4aca-b162-933b953f80bd",
   "metadata": {},
   "source": [
    "the preferred way to do this however is by using the join method"
   ]
  },
  {
   "cell_type": "code",
   "execution_count": 72,
   "id": "3497f8f4-89e1-40fe-a89a-39dcb57b3832",
   "metadata": {},
   "outputs": [
    {
     "data": {
      "text/plain": [
       "'John Doe'"
      ]
     },
     "execution_count": 72,
     "metadata": {},
     "output_type": "execute_result"
    },
    {
     "data": {
      "text/plain": [
       "'John_Doe'"
      ]
     },
     "execution_count": 72,
     "metadata": {},
     "output_type": "execute_result"
    }
   ],
   "source": [
    "\" \".join([\"John\", \"Doe\"])\n",
    "\"_\".join([\"John\", \"Doe\"])"
   ]
  },
  {
   "cell_type": "markdown",
   "id": "9866efc9-4eff-43f8-b059-5ba47d481887",
   "metadata": {},
   "source": [
    "Using the * operator on strings has a nice property:"
   ]
  },
  {
   "cell_type": "code",
   "execution_count": 76,
   "id": "7d1f4c9f-e7d3-4afa-9eb8-6e7842ef9d2a",
   "metadata": {},
   "outputs": [
    {
     "data": {
      "text/plain": [
       "'hello hello hello hello hello hello hello hello hello hello '"
      ]
     },
     "execution_count": 76,
     "metadata": {},
     "output_type": "execute_result"
    },
    {
     "data": {
      "text/plain": [
       "'======================================================================'"
      ]
     },
     "execution_count": 76,
     "metadata": {},
     "output_type": "execute_result"
    }
   ],
   "source": [
    "\"hello \"*10\n",
    "#Useful for creating seperators for example:\n",
    "\"=\"*70"
   ]
  },
  {
   "cell_type": "markdown",
   "id": "b8931de2-4bea-46b7-9a7b-ccfbad0b7cb3",
   "metadata": {},
   "source": [
    "***\n",
    "There are many more useful strings methods, we can check them using dir()"
   ]
  },
  {
   "cell_type": "code",
   "execution_count": 77,
   "id": "8fa201f2-b751-4f61-a04f-1883f24b952e",
   "metadata": {},
   "outputs": [
    {
     "data": {
      "text/plain": [
       "['__add__',\n",
       " '__class__',\n",
       " '__contains__',\n",
       " '__delattr__',\n",
       " '__dir__',\n",
       " '__doc__',\n",
       " '__eq__',\n",
       " '__format__',\n",
       " '__ge__',\n",
       " '__getattribute__',\n",
       " '__getitem__',\n",
       " '__getnewargs__',\n",
       " '__gt__',\n",
       " '__hash__',\n",
       " '__init__',\n",
       " '__init_subclass__',\n",
       " '__iter__',\n",
       " '__le__',\n",
       " '__len__',\n",
       " '__lt__',\n",
       " '__mod__',\n",
       " '__mul__',\n",
       " '__ne__',\n",
       " '__new__',\n",
       " '__reduce__',\n",
       " '__reduce_ex__',\n",
       " '__repr__',\n",
       " '__rmod__',\n",
       " '__rmul__',\n",
       " '__setattr__',\n",
       " '__sizeof__',\n",
       " '__str__',\n",
       " '__subclasshook__',\n",
       " 'capitalize',\n",
       " 'casefold',\n",
       " 'center',\n",
       " 'count',\n",
       " 'encode',\n",
       " 'endswith',\n",
       " 'expandtabs',\n",
       " 'find',\n",
       " 'format',\n",
       " 'format_map',\n",
       " 'index',\n",
       " 'isalnum',\n",
       " 'isalpha',\n",
       " 'isascii',\n",
       " 'isdecimal',\n",
       " 'isdigit',\n",
       " 'isidentifier',\n",
       " 'islower',\n",
       " 'isnumeric',\n",
       " 'isprintable',\n",
       " 'isspace',\n",
       " 'istitle',\n",
       " 'isupper',\n",
       " 'join',\n",
       " 'ljust',\n",
       " 'lower',\n",
       " 'lstrip',\n",
       " 'maketrans',\n",
       " 'partition',\n",
       " 'removeprefix',\n",
       " 'removesuffix',\n",
       " 'replace',\n",
       " 'rfind',\n",
       " 'rindex',\n",
       " 'rjust',\n",
       " 'rpartition',\n",
       " 'rsplit',\n",
       " 'rstrip',\n",
       " 'split',\n",
       " 'splitlines',\n",
       " 'startswith',\n",
       " 'strip',\n",
       " 'swapcase',\n",
       " 'title',\n",
       " 'translate',\n",
       " 'upper',\n",
       " 'zfill']"
      ]
     },
     "execution_count": 77,
     "metadata": {},
     "output_type": "execute_result"
    }
   ],
   "source": [
    "dir(str)"
   ]
  },
  {
   "cell_type": "markdown",
   "id": "80880774-c9c0-45c1-b849-8bb444a4dc52",
   "metadata": {},
   "source": [
    "Or by calling the help() function"
   ]
  },
  {
   "cell_type": "code",
   "execution_count": 29,
   "id": "71f6df18-f80b-41ba-83c3-2426c7694a48",
   "metadata": {},
   "outputs": [
    {
     "name": "stdout",
     "output_type": "stream",
     "text": [
      "Help on class str in module builtins:\n",
      "\n",
      "class str(object)\n",
      " |  str(object='') -> str\n",
      " |  str(bytes_or_buffer[, encoding[, errors]]) -> str\n",
      " |  \n",
      " |  Create a new string object from the given object. If encoding or\n",
      " |  errors is specified, then the object must expose a data buffer\n",
      " |  that will be decoded using the given encoding and error handler.\n",
      " |  Otherwise, returns the result of object.__str__() (if defined)\n",
      " |  or repr(object).\n",
      " |  encoding defaults to sys.getdefaultencoding().\n",
      " |  errors defaults to 'strict'.\n",
      " |  \n",
      " |  Methods defined here:\n",
      " |  \n",
      " |  __add__(self, value, /)\n",
      " |      Return self+value.\n",
      " |  \n",
      " |  __contains__(self, key, /)\n",
      " |      Return key in self.\n",
      " |  \n",
      " |  __eq__(self, value, /)\n",
      " |      Return self==value.\n",
      " |  \n",
      " |  __format__(self, format_spec, /)\n",
      " |      Return a formatted version of the string as described by format_spec.\n",
      " |  \n",
      " |  __ge__(self, value, /)\n",
      " |      Return self>=value.\n",
      " |  \n",
      " |  __getattribute__(self, name, /)\n",
      " |      Return getattr(self, name).\n",
      " |  \n",
      " |  __getitem__(self, key, /)\n",
      " |      Return self[key].\n",
      " |  \n",
      " |  __getnewargs__(...)\n",
      " |  \n",
      " |  __gt__(self, value, /)\n",
      " |      Return self>value.\n",
      " |  \n",
      " |  __hash__(self, /)\n",
      " |      Return hash(self).\n",
      " |  \n",
      " |  __iter__(self, /)\n",
      " |      Implement iter(self).\n",
      " |  \n",
      " |  __le__(self, value, /)\n",
      " |      Return self<=value.\n",
      " |  \n",
      " |  __len__(self, /)\n",
      " |      Return len(self).\n",
      " |  \n",
      " |  __lt__(self, value, /)\n",
      " |      Return self<value.\n",
      " |  \n",
      " |  __mod__(self, value, /)\n",
      " |      Return self%value.\n",
      " |  \n",
      " |  __mul__(self, value, /)\n",
      " |      Return self*value.\n",
      " |  \n",
      " |  __ne__(self, value, /)\n",
      " |      Return self!=value.\n",
      " |  \n",
      " |  __repr__(self, /)\n",
      " |      Return repr(self).\n",
      " |  \n",
      " |  __rmod__(self, value, /)\n",
      " |      Return value%self.\n",
      " |  \n",
      " |  __rmul__(self, value, /)\n",
      " |      Return value*self.\n",
      " |  \n",
      " |  __sizeof__(self, /)\n",
      " |      Return the size of the string in memory, in bytes.\n",
      " |  \n",
      " |  __str__(self, /)\n",
      " |      Return str(self).\n",
      " |  \n",
      " |  capitalize(self, /)\n",
      " |      Return a capitalized version of the string.\n",
      " |      \n",
      " |      More specifically, make the first character have upper case and the rest lower\n",
      " |      case.\n",
      " |  \n",
      " |  casefold(self, /)\n",
      " |      Return a version of the string suitable for caseless comparisons.\n",
      " |  \n",
      " |  center(self, width, fillchar=' ', /)\n",
      " |      Return a centered string of length width.\n",
      " |      \n",
      " |      Padding is done using the specified fill character (default is a space).\n",
      " |  \n",
      " |  count(...)\n",
      " |      S.count(sub[, start[, end]]) -> int\n",
      " |      \n",
      " |      Return the number of non-overlapping occurrences of substring sub in\n",
      " |      string S[start:end].  Optional arguments start and end are\n",
      " |      interpreted as in slice notation.\n",
      " |  \n",
      " |  encode(self, /, encoding='utf-8', errors='strict')\n",
      " |      Encode the string using the codec registered for encoding.\n",
      " |      \n",
      " |      encoding\n",
      " |        The encoding in which to encode the string.\n",
      " |      errors\n",
      " |        The error handling scheme to use for encoding errors.\n",
      " |        The default is 'strict' meaning that encoding errors raise a\n",
      " |        UnicodeEncodeError.  Other possible values are 'ignore', 'replace' and\n",
      " |        'xmlcharrefreplace' as well as any other name registered with\n",
      " |        codecs.register_error that can handle UnicodeEncodeErrors.\n",
      " |  \n",
      " |  endswith(...)\n",
      " |      S.endswith(suffix[, start[, end]]) -> bool\n",
      " |      \n",
      " |      Return True if S ends with the specified suffix, False otherwise.\n",
      " |      With optional start, test S beginning at that position.\n",
      " |      With optional end, stop comparing S at that position.\n",
      " |      suffix can also be a tuple of strings to try.\n",
      " |  \n",
      " |  expandtabs(self, /, tabsize=8)\n",
      " |      Return a copy where all tab characters are expanded using spaces.\n",
      " |      \n",
      " |      If tabsize is not given, a tab size of 8 characters is assumed.\n",
      " |  \n",
      " |  find(...)\n",
      " |      S.find(sub[, start[, end]]) -> int\n",
      " |      \n",
      " |      Return the lowest index in S where substring sub is found,\n",
      " |      such that sub is contained within S[start:end].  Optional\n",
      " |      arguments start and end are interpreted as in slice notation.\n",
      " |      \n",
      " |      Return -1 on failure.\n",
      " |  \n",
      " |  format(...)\n",
      " |      S.format(*args, **kwargs) -> str\n",
      " |      \n",
      " |      Return a formatted version of S, using substitutions from args and kwargs.\n",
      " |      The substitutions are identified by braces ('{' and '}').\n",
      " |  \n",
      " |  format_map(...)\n",
      " |      S.format_map(mapping) -> str\n",
      " |      \n",
      " |      Return a formatted version of S, using substitutions from mapping.\n",
      " |      The substitutions are identified by braces ('{' and '}').\n",
      " |  \n",
      " |  index(...)\n",
      " |      S.index(sub[, start[, end]]) -> int\n",
      " |      \n",
      " |      Return the lowest index in S where substring sub is found,\n",
      " |      such that sub is contained within S[start:end].  Optional\n",
      " |      arguments start and end are interpreted as in slice notation.\n",
      " |      \n",
      " |      Raises ValueError when the substring is not found.\n",
      " |  \n",
      " |  isalnum(self, /)\n",
      " |      Return True if the string is an alpha-numeric string, False otherwise.\n",
      " |      \n",
      " |      A string is alpha-numeric if all characters in the string are alpha-numeric and\n",
      " |      there is at least one character in the string.\n",
      " |  \n",
      " |  isalpha(self, /)\n",
      " |      Return True if the string is an alphabetic string, False otherwise.\n",
      " |      \n",
      " |      A string is alphabetic if all characters in the string are alphabetic and there\n",
      " |      is at least one character in the string.\n",
      " |  \n",
      " |  isascii(self, /)\n",
      " |      Return True if all characters in the string are ASCII, False otherwise.\n",
      " |      \n",
      " |      ASCII characters have code points in the range U+0000-U+007F.\n",
      " |      Empty string is ASCII too.\n",
      " |  \n",
      " |  isdecimal(self, /)\n",
      " |      Return True if the string is a decimal string, False otherwise.\n",
      " |      \n",
      " |      A string is a decimal string if all characters in the string are decimal and\n",
      " |      there is at least one character in the string.\n",
      " |  \n",
      " |  isdigit(self, /)\n",
      " |      Return True if the string is a digit string, False otherwise.\n",
      " |      \n",
      " |      A string is a digit string if all characters in the string are digits and there\n",
      " |      is at least one character in the string.\n",
      " |  \n",
      " |  isidentifier(self, /)\n",
      " |      Return True if the string is a valid Python identifier, False otherwise.\n",
      " |      \n",
      " |      Call keyword.iskeyword(s) to test whether string s is a reserved identifier,\n",
      " |      such as \"def\" or \"class\".\n",
      " |  \n",
      " |  islower(self, /)\n",
      " |      Return True if the string is a lowercase string, False otherwise.\n",
      " |      \n",
      " |      A string is lowercase if all cased characters in the string are lowercase and\n",
      " |      there is at least one cased character in the string.\n",
      " |  \n",
      " |  isnumeric(self, /)\n",
      " |      Return True if the string is a numeric string, False otherwise.\n",
      " |      \n",
      " |      A string is numeric if all characters in the string are numeric and there is at\n",
      " |      least one character in the string.\n",
      " |  \n",
      " |  isprintable(self, /)\n",
      " |      Return True if the string is printable, False otherwise.\n",
      " |      \n",
      " |      A string is printable if all of its characters are considered printable in\n",
      " |      repr() or if it is empty.\n",
      " |  \n",
      " |  isspace(self, /)\n",
      " |      Return True if the string is a whitespace string, False otherwise.\n",
      " |      \n",
      " |      A string is whitespace if all characters in the string are whitespace and there\n",
      " |      is at least one character in the string.\n",
      " |  \n",
      " |  istitle(self, /)\n",
      " |      Return True if the string is a title-cased string, False otherwise.\n",
      " |      \n",
      " |      In a title-cased string, upper- and title-case characters may only\n",
      " |      follow uncased characters and lowercase characters only cased ones.\n",
      " |  \n",
      " |  isupper(self, /)\n",
      " |      Return True if the string is an uppercase string, False otherwise.\n",
      " |      \n",
      " |      A string is uppercase if all cased characters in the string are uppercase and\n",
      " |      there is at least one cased character in the string.\n",
      " |  \n",
      " |  join(self, iterable, /)\n",
      " |      Concatenate any number of strings.\n",
      " |      \n",
      " |      The string whose method is called is inserted in between each given string.\n",
      " |      The result is returned as a new string.\n",
      " |      \n",
      " |      Example: '.'.join(['ab', 'pq', 'rs']) -> 'ab.pq.rs'\n",
      " |  \n",
      " |  ljust(self, width, fillchar=' ', /)\n",
      " |      Return a left-justified string of length width.\n",
      " |      \n",
      " |      Padding is done using the specified fill character (default is a space).\n",
      " |  \n",
      " |  lower(self, /)\n",
      " |      Return a copy of the string converted to lowercase.\n",
      " |  \n",
      " |  lstrip(self, chars=None, /)\n",
      " |      Return a copy of the string with leading whitespace removed.\n",
      " |      \n",
      " |      If chars is given and not None, remove characters in chars instead.\n",
      " |  \n",
      " |  partition(self, sep, /)\n",
      " |      Partition the string into three parts using the given separator.\n",
      " |      \n",
      " |      This will search for the separator in the string.  If the separator is found,\n",
      " |      returns a 3-tuple containing the part before the separator, the separator\n",
      " |      itself, and the part after it.\n",
      " |      \n",
      " |      If the separator is not found, returns a 3-tuple containing the original string\n",
      " |      and two empty strings.\n",
      " |  \n",
      " |  removeprefix(self, prefix, /)\n",
      " |      Return a str with the given prefix string removed if present.\n",
      " |      \n",
      " |      If the string starts with the prefix string, return string[len(prefix):].\n",
      " |      Otherwise, return a copy of the original string.\n",
      " |  \n",
      " |  removesuffix(self, suffix, /)\n",
      " |      Return a str with the given suffix string removed if present.\n",
      " |      \n",
      " |      If the string ends with the suffix string and that suffix is not empty,\n",
      " |      return string[:-len(suffix)]. Otherwise, return a copy of the original\n",
      " |      string.\n",
      " |  \n",
      " |  replace(self, old, new, count=-1, /)\n",
      " |      Return a copy with all occurrences of substring old replaced by new.\n",
      " |      \n",
      " |        count\n",
      " |          Maximum number of occurrences to replace.\n",
      " |          -1 (the default value) means replace all occurrences.\n",
      " |      \n",
      " |      If the optional argument count is given, only the first count occurrences are\n",
      " |      replaced.\n",
      " |  \n",
      " |  rfind(...)\n",
      " |      S.rfind(sub[, start[, end]]) -> int\n",
      " |      \n",
      " |      Return the highest index in S where substring sub is found,\n",
      " |      such that sub is contained within S[start:end].  Optional\n",
      " |      arguments start and end are interpreted as in slice notation.\n",
      " |      \n",
      " |      Return -1 on failure.\n",
      " |  \n",
      " |  rindex(...)\n",
      " |      S.rindex(sub[, start[, end]]) -> int\n",
      " |      \n",
      " |      Return the highest index in S where substring sub is found,\n",
      " |      such that sub is contained within S[start:end].  Optional\n",
      " |      arguments start and end are interpreted as in slice notation.\n",
      " |      \n",
      " |      Raises ValueError when the substring is not found.\n",
      " |  \n",
      " |  rjust(self, width, fillchar=' ', /)\n",
      " |      Return a right-justified string of length width.\n",
      " |      \n",
      " |      Padding is done using the specified fill character (default is a space).\n",
      " |  \n",
      " |  rpartition(self, sep, /)\n",
      " |      Partition the string into three parts using the given separator.\n",
      " |      \n",
      " |      This will search for the separator in the string, starting at the end. If\n",
      " |      the separator is found, returns a 3-tuple containing the part before the\n",
      " |      separator, the separator itself, and the part after it.\n",
      " |      \n",
      " |      If the separator is not found, returns a 3-tuple containing two empty strings\n",
      " |      and the original string.\n",
      " |  \n",
      " |  rsplit(self, /, sep=None, maxsplit=-1)\n",
      " |      Return a list of the substrings in the string, using sep as the separator string.\n",
      " |      \n",
      " |        sep\n",
      " |          The separator used to split the string.\n",
      " |      \n",
      " |          When set to None (the default value), will split on any whitespace\n",
      " |          character (including \\\\n \\\\r \\\\t \\\\f and spaces) and will discard\n",
      " |          empty strings from the result.\n",
      " |        maxsplit\n",
      " |          Maximum number of splits (starting from the left).\n",
      " |          -1 (the default value) means no limit.\n",
      " |      \n",
      " |      Splitting starts at the end of the string and works to the front.\n",
      " |  \n",
      " |  rstrip(self, chars=None, /)\n",
      " |      Return a copy of the string with trailing whitespace removed.\n",
      " |      \n",
      " |      If chars is given and not None, remove characters in chars instead.\n",
      " |  \n",
      " |  split(self, /, sep=None, maxsplit=-1)\n",
      " |      Return a list of the substrings in the string, using sep as the separator string.\n",
      " |      \n",
      " |        sep\n",
      " |          The separator used to split the string.\n",
      " |      \n",
      " |          When set to None (the default value), will split on any whitespace\n",
      " |          character (including \\\\n \\\\r \\\\t \\\\f and spaces) and will discard\n",
      " |          empty strings from the result.\n",
      " |        maxsplit\n",
      " |          Maximum number of splits (starting from the left).\n",
      " |          -1 (the default value) means no limit.\n",
      " |      \n",
      " |      Note, str.split() is mainly useful for data that has been intentionally\n",
      " |      delimited.  With natural text that includes punctuation, consider using\n",
      " |      the regular expression module.\n",
      " |  \n",
      " |  splitlines(self, /, keepends=False)\n",
      " |      Return a list of the lines in the string, breaking at line boundaries.\n",
      " |      \n",
      " |      Line breaks are not included in the resulting list unless keepends is given and\n",
      " |      true.\n",
      " |  \n",
      " |  startswith(...)\n",
      " |      S.startswith(prefix[, start[, end]]) -> bool\n",
      " |      \n",
      " |      Return True if S starts with the specified prefix, False otherwise.\n",
      " |      With optional start, test S beginning at that position.\n",
      " |      With optional end, stop comparing S at that position.\n",
      " |      prefix can also be a tuple of strings to try.\n",
      " |  \n",
      " |  strip(self, chars=None, /)\n",
      " |      Return a copy of the string with leading and trailing whitespace removed.\n",
      " |      \n",
      " |      If chars is given and not None, remove characters in chars instead.\n",
      " |  \n",
      " |  swapcase(self, /)\n",
      " |      Convert uppercase characters to lowercase and lowercase characters to uppercase.\n",
      " |  \n",
      " |  title(self, /)\n",
      " |      Return a version of the string where each word is titlecased.\n",
      " |      \n",
      " |      More specifically, words start with uppercased characters and all remaining\n",
      " |      cased characters have lower case.\n",
      " |  \n",
      " |  translate(self, table, /)\n",
      " |      Replace each character in the string using the given translation table.\n",
      " |      \n",
      " |        table\n",
      " |          Translation table, which must be a mapping of Unicode ordinals to\n",
      " |          Unicode ordinals, strings, or None.\n",
      " |      \n",
      " |      The table must implement lookup/indexing via __getitem__, for instance a\n",
      " |      dictionary or list.  If this operation raises LookupError, the character is\n",
      " |      left untouched.  Characters mapped to None are deleted.\n",
      " |  \n",
      " |  upper(self, /)\n",
      " |      Return a copy of the string converted to uppercase.\n",
      " |  \n",
      " |  zfill(self, width, /)\n",
      " |      Pad a numeric string with zeros on the left, to fill a field of the given width.\n",
      " |      \n",
      " |      The string is never truncated.\n",
      " |  \n",
      " |  ----------------------------------------------------------------------\n",
      " |  Static methods defined here:\n",
      " |  \n",
      " |  __new__(*args, **kwargs) from builtins.type\n",
      " |      Create and return a new object.  See help(type) for accurate signature.\n",
      " |  \n",
      " |  maketrans(...)\n",
      " |      Return a translation table usable for str.translate().\n",
      " |      \n",
      " |      If there is only one argument, it must be a dictionary mapping Unicode\n",
      " |      ordinals (integers) or characters to Unicode ordinals, strings or None.\n",
      " |      Character keys will be then converted to ordinals.\n",
      " |      If there are two arguments, they must be strings of equal length, and\n",
      " |      in the resulting dictionary, each character in x will be mapped to the\n",
      " |      character at the same position in y. If there is a third argument, it\n",
      " |      must be a string, whose characters will be mapped to None in the result.\n",
      "\n"
     ]
    }
   ],
   "source": [
    "help(str)"
   ]
  },
  {
   "cell_type": "code",
   "execution_count": 30,
   "id": "5559a350-4de8-4c8d-aee1-962fcb4b3165",
   "metadata": {},
   "outputs": [
    {
     "data": {
      "text/plain": [
       "'HELLO WORLD!'"
      ]
     },
     "execution_count": 30,
     "metadata": {},
     "output_type": "execute_result"
    },
    {
     "data": {
      "text/plain": [
       "'hello world!'"
      ]
     },
     "execution_count": 30,
     "metadata": {},
     "output_type": "execute_result"
    },
    {
     "data": {
      "text/plain": [
       "'hello world!'"
      ]
     },
     "execution_count": 30,
     "metadata": {},
     "output_type": "execute_result"
    },
    {
     "data": {
      "text/plain": [
       "'Hello world!'"
      ]
     },
     "execution_count": 30,
     "metadata": {},
     "output_type": "execute_result"
    },
    {
     "data": {
      "text/plain": [
       "'Hello World!'"
      ]
     },
     "execution_count": 30,
     "metadata": {},
     "output_type": "execute_result"
    }
   ],
   "source": [
    "#methods for case manipulation\n",
    "x = \"hello world!\"\n",
    "\n",
    "x.upper()\n",
    "x.lower()\n",
    "x.casefold()\n",
    "x.capitalize()\n",
    "x.title()"
   ]
  },
  {
   "cell_type": "markdown",
   "id": "d39475ea-2e8a-48b6-a5ed-b2d15aff9ec2",
   "metadata": {
    "tags": []
   },
   "source": [
    "***\n",
    "You can replace specific characters using the replace() method:"
   ]
  },
  {
   "cell_type": "code",
   "execution_count": 81,
   "id": "b902d8f0-b33d-4e99-9db9-587c6b6aa33f",
   "metadata": {},
   "outputs": [
    {
     "data": {
      "text/plain": [
       "'Pyhton_is_a_great_programming_language'"
      ]
     },
     "execution_count": 81,
     "metadata": {},
     "output_type": "execute_result"
    }
   ],
   "source": [
    "x = \"Pyhton is a great programming language\"\n",
    "x.replace(\" \", \"_\")"
   ]
  },
  {
   "cell_type": "markdown",
   "id": "0f3fceb8-e97c-4505-8a0a-e03be79d1332",
   "metadata": {},
   "source": [
    "****\n",
    "You can strip unwanted characters from the beginning and end of a string:"
   ]
  },
  {
   "cell_type": "code",
   "execution_count": 34,
   "id": "a61dafe6-c407-407f-90c6-e2726bd4dfcf",
   "metadata": {},
   "outputs": [
    {
     "data": {
      "text/plain": [
       "'--------------This is a title from an old-webpage--------------'"
      ]
     },
     "execution_count": 34,
     "metadata": {},
     "output_type": "execute_result"
    },
    {
     "data": {
      "text/plain": [
       "'This is a title from an old-webpage'"
      ]
     },
     "execution_count": 34,
     "metadata": {},
     "output_type": "execute_result"
    },
    {
     "name": "stdout",
     "output_type": "stream",
     "text": [
      "======================================================================\n"
     ]
    },
    {
     "data": {
      "text/plain": [
       "'    This is a string with unwanted spaces     '"
      ]
     },
     "execution_count": 34,
     "metadata": {},
     "output_type": "execute_result"
    },
    {
     "data": {
      "text/plain": [
       "'This is a string with unwanted spaces'"
      ]
     },
     "execution_count": 34,
     "metadata": {},
     "output_type": "execute_result"
    },
    {
     "name": "stdout",
     "output_type": "stream",
     "text": [
      "======================================================================\n",
      "\n",
      "\n",
      "\n",
      "\n",
      "This is a multiline string in python.\n",
      "It automatically inserts special characters\n",
      "to encode a newline when you use\n",
      "the triple quotation marks\n",
      "\n",
      "\n",
      "\n",
      "\n"
     ]
    },
    {
     "data": {
      "text/plain": [
       "'\\n\\n\\n\\nThis is a multiline string in python.\\nIt automatically inserts special characters\\nto encode a newline when you use\\nthe triple quotation marks\\n\\n\\n\\n'"
      ]
     },
     "execution_count": 34,
     "metadata": {},
     "output_type": "execute_result"
    },
    {
     "data": {
      "text/plain": [
       "'This is a multiline string in python.\\nIt automatically inserts special characters\\nto encode a newline when you use\\nthe triple quotation marks'"
      ]
     },
     "execution_count": 34,
     "metadata": {},
     "output_type": "execute_result"
    }
   ],
   "source": [
    "x = \"--------------This is a title from an old-webpage--------------\"\n",
    "x\n",
    "x.strip(\"-\")\n",
    "\n",
    "print(\"=\"*70)\n",
    "\n",
    "x = \"    This is a string with unwanted spaces     \"\n",
    "x\n",
    "x.strip(\" \")\n",
    "\n",
    "print(\"=\"*70)\n",
    "\n",
    "x = \"\"\"\n",
    "\n",
    "\n",
    "\n",
    "This is a multiline string in python.\n",
    "It automatically inserts special characters\n",
    "to encode a newline when you use\n",
    "the triple quotation marks\n",
    "\n",
    "\n",
    "\n",
    "\"\"\"\n",
    "print(x)\n",
    "x\n",
    "x.strip()"
   ]
  },
  {
   "cell_type": "markdown",
   "id": "0255116f-505c-4f4f-a38c-7cde74b1d799",
   "metadata": {},
   "source": [
    "The \"\\n\" is a special character called an escape sequence, there are many others in python:\n",
    "\n",
    "|Sequence | Meaning|\n",
    "|:-:|:-:|\n",
    "| \\\\' | Single Quote\t|\n",
    "| \\\\\\\\ | Backslash |\n",
    "| \\\\n | New Line\t|\n",
    "| \\\\r | Carriage Return |\n",
    "| \\\\t | Tab |\n",
    "| \\\\b | Backspace |"
   ]
  },
  {
   "cell_type": "code",
   "execution_count": 82,
   "id": "adc70f06-2936-4d22-b34d-339dc367b7a9",
   "metadata": {},
   "outputs": [
    {
     "name": "stdout",
     "output_type": "stream",
     "text": [
      "Name\temail\n",
      "John\tjohn.doe@gmail.com\n"
     ]
    }
   ],
   "source": [
    "#example using the \\t operator\n",
    "print(\"Name\\temail\")\n",
    "print(\"John\\tjohn.doe@gmail.com\")"
   ]
  },
  {
   "cell_type": "markdown",
   "id": "32e89dbd-ae4c-49d0-8c0c-9e5ad3976439",
   "metadata": {},
   "source": [
    "***\n",
    "you can test if certain patterns exists within a string and serach for it's location using the find() method. If a string doesn't exist -1 will be returned. Another useful way to check is using the *in* keyword."
   ]
  },
  {
   "cell_type": "code",
   "execution_count": 85,
   "id": "7a8d2c42-0696-40af-ae66-f778a0d8ef69",
   "metadata": {},
   "outputs": [
    {
     "data": {
      "text/plain": [
       "9"
      ]
     },
     "execution_count": 85,
     "metadata": {},
     "output_type": "execute_result"
    },
    {
     "data": {
      "text/plain": [
       "-1"
      ]
     },
     "execution_count": 85,
     "metadata": {},
     "output_type": "execute_result"
    },
    {
     "name": "stdout",
     "output_type": "stream",
     "text": [
      "======================================================================\n"
     ]
    },
    {
     "data": {
      "text/plain": [
       "True"
      ]
     },
     "execution_count": 85,
     "metadata": {},
     "output_type": "execute_result"
    },
    {
     "data": {
      "text/plain": [
       "True"
      ]
     },
     "execution_count": 85,
     "metadata": {},
     "output_type": "execute_result"
    },
    {
     "name": "stdout",
     "output_type": "stream",
     "text": [
      "======================================================================\n"
     ]
    },
    {
     "data": {
      "text/plain": [
       "True"
      ]
     },
     "execution_count": 85,
     "metadata": {},
     "output_type": "execute_result"
    },
    {
     "data": {
      "text/plain": [
       "False"
      ]
     },
     "execution_count": 85,
     "metadata": {},
     "output_type": "execute_result"
    }
   ],
   "source": [
    "email = \"john-doe@gmail.com\"\n",
    "\n",
    "email.find(\"gmail\")\n",
    "email.find(\"yahoo\")\n",
    "\n",
    "print(\"=\"*70)\n",
    "\n",
    "#testing for \"gmail\"\n",
    "email.find(\"gmail\")>=0\n",
    "\n",
    "#or a better way\n",
    "\"gmail\" in email\n",
    "\n",
    "print(\"=\"*70)\n",
    "\n",
    "email.endswith(\".com\")\n",
    "email.endswith(\".org\")"
   ]
  },
  {
   "cell_type": "markdown",
   "id": "996ef1c0-cb46-46d8-a25e-6f6ab5e834c5",
   "metadata": {},
   "source": [
    "***\n",
    "formatted strings, f-strings, are a special way to blend and format numeric within strings, more info can be found here: https://mkaz.blog/code/python-string-format-cookbook/"
   ]
  },
  {
   "cell_type": "code",
   "execution_count": 74,
   "id": "7b84e940-a6d7-480d-b6ef-5a16d9f7523c",
   "metadata": {},
   "outputs": [
    {
     "name": "stdout",
     "output_type": "stream",
     "text": [
      "john doe, sr. manager\n",
      "email\tjohn.doe@gmail.com\n",
      "mobiel\t+971 580 000 000\n",
      "======================================================================\n",
      "John Doe, Sr. Manager\n",
      "email\tjohn.doe@gmail.com\n",
      "mobiel\t+971 580 000 000\n"
     ]
    }
   ],
   "source": [
    "first_name = \"john\" \n",
    "last_name = \"doe\"\n",
    "title = \"sr. manager\"\n",
    "email = \"john.doe@gmail.com\"\n",
    "mobile = \"+971 580 000 000\"\n",
    "\n",
    "print(f\"{first_name} {last_name}, {title}\\nemail\\t{email}\\nmobiel\\t{mobile}\")\n",
    "\n",
    "print(\"=\"*70)\n",
    "\n",
    "print(f\"{first_name.capitalize()} {last_name.capitalize()}, {title.title()}\\nemail\\t{email}\\nmobiel\\t{mobile}\")"
   ]
  },
  {
   "cell_type": "code",
   "execution_count": 80,
   "id": "757ae877-14d9-4da0-892b-d282a9a1119a",
   "metadata": {},
   "outputs": [
    {
     "name": "stdout",
     "output_type": "stream",
     "text": [
      "100.00 degrees Fahrenheit is 37.78 degrees celsius\n",
      "======================================================================\n",
      "The time is 09:05:11\n"
     ]
    }
   ],
   "source": [
    "T_fahrenheit = 100\n",
    "T_celsius = (T_fahrenheit - 32) * 5 / 9\n",
    "print(f\"{T_fahrenheit:0.2f} degrees Fahrenheit is {T_celsius:0.2f} degrees celsius\")\n",
    "\n",
    "print(\"=\"*70)\n",
    "\n",
    "hour = 9\n",
    "minute = 5\n",
    "second = 11\n",
    "\n",
    "print(f\"The time is {hour:02d}:{minute:02d}:{second:02d}\")"
   ]
  },
  {
   "cell_type": "markdown",
   "id": "e30a4408-224d-4626-96c2-d29d8893ed32",
   "metadata": {},
   "source": [
    "***\n",
    "You can tokenize (fancy word for split) a string using the split() method. This returns a list of substrings, more on lists later!"
   ]
  },
  {
   "cell_type": "code",
   "execution_count": 93,
   "id": "33c7ade4-537b-4ad3-8e42-eb542cea25f4",
   "metadata": {},
   "outputs": [
    {
     "data": {
      "text/plain": [
       "['Pyhton', 'is', 'a', 'great', 'programming', 'language']"
      ]
     },
     "execution_count": 93,
     "metadata": {},
     "output_type": "execute_result"
    },
    {
     "data": {
      "text/plain": [
       "['john_doe', 'gmail.com']"
      ]
     },
     "execution_count": 93,
     "metadata": {},
     "output_type": "execute_result"
    }
   ],
   "source": [
    "x = \"Pyhton is a great programming language\"\n",
    "x.split()\n",
    "\n",
    "email = \"john_doe@gmail.com\"\n",
    "email.split(\"@\")"
   ]
  },
  {
   "cell_type": "markdown",
   "id": "3c9fee9a-39db-4b46-89f4-375633967f4e",
   "metadata": {},
   "source": [
    "### Datetime"
   ]
  },
  {
   "cell_type": "markdown",
   "id": "c0eea358-ef9a-4397-8713-bacca557be62",
   "metadata": {},
   "source": [
    "In python we use the datetime package to handle dates، "
   ]
  },
  {
   "cell_type": "code",
   "execution_count": 53,
   "id": "49a37587-b7ce-4be2-8932-a16deec4bd58",
   "metadata": {},
   "outputs": [
    {
     "data": {
      "text/plain": [
       "datetime.date(1993, 2, 1)"
      ]
     },
     "execution_count": 53,
     "metadata": {},
     "output_type": "execute_result"
    },
    {
     "name": "stdout",
     "output_type": "stream",
     "text": [
      "1993-02-01\n"
     ]
    },
    {
     "data": {
      "text/plain": [
       "datetime.date"
      ]
     },
     "execution_count": 53,
     "metadata": {},
     "output_type": "execute_result"
    },
    {
     "name": "stdout",
     "output_type": "stream",
     "text": [
      "======================================================================\n"
     ]
    },
    {
     "data": {
      "text/plain": [
       "datetime.datetime(1993, 2, 1, 15, 5, 20)"
      ]
     },
     "execution_count": 53,
     "metadata": {},
     "output_type": "execute_result"
    },
    {
     "name": "stdout",
     "output_type": "stream",
     "text": [
      "1993-02-01 15:05:20\n"
     ]
    },
    {
     "data": {
      "text/plain": [
       "datetime.datetime"
      ]
     },
     "execution_count": 53,
     "metadata": {},
     "output_type": "execute_result"
    },
    {
     "name": "stdout",
     "output_type": "stream",
     "text": [
      "======================================================================\n"
     ]
    },
    {
     "data": {
      "text/plain": [
       "datetime.date(2022, 10, 17)"
      ]
     },
     "execution_count": 53,
     "metadata": {},
     "output_type": "execute_result"
    },
    {
     "name": "stdout",
     "output_type": "stream",
     "text": [
      "2022-10-17\n"
     ]
    },
    {
     "data": {
      "text/plain": [
       "datetime.date"
      ]
     },
     "execution_count": 53,
     "metadata": {},
     "output_type": "execute_result"
    },
    {
     "name": "stdout",
     "output_type": "stream",
     "text": [
      "======================================================================\n"
     ]
    },
    {
     "data": {
      "text/plain": [
       "datetime.date(2022, 10, 17)"
      ]
     },
     "execution_count": 53,
     "metadata": {},
     "output_type": "execute_result"
    },
    {
     "name": "stdout",
     "output_type": "stream",
     "text": [
      "2022-10-17 17:51:34.191839\n"
     ]
    },
    {
     "data": {
      "text/plain": [
       "datetime.datetime"
      ]
     },
     "execution_count": 53,
     "metadata": {},
     "output_type": "execute_result"
    }
   ],
   "source": [
    "from datetime import datetime, date\n",
    "\n",
    "date1 = date(year=1993, month=2, day=1)\n",
    "date1\n",
    "print(date1)\n",
    "type(date1)\n",
    "\n",
    "print(\"=\"*70)\n",
    "\n",
    "date2 = datetime(year=1993, month=2, day=1, hour=15, minute=5, second=20)\n",
    "date2\n",
    "print(date2)\n",
    "type(date2)\n",
    "\n",
    "print(\"=\"*70)\n",
    "\n",
    "date3 = date.today()\n",
    "date3\n",
    "print(date3)\n",
    "type(date3)\n",
    "\n",
    "print(\"=\"*70)\n",
    "\n",
    "date4 = datetime.now()\n",
    "date3\n",
    "print(date4)\n",
    "type(date4)"
   ]
  },
  {
   "cell_type": "markdown",
   "id": "04ba4adf-183e-4d18-bebc-f731308abcdb",
   "metadata": {},
   "source": [
    "date is the base class (type) and datetime is a sub-class: Every datetime is a date but not every date is a datetime!"
   ]
  },
  {
   "cell_type": "code",
   "execution_count": 62,
   "id": "badc648e-3c15-4bd9-b4f0-2d1625fcb2c7",
   "metadata": {},
   "outputs": [
    {
     "data": {
      "text/plain": [
       "True"
      ]
     },
     "execution_count": 62,
     "metadata": {},
     "output_type": "execute_result"
    },
    {
     "data": {
      "text/plain": [
       "False"
      ]
     },
     "execution_count": 62,
     "metadata": {},
     "output_type": "execute_result"
    },
    {
     "data": {
      "text/plain": [
       "True"
      ]
     },
     "execution_count": 62,
     "metadata": {},
     "output_type": "execute_result"
    },
    {
     "data": {
      "text/plain": [
       "True"
      ]
     },
     "execution_count": 62,
     "metadata": {},
     "output_type": "execute_result"
    }
   ],
   "source": [
    "isinstance(date1, date)\n",
    "isinstance(date1, datetime)\n",
    "isinstance(date2, date)\n",
    "isinstance(date2, datetime)"
   ]
  },
  {
   "cell_type": "markdown",
   "id": "e156b752-0a1a-412d-b531-8f9d8e9cd040",
   "metadata": {},
   "source": [
    "***\n",
    "You can convert strings to datetime objects using the strptime() method, but you have tp specift the format. Check https://strftime.org/ for a list of special sequences."
   ]
  },
  {
   "cell_type": "code",
   "execution_count": 99,
   "id": "cb108151-4190-43a2-bc86-10e1b4649eaa",
   "metadata": {},
   "outputs": [
    {
     "data": {
      "text/plain": [
       "datetime.datetime(2022, 5, 1, 0, 0)"
      ]
     },
     "execution_count": 99,
     "metadata": {},
     "output_type": "execute_result"
    },
    {
     "data": {
      "text/plain": [
       "datetime.datetime(1987, 9, 5, 0, 0)"
      ]
     },
     "execution_count": 99,
     "metadata": {},
     "output_type": "execute_result"
    }
   ],
   "source": [
    "string = \"2022-05-01\"\n",
    "new_date = datetime.strptime(\"2022-05-01\", \"%Y-%m-%d\")\n",
    "new_date\n",
    "\n",
    "new_date = datetime.strptime(\"Sep 5, 1987\", \"%b %d, %Y\")\n",
    "new_date"
   ]
  },
  {
   "cell_type": "markdown",
   "id": "4b3120c8-a5a8-48b0-9373-08f89ec8294c",
   "metadata": {},
   "source": [
    "Similary dates can be converted to strings using strftime():"
   ]
  },
  {
   "cell_type": "code",
   "execution_count": 101,
   "id": "f01c7b72-b468-4aa2-8ea7-a5076221edbe",
   "metadata": {},
   "outputs": [
    {
     "data": {
      "text/plain": [
       "datetime.datetime(2022, 10, 17, 19, 15, 44, 410262)"
      ]
     },
     "execution_count": 101,
     "metadata": {},
     "output_type": "execute_result"
    },
    {
     "name": "stdout",
     "output_type": "stream",
     "text": [
      "Monday, October 17 2022\n"
     ]
    }
   ],
   "source": [
    "new_date = datetime.now()\n",
    "new_date\n",
    "print(new_date.strftime(\"%A, %B %d %Y\"))"
   ]
  },
  {
   "cell_type": "markdown",
   "id": "3a3a23f2-1c2c-4ebd-8850-2f3774ad78b4",
   "metadata": {},
   "source": [
    "***\n",
    "A special object, timedelta, is used to compute time differences:"
   ]
  },
  {
   "cell_type": "code",
   "execution_count": 131,
   "id": "e6a5cf5e-6f93-44bb-bd50-b9139fba75e6",
   "metadata": {},
   "outputs": [
    {
     "data": {
      "text/plain": [
       "datetime.timedelta(days=10850, seconds=70050, microseconds=349324)"
      ]
     },
     "execution_count": 131,
     "metadata": {},
     "output_type": "execute_result"
    },
    {
     "name": "stdout",
     "output_type": "stream",
     "text": [
      "You were born 10,850 days ago!\n",
      "1000 Days from today will be a Sunday!\n"
     ]
    }
   ],
   "source": [
    "from datetime import timedelta\n",
    "\n",
    "birthday = datetime(year=1993, month=2, day=1)\n",
    "today = datetime.today()\n",
    "\n",
    "delta = today - birthday \n",
    "delta\n",
    "print(f\"You were born {delta.days:,} days ago!\" )\n",
    "\n",
    "target_date = datetime.today() + timedelta(days=1000)\n",
    "print(f\"1000 Days from today will be a \", target_date.strftime(\"%A\"), \"!\", sep=\"\")"
   ]
  },
  {
   "cell_type": "markdown",
   "id": "17d30b8d-e9f2-44ba-ab89-3726067d803d",
   "metadata": {
    "tags": [],
    "toc-hr-collapsed": true
   },
   "source": [
    "## Sequences"
   ]
  },
  {
   "cell_type": "markdown",
   "id": "6fce3c7b-25a8-473a-b1cc-46be3ac05f54",
   "metadata": {},
   "source": [
    "The past sections discussed objects which contained single units of information, often times we want to create sequences or collections of objects. There are 4 base collection types in python:\n",
    "* Lists\n",
    "* Tuples\n",
    "* Dictionaries\n",
    "* Ranges"
   ]
  },
  {
   "cell_type": "markdown",
   "id": "d1d8253f-9c3f-400c-86a9-f596fcb8be7b",
   "metadata": {
    "jp-MarkdownHeadingCollapsed": true,
    "tags": []
   },
   "source": [
    "### Lists"
   ]
  },
  {
   "cell_type": "markdown",
   "id": "889e0191-62ec-4a2d-a637-5018a55c5883",
   "metadata": {},
   "source": [
    "A python list can be created using square brackets, items within the list can be any object and are seperated by commas"
   ]
  },
  {
   "cell_type": "code",
   "execution_count": 144,
   "id": "fbcb31d1-aad9-4a4b-abf5-405b631e46b7",
   "metadata": {},
   "outputs": [
    {
     "data": {
      "text/plain": [
       "['Living_Room',\n",
       " 'Dining_Room',\n",
       " 'Kitchen',\n",
       " 'Bedroom_1',\n",
       " 'Bedroom_2',\n",
       " 'Bedroom_3']"
      ]
     },
     "execution_count": 144,
     "metadata": {},
     "output_type": "execute_result"
    },
    {
     "data": {
      "text/plain": [
       "list"
      ]
     },
     "execution_count": 144,
     "metadata": {},
     "output_type": "execute_result"
    }
   ],
   "source": [
    "rooms = [\"Living_Room\", \"Dining_Room\", \"Kitchen\", \"Bedroom_1\", \"Bedroom_2\", \"Bedroom_3\"]\n",
    "rooms\n",
    "type(rooms)"
   ]
  },
  {
   "cell_type": "markdown",
   "id": "aef91e6e-8b20-4792-ac6c-b3d76045eacd",
   "metadata": {},
   "source": [
    "you can check for the length of a list using the len() operator"
   ]
  },
  {
   "cell_type": "code",
   "execution_count": 149,
   "id": "45c258cd-3a74-4e1e-90a7-17a2a13bbfc8",
   "metadata": {},
   "outputs": [
    {
     "data": {
      "text/plain": [
       "6"
      ]
     },
     "execution_count": 149,
     "metadata": {},
     "output_type": "execute_result"
    }
   ],
   "source": [
    "len(rooms)"
   ]
  },
  {
   "cell_type": "markdown",
   "id": "4cf17c2f-6159-4d1c-9012-ac234eaaf304",
   "metadata": {},
   "source": [
    "You can access individual items using square brackets and an integer index, we count starting at 0"
   ]
  },
  {
   "cell_type": "code",
   "execution_count": 150,
   "id": "4b0593c1-400c-4510-907b-626ccac99c21",
   "metadata": {},
   "outputs": [
    {
     "data": {
      "text/plain": [
       "'Living_Room'"
      ]
     },
     "execution_count": 150,
     "metadata": {},
     "output_type": "execute_result"
    },
    {
     "data": {
      "text/plain": [
       "'Dining_Room'"
      ]
     },
     "execution_count": 150,
     "metadata": {},
     "output_type": "execute_result"
    },
    {
     "data": {
      "text/plain": [
       "'Kitchen'"
      ]
     },
     "execution_count": 150,
     "metadata": {},
     "output_type": "execute_result"
    },
    {
     "data": {
      "text/plain": [
       "'Bedroom_1'"
      ]
     },
     "execution_count": 150,
     "metadata": {},
     "output_type": "execute_result"
    }
   ],
   "source": [
    "rooms[0]\n",
    "rooms[1]\n",
    "rooms[2]\n",
    "rooms[3]"
   ]
  },
  {
   "cell_type": "markdown",
   "id": "b481c87e-4b26-4055-83f4-bc24d0b4629d",
   "metadata": {},
   "source": [
    "An error will be raised if you use an index beyond the size of the list"
   ]
  },
  {
   "cell_type": "code",
   "execution_count": 151,
   "id": "93d3ad66-49a6-41ab-a746-9cfeb799e1d1",
   "metadata": {},
   "outputs": [
    {
     "ename": "IndexError",
     "evalue": "list index out of range",
     "output_type": "error",
     "traceback": [
      "\u001b[0;31m---------------------------------------------------------------------------\u001b[0m",
      "\u001b[0;31mIndexError\u001b[0m                                Traceback (most recent call last)",
      "Input \u001b[0;32mIn [151]\u001b[0m, in \u001b[0;36m<cell line: 1>\u001b[0;34m()\u001b[0m\n\u001b[0;32m----> 1\u001b[0m \u001b[43mrooms\u001b[49m\u001b[43m[\u001b[49m\u001b[38;5;241;43m10\u001b[39;49m\u001b[43m]\u001b[49m\n",
      "\u001b[0;31mIndexError\u001b[0m: list index out of range"
     ]
    }
   ],
   "source": [
    "rooms[10]"
   ]
  },
  {
   "cell_type": "markdown",
   "id": "9926e31e-b41f-4c59-9143-b984bf22b3fd",
   "metadata": {},
   "source": [
    "you can use negative indicies to start counting from the end of a list instead from the beginning"
   ]
  },
  {
   "cell_type": "code",
   "execution_count": 152,
   "id": "83e3864d-950e-4cf8-b6b2-e802d30790a6",
   "metadata": {},
   "outputs": [
    {
     "data": {
      "text/plain": [
       "'Bedroom_3'"
      ]
     },
     "execution_count": 152,
     "metadata": {},
     "output_type": "execute_result"
    },
    {
     "data": {
      "text/plain": [
       "'Bedroom_2'"
      ]
     },
     "execution_count": 152,
     "metadata": {},
     "output_type": "execute_result"
    }
   ],
   "source": [
    "rooms[-1]\n",
    "rooms[-2]"
   ]
  },
  {
   "cell_type": "markdown",
   "id": "aa55ecd9-b7fe-438a-b4d0-d0c7f4c75872",
   "metadata": {},
   "source": [
    "A sublist can be generate using the syntax start:end:step, ranges are end **exclusive** and the default step is 1. a bla"
   ]
  },
  {
   "cell_type": "code",
   "execution_count": 158,
   "id": "06083f6e-bd6d-4643-b0d2-e1ea74465b86",
   "metadata": {},
   "outputs": [
    {
     "data": {
      "text/plain": [
       "['Dining_Room', 'Kitchen', 'Bedroom_1']"
      ]
     },
     "execution_count": 158,
     "metadata": {},
     "output_type": "execute_result"
    },
    {
     "data": {
      "text/plain": [
       "['Kitchen', 'Bedroom_1', 'Bedroom_2', 'Bedroom_3']"
      ]
     },
     "execution_count": 158,
     "metadata": {},
     "output_type": "execute_result"
    },
    {
     "data": {
      "text/plain": [
       "['Living_Room', 'Dining_Room', 'Kitchen']"
      ]
     },
     "execution_count": 158,
     "metadata": {},
     "output_type": "execute_result"
    },
    {
     "data": {
      "text/plain": [
       "['Bedroom_3',\n",
       " 'Bedroom_2',\n",
       " 'Bedroom_1',\n",
       " 'Kitchen',\n",
       " 'Dining_Room',\n",
       " 'Living_Room']"
      ]
     },
     "execution_count": 158,
     "metadata": {},
     "output_type": "execute_result"
    }
   ],
   "source": [
    "rooms = [\"Living_Room\", \"Dining_Room\", \"Kitchen\", \"Bedroom_1\", \"Bedroom_2\", \"Bedroom_3\"]\n",
    "\n",
    "#index 1 to 4\n",
    "rooms[1:4]\n",
    "\n",
    "#index 2 to end\n",
    "rooms[2:]\n",
    "\n",
    "#start to index 3\n",
    "rooms[:3]\n",
    "\n",
    "#start to end with a step of -1\n",
    "rooms[::-1]"
   ]
  },
  {
   "cell_type": "markdown",
   "id": "ebe3e28a-fbfc-4503-84d7-6a9bedbf7c35",
   "metadata": {},
   "source": [
    "you can also assign to list elements directly"
   ]
  },
  {
   "cell_type": "code",
   "execution_count": 228,
   "id": "94350940-a71d-4707-b11d-a06db530d3bc",
   "metadata": {},
   "outputs": [
    {
     "data": {
      "text/plain": [
       "['Living_Room', 'Dining_Room', 'Kitchen', 'Bedroom_1', 'Bedroom_2']"
      ]
     },
     "execution_count": 228,
     "metadata": {},
     "output_type": "execute_result"
    },
    {
     "data": {
      "text/plain": [
       "['ZZZZZ', 'Dining_Room', 'Kitchen', 'Bedroom_1', 'Bedroom_2']"
      ]
     },
     "execution_count": 228,
     "metadata": {},
     "output_type": "execute_result"
    },
    {
     "data": {
      "text/plain": [
       "['ZZZZZ', 'Dining_Room', 'Kitchen', 'XXXXX', 'Bedroom_2']"
      ]
     },
     "execution_count": 228,
     "metadata": {},
     "output_type": "execute_result"
    },
    {
     "data": {
      "text/plain": [
       "['item_1', 'item_2', 'item_3', 'XXXXX', 'Bedroom_2']"
      ]
     },
     "execution_count": 228,
     "metadata": {},
     "output_type": "execute_result"
    }
   ],
   "source": [
    "rooms = [\"Living_Room\", \"Dining_Room\", \"Kitchen\", \"Bedroom_1\", \"Bedroom_2\"]\n",
    "rooms\n",
    "\n",
    "rooms[0] = \"ZZZZZ\"\n",
    "rooms\n",
    "\n",
    "rooms[3] = \"XXXXX\"\n",
    "rooms\n",
    "\n",
    "\n",
    "rooms[:3] = [\"item_1\", \"item_2\", \"item_3\"]\n",
    "rooms"
   ]
  },
  {
   "cell_type": "markdown",
   "id": "69e11c4e-5093-49b2-aea6-7de5e2ed968b",
   "metadata": {},
   "source": [
    "***\n",
    "Lists can be added together"
   ]
  },
  {
   "cell_type": "code",
   "execution_count": 212,
   "id": "56558910-4ad2-4706-82cf-abc57a7ea6c1",
   "metadata": {},
   "outputs": [
    {
     "data": {
      "text/plain": [
       "['Living_Room',\n",
       " 'Dining_Room',\n",
       " 'Kitchen',\n",
       " 'Bedroom_1',\n",
       " 'Bedroom_2',\n",
       " 'Backyard',\n",
       " 'Patio',\n",
       " 'Balcony_1',\n",
       " 'Balcony_2']"
      ]
     },
     "execution_count": 212,
     "metadata": {},
     "output_type": "execute_result"
    }
   ],
   "source": [
    "rooms = [\"Living_Room\", \"Dining_Room\", \"Kitchen\", \"Bedroom_1\", \"Bedroom_2\"]\n",
    "areas = [\"Backyard\", \"Patio\", \"Balcony_1\", \"Balcony_2\"]\n",
    "\n",
    "rooms + areas"
   ]
  },
  {
   "cell_type": "markdown",
   "id": "00389068-7aaa-439a-8b58-e68541331c49",
   "metadata": {},
   "source": [
    "and can be duplicated with the * operator:"
   ]
  },
  {
   "cell_type": "code",
   "execution_count": 221,
   "id": "f8080858-139c-4224-bbfa-52ba90efb631",
   "metadata": {},
   "outputs": [
    {
     "data": {
      "text/plain": [
       "['Room', 'Room', 'Room', 'Room', 'Room', 'Room', 'Room', 'Room', 'Room']"
      ]
     },
     "execution_count": 221,
     "metadata": {},
     "output_type": "execute_result"
    }
   ],
   "source": [
    "#A list with 9 rooms!\n",
    "[\"Room\"] * 9"
   ]
  },
  {
   "cell_type": "markdown",
   "id": "3246c3c5-6180-4899-8f19-2e4dcea6edef",
   "metadata": {},
   "source": [
    "individual elements can be appended to lists using the append() method:"
   ]
  },
  {
   "cell_type": "code",
   "execution_count": 222,
   "id": "59907ff0-6a61-4f8a-94c8-f772524d6f75",
   "metadata": {},
   "outputs": [
    {
     "data": {
      "text/plain": [
       "[]"
      ]
     },
     "execution_count": 222,
     "metadata": {},
     "output_type": "execute_result"
    },
    {
     "data": {
      "text/plain": [
       "['Living_Room']"
      ]
     },
     "execution_count": 222,
     "metadata": {},
     "output_type": "execute_result"
    },
    {
     "data": {
      "text/plain": [
       "['Living_Room', 'Dining_Room']"
      ]
     },
     "execution_count": 222,
     "metadata": {},
     "output_type": "execute_result"
    }
   ],
   "source": [
    "rooms = list()\n",
    "rooms\n",
    "\n",
    "rooms.append(\"Living_Room\")\n",
    "rooms\n",
    "\n",
    "rooms.append(\"Dining_Room\")\n",
    "rooms"
   ]
  },
  {
   "cell_type": "markdown",
   "id": "38a5ab87-e315-4f79-b8a3-c9a81e4d1569",
   "metadata": {},
   "source": [
    "individual items can be removed from lists using the pop() method or the remove() funciton"
   ]
  },
  {
   "cell_type": "code",
   "execution_count": 223,
   "id": "ddb83782-59c2-4728-877d-c683dc9d455c",
   "metadata": {},
   "outputs": [
    {
     "data": {
      "text/plain": [
       "['Living_Room',\n",
       " 'Dining_Room',\n",
       " 'Kitchen',\n",
       " 'Bedroom_1',\n",
       " 'Bedroom_2',\n",
       " 'Bedroom_3']"
      ]
     },
     "execution_count": 223,
     "metadata": {},
     "output_type": "execute_result"
    },
    {
     "data": {
      "text/plain": [
       "'Bedroom_2'"
      ]
     },
     "execution_count": 223,
     "metadata": {},
     "output_type": "execute_result"
    },
    {
     "data": {
      "text/plain": [
       "['Living_Room', 'Dining_Room', 'Kitchen', 'Bedroom_1', 'Bedroom_3']"
      ]
     },
     "execution_count": 223,
     "metadata": {},
     "output_type": "execute_result"
    }
   ],
   "source": [
    "rooms = [\"Living_Room\", \"Dining_Room\", \"Kitchen\", \"Bedroom_1\", \"Bedroom_2\", \"Bedroom_3\"]\n",
    "rooms\n",
    "#remove element at index 4\n",
    "rooms.pop(4)\n",
    "rooms"
   ]
  },
  {
   "cell_type": "code",
   "execution_count": 224,
   "id": "9310dbe4-c334-4eec-986d-cdd8b87a4710",
   "metadata": {},
   "outputs": [
    {
     "data": {
      "text/plain": [
       "['Living_Room',\n",
       " 'Dining_Room',\n",
       " 'Kitchen',\n",
       " 'Bedroom_1',\n",
       " 'Bedroom_2',\n",
       " 'Bedroom_3']"
      ]
     },
     "execution_count": 224,
     "metadata": {},
     "output_type": "execute_result"
    },
    {
     "data": {
      "text/plain": [
       "['Living_Room', 'Dining_Room', 'Bedroom_1', 'Bedroom_2', 'Bedroom_3']"
      ]
     },
     "execution_count": 224,
     "metadata": {},
     "output_type": "execute_result"
    }
   ],
   "source": [
    "rooms = [\"Living_Room\", \"Dining_Room\", \"Kitchen\", \"Bedroom_1\", \"Bedroom_2\", \"Bedroom_3\"]\n",
    "rooms\n",
    "rooms.remove(\"Kitchen\")\n",
    "rooms"
   ]
  },
  {
   "cell_type": "markdown",
   "id": "f968b119-f061-4ad8-83e8-d48a6b19b66e",
   "metadata": {},
   "source": [
    "trying to remove an element which is not in the list will throw an error:"
   ]
  },
  {
   "cell_type": "code",
   "execution_count": 225,
   "id": "b4b67092-c160-4ddf-a51b-8a7cebc8cafc",
   "metadata": {},
   "outputs": [
    {
     "ename": "ValueError",
     "evalue": "list.remove(x): x not in list",
     "output_type": "error",
     "traceback": [
      "\u001b[0;31m---------------------------------------------------------------------------\u001b[0m",
      "\u001b[0;31mValueError\u001b[0m                                Traceback (most recent call last)",
      "Input \u001b[0;32mIn [225]\u001b[0m, in \u001b[0;36m<cell line: 2>\u001b[0;34m()\u001b[0m\n\u001b[1;32m      1\u001b[0m rooms \u001b[38;5;241m=\u001b[39m [\u001b[38;5;124m\"\u001b[39m\u001b[38;5;124mLiving_Room\u001b[39m\u001b[38;5;124m\"\u001b[39m, \u001b[38;5;124m\"\u001b[39m\u001b[38;5;124mDining_Room\u001b[39m\u001b[38;5;124m\"\u001b[39m, \u001b[38;5;124m\"\u001b[39m\u001b[38;5;124mKitchen\u001b[39m\u001b[38;5;124m\"\u001b[39m, \u001b[38;5;124m\"\u001b[39m\u001b[38;5;124mBedroom_1\u001b[39m\u001b[38;5;124m\"\u001b[39m, \u001b[38;5;124m\"\u001b[39m\u001b[38;5;124mBedroom_2\u001b[39m\u001b[38;5;124m\"\u001b[39m, \u001b[38;5;124m\"\u001b[39m\u001b[38;5;124mBedroom_3\u001b[39m\u001b[38;5;124m\"\u001b[39m]\n\u001b[0;32m----> 2\u001b[0m \u001b[43mrooms\u001b[49m\u001b[38;5;241;43m.\u001b[39;49m\u001b[43mremove\u001b[49m\u001b[43m(\u001b[49m\u001b[38;5;124;43m\"\u001b[39;49m\u001b[38;5;124;43mAtrium\u001b[39;49m\u001b[38;5;124;43m\"\u001b[39;49m\u001b[43m)\u001b[49m\n",
      "\u001b[0;31mValueError\u001b[0m: list.remove(x): x not in list"
     ]
    }
   ],
   "source": [
    "rooms = [\"Living_Room\", \"Dining_Room\", \"Kitchen\", \"Bedroom_1\", \"Bedroom_2\", \"Bedroom_3\"]\n",
    "rooms.remove(\"Atrium\")"
   ]
  },
  {
   "cell_type": "markdown",
   "id": "1844ff4a-6ce1-4a84-97e9-e8d68ef4305b",
   "metadata": {},
   "source": [
    "You can search for individual items using the index() and check if an item is in a list using the *in* keyword. "
   ]
  },
  {
   "cell_type": "code",
   "execution_count": 226,
   "id": "e9066a63-4dbd-4ad2-bbf7-c2cd78b640f4",
   "metadata": {},
   "outputs": [
    {
     "data": {
      "text/plain": [
       "2"
      ]
     },
     "execution_count": 226,
     "metadata": {},
     "output_type": "execute_result"
    },
    {
     "data": {
      "text/plain": [
       "True"
      ]
     },
     "execution_count": 226,
     "metadata": {},
     "output_type": "execute_result"
    },
    {
     "data": {
      "text/plain": [
       "False"
      ]
     },
     "execution_count": 226,
     "metadata": {},
     "output_type": "execute_result"
    },
    {
     "data": {
      "text/plain": [
       "True"
      ]
     },
     "execution_count": 226,
     "metadata": {},
     "output_type": "execute_result"
    }
   ],
   "source": [
    "rooms = [\"Living_Room\", \"Dining_Room\", \"Kitchen\", \"Bedroom_1\", \"Bedroom_2\", \"Bedroom_3\"]\n",
    "rooms.index(\"Kitchen\")\n",
    "\"Kitchen\" in rooms\n",
    "\"Atrium\" in rooms\n",
    "\"Atrium\" not in rooms"
   ]
  },
  {
   "cell_type": "markdown",
   "id": "0023d43f-b347-4c95-8983-181e2cc7d740",
   "metadata": {},
   "source": [
    "Searching for an item which is not in the list will throw an error."
   ]
  },
  {
   "cell_type": "code",
   "execution_count": 190,
   "id": "0cbe1603-3b05-476f-a7ee-ef8d184403f7",
   "metadata": {},
   "outputs": [
    {
     "ename": "ValueError",
     "evalue": "'Atrium' is not in list",
     "output_type": "error",
     "traceback": [
      "\u001b[0;31m---------------------------------------------------------------------------\u001b[0m",
      "\u001b[0;31mValueError\u001b[0m                                Traceback (most recent call last)",
      "Input \u001b[0;32mIn [190]\u001b[0m, in \u001b[0;36m<cell line: 1>\u001b[0;34m()\u001b[0m\n\u001b[0;32m----> 1\u001b[0m \u001b[43mrooms\u001b[49m\u001b[38;5;241;43m.\u001b[39;49m\u001b[43mindex\u001b[49m\u001b[43m(\u001b[49m\u001b[38;5;124;43m\"\u001b[39;49m\u001b[38;5;124;43mAtrium\u001b[39;49m\u001b[38;5;124;43m\"\u001b[39;49m\u001b[43m)\u001b[49m\n",
      "\u001b[0;31mValueError\u001b[0m: 'Atrium' is not in list"
     ]
    }
   ],
   "source": [
    "rooms.index(\"Atrium\")"
   ]
  },
  {
   "cell_type": "markdown",
   "id": "bb98f466-4832-4cce-a858-1a2c4f507dd8",
   "metadata": {
    "jp-MarkdownHeadingCollapsed": true,
    "tags": []
   },
   "source": [
    "### Tuples"
   ]
  },
  {
   "cell_type": "markdown",
   "id": "c6917ba2-a0c1-471b-be68-aee0886325bf",
   "metadata": {},
   "source": [
    "Tuples are a very pythonic data structures, they are basically fixed collections. You can declare a tuple using normal brackets, or by simply seperating items with a comma"
   ]
  },
  {
   "cell_type": "code",
   "execution_count": 233,
   "id": "7ab8bb99-2b7b-4405-a375-a961f2d18c68",
   "metadata": {},
   "outputs": [
    {
     "data": {
      "text/plain": [
       "tuple"
      ]
     },
     "execution_count": 233,
     "metadata": {},
     "output_type": "execute_result"
    },
    {
     "data": {
      "text/plain": [
       "tuple"
      ]
     },
     "execution_count": 233,
     "metadata": {},
     "output_type": "execute_result"
    },
    {
     "data": {
      "text/plain": [
       "True"
      ]
     },
     "execution_count": 233,
     "metadata": {},
     "output_type": "execute_result"
    }
   ],
   "source": [
    "tools = (\"hammer\", \"screw-driver\", \"drill\")\n",
    "tools2 = \"hammer\", \"screw-driver\", \"drill\"\n",
    "\n",
    "type(tools)\n",
    "type(tools2)\n",
    "\n",
    "tools == tools2"
   ]
  },
  {
   "cell_type": "markdown",
   "id": "ae4830e9-fba2-43fb-bb7c-e6d5560363b4",
   "metadata": {},
   "source": [
    "the main difference between lists and tuples is that tuples are immutable, i.e. when they are created you can't change the values inside of them nor their total size."
   ]
  },
  {
   "cell_type": "code",
   "execution_count": 234,
   "id": "3d7e0623-446c-4039-a265-3e08000f523c",
   "metadata": {},
   "outputs": [
    {
     "ename": "AttributeError",
     "evalue": "'tuple' object has no attribute 'append'",
     "output_type": "error",
     "traceback": [
      "\u001b[0;31m---------------------------------------------------------------------------\u001b[0m",
      "\u001b[0;31mAttributeError\u001b[0m                            Traceback (most recent call last)",
      "Input \u001b[0;32mIn [234]\u001b[0m, in \u001b[0;36m<cell line: 2>\u001b[0;34m()\u001b[0m\n\u001b[1;32m      1\u001b[0m tools \u001b[38;5;241m=\u001b[39m (\u001b[38;5;124m\"\u001b[39m\u001b[38;5;124mhammer\u001b[39m\u001b[38;5;124m\"\u001b[39m, \u001b[38;5;124m\"\u001b[39m\u001b[38;5;124mscrew-driver\u001b[39m\u001b[38;5;124m\"\u001b[39m, \u001b[38;5;124m\"\u001b[39m\u001b[38;5;124mdrill\u001b[39m\u001b[38;5;124m\"\u001b[39m)\n\u001b[0;32m----> 2\u001b[0m \u001b[43mtools\u001b[49m\u001b[38;5;241;43m.\u001b[39;49m\u001b[43mappend\u001b[49m(\u001b[38;5;124m\"\u001b[39m\u001b[38;5;124mknife\u001b[39m\u001b[38;5;124m\"\u001b[39m)\n",
      "\u001b[0;31mAttributeError\u001b[0m: 'tuple' object has no attribute 'append'"
     ]
    }
   ],
   "source": [
    "tools = (\"hammer\", \"screw-driver\", \"drill\")\n",
    "tools.append(\"knife\")"
   ]
  },
  {
   "cell_type": "code",
   "execution_count": 235,
   "id": "a24c6f2c-29b9-40c7-bd7f-e3b9f0751cfb",
   "metadata": {},
   "outputs": [
    {
     "ename": "TypeError",
     "evalue": "'tuple' object does not support item assignment",
     "output_type": "error",
     "traceback": [
      "\u001b[0;31m---------------------------------------------------------------------------\u001b[0m",
      "\u001b[0;31mTypeError\u001b[0m                                 Traceback (most recent call last)",
      "Input \u001b[0;32mIn [235]\u001b[0m, in \u001b[0;36m<cell line: 2>\u001b[0;34m()\u001b[0m\n\u001b[1;32m      1\u001b[0m tools \u001b[38;5;241m=\u001b[39m (\u001b[38;5;124m\"\u001b[39m\u001b[38;5;124mhammer\u001b[39m\u001b[38;5;124m\"\u001b[39m, \u001b[38;5;124m\"\u001b[39m\u001b[38;5;124mscrew-driver\u001b[39m\u001b[38;5;124m\"\u001b[39m, \u001b[38;5;124m\"\u001b[39m\u001b[38;5;124mdrill\u001b[39m\u001b[38;5;124m\"\u001b[39m)\n\u001b[0;32m----> 2\u001b[0m tools[\u001b[38;5;241m0\u001b[39m] \u001b[38;5;241m=\u001b[39m \u001b[38;5;124m\"\u001b[39m\u001b[38;5;124mtool_2\u001b[39m\u001b[38;5;124m\"\u001b[39m\n",
      "\u001b[0;31mTypeError\u001b[0m: 'tuple' object does not support item assignment"
     ]
    }
   ],
   "source": [
    "tools = (\"hammer\", \"screw-driver\", \"drill\")\n",
    "tools[0] = \"tool_2\""
   ]
  },
  {
   "cell_type": "markdown",
   "id": "053a5c56-c9f1-490e-8568-89eba30c67d2",
   "metadata": {},
   "source": [
    "tuple items can be unpacked directlty to variable names:"
   ]
  },
  {
   "cell_type": "code",
   "execution_count": 237,
   "id": "6dbb7305-2cf5-41c0-8b56-b6c993db07fc",
   "metadata": {},
   "outputs": [
    {
     "data": {
      "text/plain": [
       "tuple"
      ]
     },
     "execution_count": 237,
     "metadata": {},
     "output_type": "execute_result"
    },
    {
     "data": {
      "text/plain": [
       "'John'"
      ]
     },
     "execution_count": 237,
     "metadata": {},
     "output_type": "execute_result"
    },
    {
     "data": {
      "text/plain": [
       "str"
      ]
     },
     "execution_count": 237,
     "metadata": {},
     "output_type": "execute_result"
    },
    {
     "data": {
      "text/plain": [
       "'Doe'"
      ]
     },
     "execution_count": 237,
     "metadata": {},
     "output_type": "execute_result"
    },
    {
     "data": {
      "text/plain": [
       "str"
      ]
     },
     "execution_count": 237,
     "metadata": {},
     "output_type": "execute_result"
    }
   ],
   "source": [
    "person = (\"John\", \"Doe\")\n",
    "type(person)\n",
    "first, last = person\n",
    "\n",
    "first\n",
    "type(first)\n",
    "\n",
    "last\n",
    "type(last)"
   ]
  },
  {
   "cell_type": "markdown",
   "id": "e7fa451b-7bc4-4e48-82db-14712b05ceed",
   "metadata": {},
   "source": [
    "you can convert between lists and tuples:"
   ]
  },
  {
   "cell_type": "code",
   "execution_count": 252,
   "id": "da151061-1dcd-45b8-964e-9b780b46859c",
   "metadata": {},
   "outputs": [
    {
     "data": {
      "text/plain": [
       "('Apple', 'Orange', 'Pear')"
      ]
     },
     "execution_count": 252,
     "metadata": {},
     "output_type": "execute_result"
    },
    {
     "data": {
      "text/plain": [
       "tuple"
      ]
     },
     "execution_count": 252,
     "metadata": {},
     "output_type": "execute_result"
    },
    {
     "data": {
      "text/plain": [
       "['Apple', 'Orange', 'Pear']"
      ]
     },
     "execution_count": 252,
     "metadata": {},
     "output_type": "execute_result"
    },
    {
     "data": {
      "text/plain": [
       "list"
      ]
     },
     "execution_count": 252,
     "metadata": {},
     "output_type": "execute_result"
    },
    {
     "name": "stdout",
     "output_type": "stream",
     "text": [
      "======================================================================\n"
     ]
    },
    {
     "data": {
      "text/plain": [
       "['Living_Room', 'Dining_Room', 'Kitchen', 'Bedroom_1', 'Bedroom_2']"
      ]
     },
     "execution_count": 252,
     "metadata": {},
     "output_type": "execute_result"
    },
    {
     "data": {
      "text/plain": [
       "list"
      ]
     },
     "execution_count": 252,
     "metadata": {},
     "output_type": "execute_result"
    },
    {
     "data": {
      "text/plain": [
       "('Living_Room', 'Dining_Room', 'Kitchen', 'Bedroom_1', 'Bedroom_2')"
      ]
     },
     "execution_count": 252,
     "metadata": {},
     "output_type": "execute_result"
    },
    {
     "data": {
      "text/plain": [
       "tuple"
      ]
     },
     "execution_count": 252,
     "metadata": {},
     "output_type": "execute_result"
    }
   ],
   "source": [
    "fruits = (\"Apple\", \"Orange\", \"Pear\")\n",
    "fruits\n",
    "type(fruits)\n",
    "\n",
    "fruits_list = list(fruits)\n",
    "fruits_list\n",
    "type(fruits_list)\n",
    "\n",
    "print(\"=\"*70)\n",
    "\n",
    "\n",
    "rooms = [\"Living_Room\", \"Dining_Room\", \"Kitchen\", \"Bedroom_1\", \"Bedroom_2\"]\n",
    "rooms\n",
    "type(rooms)\n",
    "\n",
    "rooms_tuple = tuple(rooms)\n",
    "rooms_tuple\n",
    "type(rooms_tuple)"
   ]
  },
  {
   "cell_type": "markdown",
   "id": "a8747ef6-77a5-42e9-b556-279d7a397d24",
   "metadata": {
    "tags": []
   },
   "source": [
    "### Dictionaries"
   ]
  },
  {
   "cell_type": "markdown",
   "id": "8bfc554f-ffdd-4a88-8189-695ec50c2e91",
   "metadata": {},
   "source": [
    "Dictionaries are key,value pair structures in python:"
   ]
  },
  {
   "cell_type": "code",
   "execution_count": 241,
   "id": "b12a6606-50dd-4bd5-b5fd-31b43e350d97",
   "metadata": {},
   "outputs": [
    {
     "data": {
      "text/plain": [
       "dict"
      ]
     },
     "execution_count": 241,
     "metadata": {},
     "output_type": "execute_result"
    },
    {
     "data": {
      "text/plain": [
       "{'first_name': 'John',\n",
       " 'last_name': 'Doe',\n",
       " 'dob': datetime.date(1993, 2, 1),\n",
       " 'email': 'john.doe@gmail.com',\n",
       " 'mobile': '+971 580 000 000',\n",
       " 'address': 'Unit 1 HIVE JVC, Dubai - UAE'}"
      ]
     },
     "execution_count": 241,
     "metadata": {},
     "output_type": "execute_result"
    }
   ],
   "source": [
    "person = {\n",
    "    \"first_name\": \"John\",\n",
    "    \"last_name\": \"Doe\", \n",
    "    \"dob\": date(year=1993, month=2, day=1),\n",
    "    \"email\": \"john.doe@gmail.com\",\n",
    "    \"mobile\": \"+971 580 000 000\",\n",
    "    \"address\": \"Unit 1 HIVE JVC, Dubai - UAE\",\n",
    "}\n",
    "\n",
    "type(person)\n",
    "person"
   ]
  },
  {
   "cell_type": "markdown",
   "id": "b5d0294f-9f5d-42e6-8f63-37fe65debe3b",
   "metadata": {},
   "source": [
    "you can access elements by using square brackets and a key value:"
   ]
  },
  {
   "cell_type": "code",
   "execution_count": 244,
   "id": "e218208a-0a7c-48d8-80de-189e37e15d5d",
   "metadata": {},
   "outputs": [
    {
     "data": {
      "text/plain": [
       "'John'"
      ]
     },
     "execution_count": 244,
     "metadata": {},
     "output_type": "execute_result"
    },
    {
     "data": {
      "text/plain": [
       "'Doe'"
      ]
     },
     "execution_count": 244,
     "metadata": {},
     "output_type": "execute_result"
    },
    {
     "data": {
      "text/plain": [
       "datetime.date(1993, 2, 1)"
      ]
     },
     "execution_count": 244,
     "metadata": {},
     "output_type": "execute_result"
    }
   ],
   "source": [
    "person['first_name']\n",
    "person['last_name']\n",
    "person['dob']"
   ]
  },
  {
   "cell_type": "markdown",
   "id": "3ea34b91-7d4a-4e2d-992e-ed6821aa1edb",
   "metadata": {},
   "source": [
    "you can update the entry in a dictionary by direct assignment"
   ]
  },
  {
   "cell_type": "code",
   "execution_count": 254,
   "id": "11c36ee8-a6d2-4e46-ad3a-86d703b0baf8",
   "metadata": {},
   "outputs": [
    {
     "data": {
      "text/plain": [
       "{'first_name': 'John',\n",
       " 'last_name': 'Doe',\n",
       " 'dob': datetime.date(1993, 2, 1),\n",
       " 'email': 'john.doe@gmail.com',\n",
       " 'mobile': '+971 580 000 000',\n",
       " 'address': 'Unit 1 HIVE JVC, Dubai - UAE'}"
      ]
     },
     "execution_count": 254,
     "metadata": {},
     "output_type": "execute_result"
    },
    {
     "data": {
      "text/plain": [
       "{'first_name': 'John',\n",
       " 'last_name': 'Doe',\n",
       " 'dob': datetime.date(1993, 2, 1),\n",
       " 'email': 'new_email',\n",
       " 'mobile': '+971 580 000 000',\n",
       " 'address': 'Unit 1 HIVE JVC, Dubai - UAE'}"
      ]
     },
     "execution_count": 254,
     "metadata": {},
     "output_type": "execute_result"
    }
   ],
   "source": [
    "person = {\n",
    "    \"first_name\": \"John\",\n",
    "    \"last_name\": \"Doe\", \n",
    "    \"dob\": date(year=1993, month=2, day=1),\n",
    "    \"email\": \"john.doe@gmail.com\",\n",
    "    \"mobile\": \"+971 580 000 000\",\n",
    "    \"address\": \"Unit 1 HIVE JVC, Dubai - UAE\",\n",
    "}\n",
    "\n",
    "person\n",
    "\n",
    "person[\"email\"] = \"new_email\"\n",
    "\n",
    "person"
   ]
  },
  {
   "cell_type": "markdown",
   "id": "3c0573cc-e037-4665-80e6-f83a46e9ec29",
   "metadata": {},
   "source": [
    "calling the values() methods returns all values in the dictionary. You can cast this into a list or a tuple:"
   ]
  },
  {
   "cell_type": "code",
   "execution_count": 256,
   "id": "04c4874a-15d3-4119-958d-088145c02fab",
   "metadata": {},
   "outputs": [
    {
     "data": {
      "text/plain": [
       "dict_values(['John', 'Doe', datetime.date(1993, 2, 1), 'new_email', '+971 580 000 000', 'Unit 1 HIVE JVC, Dubai - UAE'])"
      ]
     },
     "execution_count": 256,
     "metadata": {},
     "output_type": "execute_result"
    },
    {
     "data": {
      "text/plain": [
       "['John',\n",
       " 'Doe',\n",
       " datetime.date(1993, 2, 1),\n",
       " 'new_email',\n",
       " '+971 580 000 000',\n",
       " 'Unit 1 HIVE JVC, Dubai - UAE']"
      ]
     },
     "execution_count": 256,
     "metadata": {},
     "output_type": "execute_result"
    }
   ],
   "source": [
    "person.values()\n",
    "list(person.values())"
   ]
  },
  {
   "cell_type": "markdown",
   "id": "be7b216c-caa0-4e8a-9d29-2ea36fe7718b",
   "metadata": {},
   "source": [
    "calling the keys() methods retutns all keys in a dictionary"
   ]
  },
  {
   "cell_type": "code",
   "execution_count": 257,
   "id": "8e935b10-1e35-4f86-bd72-2678234ce115",
   "metadata": {},
   "outputs": [
    {
     "data": {
      "text/plain": [
       "dict_keys(['first_name', 'last_name', 'dob', 'email', 'mobile', 'address'])"
      ]
     },
     "execution_count": 257,
     "metadata": {},
     "output_type": "execute_result"
    },
    {
     "data": {
      "text/plain": [
       "['first_name', 'last_name', 'dob', 'email', 'mobile', 'address']"
      ]
     },
     "execution_count": 257,
     "metadata": {},
     "output_type": "execute_result"
    }
   ],
   "source": [
    "person.keys()\n",
    "list(person.keys())"
   ]
  },
  {
   "cell_type": "markdown",
   "id": "35c0bab3-6c5e-440d-b7f2-7426e3be696d",
   "metadata": {},
   "source": [
    "calling the items method returns a list of tuples, each tuple contains a key-value pair:"
   ]
  },
  {
   "cell_type": "code",
   "execution_count": 260,
   "id": "8d082d36-5d54-4201-94ce-d178e0341298",
   "metadata": {},
   "outputs": [
    {
     "data": {
      "text/plain": [
       "dict_items([('first_name', 'John'), ('last_name', 'Doe'), ('dob', datetime.date(1993, 2, 1)), ('email', 'new_email'), ('mobile', '+971 580 000 000'), ('address', 'Unit 1 HIVE JVC, Dubai - UAE')])"
      ]
     },
     "execution_count": 260,
     "metadata": {},
     "output_type": "execute_result"
    },
    {
     "data": {
      "text/plain": [
       "[('first_name', 'John'),\n",
       " ('last_name', 'Doe'),\n",
       " ('dob', datetime.date(1993, 2, 1)),\n",
       " ('email', 'new_email'),\n",
       " ('mobile', '+971 580 000 000'),\n",
       " ('address', 'Unit 1 HIVE JVC, Dubai - UAE')]"
      ]
     },
     "execution_count": 260,
     "metadata": {},
     "output_type": "execute_result"
    }
   ],
   "source": [
    "person.items()\n",
    "list(person.items())"
   ]
  },
  {
   "cell_type": "markdown",
   "id": "1968bae9-7345-4c98-aff0-fa53261e565f",
   "metadata": {},
   "source": [
    "### Special Iterable Functions"
   ]
  },
  {
   "cell_type": "markdown",
   "id": "4bbb8e84-8dbe-41d5-bf1c-fb856b119347",
   "metadata": {
    "tags": []
   },
   "source": [
    "#### Range"
   ]
  },
  {
   "cell_type": "markdown",
   "id": "1e9fa10f-c679-4f12-aee6-302508d3affe",
   "metadata": {},
   "source": [
    "Often times you would require a sequence of numbers as part of your program, the range() function is an easy short-hand to create iterables which count in a sequence, teh syntax is analogous to that of a slice operation: range(start, end, step), the default start is 0 and default step is 1.\n",
    "\n",
    "By default, the range function return a python generator objects. Generators are advanced object types beyond the scope of this tutorial. For now, to expose the structure of a range object we can simply cast to a list of a tuple."
   ]
  },
  {
   "cell_type": "code",
   "execution_count": 277,
   "id": "fc7dfc98-496e-4c42-8d46-a54c56e04f4f",
   "metadata": {},
   "outputs": [
    {
     "data": {
      "text/plain": [
       "[0, 1, 2, 3, 4, 5, 6, 7, 8, 9]"
      ]
     },
     "execution_count": 277,
     "metadata": {},
     "output_type": "execute_result"
    },
    {
     "data": {
      "text/plain": [
       "[4, 6, 8, 10, 12, 14, 16, 18]"
      ]
     },
     "execution_count": 277,
     "metadata": {},
     "output_type": "execute_result"
    },
    {
     "data": {
      "text/plain": [
       "[15, 16, 17, 18, 19, 20, 21, 22, 23, 24]"
      ]
     },
     "execution_count": 277,
     "metadata": {},
     "output_type": "execute_result"
    },
    {
     "data": {
      "text/plain": [
       "[9, 8, 7, 6, 5, 4, 3, 2, 1]"
      ]
     },
     "execution_count": 277,
     "metadata": {},
     "output_type": "execute_result"
    }
   ],
   "source": [
    "list(range(10))\n",
    "\n",
    "list(range(4, 20, 2))\n",
    "\n",
    "list(range(15, 25))\n",
    "\n",
    "list(range(9, 0, -1))"
   ]
  },
  {
   "cell_type": "markdown",
   "id": "c38c404b-c613-4366-9ddb-1f15a0d91148",
   "metadata": {},
   "source": [
    "#### Zip"
   ]
  },
  {
   "cell_type": "markdown",
   "id": "aa74e7eb-51df-40d0-a612-da3a3749fed1",
   "metadata": {},
   "source": [
    "Often times we want to combine two lists togeter, element wise, this is when zip() comes in handy:"
   ]
  },
  {
   "cell_type": "code",
   "execution_count": 7,
   "id": "ceaddaa1-2d62-470f-aa2a-857e0714018a",
   "metadata": {},
   "outputs": [
    {
     "data": {
      "text/plain": [
       "[('John', 18), ('Mike', 24), ('Sarah', 32), ('Mohamad', 19)]"
      ]
     },
     "execution_count": 7,
     "metadata": {},
     "output_type": "execute_result"
    },
    {
     "data": {
      "text/plain": [
       "[('John', 18, 'NYC'),\n",
       " ('Mike', 24, 'Dubai'),\n",
       " ('Sarah', 32, 'Sharjah'),\n",
       " ('Mohamad', 19, 'Abu Dhabi')]"
      ]
     },
     "execution_count": 7,
     "metadata": {},
     "output_type": "execute_result"
    }
   ],
   "source": [
    "name = [\"John\", \"Mike\", \"Sarah\", \"Mohamad\"]\n",
    "age = [18, 24, 32, 19]\n",
    "city = [\"NYC\", \"Dubai\", \"Sharjah\", \"Abu Dhabi\"]\n",
    "\n",
    "\n",
    "list(zip(name, age))\n",
    "\n",
    "list(zip(name, age, city))\n"
   ]
  },
  {
   "cell_type": "markdown",
   "id": "e42b16b1-b9b1-4ec6-9043-db28d896fe68",
   "metadata": {},
   "source": [
    "#### Enumerate"
   ]
  },
  {
   "cell_type": "markdown",
   "id": "b3dc5a15-f9f9-4ac9-92c2-8a9fdc6d4a0d",
   "metadata": {},
   "source": [
    "A special kind of zip is enumerate() which will zip any iterable with it's index"
   ]
  },
  {
   "cell_type": "code",
   "execution_count": 10,
   "id": "79e95d0b-bd11-4d96-b09c-86de84f93edf",
   "metadata": {},
   "outputs": [
    {
     "data": {
      "text/plain": [
       "[(0, 'John'), (1, 'Mike'), (2, 'Sarah'), (3, 'Mohamad')]"
      ]
     },
     "execution_count": 10,
     "metadata": {},
     "output_type": "execute_result"
    }
   ],
   "source": [
    "name = [\"John\", \"Mike\", \"Sarah\", \"Mohamad\"]\n",
    "list(enumerate(name))"
   ]
  },
  {
   "cell_type": "markdown",
   "id": "77be7827-360e-4a04-8235-7b12a486670d",
   "metadata": {
    "tags": [],
    "toc-hr-collapsed": true
   },
   "source": [
    "## Control Flow"
   ]
  },
  {
   "cell_type": "markdown",
   "id": "edd19b3e-b934-4efb-8518-f5644a841f1a",
   "metadata": {},
   "source": [
    "Until now our code cells ran linearly from top to bottom, in order to create complex programs we might require more complex flow patterns, this is achieved with conditionals, loops, and functions."
   ]
  },
  {
   "cell_type": "markdown",
   "id": "89fe6260-1fe1-4be8-add9-efbb93e070ca",
   "metadata": {
    "jp-MarkdownHeadingCollapsed": true,
    "tags": []
   },
   "source": [
    "### Conditionals"
   ]
  },
  {
   "cell_type": "markdown",
   "id": "9e1dcf40-ee3d-4a85-be45-d8d46a0089a2",
   "metadata": {},
   "source": [
    "A basic conditional statement in python consists of an if: statement block."
   ]
  },
  {
   "cell_type": "code",
   "execution_count": 284,
   "id": "84ea2ed7-cba5-4b95-bb5a-1d3abe38ddbb",
   "metadata": {},
   "outputs": [
    {
     "name": "stdout",
     "output_type": "stream",
     "text": [
      "Hello World!\n",
      "This will run regardless of the condition.\n"
     ]
    }
   ],
   "source": [
    "condition = False\n",
    "\n",
    "print(\"Hello World!\")\n",
    "\n",
    "if condition:\n",
    "    print(\"The condition is True!\")\n",
    "\n",
    "print(\"This will run regardless of the condition.\")"
   ]
  },
  {
   "cell_type": "markdown",
   "id": "23b28fd0-8968-462f-8c15-c80ab795e03a",
   "metadata": {},
   "source": [
    "you can add an else-block to each if-block, which will only execure if the condition is not met"
   ]
  },
  {
   "cell_type": "code",
   "execution_count": 285,
   "id": "7cef896a-6b9f-4f24-85dd-84c1556ff19f",
   "metadata": {},
   "outputs": [
    {
     "name": "stdout",
     "output_type": "stream",
     "text": [
      "Hello World!\n",
      "The condition is True!\n",
      "This will run regardless of the condition.\n"
     ]
    }
   ],
   "source": [
    "condition = True\n",
    "\n",
    "print(\"Hello World!\")\n",
    "\n",
    "if condition:\n",
    "    print(\"The condition is True!\")\n",
    "else:\n",
    "    print(\"The condition is False!\")\n",
    "\n",
    "print(\"This will run regardless of the condition.\")"
   ]
  },
  {
   "cell_type": "markdown",
   "id": "037ae00f-cefc-4ebc-99cd-29572cb76bb3",
   "metadata": {},
   "source": [
    "in between if and else statement elif (else-if) statements can be added to check futher conditions:"
   ]
  },
  {
   "cell_type": "code",
   "execution_count": 288,
   "id": "f469c514-5cb4-4760-8d75-79e408eb2acb",
   "metadata": {},
   "outputs": [
    {
     "name": "stdout",
     "output_type": "stream",
     "text": [
      "You got an A\n"
     ]
    }
   ],
   "source": [
    "grade = 90\n",
    "\n",
    "if grade >= 90:\n",
    "    print(\"You got an A\")\n",
    "elif grade >= 80:\n",
    "    print(\"You got a B!\")\n",
    "elif grade >= 70:\n",
    "    print(\"You got a C!\")\n",
    "elif grade >= 60:\n",
    "    print(\"You got a D!\")\n",
    "else:\n",
    "    print(\"Sorry you failed!\")\n",
    "    "
   ]
  },
  {
   "cell_type": "markdown",
   "id": "b22c641e-c29b-4920-9bff-2e27c2ebac03",
   "metadata": {},
   "source": [
    "*** \n",
    "python also has a short-hand ternary operator for quick conditional evaluations:"
   ]
  },
  {
   "cell_type": "code",
   "execution_count": 293,
   "id": "b36f502f-d7da-433e-a79b-662eccf66b76",
   "metadata": {},
   "outputs": [
    {
     "name": "stdout",
     "output_type": "stream",
     "text": [
      "Your age is 20, you are allowed to attend the event!\n"
     ]
    }
   ],
   "source": [
    "age = 20\n",
    "condition = \"allowed\" if age >= 18 else \"not allowed\" \n",
    "\n",
    "print(f\"Your age is {age}, you are {condition} to attend the event!\")"
   ]
  },
  {
   "cell_type": "markdown",
   "id": "6a3c7880-f44c-4c87-bcc2-8f2922cecc01",
   "metadata": {
    "jp-MarkdownHeadingCollapsed": true,
    "tags": []
   },
   "source": [
    "### Case Statements"
   ]
  },
  {
   "cell_type": "markdown",
   "id": "72e46601-c20f-44ae-a18c-7dfbf8010753",
   "metadata": {},
   "source": [
    "to avoid using many if-elif-else statement for specifc comparisons, you can use a match-case statement:"
   ]
  },
  {
   "cell_type": "code",
   "execution_count": 297,
   "id": "7111597d-fbab-4a4b-b220-81f3e566d440",
   "metadata": {},
   "outputs": [
    {
     "name": "stdout",
     "output_type": "stream",
     "text": [
      "404 not found\n"
     ]
    }
   ],
   "source": [
    "http_response_code = 404\n",
    "\n",
    "match http_response_code:\n",
    "    case 200:\n",
    "        print(\"Success!\")\n",
    "    case 404:\n",
    "        print(\"404 not found\")\n",
    "    case 502:\n",
    "        print(\"502 Bad Gateway\")\n",
    "    case _:\n",
    "        print(\"Response Code Not Known\")\n"
   ]
  },
  {
   "cell_type": "markdown",
   "id": "839f6a63-9b8e-4e46-b192-7dfdd46d9e3b",
   "metadata": {
    "jp-MarkdownHeadingCollapsed": true,
    "tags": []
   },
   "source": [
    "### While Loops"
   ]
  },
  {
   "cell_type": "markdown",
   "id": "86b1eaa4-441a-4d02-adc1-0e14f8ca3a2e",
   "metadata": {},
   "source": [
    "while loops are use to repeat a block of code as long as a condition is true"
   ]
  },
  {
   "cell_type": "code",
   "execution_count": 300,
   "id": "86d51d96-dc42-4952-b77c-90a05487375e",
   "metadata": {},
   "outputs": [
    {
     "name": "stdout",
     "output_type": "stream",
     "text": [
      "Sequence is starting ...\n",
      "T - 10 to launch ...\n",
      "T - 09 to launch ...\n",
      "T - 08 to launch ...\n",
      "T - 07 to launch ...\n",
      "T - 06 to launch ...\n",
      "T - 05 to launch ...\n",
      "T - 04 to launch ...\n",
      "T - 03 to launch ...\n",
      "T - 02 to launch ...\n",
      "T - 01 to launch ...\n",
      "Sequence ended\n"
     ]
    }
   ],
   "source": [
    "counter=10\n",
    "\n",
    "print(\"Sequence is starting ...\")\n",
    "\n",
    "while counter > 0:\n",
    "    print(f\"T - {counter:02d} to launch ...\")\n",
    "    counter-=1\n",
    "    \n",
    "print(\"Sequence ended\")\n",
    "    "
   ]
  },
  {
   "cell_type": "markdown",
   "id": "1e3a756d-f481-4961-bb82-3ce910286449",
   "metadata": {},
   "source": [
    "you can also break the loop from within the while block with the *break* keyword"
   ]
  },
  {
   "cell_type": "code",
   "execution_count": 302,
   "id": "112e777e-8099-4b9e-ac77-e5c8577288f8",
   "metadata": {},
   "outputs": [
    {
     "name": "stdout",
     "output_type": "stream",
     "text": [
      "10\n",
      "9\n",
      "8\n",
      "7\n",
      "6\n",
      "5\n",
      "4\n",
      "3\n",
      "2\n",
      "1\n"
     ]
    }
   ],
   "source": [
    "counter = 10\n",
    "\n",
    "while True:\n",
    "    print(counter)\n",
    "    counter-=1\n",
    "    \n",
    "    if counter == 0:\n",
    "        break"
   ]
  },
  {
   "cell_type": "markdown",
   "id": "21bd0f43-c4a6-4022-be5a-048415a55d70",
   "metadata": {
    "tags": []
   },
   "source": [
    "### For Loops"
   ]
  },
  {
   "cell_type": "markdown",
   "id": "2456fc5b-6152-4d2f-93cf-7488a944dacc",
   "metadata": {},
   "source": [
    "for loops are designed to itearte over a sequence of objects, the most classic is to iterate over a range object:"
   ]
  },
  {
   "cell_type": "code",
   "execution_count": 4,
   "id": "ec6a641b-d81a-45d1-b297-e7988e69649d",
   "metadata": {},
   "outputs": [
    {
     "name": "stdout",
     "output_type": "stream",
     "text": [
      "this is iteratio number: 0\n",
      "this is iteratio number: 1\n",
      "this is iteratio number: 2\n",
      "this is iteratio number: 3\n",
      "this is iteratio number: 4\n",
      "this is iteratio number: 5\n",
      "this is iteratio number: 6\n",
      "this is iteratio number: 7\n",
      "this is iteratio number: 8\n",
      "this is iteratio number: 9\n",
      "this is iteratio number: 10\n",
      "this is iteratio number: 11\n",
      "this is iteratio number: 12\n",
      "this is iteratio number: 13\n",
      "this is iteratio number: 14\n",
      "this is iteratio number: 15\n",
      "this is iteratio number: 16\n",
      "this is iteratio number: 17\n",
      "this is iteratio number: 18\n",
      "this is iteratio number: 19\n"
     ]
    }
   ],
   "source": [
    "for i in range(20):\n",
    "    print(f\"this is iteratio number: {i}\")"
   ]
  },
  {
   "cell_type": "markdown",
   "id": "2ba264da-09c3-4d87-bf5a-d83968364ee1",
   "metadata": {},
   "source": [
    "or any other iterable"
   ]
  },
  {
   "cell_type": "code",
   "execution_count": 7,
   "id": "a878814a-a5d3-4283-bba1-4923ba8b34c2",
   "metadata": {},
   "outputs": [
    {
     "name": "stdout",
     "output_type": "stream",
     "text": [
      "John\n",
      "**********\n",
      "Adam\n",
      "**********\n",
      "Sarah\n",
      "**********\n",
      "Mohammad\n",
      "**********\n"
     ]
    }
   ],
   "source": [
    "students = [\"John\", \"Adam\", \"Sarah\", \"Mohammad\"]\n",
    "\n",
    "for student in students:\n",
    "    print(student)\n",
    "    print(\"*\"*10)"
   ]
  },
  {
   "cell_type": "code",
   "execution_count": 8,
   "id": "d5e3a899-a3cb-4eec-93b9-3794a10d5403",
   "metadata": {},
   "outputs": [
    {
     "name": "stdout",
     "output_type": "stream",
     "text": [
      "('John', 'A')\n",
      "('Adam', 'B+')\n",
      "('Sarah', 'C')\n",
      "('Mohammad', 'A')\n"
     ]
    }
   ],
   "source": [
    "students = [\"John\", \"Adam\", \"Sarah\", \"Mohammad\"]\n",
    "grades = [\"A\", \"B+\", \"C\", \"A\"]\n",
    "\n",
    "for x in zip(students, grades):\n",
    "    print(x)"
   ]
  },
  {
   "cell_type": "code",
   "execution_count": 9,
   "id": "df79ccd1-a00a-43d1-8b0a-6018e7a67c2e",
   "metadata": {},
   "outputs": [
    {
     "name": "stdout",
     "output_type": "stream",
     "text": [
      "John got A on the exam!\n",
      "********************\n",
      "Adam got B+ on the exam!\n",
      "********************\n",
      "Sarah got C on the exam!\n",
      "********************\n",
      "Mohammad got A on the exam!\n",
      "********************\n"
     ]
    }
   ],
   "source": [
    "students = [\"John\", \"Adam\", \"Sarah\", \"Mohammad\"]\n",
    "grades = [\"A\", \"B+\", \"C\", \"A\"]\n",
    "\n",
    "for student, grade in zip(students, grades):\n",
    "    print(f\"{student} got {grade} on the exam!\")\n",
    "    print(\"*\"*20)"
   ]
  },
  {
   "cell_type": "code",
   "execution_count": 11,
   "id": "cfeb6629-d117-44ae-b3d4-df9347d90965",
   "metadata": {},
   "outputs": [
    {
     "name": "stdout",
     "output_type": "stream",
     "text": [
      "student 1 got A on the exam!\n",
      "********************\n",
      "student 2 got B+ on the exam!\n",
      "********************\n",
      "student 3 got C on the exam!\n",
      "********************\n",
      "student 4 got A on the exam!\n",
      "********************\n"
     ]
    }
   ],
   "source": [
    "grades = [\"A\", \"B+\", \"C\", \"A\"]\n",
    "\n",
    "for i, grade in enumerate(grades):\n",
    "    print(f\"student {i+1} got {grade} on the exam!\")\n",
    "    print(\"*\"*20)"
   ]
  },
  {
   "cell_type": "code",
   "execution_count": 26,
   "id": "344c61d9-488c-4385-bd53-d2accd9eb590",
   "metadata": {},
   "outputs": [
    {
     "name": "stdout",
     "output_type": "stream",
     "text": [
      "FIRST_NAME\tJohn\n",
      "LAST_NAME\tDoe\n",
      "DOB\t\t1993-02-01\n",
      "EMAIL\t\tjohn.doe@gmail.com\n",
      "MOBILE\t\t+971 580 000 000\n",
      "ADDRESS\t\tUnit 1 HIVE JVC, Dubai - UAE\n"
     ]
    }
   ],
   "source": [
    "from datetime import date\n",
    "\n",
    "person = {\n",
    "    \"first_name\": \"John\",\n",
    "    \"last_name\": \"Doe\", \n",
    "    \"dob\": date(year=1993, month=2, day=1),\n",
    "    \"email\": \"john.doe@gmail.com\",\n",
    "    \"mobile\": \"+971 580 000 000\",\n",
    "    \"address\": \"Unit 1 HIVE JVC, Dubai - UAE\",\n",
    "}\n",
    "\n",
    "for key, value in person.items():\n",
    "    sep = \"\\t\"\n",
    "    if len(key) < 9:\n",
    "        sep=\"\\t\\t\"\n",
    "    \n",
    "    print(f\"{key.upper()}{sep}{value}\")\n",
    "    \n",
    "    "
   ]
  },
  {
   "cell_type": "markdown",
   "id": "65492340-c72d-40d5-b3ad-93fce675408d",
   "metadata": {
    "tags": []
   },
   "source": [
    "### Comprehensions"
   ]
  },
  {
   "cell_type": "markdown",
   "id": "9cd5867b-f84e-4e4f-a30f-04fa8767308d",
   "metadata": {},
   "source": [
    "Comprehensions are short-hand syntax in python to create iterables"
   ]
  },
  {
   "cell_type": "code",
   "execution_count": 14,
   "id": "77ded6ff-27e3-4d8a-9ebb-e0afad1576dc",
   "metadata": {},
   "outputs": [
    {
     "data": {
      "text/plain": [
       "['Student-95', 'Student-96', 'Student-97', 'Student-98', 'Student-99']"
      ]
     },
     "execution_count": 14,
     "metadata": {},
     "output_type": "execute_result"
    }
   ],
   "source": [
    "# I want to create: [\"Student-1\", \"Student-2\", ... , \"Student-100\"]\n",
    "\n",
    "x = [f\"Student-{i}\" for i in range(1,101)]\n",
    "#first 5 elements\n",
    "x[:5]\n",
    "#last 5 elements\n",
    "x[-5:]"
   ]
  },
  {
   "cell_type": "code",
   "execution_count": 16,
   "id": "a9f75d82-93a5-49da-999f-7567d8a2da2f",
   "metadata": {},
   "outputs": [
    {
     "data": {
      "text/plain": [
       "['Student-92', 'Student-94', 'Student-96', 'Student-98', 'Student-100']"
      ]
     },
     "execution_count": 16,
     "metadata": {},
     "output_type": "execute_result"
    }
   ],
   "source": [
    "# I want to create: [\"Student-2\", \"Student-4\", \"Student-6\", ... , \"Student-100\"]\n",
    "\n",
    "x = [f\"Student-{i}\" for i in range(1,101) if i % 2 == 0]\n",
    "#first 5 elements\n",
    "x[:5]\n",
    "#last 5 elements\n",
    "x[-5:]"
   ]
  },
  {
   "cell_type": "markdown",
   "id": "a294a93e-4702-4620-9bf1-de79ae34a072",
   "metadata": {},
   "source": [
    "the same concept applies to dictionaries"
   ]
  },
  {
   "cell_type": "code",
   "execution_count": 30,
   "id": "734b6494-7e39-4d17-a19d-3a43f0c128e8",
   "metadata": {},
   "outputs": [
    {
     "data": {
      "text/plain": [
       "{1: 1,\n",
       " 2: 4,\n",
       " 3: 9,\n",
       " 4: 16,\n",
       " 5: 25,\n",
       " 6: 36,\n",
       " 7: 49,\n",
       " 8: 64,\n",
       " 9: 81,\n",
       " 10: 100,\n",
       " 11: 121,\n",
       " 12: 144,\n",
       " 13: 169,\n",
       " 14: 196,\n",
       " 15: 225,\n",
       " 16: 256,\n",
       " 17: 289,\n",
       " 18: 324,\n",
       " 19: 361,\n",
       " 20: 400,\n",
       " 21: 441,\n",
       " 22: 484,\n",
       " 23: 529,\n",
       " 24: 576,\n",
       " 25: 625,\n",
       " 26: 676,\n",
       " 27: 729,\n",
       " 28: 784,\n",
       " 29: 841,\n",
       " 30: 900,\n",
       " 31: 961,\n",
       " 32: 1024,\n",
       " 33: 1089,\n",
       " 34: 1156,\n",
       " 35: 1225,\n",
       " 36: 1296,\n",
       " 37: 1369,\n",
       " 38: 1444,\n",
       " 39: 1521,\n",
       " 40: 1600,\n",
       " 41: 1681,\n",
       " 42: 1764,\n",
       " 43: 1849,\n",
       " 44: 1936,\n",
       " 45: 2025,\n",
       " 46: 2116,\n",
       " 47: 2209,\n",
       " 48: 2304,\n",
       " 49: 2401,\n",
       " 50: 2500}"
      ]
     },
     "execution_count": 30,
     "metadata": {},
     "output_type": "execute_result"
    }
   ],
   "source": [
    "#I want to create {1:1, 2:4, 3:9, ... , 50:50^2}\n",
    "\n",
    "x = {i:i**2 for i in range(1,51)}\n",
    "x"
   ]
  },
  {
   "cell_type": "markdown",
   "id": "77a4cc3f-4591-416d-a825-a81856204780",
   "metadata": {
    "tags": [],
    "toc-hr-collapsed": true
   },
   "source": [
    "## Functions"
   ]
  },
  {
   "cell_type": "markdown",
   "id": "fd3e5ea3-3001-425a-ba28-f1d90736484a",
   "metadata": {},
   "source": [
    "So far, we've been using in-built functions like len(), zip(), enumerate(), we can also define our own functions:"
   ]
  },
  {
   "cell_type": "code",
   "execution_count": 32,
   "id": "33e3c184-b111-4cff-8781-abc4a24d2305",
   "metadata": {},
   "outputs": [
    {
     "name": "stdout",
     "output_type": "stream",
     "text": [
      "Hello from inside my_function!\n",
      "Hello from inside my_function!\n",
      "Hello from inside my_function!\n",
      "Hello from inside my_function!\n"
     ]
    }
   ],
   "source": [
    "def my_function():\n",
    "    print(\"Hello from inside my_function!\")\n",
    "    \n",
    "my_function()\n",
    "my_function()\n",
    "my_function()\n",
    "my_function()"
   ]
  },
  {
   "cell_type": "markdown",
   "id": "a5145dbb-ed8c-4d06-adc4-5d35f2643597",
   "metadata": {},
   "source": [
    "we can define arguments to be passed into a function:"
   ]
  },
  {
   "cell_type": "code",
   "execution_count": 34,
   "id": "71abbd17-66a8-45a7-ad04-107696a0f582",
   "metadata": {},
   "outputs": [
    {
     "name": "stdout",
     "output_type": "stream",
     "text": [
      "Hello Adam!\n",
      "Hello Ali!\n"
     ]
    }
   ],
   "source": [
    "def my_function(name):\n",
    "    \"\"\"Function to print a geeting!\"\"\"\n",
    "    \n",
    "    print(f\"Hello {name}!\")\n",
    "    \n",
    "my_function(\"Adam\")\n",
    "my_function(\"Ali\")"
   ]
  },
  {
   "cell_type": "code",
   "execution_count": 36,
   "id": "2b2dc092-bc00-4848-aec3-bfff77bb95fa",
   "metadata": {},
   "outputs": [
    {
     "name": "stdout",
     "output_type": "stream",
     "text": [
      "Hello, Adam!\n",
      "Howdy, Ali!\n",
      "What's up, John!\n"
     ]
    }
   ],
   "source": [
    "def my_function(greeting, name):\n",
    "    \"\"\"Function to print a specific greeting followed by name\"\"\"\n",
    "    \n",
    "    print(f\"{greeting}, {name}!\")\n",
    "    \n",
    "my_function(\"Hello\", \"Adam\")\n",
    "my_function(\"Howdy\", \"Ali\")\n",
    "my_function(\"What's up\", \"John\")"
   ]
  },
  {
   "cell_type": "markdown",
   "id": "d3e1d37a-8118-4532-8ae0-2ea8994e136f",
   "metadata": {},
   "source": [
    "if you don't provide a name for the arguments, python will consider them in the specified order of the function definition:"
   ]
  },
  {
   "cell_type": "code",
   "execution_count": 38,
   "id": "4c4aa289-875b-47fe-8c2a-a10dbba4a4b7",
   "metadata": {},
   "outputs": [
    {
     "name": "stdout",
     "output_type": "stream",
     "text": [
      "Adam, Hello!\n",
      "Hello, Adam!\n"
     ]
    }
   ],
   "source": [
    "my_function(\"Adam\", \"Hello\")\n",
    "my_function(\"Hello\", \"Adam\")"
   ]
  },
  {
   "cell_type": "markdown",
   "id": "3d310258-f896-468a-ab1e-27652d024f6c",
   "metadata": {},
   "source": [
    "Specifying an argument name will override the position"
   ]
  },
  {
   "cell_type": "code",
   "execution_count": 39,
   "id": "cac72e27-e547-4558-b328-cb4c48a46793",
   "metadata": {},
   "outputs": [
    {
     "name": "stdout",
     "output_type": "stream",
     "text": [
      "Hello, Adam!\n",
      "Hello, Adam!\n"
     ]
    }
   ],
   "source": [
    "my_function(greeting=\"Hello\", name=\"Adam\")\n",
    "my_function(name=\"Adam\", greeting=\"Hello\")"
   ]
  },
  {
   "cell_type": "markdown",
   "id": "67c52c37-3356-4b98-8760-e77312d07601",
   "metadata": {},
   "source": [
    "calling a function without the correct number of arguments will throw an error"
   ]
  },
  {
   "cell_type": "code",
   "execution_count": 40,
   "id": "b9bd8023-9a45-4351-a2c9-01462173dd2d",
   "metadata": {},
   "outputs": [
    {
     "ename": "TypeError",
     "evalue": "my_function() missing 1 required positional argument: 'name'",
     "output_type": "error",
     "traceback": [
      "\u001b[0;31m---------------------------------------------------------------------------\u001b[0m",
      "\u001b[0;31mTypeError\u001b[0m                                 Traceback (most recent call last)",
      "Input \u001b[0;32mIn [40]\u001b[0m, in \u001b[0;36m<cell line: 1>\u001b[0;34m()\u001b[0m\n\u001b[0;32m----> 1\u001b[0m \u001b[43mmy_function\u001b[49m\u001b[43m(\u001b[49m\u001b[38;5;124;43m\"\u001b[39;49m\u001b[38;5;124;43mAdam\u001b[39;49m\u001b[38;5;124;43m\"\u001b[39;49m\u001b[43m)\u001b[49m\n",
      "\u001b[0;31mTypeError\u001b[0m: my_function() missing 1 required positional argument: 'name'"
     ]
    }
   ],
   "source": [
    "my_function(\"Adam\")"
   ]
  },
  {
   "cell_type": "markdown",
   "id": "2bcd8dd3-b09e-43ba-8cdd-7929fff88295",
   "metadata": {},
   "source": [
    "you can declare default values for arguments in the function definition"
   ]
  },
  {
   "cell_type": "code",
   "execution_count": 45,
   "id": "5af30782-f73a-4e5c-98ac-9fcf509dc236",
   "metadata": {},
   "outputs": [
    {
     "name": "stdout",
     "output_type": "stream",
     "text": [
      "hello, Omar!\n",
      "----------------------------------------------------------------------\n",
      "hello, Adam!\n",
      "hello, Adam!\n",
      "hello, Adam!\n",
      "hello, Adam!\n",
      "hello, Adam!\n"
     ]
    }
   ],
   "source": [
    "def my_function(greeting, name, repeat=1):\n",
    "    \"\"\"Function to print a specific greeting followed by name\"\"\"\n",
    "    \n",
    "    for i in range(repeat):\n",
    "        print(f\"{greeting}, {name}!\")\n",
    "        \n",
    "my_function(\"hello\", \"Omar\")\n",
    "print(\"-\"*70)\n",
    "my_function(\"hello\", \"Adam\", 5)"
   ]
  },
  {
   "cell_type": "markdown",
   "id": "254bf10b-97ae-447e-b8fc-8e4c34df4fa2",
   "metadata": {},
   "source": [
    "functions can also return values from a computation"
   ]
  },
  {
   "cell_type": "code",
   "execution_count": 53,
   "id": "46cc3d5a-3a64-4c23-b077-7d00ef680548",
   "metadata": {},
   "outputs": [
    {
     "name": "stdout",
     "output_type": "stream",
     "text": [
      "100.0 AED is 27.0 USD.\n"
     ]
    }
   ],
   "source": [
    "def aed_to_usd(amount):\n",
    "    usd = 0.27 * amount\n",
    "    return usd\n",
    "\n",
    "_input = 100\n",
    "print(f\"{_input:0.1f} AED is {aed_to_usd(_input):0.1f} USD.\")"
   ]
  },
  {
   "cell_type": "markdown",
   "id": "9835dd50-ce76-4eee-bad7-2d2be712423f",
   "metadata": {},
   "source": [
    "### Lambda Functions"
   ]
  },
  {
   "cell_type": "markdown",
   "id": "c61a80b0-c3e0-49f2-a46b-cc0c0544b43b",
   "metadata": {},
   "source": [
    "lambda functions are short-hand syntax to define functions, they are useful if we need to define simple functions."
   ]
  },
  {
   "cell_type": "code",
   "execution_count": 55,
   "id": "7aff4ccd-3005-485a-a55f-f641a7e4d055",
   "metadata": {},
   "outputs": [
    {
     "data": {
      "text/plain": [
       "6.9849000000000006"
      ]
     },
     "execution_count": 55,
     "metadata": {},
     "output_type": "execute_result"
    }
   ],
   "source": [
    "aed_to_usd = lambda x: x * 0.27\n",
    "\n",
    "aed_to_usd(25.87)"
   ]
  },
  {
   "cell_type": "markdown",
   "id": "6538787f-d0c7-4215-a008-fb0e0369ceb5",
   "metadata": {},
   "source": [
    "A classic use of lambdas is with the inbuilt map() function which applies a function to each item of an iterable. We will also see another application of lambdas when "
   ]
  },
  {
   "cell_type": "code",
   "execution_count": 56,
   "id": "5f69b733-d975-4864-99f4-9cc13f5305cc",
   "metadata": {},
   "outputs": [
    {
     "data": {
      "text/plain": [
       "[100, 225, 441, 900]"
      ]
     },
     "execution_count": 56,
     "metadata": {},
     "output_type": "execute_result"
    }
   ],
   "source": [
    "my_list = [10, 15, 21, 30]\n",
    "list(map(lambda x: x**2, my_list))"
   ]
  },
  {
   "cell_type": "markdown",
   "id": "f981061e-2590-42c5-839c-5ad7597305a3",
   "metadata": {
    "tags": [],
    "toc-hr-collapsed": true
   },
   "source": [
    "## Packages and Modules"
   ]
  },
  {
   "cell_type": "markdown",
   "id": "09d1cd60-f630-4b70-9180-ab529fb098d8",
   "metadata": {},
   "source": [
    "by default python will only be initalized with the required functions/classes for base opeartions. Often times you would require additional functionality which is hidden behing packages/modules. The import statment allows you to load those packages/modules. Modules might contain classes, functions or constants."
   ]
  },
  {
   "cell_type": "code",
   "execution_count": 68,
   "id": "b08ca5f2-6bd1-47c9-bbee-9928329e2c14",
   "metadata": {},
   "outputs": [
    {
     "data": {
      "text/plain": [
       "datetime.date(2050, 1, 1)"
      ]
     },
     "execution_count": 68,
     "metadata": {},
     "output_type": "execute_result"
    }
   ],
   "source": [
    "#you can simply import a whole module\n",
    "import datetime\n",
    "\n",
    "new_date = datetime.date(year=2020, month=3, day=1)\n",
    "new_date\n",
    "\n",
    "# you can also give it an alias\n",
    "import datetime as dt\n",
    "new_date2 = dt.date(year=1993, month=2, day=1)\n",
    "new_date2\n",
    "\n",
    "# or you can import specific function/classes\n",
    "from datetime import date\n",
    "new_date3 = date(year=1987, month=11, day=10)\n",
    "\n",
    "# you can also give it an alias\n",
    "from datetime import date as some_name\n",
    "new_date4 = some_name(year=2050, month=1, day=1)\n",
    "new_date4"
   ]
  },
  {
   "cell_type": "markdown",
   "id": "46ccc6ad-c8a3-4aae-9edb-d2f5e57d3e5c",
   "metadata": {},
   "source": [
    "packages external to python have to be installed seperately using a pakage manager (for example conda). Usually virtual environments which contain all required packaged are also setup for each project to avoid dependency probelms. We will go through the environment setup process in the next exercise."
   ]
  },
  {
   "cell_type": "markdown",
   "id": "e4f33a81-ff10-4a40-bbd3-07cb34487183",
   "metadata": {},
   "source": [
    "## Wrap up demo:"
   ]
  },
  {
   "cell_type": "markdown",
   "id": "ce58f6d9-e18f-4f89-8b12-cdb188148d44",
   "metadata": {},
   "source": [
    "Build a function timer(minutes, comment) which will display a message and count down time."
   ]
  },
  {
   "cell_type": "code",
   "execution_count": null,
   "id": "0b557953-dda8-4ec3-8320-995f1b27341f",
   "metadata": {},
   "outputs": [],
   "source": []
  },
  {
   "cell_type": "markdown",
   "id": "b6478513-4dfc-4c5b-8859-4d745e339ec4",
   "metadata": {},
   "source": [
    "# An Introduction to Panads "
   ]
  },
  {
   "cell_type": "markdown",
   "id": "c8e7fd62-e75b-46a5-97c3-a758fb57ad02",
   "metadata": {},
   "source": [
    "\"pandas is a fast, powerful, flexible and easy to use open source data analysis and manipulation tool, built on top of the Python programming language.\"\n",
    "\n",
    "Timeline\n",
    "* 2008: Development of pandas started\n",
    "* 2009: pandas becomes open source\n",
    "* 2012: First edition of Python for Data Analysis is published\n",
    "* 2015: pandas becomes a NumFOCUS sponsored project\n",
    "* 2018: First in-person core developer sprint\n"
   ]
  },
  {
   "cell_type": "code",
   "execution_count": 72,
   "id": "07f6001f-339c-4e7c-a4ba-865f626c211a",
   "metadata": {},
   "outputs": [],
   "source": [
    "import pandas as pd"
   ]
  },
  {
   "cell_type": "markdown",
   "id": "7a704cdd-0b84-4fe7-afab-253f12c94bb9",
   "metadata": {},
   "source": [
    "we will be working with Dubai visitor data from the Dubai Statistic Center as a warm-up to pandas https://www.dubaipulse.gov.ae/data/dsc-statistics/dsc_visitors-open"
   ]
  },
  {
   "cell_type": "markdown",
   "id": "28a8f006-a827-4ef4-aeeb-639c100bb5d8",
   "metadata": {},
   "source": [
    "## Importing Data"
   ]
  },
  {
   "cell_type": "markdown",
   "id": "9e1bca00-e8ed-4371-a175-60dad9a6d163",
   "metadata": {},
   "source": [
    "csv files can be directly imported into pandas with the read_csv() functions. Other file formats are also supported. You can find all supported file formats here: https://pandas.pydata.org/pandas-docs/stable/user_guide/io.html"
   ]
  },
  {
   "cell_type": "code",
   "execution_count": 78,
   "id": "5f533019-0ba6-45da-8022-c121c1d44a0a",
   "metadata": {},
   "outputs": [
    {
     "data": {
      "text/html": [
       "<div>\n",
       "<style scoped>\n",
       "    .dataframe tbody tr th:only-of-type {\n",
       "        vertical-align: middle;\n",
       "    }\n",
       "\n",
       "    .dataframe tbody tr th {\n",
       "        vertical-align: top;\n",
       "    }\n",
       "\n",
       "    .dataframe thead th {\n",
       "        text-align: right;\n",
       "    }\n",
       "</style>\n",
       "<table border=\"1\" class=\"dataframe\">\n",
       "  <thead>\n",
       "    <tr style=\"text-align: right;\">\n",
       "      <th></th>\n",
       "      <th>year</th>\n",
       "      <th>nationality_ar</th>\n",
       "      <th>nationality_en</th>\n",
       "      <th>visitors_count</th>\n",
       "    </tr>\n",
       "  </thead>\n",
       "  <tbody>\n",
       "    <tr>\n",
       "      <th>0</th>\n",
       "      <td>2015</td>\n",
       "      <td>الهند</td>\n",
       "      <td>India</td>\n",
       "      <td>1601</td>\n",
       "    </tr>\n",
       "    <tr>\n",
       "      <th>1</th>\n",
       "      <td>2015</td>\n",
       "      <td>المملكة العربية السعودية</td>\n",
       "      <td>KSA</td>\n",
       "      <td>1542</td>\n",
       "    </tr>\n",
       "    <tr>\n",
       "      <th>2</th>\n",
       "      <td>2015</td>\n",
       "      <td>المملكة المتحدة</td>\n",
       "      <td>UK</td>\n",
       "      <td>1188</td>\n",
       "    </tr>\n",
       "    <tr>\n",
       "      <th>3</th>\n",
       "      <td>2015</td>\n",
       "      <td>عُمان</td>\n",
       "      <td>Oman</td>\n",
       "      <td>1002</td>\n",
       "    </tr>\n",
       "    <tr>\n",
       "      <th>4</th>\n",
       "      <td>2015</td>\n",
       "      <td>الولايات المتحدة</td>\n",
       "      <td>US</td>\n",
       "      <td>602</td>\n",
       "    </tr>\n",
       "    <tr>\n",
       "      <th>...</th>\n",
       "      <td>...</td>\n",
       "      <td>...</td>\n",
       "      <td>...</td>\n",
       "      <td>...</td>\n",
       "    </tr>\n",
       "    <tr>\n",
       "      <th>125</th>\n",
       "      <td>2020</td>\n",
       "      <td>كازاخستان</td>\n",
       "      <td>Kazakhstan</td>\n",
       "      <td>74</td>\n",
       "    </tr>\n",
       "    <tr>\n",
       "      <th>126</th>\n",
       "      <td>2020</td>\n",
       "      <td>كندا</td>\n",
       "      <td>Canada</td>\n",
       "      <td>59</td>\n",
       "    </tr>\n",
       "    <tr>\n",
       "      <th>127</th>\n",
       "      <td>2020</td>\n",
       "      <td>جمهورية  ايران الإسلامية</td>\n",
       "      <td>Islamic Republic of Iran</td>\n",
       "      <td>59</td>\n",
       "    </tr>\n",
       "    <tr>\n",
       "      <th>128</th>\n",
       "      <td>2020</td>\n",
       "      <td>أخرى</td>\n",
       "      <td>Other</td>\n",
       "      <td>1694</td>\n",
       "    </tr>\n",
       "    <tr>\n",
       "      <th>129</th>\n",
       "      <td>2020</td>\n",
       "      <td>المجموع</td>\n",
       "      <td>Total</td>\n",
       "      <td>5510</td>\n",
       "    </tr>\n",
       "  </tbody>\n",
       "</table>\n",
       "<p>130 rows × 4 columns</p>\n",
       "</div>"
      ],
      "text/plain": [
       "     year            nationality_ar             nationality_en  visitors_count\n",
       "0    2015                     الهند                      India            1601\n",
       "1    2015  المملكة العربية السعودية                        KSA            1542\n",
       "2    2015           المملكة المتحدة                         UK            1188\n",
       "3    2015                     عُمان                       Oman            1002\n",
       "4    2015          الولايات المتحدة                         US             602\n",
       "..    ...                       ...                        ...             ...\n",
       "125  2020                 كازاخستان                 Kazakhstan              74\n",
       "126  2020                      كندا                     Canada              59\n",
       "127  2020  جمهورية  ايران الإسلامية  Islamic Republic of Iran               59\n",
       "128  2020                      أخرى                      Other            1694\n",
       "129  2020                   المجموع                      Total            5510\n",
       "\n",
       "[130 rows x 4 columns]"
      ]
     },
     "execution_count": 78,
     "metadata": {},
     "output_type": "execute_result"
    }
   ],
   "source": [
    "link = \"https://www.dubaipulse.gov.ae/dataset/2f9ccdde-844a-4fe2-a6ef-0bf7404d2c25/resource/02e41f6b-b809-4183-b73e-30093f5bc565/download/visitors_2021-11-09_10-00-00.csv\"\n",
    "visitors_df = pd.read_csv(link)"
   ]
  },
  {
   "cell_type": "markdown",
   "id": "931ade50-5475-4e15-b209-c3ada42a3cdd",
   "metadata": {},
   "source": [
    "## Anatomy of a Dataframe"
   ]
  },
  {
   "cell_type": "code",
   "execution_count": 89,
   "id": "245882f7-ff2f-41a2-9afc-c851dd75420c",
   "metadata": {},
   "outputs": [
    {
     "data": {
      "text/plain": [
       "pandas.core.frame.DataFrame"
      ]
     },
     "execution_count": 89,
     "metadata": {},
     "output_type": "execute_result"
    },
    {
     "name": "stdout",
     "output_type": "stream",
     "text": [
      "\n"
     ]
    },
    {
     "data": {
      "text/html": [
       "<div>\n",
       "<style scoped>\n",
       "    .dataframe tbody tr th:only-of-type {\n",
       "        vertical-align: middle;\n",
       "    }\n",
       "\n",
       "    .dataframe tbody tr th {\n",
       "        vertical-align: top;\n",
       "    }\n",
       "\n",
       "    .dataframe thead th {\n",
       "        text-align: right;\n",
       "    }\n",
       "</style>\n",
       "<table border=\"1\" class=\"dataframe\">\n",
       "  <thead>\n",
       "    <tr style=\"text-align: right;\">\n",
       "      <th></th>\n",
       "      <th>year</th>\n",
       "      <th>nationality_ar</th>\n",
       "      <th>nationality_en</th>\n",
       "      <th>visitors_count</th>\n",
       "    </tr>\n",
       "  </thead>\n",
       "  <tbody>\n",
       "    <tr>\n",
       "      <th>0</th>\n",
       "      <td>2015</td>\n",
       "      <td>الهند</td>\n",
       "      <td>India</td>\n",
       "      <td>1601</td>\n",
       "    </tr>\n",
       "    <tr>\n",
       "      <th>1</th>\n",
       "      <td>2015</td>\n",
       "      <td>المملكة العربية السعودية</td>\n",
       "      <td>KSA</td>\n",
       "      <td>1542</td>\n",
       "    </tr>\n",
       "    <tr>\n",
       "      <th>2</th>\n",
       "      <td>2015</td>\n",
       "      <td>المملكة المتحدة</td>\n",
       "      <td>UK</td>\n",
       "      <td>1188</td>\n",
       "    </tr>\n",
       "    <tr>\n",
       "      <th>3</th>\n",
       "      <td>2015</td>\n",
       "      <td>عُمان</td>\n",
       "      <td>Oman</td>\n",
       "      <td>1002</td>\n",
       "    </tr>\n",
       "    <tr>\n",
       "      <th>4</th>\n",
       "      <td>2015</td>\n",
       "      <td>الولايات المتحدة</td>\n",
       "      <td>US</td>\n",
       "      <td>602</td>\n",
       "    </tr>\n",
       "    <tr>\n",
       "      <th>...</th>\n",
       "      <td>...</td>\n",
       "      <td>...</td>\n",
       "      <td>...</td>\n",
       "      <td>...</td>\n",
       "    </tr>\n",
       "    <tr>\n",
       "      <th>125</th>\n",
       "      <td>2020</td>\n",
       "      <td>كازاخستان</td>\n",
       "      <td>Kazakhstan</td>\n",
       "      <td>74</td>\n",
       "    </tr>\n",
       "    <tr>\n",
       "      <th>126</th>\n",
       "      <td>2020</td>\n",
       "      <td>كندا</td>\n",
       "      <td>Canada</td>\n",
       "      <td>59</td>\n",
       "    </tr>\n",
       "    <tr>\n",
       "      <th>127</th>\n",
       "      <td>2020</td>\n",
       "      <td>جمهورية  ايران الإسلامية</td>\n",
       "      <td>Islamic Republic of Iran</td>\n",
       "      <td>59</td>\n",
       "    </tr>\n",
       "    <tr>\n",
       "      <th>128</th>\n",
       "      <td>2020</td>\n",
       "      <td>أخرى</td>\n",
       "      <td>Other</td>\n",
       "      <td>1694</td>\n",
       "    </tr>\n",
       "    <tr>\n",
       "      <th>129</th>\n",
       "      <td>2020</td>\n",
       "      <td>المجموع</td>\n",
       "      <td>Total</td>\n",
       "      <td>5510</td>\n",
       "    </tr>\n",
       "  </tbody>\n",
       "</table>\n",
       "<p>130 rows × 4 columns</p>\n",
       "</div>"
      ],
      "text/plain": [
       "     year            nationality_ar             nationality_en  visitors_count\n",
       "0    2015                     الهند                      India            1601\n",
       "1    2015  المملكة العربية السعودية                        KSA            1542\n",
       "2    2015           المملكة المتحدة                         UK            1188\n",
       "3    2015                     عُمان                       Oman            1002\n",
       "4    2015          الولايات المتحدة                         US             602\n",
       "..    ...                       ...                        ...             ...\n",
       "125  2020                 كازاخستان                 Kazakhstan              74\n",
       "126  2020                      كندا                     Canada              59\n",
       "127  2020  جمهورية  ايران الإسلامية  Islamic Republic of Iran               59\n",
       "128  2020                      أخرى                      Other            1694\n",
       "129  2020                   المجموع                      Total            5510\n",
       "\n",
       "[130 rows x 4 columns]"
      ]
     },
     "metadata": {},
     "output_type": "display_data"
    }
   ],
   "source": [
    "type(visitors_df)\n",
    "print()\n",
    "display(visitors_df)"
   ]
  },
  {
   "cell_type": "markdown",
   "id": "80523b6d-cfda-4cbf-9af3-0d5d230dd02c",
   "metadata": {},
   "source": [
    "A Pandas **DataFrame** object is a two dimensional data container, similar to a typical excel spreadsheet. Each column of a DataFrame, called a Pandas Series, can have its own data type - int, float, object(string), categorical, or datetime. Togetehr all series make up a DataFrame.\n",
    "\n",
    "<table>\n",
    "    <tr><th>Series1</th><th>Series2</th><th style=\"border:solid red;border-width:2px 2px 0px 2px;\">Series3</th></tr>\n",
    "    <tr><td>1</td><td>True</td><td style=\"border:solid red;border-width:0px 2px 0px 2px;\">mouse</td></tr>\n",
    "    <tr><td>2</td><td>False</td><td style=\"border:solid red;border-width:0px 2px 0px 2px;\">cat</td></tr>\n",
    "    <tr><td>3</td><td>NaN</td><td style=\"border:solid red;border-width:0px 2px 2px 2px;\">dog</td></tr>\n",
    "</table>"
   ]
  },
  {
   "cell_type": "markdown",
   "id": "2e4ee853-810f-4c53-bde4-02c4174c67dd",
   "metadata": {},
   "source": [
    "you can check the shape of a dataframe using the .shape attribute, this retruns a tuple with (rows, columns)"
   ]
  },
  {
   "cell_type": "code",
   "execution_count": 81,
   "id": "816346cb-f68b-4a29-b33f-47ecf9cac533",
   "metadata": {},
   "outputs": [
    {
     "data": {
      "text/plain": [
       "(130, 4)"
      ]
     },
     "execution_count": 81,
     "metadata": {},
     "output_type": "execute_result"
    }
   ],
   "source": [
    "visitors_df.shape"
   ]
  },
  {
   "cell_type": "markdown",
   "id": "66e3e579-4596-4cba-b190-9009c55cc829",
   "metadata": {},
   "source": [
    "you can check the total number of elements of a dataframe using the .size attribute, this retruns an integer."
   ]
  },
  {
   "cell_type": "code",
   "execution_count": 82,
   "id": "3b6f255b-eb7e-4b0f-aae5-4d6dbf812608",
   "metadata": {},
   "outputs": [
    {
     "data": {
      "text/plain": [
       "520"
      ]
     },
     "execution_count": 82,
     "metadata": {},
     "output_type": "execute_result"
    }
   ],
   "source": [
    "visitors_df.size"
   ]
  },
  {
   "cell_type": "markdown",
   "id": "f72bfaa4-4533-4a2a-977d-9ad3a9dc727d",
   "metadata": {},
   "source": [
    "you can check the data type of each column using the .dtype attribute, this returns a Pandas series. Pandas series can be casted to normal python iterables:"
   ]
  },
  {
   "cell_type": "code",
   "execution_count": 94,
   "id": "80fb3282-0ff2-4248-9491-38cefe439152",
   "metadata": {},
   "outputs": [
    {
     "data": {
      "text/plain": [
       "year               int64\n",
       "nationality_ar    object\n",
       "nationality_en    object\n",
       "visitors_count     int64\n",
       "dtype: object"
      ]
     },
     "execution_count": 94,
     "metadata": {},
     "output_type": "execute_result"
    },
    {
     "data": {
      "text/plain": [
       "[dtype('int64'), dtype('O'), dtype('O'), dtype('int64')]"
      ]
     },
     "execution_count": 94,
     "metadata": {},
     "output_type": "execute_result"
    }
   ],
   "source": [
    "visitors_df.dtypes\n",
    "list(visitors_df.dtypes)"
   ]
  },
  {
   "cell_type": "markdown",
   "id": "f572efc1-f3e6-4fb8-be97-b9d24d388b02",
   "metadata": {},
   "source": [
    "you can check column names using the .columns attribute, this returns a special type of Pandas object called an Index. Pandas Index object can also be casted to normal python iterables."
   ]
  },
  {
   "cell_type": "code",
   "execution_count": 96,
   "id": "787858b9-4525-475a-90b8-fe0eb3f338b2",
   "metadata": {},
   "outputs": [
    {
     "data": {
      "text/plain": [
       "Index(['year', 'nationality_ar', 'nationality_en', 'visitors_count'], dtype='object')"
      ]
     },
     "execution_count": 96,
     "metadata": {},
     "output_type": "execute_result"
    },
    {
     "data": {
      "text/plain": [
       "['year', 'nationality_ar', 'nationality_en', 'visitors_count']"
      ]
     },
     "execution_count": 96,
     "metadata": {},
     "output_type": "execute_result"
    }
   ],
   "source": [
    "visitors_df.columns\n",
    "list(visitors_df.columns)"
   ]
  },
  {
   "cell_type": "markdown",
   "id": "9afc254f-af9a-450f-98aa-c3868a5d7846",
   "metadata": {},
   "source": [
    "you can print an infromation report using the .info() method"
   ]
  },
  {
   "cell_type": "code",
   "execution_count": 91,
   "id": "d47fdc7e-7697-4b07-8fbb-ec1db1e1fde5",
   "metadata": {},
   "outputs": [
    {
     "name": "stdout",
     "output_type": "stream",
     "text": [
      "<class 'pandas.core.frame.DataFrame'>\n",
      "RangeIndex: 130 entries, 0 to 129\n",
      "Data columns (total 4 columns):\n",
      " #   Column          Non-Null Count  Dtype \n",
      "---  ------          --------------  ----- \n",
      " 0   year            130 non-null    int64 \n",
      " 1   nationality_ar  130 non-null    object\n",
      " 2   nationality_en  130 non-null    object\n",
      " 3   visitors_count  130 non-null    int64 \n",
      "dtypes: int64(2), object(2)\n",
      "memory usage: 4.2+ KB\n"
     ]
    }
   ],
   "source": [
    "visitors_df.info()"
   ]
  },
  {
   "cell_type": "markdown",
   "id": "1f32238a-6836-4e6e-b44a-6a06eba0ec0f",
   "metadata": {
    "toc-hr-collapsed": true
   },
   "source": [
    "## Accessing and subsetting data"
   ]
  },
  {
   "cell_type": "markdown",
   "id": "6773a283-1fe0-417d-a524-22d2c17cf293",
   "metadata": {},
   "source": [
    "### head()/tail()"
   ]
  },
  {
   "cell_type": "markdown",
   "id": "1dd60782-bb03-41be-a29b-210022b889d2",
   "metadata": {},
   "source": [
    "you can use the .head() and tail() methods to get the first/last n rows (default is 5)."
   ]
  },
  {
   "cell_type": "code",
   "execution_count": 103,
   "id": "30e81132-2824-47fc-9f2c-9aa2b98cbe0c",
   "metadata": {},
   "outputs": [
    {
     "data": {
      "text/html": [
       "<div>\n",
       "<style scoped>\n",
       "    .dataframe tbody tr th:only-of-type {\n",
       "        vertical-align: middle;\n",
       "    }\n",
       "\n",
       "    .dataframe tbody tr th {\n",
       "        vertical-align: top;\n",
       "    }\n",
       "\n",
       "    .dataframe thead th {\n",
       "        text-align: right;\n",
       "    }\n",
       "</style>\n",
       "<table border=\"1\" class=\"dataframe\">\n",
       "  <thead>\n",
       "    <tr style=\"text-align: right;\">\n",
       "      <th></th>\n",
       "      <th>year</th>\n",
       "      <th>nationality_ar</th>\n",
       "      <th>nationality_en</th>\n",
       "      <th>visitors_count</th>\n",
       "    </tr>\n",
       "  </thead>\n",
       "  <tbody>\n",
       "    <tr>\n",
       "      <th>0</th>\n",
       "      <td>2015</td>\n",
       "      <td>الهند</td>\n",
       "      <td>India</td>\n",
       "      <td>1601</td>\n",
       "    </tr>\n",
       "    <tr>\n",
       "      <th>1</th>\n",
       "      <td>2015</td>\n",
       "      <td>المملكة العربية السعودية</td>\n",
       "      <td>KSA</td>\n",
       "      <td>1542</td>\n",
       "    </tr>\n",
       "    <tr>\n",
       "      <th>2</th>\n",
       "      <td>2015</td>\n",
       "      <td>المملكة المتحدة</td>\n",
       "      <td>UK</td>\n",
       "      <td>1188</td>\n",
       "    </tr>\n",
       "    <tr>\n",
       "      <th>3</th>\n",
       "      <td>2015</td>\n",
       "      <td>عُمان</td>\n",
       "      <td>Oman</td>\n",
       "      <td>1002</td>\n",
       "    </tr>\n",
       "    <tr>\n",
       "      <th>4</th>\n",
       "      <td>2015</td>\n",
       "      <td>الولايات المتحدة</td>\n",
       "      <td>US</td>\n",
       "      <td>602</td>\n",
       "    </tr>\n",
       "  </tbody>\n",
       "</table>\n",
       "</div>"
      ],
      "text/plain": [
       "   year            nationality_ar nationality_en  visitors_count\n",
       "0  2015                     الهند          India            1601\n",
       "1  2015  المملكة العربية السعودية            KSA            1542\n",
       "2  2015           المملكة المتحدة             UK            1188\n",
       "3  2015                     عُمان           Oman            1002\n",
       "4  2015          الولايات المتحدة             US             602"
      ]
     },
     "execution_count": 103,
     "metadata": {},
     "output_type": "execute_result"
    }
   ],
   "source": [
    "visitors_df.head()"
   ]
  },
  {
   "cell_type": "code",
   "execution_count": 104,
   "id": "b8165df7-cb3b-4b6c-be22-09ff70782279",
   "metadata": {},
   "outputs": [
    {
     "data": {
      "text/html": [
       "<div>\n",
       "<style scoped>\n",
       "    .dataframe tbody tr th:only-of-type {\n",
       "        vertical-align: middle;\n",
       "    }\n",
       "\n",
       "    .dataframe tbody tr th {\n",
       "        vertical-align: top;\n",
       "    }\n",
       "\n",
       "    .dataframe thead th {\n",
       "        text-align: right;\n",
       "    }\n",
       "</style>\n",
       "<table border=\"1\" class=\"dataframe\">\n",
       "  <thead>\n",
       "    <tr style=\"text-align: right;\">\n",
       "      <th></th>\n",
       "      <th>year</th>\n",
       "      <th>nationality_ar</th>\n",
       "      <th>nationality_en</th>\n",
       "      <th>visitors_count</th>\n",
       "    </tr>\n",
       "  </thead>\n",
       "  <tbody>\n",
       "    <tr>\n",
       "      <th>125</th>\n",
       "      <td>2020</td>\n",
       "      <td>كازاخستان</td>\n",
       "      <td>Kazakhstan</td>\n",
       "      <td>74</td>\n",
       "    </tr>\n",
       "    <tr>\n",
       "      <th>126</th>\n",
       "      <td>2020</td>\n",
       "      <td>كندا</td>\n",
       "      <td>Canada</td>\n",
       "      <td>59</td>\n",
       "    </tr>\n",
       "    <tr>\n",
       "      <th>127</th>\n",
       "      <td>2020</td>\n",
       "      <td>جمهورية  ايران الإسلامية</td>\n",
       "      <td>Islamic Republic of Iran</td>\n",
       "      <td>59</td>\n",
       "    </tr>\n",
       "    <tr>\n",
       "      <th>128</th>\n",
       "      <td>2020</td>\n",
       "      <td>أخرى</td>\n",
       "      <td>Other</td>\n",
       "      <td>1694</td>\n",
       "    </tr>\n",
       "    <tr>\n",
       "      <th>129</th>\n",
       "      <td>2020</td>\n",
       "      <td>المجموع</td>\n",
       "      <td>Total</td>\n",
       "      <td>5510</td>\n",
       "    </tr>\n",
       "  </tbody>\n",
       "</table>\n",
       "</div>"
      ],
      "text/plain": [
       "     year            nationality_ar             nationality_en  visitors_count\n",
       "125  2020                 كازاخستان                 Kazakhstan              74\n",
       "126  2020                      كندا                     Canada              59\n",
       "127  2020  جمهورية  ايران الإسلامية  Islamic Republic of Iran               59\n",
       "128  2020                      أخرى                      Other            1694\n",
       "129  2020                   المجموع                      Total            5510"
      ]
     },
     "execution_count": 104,
     "metadata": {},
     "output_type": "execute_result"
    }
   ],
   "source": [
    "visitors_df.tail()"
   ]
  },
  {
   "cell_type": "code",
   "execution_count": 105,
   "id": "2ad1c0a2-f247-49cf-b754-468d24b9b517",
   "metadata": {},
   "outputs": [
    {
     "data": {
      "text/html": [
       "<div>\n",
       "<style scoped>\n",
       "    .dataframe tbody tr th:only-of-type {\n",
       "        vertical-align: middle;\n",
       "    }\n",
       "\n",
       "    .dataframe tbody tr th {\n",
       "        vertical-align: top;\n",
       "    }\n",
       "\n",
       "    .dataframe thead th {\n",
       "        text-align: right;\n",
       "    }\n",
       "</style>\n",
       "<table border=\"1\" class=\"dataframe\">\n",
       "  <thead>\n",
       "    <tr style=\"text-align: right;\">\n",
       "      <th></th>\n",
       "      <th>year</th>\n",
       "      <th>nationality_ar</th>\n",
       "      <th>nationality_en</th>\n",
       "      <th>visitors_count</th>\n",
       "    </tr>\n",
       "  </thead>\n",
       "  <tbody>\n",
       "    <tr>\n",
       "      <th>0</th>\n",
       "      <td>2015</td>\n",
       "      <td>الهند</td>\n",
       "      <td>India</td>\n",
       "      <td>1601</td>\n",
       "    </tr>\n",
       "    <tr>\n",
       "      <th>1</th>\n",
       "      <td>2015</td>\n",
       "      <td>المملكة العربية السعودية</td>\n",
       "      <td>KSA</td>\n",
       "      <td>1542</td>\n",
       "    </tr>\n",
       "    <tr>\n",
       "      <th>2</th>\n",
       "      <td>2015</td>\n",
       "      <td>المملكة المتحدة</td>\n",
       "      <td>UK</td>\n",
       "      <td>1188</td>\n",
       "    </tr>\n",
       "    <tr>\n",
       "      <th>3</th>\n",
       "      <td>2015</td>\n",
       "      <td>عُمان</td>\n",
       "      <td>Oman</td>\n",
       "      <td>1002</td>\n",
       "    </tr>\n",
       "    <tr>\n",
       "      <th>4</th>\n",
       "      <td>2015</td>\n",
       "      <td>الولايات المتحدة</td>\n",
       "      <td>US</td>\n",
       "      <td>602</td>\n",
       "    </tr>\n",
       "    <tr>\n",
       "      <th>5</th>\n",
       "      <td>2015</td>\n",
       "      <td>باكستان</td>\n",
       "      <td>Pakistan</td>\n",
       "      <td>513</td>\n",
       "    </tr>\n",
       "    <tr>\n",
       "      <th>6</th>\n",
       "      <td>2015</td>\n",
       "      <td>جمهورية  ايران الإسلامية</td>\n",
       "      <td>Islamic Republic of Iran</td>\n",
       "      <td>462</td>\n",
       "    </tr>\n",
       "  </tbody>\n",
       "</table>\n",
       "</div>"
      ],
      "text/plain": [
       "   year            nationality_ar             nationality_en  visitors_count\n",
       "0  2015                     الهند                      India            1601\n",
       "1  2015  المملكة العربية السعودية                        KSA            1542\n",
       "2  2015           المملكة المتحدة                         UK            1188\n",
       "3  2015                     عُمان                       Oman            1002\n",
       "4  2015          الولايات المتحدة                         US             602\n",
       "5  2015                   باكستان                   Pakistan             513\n",
       "6  2015  جمهورية  ايران الإسلامية  Islamic Republic of Iran              462"
      ]
     },
     "execution_count": 105,
     "metadata": {},
     "output_type": "execute_result"
    }
   ],
   "source": [
    "visitors_df.head(7)"
   ]
  },
  {
   "cell_type": "markdown",
   "id": "6b547c86-6834-4e82-966a-9b1636eef933",
   "metadata": {},
   "source": [
    "### Direct Indexing"
   ]
  },
  {
   "cell_type": "markdown",
   "id": "a76e2a4e-c4f2-4080-b7de-0c2f4898d2cb",
   "metadata": {},
   "source": [
    "you can access individual series by passing the column name, this returns a Pandas Series."
   ]
  },
  {
   "cell_type": "markdown",
   "id": "50a53fe3-1c83-4b95-a477-363ff7297895",
   "metadata": {},
   "source": [
    "you can access individual rows by passing a slice (similar to normal python iterable)"
   ]
  },
  {
   "cell_type": "code",
   "execution_count": 115,
   "id": "73a6c53a-dc04-4c56-bc29-410bf448af1e",
   "metadata": {
    "tags": []
   },
   "outputs": [
    {
     "data": {
      "text/html": [
       "<div>\n",
       "<style scoped>\n",
       "    .dataframe tbody tr th:only-of-type {\n",
       "        vertical-align: middle;\n",
       "    }\n",
       "\n",
       "    .dataframe tbody tr th {\n",
       "        vertical-align: top;\n",
       "    }\n",
       "\n",
       "    .dataframe thead th {\n",
       "        text-align: right;\n",
       "    }\n",
       "</style>\n",
       "<table border=\"1\" class=\"dataframe\">\n",
       "  <thead>\n",
       "    <tr style=\"text-align: right;\">\n",
       "      <th></th>\n",
       "      <th>year</th>\n",
       "      <th>nationality_ar</th>\n",
       "      <th>nationality_en</th>\n",
       "      <th>visitors_count</th>\n",
       "    </tr>\n",
       "  </thead>\n",
       "  <tbody>\n",
       "    <tr>\n",
       "      <th>50</th>\n",
       "      <td>2017</td>\n",
       "      <td>الصين</td>\n",
       "      <td>China</td>\n",
       "      <td>764</td>\n",
       "    </tr>\n",
       "    <tr>\n",
       "      <th>51</th>\n",
       "      <td>2017</td>\n",
       "      <td>جمهورية  ايران الإسلامية</td>\n",
       "      <td>Islamic Republic of Iran</td>\n",
       "      <td>503</td>\n",
       "    </tr>\n",
       "    <tr>\n",
       "      <th>52</th>\n",
       "      <td>2017</td>\n",
       "      <td>ألمانيا</td>\n",
       "      <td>Germany</td>\n",
       "      <td>506</td>\n",
       "    </tr>\n",
       "    <tr>\n",
       "      <th>53</th>\n",
       "      <td>2017</td>\n",
       "      <td>الكويت</td>\n",
       "      <td>Kuwait</td>\n",
       "      <td>402</td>\n",
       "    </tr>\n",
       "    <tr>\n",
       "      <th>54</th>\n",
       "      <td>2017</td>\n",
       "      <td>الفلبين</td>\n",
       "      <td>Philippines</td>\n",
       "      <td>405</td>\n",
       "    </tr>\n",
       "    <tr>\n",
       "      <th>55</th>\n",
       "      <td>2017</td>\n",
       "      <td>مصر</td>\n",
       "      <td>Egypt</td>\n",
       "      <td>288</td>\n",
       "    </tr>\n",
       "    <tr>\n",
       "      <th>56</th>\n",
       "      <td>2017</td>\n",
       "      <td>أستراليا</td>\n",
       "      <td>Australia</td>\n",
       "      <td>279</td>\n",
       "    </tr>\n",
       "    <tr>\n",
       "      <th>57</th>\n",
       "      <td>2017</td>\n",
       "      <td>فرنسا</td>\n",
       "      <td>France</td>\n",
       "      <td>298</td>\n",
       "    </tr>\n",
       "    <tr>\n",
       "      <th>58</th>\n",
       "      <td>2017</td>\n",
       "      <td>الاتحاد الروسي</td>\n",
       "      <td>Russian Federation</td>\n",
       "      <td>530</td>\n",
       "    </tr>\n",
       "    <tr>\n",
       "      <th>59</th>\n",
       "      <td>2017</td>\n",
       "      <td>إيطاليا</td>\n",
       "      <td>Italy</td>\n",
       "      <td>214</td>\n",
       "    </tr>\n",
       "  </tbody>\n",
       "</table>\n",
       "</div>"
      ],
      "text/plain": [
       "    year            nationality_ar             nationality_en  visitors_count\n",
       "50  2017                     الصين                      China             764\n",
       "51  2017  جمهورية  ايران الإسلامية  Islamic Republic of Iran              503\n",
       "52  2017                   ألمانيا                    Germany             506\n",
       "53  2017                    الكويت                     Kuwait             402\n",
       "54  2017                   الفلبين                Philippines             405\n",
       "55  2017                       مصر                      Egypt             288\n",
       "56  2017                  أستراليا                  Australia             279\n",
       "57  2017                     فرنسا                     France             298\n",
       "58  2017            الاتحاد الروسي         Russian Federation             530\n",
       "59  2017                   إيطاليا                      Italy             214"
      ]
     },
     "execution_count": 115,
     "metadata": {},
     "output_type": "execute_result"
    }
   ],
   "source": [
    "visitors_df[50:60]"
   ]
  },
  {
   "cell_type": "code",
   "execution_count": 99,
   "id": "95c332f6-ef57-4388-ada6-83fdfe308b0f",
   "metadata": {},
   "outputs": [
    {
     "data": {
      "text/plain": [
       "0      2015\n",
       "1      2015\n",
       "2      2015\n",
       "3      2015\n",
       "4      2015\n",
       "       ... \n",
       "125    2020\n",
       "126    2020\n",
       "127    2020\n",
       "128    2020\n",
       "129    2020\n",
       "Name: year, Length: 130, dtype: int64"
      ]
     },
     "execution_count": 99,
     "metadata": {},
     "output_type": "execute_result"
    }
   ],
   "source": [
    "visitors_df[\"year\"]"
   ]
  },
  {
   "cell_type": "markdown",
   "id": "0c7a342b-929b-4163-8386-3c95605283b7",
   "metadata": {},
   "source": [
    "passing a list of column names will return a dataframe with the columns in corresponding order"
   ]
  },
  {
   "cell_type": "code",
   "execution_count": 101,
   "id": "5ab16c2c-ea09-48f2-bbba-568720d1fd1b",
   "metadata": {},
   "outputs": [
    {
     "data": {
      "text/html": [
       "<div>\n",
       "<style scoped>\n",
       "    .dataframe tbody tr th:only-of-type {\n",
       "        vertical-align: middle;\n",
       "    }\n",
       "\n",
       "    .dataframe tbody tr th {\n",
       "        vertical-align: top;\n",
       "    }\n",
       "\n",
       "    .dataframe thead th {\n",
       "        text-align: right;\n",
       "    }\n",
       "</style>\n",
       "<table border=\"1\" class=\"dataframe\">\n",
       "  <thead>\n",
       "    <tr style=\"text-align: right;\">\n",
       "      <th></th>\n",
       "      <th>nationality_en</th>\n",
       "      <th>year</th>\n",
       "    </tr>\n",
       "  </thead>\n",
       "  <tbody>\n",
       "    <tr>\n",
       "      <th>0</th>\n",
       "      <td>India</td>\n",
       "      <td>2015</td>\n",
       "    </tr>\n",
       "    <tr>\n",
       "      <th>1</th>\n",
       "      <td>KSA</td>\n",
       "      <td>2015</td>\n",
       "    </tr>\n",
       "    <tr>\n",
       "      <th>2</th>\n",
       "      <td>UK</td>\n",
       "      <td>2015</td>\n",
       "    </tr>\n",
       "    <tr>\n",
       "      <th>3</th>\n",
       "      <td>Oman</td>\n",
       "      <td>2015</td>\n",
       "    </tr>\n",
       "    <tr>\n",
       "      <th>4</th>\n",
       "      <td>US</td>\n",
       "      <td>2015</td>\n",
       "    </tr>\n",
       "    <tr>\n",
       "      <th>...</th>\n",
       "      <td>...</td>\n",
       "      <td>...</td>\n",
       "    </tr>\n",
       "    <tr>\n",
       "      <th>125</th>\n",
       "      <td>Kazakhstan</td>\n",
       "      <td>2020</td>\n",
       "    </tr>\n",
       "    <tr>\n",
       "      <th>126</th>\n",
       "      <td>Canada</td>\n",
       "      <td>2020</td>\n",
       "    </tr>\n",
       "    <tr>\n",
       "      <th>127</th>\n",
       "      <td>Islamic Republic of Iran</td>\n",
       "      <td>2020</td>\n",
       "    </tr>\n",
       "    <tr>\n",
       "      <th>128</th>\n",
       "      <td>Other</td>\n",
       "      <td>2020</td>\n",
       "    </tr>\n",
       "    <tr>\n",
       "      <th>129</th>\n",
       "      <td>Total</td>\n",
       "      <td>2020</td>\n",
       "    </tr>\n",
       "  </tbody>\n",
       "</table>\n",
       "<p>130 rows × 2 columns</p>\n",
       "</div>"
      ],
      "text/plain": [
       "                nationality_en  year\n",
       "0                        India  2015\n",
       "1                          KSA  2015\n",
       "2                           UK  2015\n",
       "3                         Oman  2015\n",
       "4                           US  2015\n",
       "..                         ...   ...\n",
       "125                 Kazakhstan  2020\n",
       "126                     Canada  2020\n",
       "127  Islamic Republic of Iran   2020\n",
       "128                      Other  2020\n",
       "129                      Total  2020\n",
       "\n",
       "[130 rows x 2 columns]"
      ]
     },
     "execution_count": 101,
     "metadata": {},
     "output_type": "execute_result"
    }
   ],
   "source": [
    "visitors_df[[\"nationality_en\", \"year\"]]"
   ]
  },
  {
   "cell_type": "markdown",
   "id": "cf3fbd89-5dfb-4455-8044-d9b45ff4e911",
   "metadata": {},
   "source": [
    "### Loc and iloc"
   ]
  },
  {
   "cell_type": "markdown",
   "id": "51912d87-99e1-4a76-9d92-ba2d4d467765",
   "metadata": {},
   "source": [
    "you can \"locate\" records using the .loc[] and .iloc[] methods. loc accepts columns and index 'names', while iloc (integer-loc) accepts integer slices.\n"
   ]
  },
  {
   "cell_type": "code",
   "execution_count": 102,
   "id": "42f81153-7826-4a4d-9376-20be888748c4",
   "metadata": {},
   "outputs": [
    {
     "data": {
      "text/html": [
       "<div>\n",
       "<style scoped>\n",
       "    .dataframe tbody tr th:only-of-type {\n",
       "        vertical-align: middle;\n",
       "    }\n",
       "\n",
       "    .dataframe tbody tr th {\n",
       "        vertical-align: top;\n",
       "    }\n",
       "\n",
       "    .dataframe thead th {\n",
       "        text-align: right;\n",
       "    }\n",
       "</style>\n",
       "<table border=\"1\" class=\"dataframe\">\n",
       "  <thead>\n",
       "    <tr style=\"text-align: right;\">\n",
       "      <th></th>\n",
       "      <th>nationality_en</th>\n",
       "      <th>visitors_count</th>\n",
       "    </tr>\n",
       "  </thead>\n",
       "  <tbody>\n",
       "    <tr>\n",
       "      <th>0</th>\n",
       "      <td>India</td>\n",
       "      <td>1601</td>\n",
       "    </tr>\n",
       "    <tr>\n",
       "      <th>1</th>\n",
       "      <td>KSA</td>\n",
       "      <td>1542</td>\n",
       "    </tr>\n",
       "    <tr>\n",
       "      <th>2</th>\n",
       "      <td>UK</td>\n",
       "      <td>1188</td>\n",
       "    </tr>\n",
       "    <tr>\n",
       "      <th>3</th>\n",
       "      <td>Oman</td>\n",
       "      <td>1002</td>\n",
       "    </tr>\n",
       "    <tr>\n",
       "      <th>4</th>\n",
       "      <td>US</td>\n",
       "      <td>602</td>\n",
       "    </tr>\n",
       "  </tbody>\n",
       "</table>\n",
       "</div>"
      ],
      "text/plain": [
       "  nationality_en  visitors_count\n",
       "0          India            1601\n",
       "1            KSA            1542\n",
       "2             UK            1188\n",
       "3           Oman            1002\n",
       "4             US             602"
      ]
     },
     "execution_count": 102,
     "metadata": {},
     "output_type": "execute_result"
    }
   ],
   "source": [
    "#first 5 rows, last two columns\n",
    "visitors_df.iloc[0:5, -2:]"
   ]
  },
  {
   "cell_type": "code",
   "execution_count": 117,
   "id": "14838fe9-6c96-498f-a6c4-96b7b09da58f",
   "metadata": {},
   "outputs": [
    {
     "data": {
      "text/html": [
       "<div>\n",
       "<style scoped>\n",
       "    .dataframe tbody tr th:only-of-type {\n",
       "        vertical-align: middle;\n",
       "    }\n",
       "\n",
       "    .dataframe tbody tr th {\n",
       "        vertical-align: top;\n",
       "    }\n",
       "\n",
       "    .dataframe thead th {\n",
       "        text-align: right;\n",
       "    }\n",
       "</style>\n",
       "<table border=\"1\" class=\"dataframe\">\n",
       "  <thead>\n",
       "    <tr style=\"text-align: right;\">\n",
       "      <th></th>\n",
       "      <th>nationality_en</th>\n",
       "      <th>visitors_count</th>\n",
       "    </tr>\n",
       "  </thead>\n",
       "  <tbody>\n",
       "    <tr>\n",
       "      <th>0</th>\n",
       "      <td>India</td>\n",
       "      <td>1601</td>\n",
       "    </tr>\n",
       "    <tr>\n",
       "      <th>1</th>\n",
       "      <td>KSA</td>\n",
       "      <td>1542</td>\n",
       "    </tr>\n",
       "    <tr>\n",
       "      <th>2</th>\n",
       "      <td>UK</td>\n",
       "      <td>1188</td>\n",
       "    </tr>\n",
       "    <tr>\n",
       "      <th>3</th>\n",
       "      <td>Oman</td>\n",
       "      <td>1002</td>\n",
       "    </tr>\n",
       "    <tr>\n",
       "      <th>4</th>\n",
       "      <td>US</td>\n",
       "      <td>602</td>\n",
       "    </tr>\n",
       "    <tr>\n",
       "      <th>5</th>\n",
       "      <td>Pakistan</td>\n",
       "      <td>513</td>\n",
       "    </tr>\n",
       "  </tbody>\n",
       "</table>\n",
       "</div>"
      ],
      "text/plain": [
       "  nationality_en  visitors_count\n",
       "0          India            1601\n",
       "1            KSA            1542\n",
       "2             UK            1188\n",
       "3           Oman            1002\n",
       "4             US             602\n",
       "5       Pakistan             513"
      ]
     },
     "execution_count": 117,
     "metadata": {},
     "output_type": "execute_result"
    }
   ],
   "source": [
    "visitors_df.loc[0:5, \"nationality_en\":\"visitors_count\"]"
   ]
  },
  {
   "cell_type": "markdown",
   "id": "5fe5790e-c04e-47b7-bac6-e6c7ffab6b00",
   "metadata": {},
   "source": [
    "### Boolean index"
   ]
  },
  {
   "cell_type": "markdown",
   "id": "15cf929d-ee13-4898-ae77-4ca1b5f00690",
   "metadata": {},
   "source": [
    "you can pass a list of booleans to directly filter rows:"
   ]
  },
  {
   "cell_type": "code",
   "execution_count": 123,
   "id": "d591388f-58db-4760-a47d-f4f7e39c2208",
   "metadata": {},
   "outputs": [
    {
     "data": {
      "text/plain": [
       "[True, False, True, False, True, False, True, False, True, False]"
      ]
     },
     "execution_count": 123,
     "metadata": {},
     "output_type": "execute_result"
    },
    {
     "data": {
      "text/plain": [
       "130"
      ]
     },
     "execution_count": 123,
     "metadata": {},
     "output_type": "execute_result"
    },
    {
     "data": {
      "text/html": [
       "<div>\n",
       "<style scoped>\n",
       "    .dataframe tbody tr th:only-of-type {\n",
       "        vertical-align: middle;\n",
       "    }\n",
       "\n",
       "    .dataframe tbody tr th {\n",
       "        vertical-align: top;\n",
       "    }\n",
       "\n",
       "    .dataframe thead th {\n",
       "        text-align: right;\n",
       "    }\n",
       "</style>\n",
       "<table border=\"1\" class=\"dataframe\">\n",
       "  <thead>\n",
       "    <tr style=\"text-align: right;\">\n",
       "      <th></th>\n",
       "      <th>year</th>\n",
       "      <th>nationality_ar</th>\n",
       "      <th>nationality_en</th>\n",
       "      <th>visitors_count</th>\n",
       "    </tr>\n",
       "  </thead>\n",
       "  <tbody>\n",
       "    <tr>\n",
       "      <th>0</th>\n",
       "      <td>2015</td>\n",
       "      <td>الهند</td>\n",
       "      <td>India</td>\n",
       "      <td>1601</td>\n",
       "    </tr>\n",
       "    <tr>\n",
       "      <th>2</th>\n",
       "      <td>2015</td>\n",
       "      <td>المملكة المتحدة</td>\n",
       "      <td>UK</td>\n",
       "      <td>1188</td>\n",
       "    </tr>\n",
       "    <tr>\n",
       "      <th>4</th>\n",
       "      <td>2015</td>\n",
       "      <td>الولايات المتحدة</td>\n",
       "      <td>US</td>\n",
       "      <td>602</td>\n",
       "    </tr>\n",
       "    <tr>\n",
       "      <th>6</th>\n",
       "      <td>2015</td>\n",
       "      <td>جمهورية  ايران الإسلامية</td>\n",
       "      <td>Islamic Republic of Iran</td>\n",
       "      <td>462</td>\n",
       "    </tr>\n",
       "    <tr>\n",
       "      <th>8</th>\n",
       "      <td>2015</td>\n",
       "      <td>الصين</td>\n",
       "      <td>China</td>\n",
       "      <td>450</td>\n",
       "    </tr>\n",
       "    <tr>\n",
       "      <th>...</th>\n",
       "      <td>...</td>\n",
       "      <td>...</td>\n",
       "      <td>...</td>\n",
       "      <td>...</td>\n",
       "    </tr>\n",
       "    <tr>\n",
       "      <th>120</th>\n",
       "      <td>2020</td>\n",
       "      <td>ألمانيا</td>\n",
       "      <td>Germany</td>\n",
       "      <td>165</td>\n",
       "    </tr>\n",
       "    <tr>\n",
       "      <th>122</th>\n",
       "      <td>2020</td>\n",
       "      <td>الكويت</td>\n",
       "      <td>Kuwait</td>\n",
       "      <td>84</td>\n",
       "    </tr>\n",
       "    <tr>\n",
       "      <th>124</th>\n",
       "      <td>2020</td>\n",
       "      <td>إيطاليا</td>\n",
       "      <td>Italy</td>\n",
       "      <td>76</td>\n",
       "    </tr>\n",
       "    <tr>\n",
       "      <th>126</th>\n",
       "      <td>2020</td>\n",
       "      <td>كندا</td>\n",
       "      <td>Canada</td>\n",
       "      <td>59</td>\n",
       "    </tr>\n",
       "    <tr>\n",
       "      <th>128</th>\n",
       "      <td>2020</td>\n",
       "      <td>أخرى</td>\n",
       "      <td>Other</td>\n",
       "      <td>1694</td>\n",
       "    </tr>\n",
       "  </tbody>\n",
       "</table>\n",
       "<p>65 rows × 4 columns</p>\n",
       "</div>"
      ],
      "text/plain": [
       "     year            nationality_ar             nationality_en  visitors_count\n",
       "0    2015                     الهند                      India            1601\n",
       "2    2015           المملكة المتحدة                         UK            1188\n",
       "4    2015          الولايات المتحدة                         US             602\n",
       "6    2015  جمهورية  ايران الإسلامية  Islamic Republic of Iran              462\n",
       "8    2015                     الصين                      China             450\n",
       "..    ...                       ...                        ...             ...\n",
       "120  2020                   ألمانيا                    Germany             165\n",
       "122  2020                    الكويت                     Kuwait              84\n",
       "124  2020                   إيطاليا                      Italy              76\n",
       "126  2020                      كندا                     Canada              59\n",
       "128  2020                      أخرى                      Other            1694\n",
       "\n",
       "[65 rows x 4 columns]"
      ]
     },
     "execution_count": 123,
     "metadata": {},
     "output_type": "execute_result"
    },
    {
     "data": {
      "text/html": [
       "<div>\n",
       "<style scoped>\n",
       "    .dataframe tbody tr th:only-of-type {\n",
       "        vertical-align: middle;\n",
       "    }\n",
       "\n",
       "    .dataframe tbody tr th {\n",
       "        vertical-align: top;\n",
       "    }\n",
       "\n",
       "    .dataframe thead th {\n",
       "        text-align: right;\n",
       "    }\n",
       "</style>\n",
       "<table border=\"1\" class=\"dataframe\">\n",
       "  <thead>\n",
       "    <tr style=\"text-align: right;\">\n",
       "      <th></th>\n",
       "      <th>year</th>\n",
       "      <th>nationality_ar</th>\n",
       "      <th>nationality_en</th>\n",
       "      <th>visitors_count</th>\n",
       "    </tr>\n",
       "  </thead>\n",
       "  <tbody>\n",
       "    <tr>\n",
       "      <th>0</th>\n",
       "      <td>2015</td>\n",
       "      <td>الهند</td>\n",
       "      <td>India</td>\n",
       "      <td>1601</td>\n",
       "    </tr>\n",
       "    <tr>\n",
       "      <th>2</th>\n",
       "      <td>2015</td>\n",
       "      <td>المملكة المتحدة</td>\n",
       "      <td>UK</td>\n",
       "      <td>1188</td>\n",
       "    </tr>\n",
       "    <tr>\n",
       "      <th>4</th>\n",
       "      <td>2015</td>\n",
       "      <td>الولايات المتحدة</td>\n",
       "      <td>US</td>\n",
       "      <td>602</td>\n",
       "    </tr>\n",
       "    <tr>\n",
       "      <th>6</th>\n",
       "      <td>2015</td>\n",
       "      <td>جمهورية  ايران الإسلامية</td>\n",
       "      <td>Islamic Republic of Iran</td>\n",
       "      <td>462</td>\n",
       "    </tr>\n",
       "    <tr>\n",
       "      <th>8</th>\n",
       "      <td>2015</td>\n",
       "      <td>الصين</td>\n",
       "      <td>China</td>\n",
       "      <td>450</td>\n",
       "    </tr>\n",
       "    <tr>\n",
       "      <th>...</th>\n",
       "      <td>...</td>\n",
       "      <td>...</td>\n",
       "      <td>...</td>\n",
       "      <td>...</td>\n",
       "    </tr>\n",
       "    <tr>\n",
       "      <th>120</th>\n",
       "      <td>2020</td>\n",
       "      <td>ألمانيا</td>\n",
       "      <td>Germany</td>\n",
       "      <td>165</td>\n",
       "    </tr>\n",
       "    <tr>\n",
       "      <th>122</th>\n",
       "      <td>2020</td>\n",
       "      <td>الكويت</td>\n",
       "      <td>Kuwait</td>\n",
       "      <td>84</td>\n",
       "    </tr>\n",
       "    <tr>\n",
       "      <th>124</th>\n",
       "      <td>2020</td>\n",
       "      <td>إيطاليا</td>\n",
       "      <td>Italy</td>\n",
       "      <td>76</td>\n",
       "    </tr>\n",
       "    <tr>\n",
       "      <th>126</th>\n",
       "      <td>2020</td>\n",
       "      <td>كندا</td>\n",
       "      <td>Canada</td>\n",
       "      <td>59</td>\n",
       "    </tr>\n",
       "    <tr>\n",
       "      <th>128</th>\n",
       "      <td>2020</td>\n",
       "      <td>أخرى</td>\n",
       "      <td>Other</td>\n",
       "      <td>1694</td>\n",
       "    </tr>\n",
       "  </tbody>\n",
       "</table>\n",
       "<p>65 rows × 4 columns</p>\n",
       "</div>"
      ],
      "text/plain": [
       "     year            nationality_ar             nationality_en  visitors_count\n",
       "0    2015                     الهند                      India            1601\n",
       "2    2015           المملكة المتحدة                         UK            1188\n",
       "4    2015          الولايات المتحدة                         US             602\n",
       "6    2015  جمهورية  ايران الإسلامية  Islamic Republic of Iran              462\n",
       "8    2015                     الصين                      China             450\n",
       "..    ...                       ...                        ...             ...\n",
       "120  2020                   ألمانيا                    Germany             165\n",
       "122  2020                    الكويت                     Kuwait              84\n",
       "124  2020                   إيطاليا                      Italy              76\n",
       "126  2020                      كندا                     Canada              59\n",
       "128  2020                      أخرى                      Other            1694\n",
       "\n",
       "[65 rows x 4 columns]"
      ]
     },
     "execution_count": 123,
     "metadata": {},
     "output_type": "execute_result"
    }
   ],
   "source": [
    "mask = [x % 2 == 0 for x in range(visitors_df.shape[0])]\n",
    "mask[:10]\n",
    "len(mask)\n",
    "visitors_df[mask]\n",
    "\n",
    "# or more typically\n",
    "visitors_df[[x % 2 == 0 for x in range(visitors_df.shape[0])]]"
   ]
  },
  {
   "cell_type": "markdown",
   "id": "7567b805-bc06-46de-bb95-829338958638",
   "metadata": {},
   "source": [
    "we can leverage boolean indexing to filter based on conditions"
   ]
  },
  {
   "cell_type": "code",
   "execution_count": 125,
   "id": "15098ad1-b00c-4de1-bd7b-2192c71e20e4",
   "metadata": {},
   "outputs": [
    {
     "data": {
      "text/plain": [
       "0       True\n",
       "1       True\n",
       "2       True\n",
       "3       True\n",
       "4       True\n",
       "       ...  \n",
       "125    False\n",
       "126    False\n",
       "127    False\n",
       "128    False\n",
       "129    False\n",
       "Name: year, Length: 130, dtype: bool"
      ]
     },
     "execution_count": 125,
     "metadata": {},
     "output_type": "execute_result"
    },
    {
     "data": {
      "text/html": [
       "<div>\n",
       "<style scoped>\n",
       "    .dataframe tbody tr th:only-of-type {\n",
       "        vertical-align: middle;\n",
       "    }\n",
       "\n",
       "    .dataframe tbody tr th {\n",
       "        vertical-align: top;\n",
       "    }\n",
       "\n",
       "    .dataframe thead th {\n",
       "        text-align: right;\n",
       "    }\n",
       "</style>\n",
       "<table border=\"1\" class=\"dataframe\">\n",
       "  <thead>\n",
       "    <tr style=\"text-align: right;\">\n",
       "      <th></th>\n",
       "      <th>year</th>\n",
       "      <th>nationality_ar</th>\n",
       "      <th>nationality_en</th>\n",
       "      <th>visitors_count</th>\n",
       "    </tr>\n",
       "  </thead>\n",
       "  <tbody>\n",
       "    <tr>\n",
       "      <th>0</th>\n",
       "      <td>2015</td>\n",
       "      <td>الهند</td>\n",
       "      <td>India</td>\n",
       "      <td>1601</td>\n",
       "    </tr>\n",
       "    <tr>\n",
       "      <th>1</th>\n",
       "      <td>2015</td>\n",
       "      <td>المملكة العربية السعودية</td>\n",
       "      <td>KSA</td>\n",
       "      <td>1542</td>\n",
       "    </tr>\n",
       "    <tr>\n",
       "      <th>2</th>\n",
       "      <td>2015</td>\n",
       "      <td>المملكة المتحدة</td>\n",
       "      <td>UK</td>\n",
       "      <td>1188</td>\n",
       "    </tr>\n",
       "    <tr>\n",
       "      <th>3</th>\n",
       "      <td>2015</td>\n",
       "      <td>عُمان</td>\n",
       "      <td>Oman</td>\n",
       "      <td>1002</td>\n",
       "    </tr>\n",
       "    <tr>\n",
       "      <th>4</th>\n",
       "      <td>2015</td>\n",
       "      <td>الولايات المتحدة</td>\n",
       "      <td>US</td>\n",
       "      <td>602</td>\n",
       "    </tr>\n",
       "    <tr>\n",
       "      <th>5</th>\n",
       "      <td>2015</td>\n",
       "      <td>باكستان</td>\n",
       "      <td>Pakistan</td>\n",
       "      <td>513</td>\n",
       "    </tr>\n",
       "    <tr>\n",
       "      <th>6</th>\n",
       "      <td>2015</td>\n",
       "      <td>جمهورية  ايران الإسلامية</td>\n",
       "      <td>Islamic Republic of Iran</td>\n",
       "      <td>462</td>\n",
       "    </tr>\n",
       "    <tr>\n",
       "      <th>7</th>\n",
       "      <td>2015</td>\n",
       "      <td>ألمانيا</td>\n",
       "      <td>Germany</td>\n",
       "      <td>461</td>\n",
       "    </tr>\n",
       "    <tr>\n",
       "      <th>8</th>\n",
       "      <td>2015</td>\n",
       "      <td>الصين</td>\n",
       "      <td>China</td>\n",
       "      <td>450</td>\n",
       "    </tr>\n",
       "    <tr>\n",
       "      <th>9</th>\n",
       "      <td>2015</td>\n",
       "      <td>الكويت</td>\n",
       "      <td>Kuwait</td>\n",
       "      <td>410</td>\n",
       "    </tr>\n",
       "    <tr>\n",
       "      <th>10</th>\n",
       "      <td>2015</td>\n",
       "      <td>الفلبين</td>\n",
       "      <td>Philippines</td>\n",
       "      <td>325</td>\n",
       "    </tr>\n",
       "    <tr>\n",
       "      <th>11</th>\n",
       "      <td>2015</td>\n",
       "      <td>أستراليا</td>\n",
       "      <td>Australia</td>\n",
       "      <td>315</td>\n",
       "    </tr>\n",
       "    <tr>\n",
       "      <th>12</th>\n",
       "      <td>2015</td>\n",
       "      <td>مصر</td>\n",
       "      <td>Egypt</td>\n",
       "      <td>305</td>\n",
       "    </tr>\n",
       "    <tr>\n",
       "      <th>13</th>\n",
       "      <td>2015</td>\n",
       "      <td>فرنسا</td>\n",
       "      <td>France</td>\n",
       "      <td>248</td>\n",
       "    </tr>\n",
       "    <tr>\n",
       "      <th>14</th>\n",
       "      <td>2015</td>\n",
       "      <td>الاتحاد الروسي</td>\n",
       "      <td>Russian Federation</td>\n",
       "      <td>211</td>\n",
       "    </tr>\n",
       "    <tr>\n",
       "      <th>15</th>\n",
       "      <td>2015</td>\n",
       "      <td>نيجيريا</td>\n",
       "      <td>Nigeria</td>\n",
       "      <td>201</td>\n",
       "    </tr>\n",
       "    <tr>\n",
       "      <th>16</th>\n",
       "      <td>2015</td>\n",
       "      <td>إيطاليا</td>\n",
       "      <td>Italy</td>\n",
       "      <td>195</td>\n",
       "    </tr>\n",
       "    <tr>\n",
       "      <th>17</th>\n",
       "      <td>2015</td>\n",
       "      <td>قطر</td>\n",
       "      <td>Qatar</td>\n",
       "      <td>182</td>\n",
       "    </tr>\n",
       "    <tr>\n",
       "      <th>18</th>\n",
       "      <td>2015</td>\n",
       "      <td>الأردن</td>\n",
       "      <td>Jordan</td>\n",
       "      <td>180</td>\n",
       "    </tr>\n",
       "    <tr>\n",
       "      <th>19</th>\n",
       "      <td>2015</td>\n",
       "      <td>كندا</td>\n",
       "      <td>Canada</td>\n",
       "      <td>168</td>\n",
       "    </tr>\n",
       "    <tr>\n",
       "      <th>20</th>\n",
       "      <td>2015</td>\n",
       "      <td>أخرى</td>\n",
       "      <td>Other</td>\n",
       "      <td>3639</td>\n",
       "    </tr>\n",
       "    <tr>\n",
       "      <th>21</th>\n",
       "      <td>2015</td>\n",
       "      <td>المجموع</td>\n",
       "      <td>Total</td>\n",
       "      <td>14200</td>\n",
       "    </tr>\n",
       "  </tbody>\n",
       "</table>\n",
       "</div>"
      ],
      "text/plain": [
       "    year            nationality_ar             nationality_en  visitors_count\n",
       "0   2015                     الهند                      India            1601\n",
       "1   2015  المملكة العربية السعودية                        KSA            1542\n",
       "2   2015           المملكة المتحدة                         UK            1188\n",
       "3   2015                     عُمان                       Oman            1002\n",
       "4   2015          الولايات المتحدة                         US             602\n",
       "5   2015                   باكستان                   Pakistan             513\n",
       "6   2015  جمهورية  ايران الإسلامية  Islamic Republic of Iran              462\n",
       "7   2015                   ألمانيا                    Germany             461\n",
       "8   2015                     الصين                      China             450\n",
       "9   2015                    الكويت                     Kuwait             410\n",
       "10  2015                   الفلبين                Philippines             325\n",
       "11  2015                  أستراليا                  Australia             315\n",
       "12  2015                       مصر                      Egypt             305\n",
       "13  2015                     فرنسا                     France             248\n",
       "14  2015            الاتحاد الروسي         Russian Federation             211\n",
       "15  2015                   نيجيريا                    Nigeria             201\n",
       "16  2015                   إيطاليا                      Italy             195\n",
       "17  2015                       قطر                      Qatar             182\n",
       "18  2015                    الأردن                     Jordan             180\n",
       "19  2015                      كندا                     Canada             168\n",
       "20  2015                      أخرى                      Other            3639\n",
       "21  2015                   المجموع                      Total           14200"
      ]
     },
     "execution_count": 125,
     "metadata": {},
     "output_type": "execute_result"
    }
   ],
   "source": [
    "visitors_df['year'] == 2015\n",
    "visitors_df[visitors_df['year'] == 2015]"
   ]
  },
  {
   "cell_type": "markdown",
   "id": "af5259e2-8e35-4b2b-a68a-a29cdb0081d7",
   "metadata": {},
   "source": [
    "bitwise logical operators &, | should be used instead of the usual and, or operators, make sure to wrap each series in parantehsis."
   ]
  },
  {
   "cell_type": "code",
   "execution_count": 128,
   "id": "25d5a0f2-4bc5-4352-abdb-a1450aac7bab",
   "metadata": {},
   "outputs": [
    {
     "data": {
      "text/html": [
       "<div>\n",
       "<style scoped>\n",
       "    .dataframe tbody tr th:only-of-type {\n",
       "        vertical-align: middle;\n",
       "    }\n",
       "\n",
       "    .dataframe tbody tr th {\n",
       "        vertical-align: top;\n",
       "    }\n",
       "\n",
       "    .dataframe thead th {\n",
       "        text-align: right;\n",
       "    }\n",
       "</style>\n",
       "<table border=\"1\" class=\"dataframe\">\n",
       "  <thead>\n",
       "    <tr style=\"text-align: right;\">\n",
       "      <th></th>\n",
       "      <th>year</th>\n",
       "      <th>nationality_ar</th>\n",
       "      <th>nationality_en</th>\n",
       "      <th>visitors_count</th>\n",
       "    </tr>\n",
       "  </thead>\n",
       "  <tbody>\n",
       "    <tr>\n",
       "      <th>0</th>\n",
       "      <td>2015</td>\n",
       "      <td>الهند</td>\n",
       "      <td>India</td>\n",
       "      <td>1601</td>\n",
       "    </tr>\n",
       "    <tr>\n",
       "      <th>1</th>\n",
       "      <td>2015</td>\n",
       "      <td>المملكة العربية السعودية</td>\n",
       "      <td>KSA</td>\n",
       "      <td>1542</td>\n",
       "    </tr>\n",
       "    <tr>\n",
       "      <th>2</th>\n",
       "      <td>2015</td>\n",
       "      <td>المملكة المتحدة</td>\n",
       "      <td>UK</td>\n",
       "      <td>1188</td>\n",
       "    </tr>\n",
       "    <tr>\n",
       "      <th>3</th>\n",
       "      <td>2015</td>\n",
       "      <td>عُمان</td>\n",
       "      <td>Oman</td>\n",
       "      <td>1002</td>\n",
       "    </tr>\n",
       "    <tr>\n",
       "      <th>4</th>\n",
       "      <td>2015</td>\n",
       "      <td>الولايات المتحدة</td>\n",
       "      <td>US</td>\n",
       "      <td>602</td>\n",
       "    </tr>\n",
       "    <tr>\n",
       "      <th>5</th>\n",
       "      <td>2015</td>\n",
       "      <td>باكستان</td>\n",
       "      <td>Pakistan</td>\n",
       "      <td>513</td>\n",
       "    </tr>\n",
       "    <tr>\n",
       "      <th>6</th>\n",
       "      <td>2015</td>\n",
       "      <td>جمهورية  ايران الإسلامية</td>\n",
       "      <td>Islamic Republic of Iran</td>\n",
       "      <td>462</td>\n",
       "    </tr>\n",
       "    <tr>\n",
       "      <th>7</th>\n",
       "      <td>2015</td>\n",
       "      <td>ألمانيا</td>\n",
       "      <td>Germany</td>\n",
       "      <td>461</td>\n",
       "    </tr>\n",
       "    <tr>\n",
       "      <th>8</th>\n",
       "      <td>2015</td>\n",
       "      <td>الصين</td>\n",
       "      <td>China</td>\n",
       "      <td>450</td>\n",
       "    </tr>\n",
       "    <tr>\n",
       "      <th>9</th>\n",
       "      <td>2015</td>\n",
       "      <td>الكويت</td>\n",
       "      <td>Kuwait</td>\n",
       "      <td>410</td>\n",
       "    </tr>\n",
       "    <tr>\n",
       "      <th>10</th>\n",
       "      <td>2015</td>\n",
       "      <td>الفلبين</td>\n",
       "      <td>Philippines</td>\n",
       "      <td>325</td>\n",
       "    </tr>\n",
       "    <tr>\n",
       "      <th>11</th>\n",
       "      <td>2015</td>\n",
       "      <td>أستراليا</td>\n",
       "      <td>Australia</td>\n",
       "      <td>315</td>\n",
       "    </tr>\n",
       "    <tr>\n",
       "      <th>12</th>\n",
       "      <td>2015</td>\n",
       "      <td>مصر</td>\n",
       "      <td>Egypt</td>\n",
       "      <td>305</td>\n",
       "    </tr>\n",
       "    <tr>\n",
       "      <th>13</th>\n",
       "      <td>2015</td>\n",
       "      <td>فرنسا</td>\n",
       "      <td>France</td>\n",
       "      <td>248</td>\n",
       "    </tr>\n",
       "    <tr>\n",
       "      <th>14</th>\n",
       "      <td>2015</td>\n",
       "      <td>الاتحاد الروسي</td>\n",
       "      <td>Russian Federation</td>\n",
       "      <td>211</td>\n",
       "    </tr>\n",
       "    <tr>\n",
       "      <th>15</th>\n",
       "      <td>2015</td>\n",
       "      <td>نيجيريا</td>\n",
       "      <td>Nigeria</td>\n",
       "      <td>201</td>\n",
       "    </tr>\n",
       "    <tr>\n",
       "      <th>16</th>\n",
       "      <td>2015</td>\n",
       "      <td>إيطاليا</td>\n",
       "      <td>Italy</td>\n",
       "      <td>195</td>\n",
       "    </tr>\n",
       "    <tr>\n",
       "      <th>17</th>\n",
       "      <td>2015</td>\n",
       "      <td>قطر</td>\n",
       "      <td>Qatar</td>\n",
       "      <td>182</td>\n",
       "    </tr>\n",
       "    <tr>\n",
       "      <th>18</th>\n",
       "      <td>2015</td>\n",
       "      <td>الأردن</td>\n",
       "      <td>Jordan</td>\n",
       "      <td>180</td>\n",
       "    </tr>\n",
       "    <tr>\n",
       "      <th>19</th>\n",
       "      <td>2015</td>\n",
       "      <td>كندا</td>\n",
       "      <td>Canada</td>\n",
       "      <td>168</td>\n",
       "    </tr>\n",
       "    <tr>\n",
       "      <th>20</th>\n",
       "      <td>2015</td>\n",
       "      <td>أخرى</td>\n",
       "      <td>Other</td>\n",
       "      <td>3639</td>\n",
       "    </tr>\n",
       "    <tr>\n",
       "      <th>21</th>\n",
       "      <td>2015</td>\n",
       "      <td>المجموع</td>\n",
       "      <td>Total</td>\n",
       "      <td>14200</td>\n",
       "    </tr>\n",
       "    <tr>\n",
       "      <th>88</th>\n",
       "      <td>2019</td>\n",
       "      <td>الهند</td>\n",
       "      <td>India</td>\n",
       "      <td>1970</td>\n",
       "    </tr>\n",
       "    <tr>\n",
       "      <th>89</th>\n",
       "      <td>2019</td>\n",
       "      <td>المملكة العربية السعودية</td>\n",
       "      <td>KSA</td>\n",
       "      <td>1565</td>\n",
       "    </tr>\n",
       "    <tr>\n",
       "      <th>90</th>\n",
       "      <td>2019</td>\n",
       "      <td>المملكة المتحدة</td>\n",
       "      <td>UK</td>\n",
       "      <td>1200</td>\n",
       "    </tr>\n",
       "    <tr>\n",
       "      <th>91</th>\n",
       "      <td>2019</td>\n",
       "      <td>عُمان</td>\n",
       "      <td>Oman</td>\n",
       "      <td>1030</td>\n",
       "    </tr>\n",
       "    <tr>\n",
       "      <th>92</th>\n",
       "      <td>2019</td>\n",
       "      <td>الصين</td>\n",
       "      <td>China</td>\n",
       "      <td>989</td>\n",
       "    </tr>\n",
       "    <tr>\n",
       "      <th>93</th>\n",
       "      <td>2019</td>\n",
       "      <td>الاتحاد الروسي</td>\n",
       "      <td>Russian Federation</td>\n",
       "      <td>728</td>\n",
       "    </tr>\n",
       "    <tr>\n",
       "      <th>94</th>\n",
       "      <td>2019</td>\n",
       "      <td>الولايات المتحدة</td>\n",
       "      <td>US</td>\n",
       "      <td>667</td>\n",
       "    </tr>\n",
       "    <tr>\n",
       "      <th>95</th>\n",
       "      <td>2019</td>\n",
       "      <td>ألمانيا</td>\n",
       "      <td>Germany</td>\n",
       "      <td>560</td>\n",
       "    </tr>\n",
       "    <tr>\n",
       "      <th>96</th>\n",
       "      <td>2019</td>\n",
       "      <td>باكستان</td>\n",
       "      <td>Pakistan</td>\n",
       "      <td>501</td>\n",
       "    </tr>\n",
       "    <tr>\n",
       "      <th>97</th>\n",
       "      <td>2019</td>\n",
       "      <td>الفلبين</td>\n",
       "      <td>Philippines</td>\n",
       "      <td>477</td>\n",
       "    </tr>\n",
       "    <tr>\n",
       "      <th>98</th>\n",
       "      <td>2019</td>\n",
       "      <td>فرنسا</td>\n",
       "      <td>France</td>\n",
       "      <td>382</td>\n",
       "    </tr>\n",
       "    <tr>\n",
       "      <th>99</th>\n",
       "      <td>2019</td>\n",
       "      <td>الكويت</td>\n",
       "      <td>Kuwait</td>\n",
       "      <td>327</td>\n",
       "    </tr>\n",
       "    <tr>\n",
       "      <th>100</th>\n",
       "      <td>2019</td>\n",
       "      <td>مصر</td>\n",
       "      <td>Egypt</td>\n",
       "      <td>314</td>\n",
       "    </tr>\n",
       "    <tr>\n",
       "      <th>101</th>\n",
       "      <td>2019</td>\n",
       "      <td>جمهورية  ايران الإسلامية</td>\n",
       "      <td>Islamic Republic of Iran</td>\n",
       "      <td>284</td>\n",
       "    </tr>\n",
       "    <tr>\n",
       "      <th>102</th>\n",
       "      <td>2019</td>\n",
       "      <td>أستراليا</td>\n",
       "      <td>Australia</td>\n",
       "      <td>255</td>\n",
       "    </tr>\n",
       "    <tr>\n",
       "      <th>103</th>\n",
       "      <td>2019</td>\n",
       "      <td>إيطاليا</td>\n",
       "      <td>Italy</td>\n",
       "      <td>247</td>\n",
       "    </tr>\n",
       "    <tr>\n",
       "      <th>104</th>\n",
       "      <td>2019</td>\n",
       "      <td>نيجيريا</td>\n",
       "      <td>Nigeria</td>\n",
       "      <td>246</td>\n",
       "    </tr>\n",
       "    <tr>\n",
       "      <th>105</th>\n",
       "      <td>2019</td>\n",
       "      <td>كندا</td>\n",
       "      <td>Canada</td>\n",
       "      <td>169</td>\n",
       "    </tr>\n",
       "    <tr>\n",
       "      <th>106</th>\n",
       "      <td>2019</td>\n",
       "      <td>الأردن</td>\n",
       "      <td>Jordan</td>\n",
       "      <td>162</td>\n",
       "    </tr>\n",
       "    <tr>\n",
       "      <th>107</th>\n",
       "      <td>2019</td>\n",
       "      <td>كازاخستان</td>\n",
       "      <td>Kazakhstan</td>\n",
       "      <td>147</td>\n",
       "    </tr>\n",
       "    <tr>\n",
       "      <th>108</th>\n",
       "      <td>2019</td>\n",
       "      <td>أخرى</td>\n",
       "      <td>Other</td>\n",
       "      <td>4510</td>\n",
       "    </tr>\n",
       "    <tr>\n",
       "      <th>109</th>\n",
       "      <td>2019</td>\n",
       "      <td>المجموع</td>\n",
       "      <td>Total</td>\n",
       "      <td>16730</td>\n",
       "    </tr>\n",
       "  </tbody>\n",
       "</table>\n",
       "</div>"
      ],
      "text/plain": [
       "     year            nationality_ar             nationality_en  visitors_count\n",
       "0    2015                     الهند                      India            1601\n",
       "1    2015  المملكة العربية السعودية                        KSA            1542\n",
       "2    2015           المملكة المتحدة                         UK            1188\n",
       "3    2015                     عُمان                       Oman            1002\n",
       "4    2015          الولايات المتحدة                         US             602\n",
       "5    2015                   باكستان                   Pakistan             513\n",
       "6    2015  جمهورية  ايران الإسلامية  Islamic Republic of Iran              462\n",
       "7    2015                   ألمانيا                    Germany             461\n",
       "8    2015                     الصين                      China             450\n",
       "9    2015                    الكويت                     Kuwait             410\n",
       "10   2015                   الفلبين                Philippines             325\n",
       "11   2015                  أستراليا                  Australia             315\n",
       "12   2015                       مصر                      Egypt             305\n",
       "13   2015                     فرنسا                     France             248\n",
       "14   2015            الاتحاد الروسي         Russian Federation             211\n",
       "15   2015                   نيجيريا                    Nigeria             201\n",
       "16   2015                   إيطاليا                      Italy             195\n",
       "17   2015                       قطر                      Qatar             182\n",
       "18   2015                    الأردن                     Jordan             180\n",
       "19   2015                      كندا                     Canada             168\n",
       "20   2015                      أخرى                      Other            3639\n",
       "21   2015                   المجموع                      Total           14200\n",
       "88   2019                     الهند                      India            1970\n",
       "89   2019  المملكة العربية السعودية                        KSA            1565\n",
       "90   2019           المملكة المتحدة                         UK            1200\n",
       "91   2019                     عُمان                       Oman            1030\n",
       "92   2019                     الصين                      China             989\n",
       "93   2019            الاتحاد الروسي         Russian Federation             728\n",
       "94   2019          الولايات المتحدة                         US             667\n",
       "95   2019                   ألمانيا                    Germany             560\n",
       "96   2019                   باكستان                   Pakistan             501\n",
       "97   2019                   الفلبين                Philippines             477\n",
       "98   2019                     فرنسا                     France             382\n",
       "99   2019                    الكويت                     Kuwait             327\n",
       "100  2019                       مصر                      Egypt             314\n",
       "101  2019  جمهورية  ايران الإسلامية  Islamic Republic of Iran              284\n",
       "102  2019                  أستراليا                  Australia             255\n",
       "103  2019                   إيطاليا                      Italy             247\n",
       "104  2019                   نيجيريا                    Nigeria             246\n",
       "105  2019                      كندا                     Canada             169\n",
       "106  2019                    الأردن                     Jordan             162\n",
       "107  2019                 كازاخستان                 Kazakhstan             147\n",
       "108  2019                      أخرى                      Other            4510\n",
       "109  2019                   المجموع                      Total           16730"
      ]
     },
     "execution_count": 128,
     "metadata": {},
     "output_type": "execute_result"
    }
   ],
   "source": [
    "visitors_df[(visitors_df['year'] == 2015) | (visitors_df['year'] == 2019)]"
   ]
  },
  {
   "cell_type": "markdown",
   "id": "3826f8b3-79a7-4022-95c8-4c02b7128434",
   "metadata": {},
   "source": [
    "### Select dtypes"
   ]
  },
  {
   "cell_type": "markdown",
   "id": "82c1b43f-1e35-4a18-993d-84995c8801dc",
   "metadata": {},
   "source": [
    "you can select columns with a specific data types with the select_dtypes() method"
   ]
  },
  {
   "cell_type": "code",
   "execution_count": 133,
   "id": "5d69670b-8173-4ce3-acce-7e552612cbb2",
   "metadata": {},
   "outputs": [
    {
     "data": {
      "text/html": [
       "<div>\n",
       "<style scoped>\n",
       "    .dataframe tbody tr th:only-of-type {\n",
       "        vertical-align: middle;\n",
       "    }\n",
       "\n",
       "    .dataframe tbody tr th {\n",
       "        vertical-align: top;\n",
       "    }\n",
       "\n",
       "    .dataframe thead th {\n",
       "        text-align: right;\n",
       "    }\n",
       "</style>\n",
       "<table border=\"1\" class=\"dataframe\">\n",
       "  <thead>\n",
       "    <tr style=\"text-align: right;\">\n",
       "      <th></th>\n",
       "      <th>year</th>\n",
       "      <th>visitors_count</th>\n",
       "    </tr>\n",
       "  </thead>\n",
       "  <tbody>\n",
       "    <tr>\n",
       "      <th>0</th>\n",
       "      <td>2015</td>\n",
       "      <td>1601</td>\n",
       "    </tr>\n",
       "    <tr>\n",
       "      <th>1</th>\n",
       "      <td>2015</td>\n",
       "      <td>1542</td>\n",
       "    </tr>\n",
       "    <tr>\n",
       "      <th>2</th>\n",
       "      <td>2015</td>\n",
       "      <td>1188</td>\n",
       "    </tr>\n",
       "    <tr>\n",
       "      <th>3</th>\n",
       "      <td>2015</td>\n",
       "      <td>1002</td>\n",
       "    </tr>\n",
       "    <tr>\n",
       "      <th>4</th>\n",
       "      <td>2015</td>\n",
       "      <td>602</td>\n",
       "    </tr>\n",
       "    <tr>\n",
       "      <th>...</th>\n",
       "      <td>...</td>\n",
       "      <td>...</td>\n",
       "    </tr>\n",
       "    <tr>\n",
       "      <th>125</th>\n",
       "      <td>2020</td>\n",
       "      <td>74</td>\n",
       "    </tr>\n",
       "    <tr>\n",
       "      <th>126</th>\n",
       "      <td>2020</td>\n",
       "      <td>59</td>\n",
       "    </tr>\n",
       "    <tr>\n",
       "      <th>127</th>\n",
       "      <td>2020</td>\n",
       "      <td>59</td>\n",
       "    </tr>\n",
       "    <tr>\n",
       "      <th>128</th>\n",
       "      <td>2020</td>\n",
       "      <td>1694</td>\n",
       "    </tr>\n",
       "    <tr>\n",
       "      <th>129</th>\n",
       "      <td>2020</td>\n",
       "      <td>5510</td>\n",
       "    </tr>\n",
       "  </tbody>\n",
       "</table>\n",
       "<p>130 rows × 2 columns</p>\n",
       "</div>"
      ],
      "text/plain": [
       "     year  visitors_count\n",
       "0    2015            1601\n",
       "1    2015            1542\n",
       "2    2015            1188\n",
       "3    2015            1002\n",
       "4    2015             602\n",
       "..    ...             ...\n",
       "125  2020              74\n",
       "126  2020              59\n",
       "127  2020              59\n",
       "128  2020            1694\n",
       "129  2020            5510\n",
       "\n",
       "[130 rows x 2 columns]"
      ]
     },
     "execution_count": 133,
     "metadata": {},
     "output_type": "execute_result"
    }
   ],
   "source": [
    "visitors_df.select_dtypes(\"number\")"
   ]
  },
  {
   "cell_type": "code",
   "execution_count": 134,
   "id": "92a2a5d4-0803-4bba-92ea-5a3a82b5cffe",
   "metadata": {},
   "outputs": [
    {
     "data": {
      "text/html": [
       "<div>\n",
       "<style scoped>\n",
       "    .dataframe tbody tr th:only-of-type {\n",
       "        vertical-align: middle;\n",
       "    }\n",
       "\n",
       "    .dataframe tbody tr th {\n",
       "        vertical-align: top;\n",
       "    }\n",
       "\n",
       "    .dataframe thead th {\n",
       "        text-align: right;\n",
       "    }\n",
       "</style>\n",
       "<table border=\"1\" class=\"dataframe\">\n",
       "  <thead>\n",
       "    <tr style=\"text-align: right;\">\n",
       "      <th></th>\n",
       "      <th>nationality_ar</th>\n",
       "      <th>nationality_en</th>\n",
       "    </tr>\n",
       "  </thead>\n",
       "  <tbody>\n",
       "    <tr>\n",
       "      <th>0</th>\n",
       "      <td>الهند</td>\n",
       "      <td>India</td>\n",
       "    </tr>\n",
       "    <tr>\n",
       "      <th>1</th>\n",
       "      <td>المملكة العربية السعودية</td>\n",
       "      <td>KSA</td>\n",
       "    </tr>\n",
       "    <tr>\n",
       "      <th>2</th>\n",
       "      <td>المملكة المتحدة</td>\n",
       "      <td>UK</td>\n",
       "    </tr>\n",
       "    <tr>\n",
       "      <th>3</th>\n",
       "      <td>عُمان</td>\n",
       "      <td>Oman</td>\n",
       "    </tr>\n",
       "    <tr>\n",
       "      <th>4</th>\n",
       "      <td>الولايات المتحدة</td>\n",
       "      <td>US</td>\n",
       "    </tr>\n",
       "    <tr>\n",
       "      <th>...</th>\n",
       "      <td>...</td>\n",
       "      <td>...</td>\n",
       "    </tr>\n",
       "    <tr>\n",
       "      <th>125</th>\n",
       "      <td>كازاخستان</td>\n",
       "      <td>Kazakhstan</td>\n",
       "    </tr>\n",
       "    <tr>\n",
       "      <th>126</th>\n",
       "      <td>كندا</td>\n",
       "      <td>Canada</td>\n",
       "    </tr>\n",
       "    <tr>\n",
       "      <th>127</th>\n",
       "      <td>جمهورية  ايران الإسلامية</td>\n",
       "      <td>Islamic Republic of Iran</td>\n",
       "    </tr>\n",
       "    <tr>\n",
       "      <th>128</th>\n",
       "      <td>أخرى</td>\n",
       "      <td>Other</td>\n",
       "    </tr>\n",
       "    <tr>\n",
       "      <th>129</th>\n",
       "      <td>المجموع</td>\n",
       "      <td>Total</td>\n",
       "    </tr>\n",
       "  </tbody>\n",
       "</table>\n",
       "<p>130 rows × 2 columns</p>\n",
       "</div>"
      ],
      "text/plain": [
       "               nationality_ar             nationality_en\n",
       "0                       الهند                      India\n",
       "1    المملكة العربية السعودية                        KSA\n",
       "2             المملكة المتحدة                         UK\n",
       "3                       عُمان                       Oman\n",
       "4            الولايات المتحدة                         US\n",
       "..                        ...                        ...\n",
       "125                 كازاخستان                 Kazakhstan\n",
       "126                      كندا                     Canada\n",
       "127  جمهورية  ايران الإسلامية  Islamic Republic of Iran \n",
       "128                      أخرى                      Other\n",
       "129                   المجموع                      Total\n",
       "\n",
       "[130 rows x 2 columns]"
      ]
     },
     "execution_count": 134,
     "metadata": {},
     "output_type": "execute_result"
    }
   ],
   "source": [
    "visitors_df.select_dtypes(\"object\")"
   ]
  },
  {
   "cell_type": "markdown",
   "id": "23d3d0a6-1944-43a3-b3d4-1f0a8843017d",
   "metadata": {},
   "source": [
    "## Summarizing Data"
   ]
  },
  {
   "cell_type": "markdown",
   "id": "0532fec4-5a4c-4c30-bfb7-eae2438794a2",
   "metadata": {},
   "source": [
    "### Descirbe()"
   ]
  },
  {
   "cell_type": "code",
   "execution_count": 130,
   "id": "2bcffdcc-2320-4093-9b8d-808e10deae7a",
   "metadata": {},
   "outputs": [
    {
     "data": {
      "text/html": [
       "<div>\n",
       "<style scoped>\n",
       "    .dataframe tbody tr th:only-of-type {\n",
       "        vertical-align: middle;\n",
       "    }\n",
       "\n",
       "    .dataframe tbody tr th {\n",
       "        vertical-align: top;\n",
       "    }\n",
       "\n",
       "    .dataframe thead th {\n",
       "        text-align: right;\n",
       "    }\n",
       "</style>\n",
       "<table border=\"1\" class=\"dataframe\">\n",
       "  <thead>\n",
       "    <tr style=\"text-align: right;\">\n",
       "      <th></th>\n",
       "      <th>year</th>\n",
       "      <th>visitors_count</th>\n",
       "    </tr>\n",
       "  </thead>\n",
       "  <tbody>\n",
       "    <tr>\n",
       "      <th>count</th>\n",
       "      <td>130.000000</td>\n",
       "      <td>130.000000</td>\n",
       "    </tr>\n",
       "    <tr>\n",
       "      <th>mean</th>\n",
       "      <td>2017.461538</td>\n",
       "      <td>1277.692308</td>\n",
       "    </tr>\n",
       "    <tr>\n",
       "      <th>std</th>\n",
       "      <td>1.698854</td>\n",
       "      <td>3005.937220</td>\n",
       "    </tr>\n",
       "    <tr>\n",
       "      <th>min</th>\n",
       "      <td>2015.000000</td>\n",
       "      <td>59.000000</td>\n",
       "    </tr>\n",
       "    <tr>\n",
       "      <th>25%</th>\n",
       "      <td>2016.000000</td>\n",
       "      <td>205.750000</td>\n",
       "    </tr>\n",
       "    <tr>\n",
       "      <th>50%</th>\n",
       "      <td>2017.000000</td>\n",
       "      <td>396.000000</td>\n",
       "    </tr>\n",
       "    <tr>\n",
       "      <th>75%</th>\n",
       "      <td>2019.000000</td>\n",
       "      <td>860.750000</td>\n",
       "    </tr>\n",
       "    <tr>\n",
       "      <th>max</th>\n",
       "      <td>2020.000000</td>\n",
       "      <td>16730.000000</td>\n",
       "    </tr>\n",
       "  </tbody>\n",
       "</table>\n",
       "</div>"
      ],
      "text/plain": [
       "              year  visitors_count\n",
       "count   130.000000      130.000000\n",
       "mean   2017.461538     1277.692308\n",
       "std       1.698854     3005.937220\n",
       "min    2015.000000       59.000000\n",
       "25%    2016.000000      205.750000\n",
       "50%    2017.000000      396.000000\n",
       "75%    2019.000000      860.750000\n",
       "max    2020.000000    16730.000000"
      ]
     },
     "execution_count": 130,
     "metadata": {},
     "output_type": "execute_result"
    }
   ],
   "source": [
    "visitors_df.describe()"
   ]
  },
  {
   "cell_type": "code",
   "execution_count": 135,
   "id": "6336081c-5f15-4578-976e-e6fc99995374",
   "metadata": {},
   "outputs": [
    {
     "data": {
      "text/html": [
       "<div>\n",
       "<style scoped>\n",
       "    .dataframe tbody tr th:only-of-type {\n",
       "        vertical-align: middle;\n",
       "    }\n",
       "\n",
       "    .dataframe tbody tr th {\n",
       "        vertical-align: top;\n",
       "    }\n",
       "\n",
       "    .dataframe thead th {\n",
       "        text-align: right;\n",
       "    }\n",
       "</style>\n",
       "<table border=\"1\" class=\"dataframe\">\n",
       "  <thead>\n",
       "    <tr style=\"text-align: right;\">\n",
       "      <th></th>\n",
       "      <th>nationality_ar</th>\n",
       "      <th>nationality_en</th>\n",
       "    </tr>\n",
       "  </thead>\n",
       "  <tbody>\n",
       "    <tr>\n",
       "      <th>count</th>\n",
       "      <td>130</td>\n",
       "      <td>130</td>\n",
       "    </tr>\n",
       "    <tr>\n",
       "      <th>unique</th>\n",
       "      <td>26</td>\n",
       "      <td>26</td>\n",
       "    </tr>\n",
       "    <tr>\n",
       "      <th>top</th>\n",
       "      <td>الهند</td>\n",
       "      <td>India</td>\n",
       "    </tr>\n",
       "    <tr>\n",
       "      <th>freq</th>\n",
       "      <td>6</td>\n",
       "      <td>6</td>\n",
       "    </tr>\n",
       "  </tbody>\n",
       "</table>\n",
       "</div>"
      ],
      "text/plain": [
       "       nationality_ar nationality_en\n",
       "count             130            130\n",
       "unique             26             26\n",
       "top             الهند          India\n",
       "freq                6              6"
      ]
     },
     "execution_count": 135,
     "metadata": {},
     "output_type": "execute_result"
    }
   ],
   "source": [
    "visitors_df.select_dtypes(\"object\").describe()"
   ]
  },
  {
   "cell_type": "markdown",
   "id": "dd28d47b-5a4e-42df-9940-4d1f194fed8a",
   "metadata": {},
   "source": [
    "### Summary Functions"
   ]
  },
  {
   "cell_type": "markdown",
   "id": "e6f619a5-262f-46d3-a544-de527dd9d8fd",
   "metadata": {},
   "source": [
    "you have access to many summary functions directly in pandas, we show some examples here, refer to the pandas documentation for more: "
   ]
  },
  {
   "cell_type": "code",
   "execution_count": 158,
   "id": "16734591-8198-425f-9401-1ddba7f73194",
   "metadata": {},
   "outputs": [
    {
     "data": {
      "text/plain": [
       "2015"
      ]
     },
     "execution_count": 158,
     "metadata": {},
     "output_type": "execute_result"
    },
    {
     "data": {
      "text/plain": [
       "2020"
      ]
     },
     "execution_count": 158,
     "metadata": {},
     "output_type": "execute_result"
    },
    {
     "name": "stdout",
     "output_type": "stream",
     "text": [
      "------------------------------\n"
     ]
    },
    {
     "data": {
      "text/plain": [
       "1277.6923076923076"
      ]
     },
     "execution_count": 158,
     "metadata": {},
     "output_type": "execute_result"
    },
    {
     "data": {
      "text/plain": [
       "396.0"
      ]
     },
     "execution_count": 158,
     "metadata": {},
     "output_type": "execute_result"
    },
    {
     "name": "stdout",
     "output_type": "stream",
     "text": [
      "------------------------------\n"
     ]
    },
    {
     "data": {
      "text/plain": [
       "130"
      ]
     },
     "execution_count": 158,
     "metadata": {},
     "output_type": "execute_result"
    },
    {
     "data": {
      "text/plain": [
       "26"
      ]
     },
     "execution_count": 158,
     "metadata": {},
     "output_type": "execute_result"
    },
    {
     "data": {
      "text/plain": [
       "array(['India', 'KSA', 'UK', 'Oman', 'US', 'Pakistan',\n",
       "       'Islamic Republic of Iran ', 'Germany', 'China', 'Kuwait',\n",
       "       'Philippines', 'Australia', 'Egypt', 'France',\n",
       "       'Russian Federation', 'Nigeria', 'Italy', 'Qatar', 'Jordan',\n",
       "       'Canada', 'Other', 'Total', 'Netherlands', 'Lebanon', '  Nigeria',\n",
       "       'Kazakhstan'], dtype=object)"
      ]
     },
     "execution_count": 158,
     "metadata": {},
     "output_type": "execute_result"
    }
   ],
   "source": [
    "visitors_df['year'].min()\n",
    "visitors_df['year'].max()\n",
    "print(\"-\"*30)\n",
    "visitors_df['visitors_count'].mean()\n",
    "visitors_df['visitors_count'].median()\n",
    "print(\"-\"*30)\n",
    "visitors_df['nationality_en'].count()\n",
    "visitors_df['nationality_en'].nunique()\n",
    "visitors_df['nationality_en'].unique()"
   ]
  },
  {
   "cell_type": "markdown",
   "id": "c0635f70-6b82-418c-a9f1-f7d661d4aab7",
   "metadata": {},
   "source": [
    "### Sorting"
   ]
  },
  {
   "cell_type": "markdown",
   "id": "f9f11d9d-5ca3-46d3-9d04-1c70388f08d8",
   "metadata": {},
   "source": [
    "you can use the sort_values() method to sort a dataframe"
   ]
  },
  {
   "cell_type": "code",
   "execution_count": 163,
   "id": "7ee8c8a4-a7a1-4237-8c46-2b0f6f1bf5ab",
   "metadata": {},
   "outputs": [
    {
     "data": {
      "text/html": [
       "<div>\n",
       "<style scoped>\n",
       "    .dataframe tbody tr th:only-of-type {\n",
       "        vertical-align: middle;\n",
       "    }\n",
       "\n",
       "    .dataframe tbody tr th {\n",
       "        vertical-align: top;\n",
       "    }\n",
       "\n",
       "    .dataframe thead th {\n",
       "        text-align: right;\n",
       "    }\n",
       "</style>\n",
       "<table border=\"1\" class=\"dataframe\">\n",
       "  <thead>\n",
       "    <tr style=\"text-align: right;\">\n",
       "      <th></th>\n",
       "      <th>year</th>\n",
       "      <th>nationality_ar</th>\n",
       "      <th>nationality_en</th>\n",
       "      <th>visitors_count</th>\n",
       "    </tr>\n",
       "  </thead>\n",
       "  <tbody>\n",
       "    <tr>\n",
       "      <th>104</th>\n",
       "      <td>2019</td>\n",
       "      <td>نيجيريا</td>\n",
       "      <td>Nigeria</td>\n",
       "      <td>246</td>\n",
       "    </tr>\n",
       "    <tr>\n",
       "      <th>82</th>\n",
       "      <td>2018</td>\n",
       "      <td>نيجيريا</td>\n",
       "      <td>Nigeria</td>\n",
       "      <td>185</td>\n",
       "    </tr>\n",
       "    <tr>\n",
       "      <th>123</th>\n",
       "      <td>2020</td>\n",
       "      <td>نيجيريا</td>\n",
       "      <td>Nigeria</td>\n",
       "      <td>81</td>\n",
       "    </tr>\n",
       "    <tr>\n",
       "      <th>34</th>\n",
       "      <td>2016</td>\n",
       "      <td>أستراليا</td>\n",
       "      <td>Australia</td>\n",
       "      <td>283</td>\n",
       "    </tr>\n",
       "    <tr>\n",
       "      <th>80</th>\n",
       "      <td>2018</td>\n",
       "      <td>أستراليا</td>\n",
       "      <td>Australia</td>\n",
       "      <td>257</td>\n",
       "    </tr>\n",
       "    <tr>\n",
       "      <th>...</th>\n",
       "      <td>...</td>\n",
       "      <td>...</td>\n",
       "      <td>...</td>\n",
       "      <td>...</td>\n",
       "    </tr>\n",
       "    <tr>\n",
       "      <th>71</th>\n",
       "      <td>2018</td>\n",
       "      <td>الولايات المتحدة</td>\n",
       "      <td>US</td>\n",
       "      <td>656</td>\n",
       "    </tr>\n",
       "    <tr>\n",
       "      <th>94</th>\n",
       "      <td>2019</td>\n",
       "      <td>الولايات المتحدة</td>\n",
       "      <td>US</td>\n",
       "      <td>667</td>\n",
       "    </tr>\n",
       "    <tr>\n",
       "      <th>48</th>\n",
       "      <td>2017</td>\n",
       "      <td>الولايات المتحدة</td>\n",
       "      <td>US</td>\n",
       "      <td>633</td>\n",
       "    </tr>\n",
       "    <tr>\n",
       "      <th>4</th>\n",
       "      <td>2015</td>\n",
       "      <td>الولايات المتحدة</td>\n",
       "      <td>US</td>\n",
       "      <td>602</td>\n",
       "    </tr>\n",
       "    <tr>\n",
       "      <th>26</th>\n",
       "      <td>2016</td>\n",
       "      <td>الولايات المتحدة</td>\n",
       "      <td>US</td>\n",
       "      <td>607</td>\n",
       "    </tr>\n",
       "  </tbody>\n",
       "</table>\n",
       "<p>130 rows × 4 columns</p>\n",
       "</div>"
      ],
      "text/plain": [
       "     year    nationality_ar nationality_en  visitors_count\n",
       "104  2019           نيجيريا        Nigeria             246\n",
       "82   2018           نيجيريا        Nigeria             185\n",
       "123  2020           نيجيريا        Nigeria              81\n",
       "34   2016          أستراليا      Australia             283\n",
       "80   2018          أستراليا      Australia             257\n",
       "..    ...               ...            ...             ...\n",
       "71   2018  الولايات المتحدة             US             656\n",
       "94   2019  الولايات المتحدة             US             667\n",
       "48   2017  الولايات المتحدة             US             633\n",
       "4    2015  الولايات المتحدة             US             602\n",
       "26   2016  الولايات المتحدة             US             607\n",
       "\n",
       "[130 rows x 4 columns]"
      ]
     },
     "execution_count": 163,
     "metadata": {},
     "output_type": "execute_result"
    }
   ],
   "source": [
    "visitors_df.sort_values(\"nationality_en\")"
   ]
  },
  {
   "cell_type": "code",
   "execution_count": 166,
   "id": "ee567eb2-52dc-44c7-bea6-ac7c8d3ac153",
   "metadata": {},
   "outputs": [
    {
     "data": {
      "text/html": [
       "<div>\n",
       "<style scoped>\n",
       "    .dataframe tbody tr th:only-of-type {\n",
       "        vertical-align: middle;\n",
       "    }\n",
       "\n",
       "    .dataframe tbody tr th {\n",
       "        vertical-align: top;\n",
       "    }\n",
       "\n",
       "    .dataframe thead th {\n",
       "        text-align: right;\n",
       "    }\n",
       "</style>\n",
       "<table border=\"1\" class=\"dataframe\">\n",
       "  <thead>\n",
       "    <tr style=\"text-align: right;\">\n",
       "      <th></th>\n",
       "      <th>year</th>\n",
       "      <th>nationality_ar</th>\n",
       "      <th>nationality_en</th>\n",
       "      <th>visitors_count</th>\n",
       "    </tr>\n",
       "  </thead>\n",
       "  <tbody>\n",
       "    <tr>\n",
       "      <th>11</th>\n",
       "      <td>2015</td>\n",
       "      <td>أستراليا</td>\n",
       "      <td>Australia</td>\n",
       "      <td>315</td>\n",
       "    </tr>\n",
       "    <tr>\n",
       "      <th>19</th>\n",
       "      <td>2015</td>\n",
       "      <td>كندا</td>\n",
       "      <td>Canada</td>\n",
       "      <td>168</td>\n",
       "    </tr>\n",
       "    <tr>\n",
       "      <th>8</th>\n",
       "      <td>2015</td>\n",
       "      <td>الصين</td>\n",
       "      <td>China</td>\n",
       "      <td>450</td>\n",
       "    </tr>\n",
       "    <tr>\n",
       "      <th>12</th>\n",
       "      <td>2015</td>\n",
       "      <td>مصر</td>\n",
       "      <td>Egypt</td>\n",
       "      <td>305</td>\n",
       "    </tr>\n",
       "    <tr>\n",
       "      <th>13</th>\n",
       "      <td>2015</td>\n",
       "      <td>فرنسا</td>\n",
       "      <td>France</td>\n",
       "      <td>248</td>\n",
       "    </tr>\n",
       "    <tr>\n",
       "      <th>...</th>\n",
       "      <td>...</td>\n",
       "      <td>...</td>\n",
       "      <td>...</td>\n",
       "      <td>...</td>\n",
       "    </tr>\n",
       "    <tr>\n",
       "      <th>121</th>\n",
       "      <td>2020</td>\n",
       "      <td>الفلبين</td>\n",
       "      <td>Philippines</td>\n",
       "      <td>104</td>\n",
       "    </tr>\n",
       "    <tr>\n",
       "      <th>113</th>\n",
       "      <td>2020</td>\n",
       "      <td>الاتحاد الروسي</td>\n",
       "      <td>Russian Federation</td>\n",
       "      <td>296</td>\n",
       "    </tr>\n",
       "    <tr>\n",
       "      <th>129</th>\n",
       "      <td>2020</td>\n",
       "      <td>المجموع</td>\n",
       "      <td>Total</td>\n",
       "      <td>5510</td>\n",
       "    </tr>\n",
       "    <tr>\n",
       "      <th>112</th>\n",
       "      <td>2020</td>\n",
       "      <td>المملكة المتحدة</td>\n",
       "      <td>UK</td>\n",
       "      <td>392</td>\n",
       "    </tr>\n",
       "    <tr>\n",
       "      <th>116</th>\n",
       "      <td>2020</td>\n",
       "      <td>الولايات المتحدة</td>\n",
       "      <td>US</td>\n",
       "      <td>191</td>\n",
       "    </tr>\n",
       "  </tbody>\n",
       "</table>\n",
       "<p>130 rows × 4 columns</p>\n",
       "</div>"
      ],
      "text/plain": [
       "     year    nationality_ar      nationality_en  visitors_count\n",
       "11   2015          أستراليا           Australia             315\n",
       "19   2015              كندا              Canada             168\n",
       "8    2015             الصين               China             450\n",
       "12   2015               مصر               Egypt             305\n",
       "13   2015             فرنسا              France             248\n",
       "..    ...               ...                 ...             ...\n",
       "121  2020           الفلبين         Philippines             104\n",
       "113  2020    الاتحاد الروسي  Russian Federation             296\n",
       "129  2020           المجموع               Total            5510\n",
       "112  2020   المملكة المتحدة                  UK             392\n",
       "116  2020  الولايات المتحدة                  US             191\n",
       "\n",
       "[130 rows x 4 columns]"
      ]
     },
     "execution_count": 166,
     "metadata": {},
     "output_type": "execute_result"
    }
   ],
   "source": [
    "visitors_df.sort_values([\"year\", \"nationality_en\"])"
   ]
  },
  {
   "cell_type": "markdown",
   "id": "a4a187ce-5f5c-450c-aa87-9d28d94de4f1",
   "metadata": {},
   "source": [
    "### Group-by"
   ]
  },
  {
   "cell_type": "markdown",
   "id": "45cd0921-306a-4e0a-8220-53435b024572",
   "metadata": {},
   "source": [
    "you can summarize groups using a gorup_by operation:"
   ]
  },
  {
   "cell_type": "code",
   "execution_count": 183,
   "id": "74db4a0d-c646-4a43-93c5-2e5d3d0cd27b",
   "metadata": {},
   "outputs": [
    {
     "data": {
      "text/plain": [
       "nationality_en\n",
       "  Nigeria                    2018\n",
       "Australia                    2015\n",
       "Canada                       2015\n",
       "China                        2015\n",
       "Egypt                        2015\n",
       "France                       2015\n",
       "Germany                      2015\n",
       "India                        2015\n",
       "Islamic Republic of Iran     2015\n",
       "Italy                        2015\n",
       "Jordan                       2015\n",
       "KSA                          2015\n",
       "Kazakhstan                   2019\n",
       "Kuwait                       2015\n",
       "Lebanon                      2017\n",
       "Netherlands                  2017\n",
       "Nigeria                      2015\n",
       "Oman                         2015\n",
       "Other                        2015\n",
       "Pakistan                     2015\n",
       "Philippines                  2015\n",
       "Qatar                        2015\n",
       "Russian Federation           2015\n",
       "Total                        2015\n",
       "UK                           2015\n",
       "US                           2015\n",
       "Name: year, dtype: int64"
      ]
     },
     "execution_count": 183,
     "metadata": {},
     "output_type": "execute_result"
    }
   ],
   "source": [
    "visitors_df.groupby(\"nationality_en\")[\"year\"].min()"
   ]
  },
  {
   "cell_type": "code",
   "execution_count": 185,
   "id": "bb8f368f-a183-4f23-9a08-77f1eff31d3c",
   "metadata": {},
   "outputs": [
    {
     "data": {
      "text/html": [
       "<div>\n",
       "<style scoped>\n",
       "    .dataframe tbody tr th:only-of-type {\n",
       "        vertical-align: middle;\n",
       "    }\n",
       "\n",
       "    .dataframe tbody tr th {\n",
       "        vertical-align: top;\n",
       "    }\n",
       "\n",
       "    .dataframe thead th {\n",
       "        text-align: right;\n",
       "    }\n",
       "</style>\n",
       "<table border=\"1\" class=\"dataframe\">\n",
       "  <thead>\n",
       "    <tr style=\"text-align: right;\">\n",
       "      <th></th>\n",
       "      <th>nationality_en</th>\n",
       "      <th>year</th>\n",
       "    </tr>\n",
       "  </thead>\n",
       "  <tbody>\n",
       "    <tr>\n",
       "      <th>0</th>\n",
       "      <td>Nigeria</td>\n",
       "      <td>2018</td>\n",
       "    </tr>\n",
       "    <tr>\n",
       "      <th>1</th>\n",
       "      <td>Australia</td>\n",
       "      <td>2015</td>\n",
       "    </tr>\n",
       "    <tr>\n",
       "      <th>2</th>\n",
       "      <td>Canada</td>\n",
       "      <td>2015</td>\n",
       "    </tr>\n",
       "    <tr>\n",
       "      <th>3</th>\n",
       "      <td>China</td>\n",
       "      <td>2015</td>\n",
       "    </tr>\n",
       "    <tr>\n",
       "      <th>4</th>\n",
       "      <td>Egypt</td>\n",
       "      <td>2015</td>\n",
       "    </tr>\n",
       "    <tr>\n",
       "      <th>5</th>\n",
       "      <td>France</td>\n",
       "      <td>2015</td>\n",
       "    </tr>\n",
       "    <tr>\n",
       "      <th>6</th>\n",
       "      <td>Germany</td>\n",
       "      <td>2015</td>\n",
       "    </tr>\n",
       "    <tr>\n",
       "      <th>7</th>\n",
       "      <td>India</td>\n",
       "      <td>2015</td>\n",
       "    </tr>\n",
       "    <tr>\n",
       "      <th>8</th>\n",
       "      <td>Islamic Republic of Iran</td>\n",
       "      <td>2015</td>\n",
       "    </tr>\n",
       "    <tr>\n",
       "      <th>9</th>\n",
       "      <td>Italy</td>\n",
       "      <td>2015</td>\n",
       "    </tr>\n",
       "    <tr>\n",
       "      <th>10</th>\n",
       "      <td>Jordan</td>\n",
       "      <td>2015</td>\n",
       "    </tr>\n",
       "    <tr>\n",
       "      <th>11</th>\n",
       "      <td>KSA</td>\n",
       "      <td>2015</td>\n",
       "    </tr>\n",
       "    <tr>\n",
       "      <th>12</th>\n",
       "      <td>Kazakhstan</td>\n",
       "      <td>2019</td>\n",
       "    </tr>\n",
       "    <tr>\n",
       "      <th>13</th>\n",
       "      <td>Kuwait</td>\n",
       "      <td>2015</td>\n",
       "    </tr>\n",
       "    <tr>\n",
       "      <th>14</th>\n",
       "      <td>Lebanon</td>\n",
       "      <td>2017</td>\n",
       "    </tr>\n",
       "    <tr>\n",
       "      <th>15</th>\n",
       "      <td>Netherlands</td>\n",
       "      <td>2017</td>\n",
       "    </tr>\n",
       "    <tr>\n",
       "      <th>16</th>\n",
       "      <td>Nigeria</td>\n",
       "      <td>2015</td>\n",
       "    </tr>\n",
       "    <tr>\n",
       "      <th>17</th>\n",
       "      <td>Oman</td>\n",
       "      <td>2015</td>\n",
       "    </tr>\n",
       "    <tr>\n",
       "      <th>18</th>\n",
       "      <td>Other</td>\n",
       "      <td>2015</td>\n",
       "    </tr>\n",
       "    <tr>\n",
       "      <th>19</th>\n",
       "      <td>Pakistan</td>\n",
       "      <td>2015</td>\n",
       "    </tr>\n",
       "    <tr>\n",
       "      <th>20</th>\n",
       "      <td>Philippines</td>\n",
       "      <td>2015</td>\n",
       "    </tr>\n",
       "    <tr>\n",
       "      <th>21</th>\n",
       "      <td>Qatar</td>\n",
       "      <td>2015</td>\n",
       "    </tr>\n",
       "    <tr>\n",
       "      <th>22</th>\n",
       "      <td>Russian Federation</td>\n",
       "      <td>2015</td>\n",
       "    </tr>\n",
       "    <tr>\n",
       "      <th>23</th>\n",
       "      <td>Total</td>\n",
       "      <td>2015</td>\n",
       "    </tr>\n",
       "    <tr>\n",
       "      <th>24</th>\n",
       "      <td>UK</td>\n",
       "      <td>2015</td>\n",
       "    </tr>\n",
       "    <tr>\n",
       "      <th>25</th>\n",
       "      <td>US</td>\n",
       "      <td>2015</td>\n",
       "    </tr>\n",
       "  </tbody>\n",
       "</table>\n",
       "</div>"
      ],
      "text/plain": [
       "               nationality_en  year\n",
       "0                     Nigeria  2018\n",
       "1                   Australia  2015\n",
       "2                      Canada  2015\n",
       "3                       China  2015\n",
       "4                       Egypt  2015\n",
       "5                      France  2015\n",
       "6                     Germany  2015\n",
       "7                       India  2015\n",
       "8   Islamic Republic of Iran   2015\n",
       "9                       Italy  2015\n",
       "10                     Jordan  2015\n",
       "11                        KSA  2015\n",
       "12                 Kazakhstan  2019\n",
       "13                     Kuwait  2015\n",
       "14                    Lebanon  2017\n",
       "15                Netherlands  2017\n",
       "16                    Nigeria  2015\n",
       "17                       Oman  2015\n",
       "18                      Other  2015\n",
       "19                   Pakistan  2015\n",
       "20                Philippines  2015\n",
       "21                      Qatar  2015\n",
       "22         Russian Federation  2015\n",
       "23                      Total  2015\n",
       "24                         UK  2015\n",
       "25                         US  2015"
      ]
     },
     "execution_count": 185,
     "metadata": {},
     "output_type": "execute_result"
    }
   ],
   "source": [
    "visitors_df.groupby(\"nationality_en\", as_index=False)[\"year\"].min()"
   ]
  },
  {
   "cell_type": "code",
   "execution_count": 187,
   "id": "37f2fed0-beba-46a0-8fdb-b0c5fdecc846",
   "metadata": {},
   "outputs": [
    {
     "data": {
      "text/html": [
       "<div>\n",
       "<style scoped>\n",
       "    .dataframe tbody tr th:only-of-type {\n",
       "        vertical-align: middle;\n",
       "    }\n",
       "\n",
       "    .dataframe tbody tr th {\n",
       "        vertical-align: top;\n",
       "    }\n",
       "\n",
       "    .dataframe thead th {\n",
       "        text-align: right;\n",
       "    }\n",
       "</style>\n",
       "<table border=\"1\" class=\"dataframe\">\n",
       "  <thead>\n",
       "    <tr style=\"text-align: right;\">\n",
       "      <th></th>\n",
       "      <th>mean</th>\n",
       "      <th>min</th>\n",
       "      <th>max</th>\n",
       "      <th>sum</th>\n",
       "      <th>&lt;lambda_0&gt;</th>\n",
       "    </tr>\n",
       "    <tr>\n",
       "      <th>year</th>\n",
       "      <th></th>\n",
       "      <th></th>\n",
       "      <th></th>\n",
       "      <th></th>\n",
       "      <th></th>\n",
       "    </tr>\n",
       "  </thead>\n",
       "  <tbody>\n",
       "    <tr>\n",
       "      <th>2015</th>\n",
       "      <td>1290.909091</td>\n",
       "      <td>168</td>\n",
       "      <td>14200</td>\n",
       "      <td>28400</td>\n",
       "      <td>There were 28400 visitors!</td>\n",
       "    </tr>\n",
       "    <tr>\n",
       "      <th>2016</th>\n",
       "      <td>1354.545455</td>\n",
       "      <td>160</td>\n",
       "      <td>14900</td>\n",
       "      <td>29800</td>\n",
       "      <td>There were 29800 visitors!</td>\n",
       "    </tr>\n",
       "    <tr>\n",
       "      <th>2017</th>\n",
       "      <td>1435.454545</td>\n",
       "      <td>142</td>\n",
       "      <td>15790</td>\n",
       "      <td>31580</td>\n",
       "      <td>There were 31580 visitors!</td>\n",
       "    </tr>\n",
       "    <tr>\n",
       "      <th>2018</th>\n",
       "      <td>1447.272727</td>\n",
       "      <td>140</td>\n",
       "      <td>15920</td>\n",
       "      <td>31840</td>\n",
       "      <td>There were 31840 visitors!</td>\n",
       "    </tr>\n",
       "    <tr>\n",
       "      <th>2019</th>\n",
       "      <td>1520.909091</td>\n",
       "      <td>147</td>\n",
       "      <td>16730</td>\n",
       "      <td>33460</td>\n",
       "      <td>There were 33460 visitors!</td>\n",
       "    </tr>\n",
       "    <tr>\n",
       "      <th>2020</th>\n",
       "      <td>551.000000</td>\n",
       "      <td>59</td>\n",
       "      <td>5510</td>\n",
       "      <td>11020</td>\n",
       "      <td>There were 11020 visitors!</td>\n",
       "    </tr>\n",
       "  </tbody>\n",
       "</table>\n",
       "</div>"
      ],
      "text/plain": [
       "             mean  min    max    sum                  <lambda_0>\n",
       "year                                                            \n",
       "2015  1290.909091  168  14200  28400  There were 28400 visitors!\n",
       "2016  1354.545455  160  14900  29800  There were 29800 visitors!\n",
       "2017  1435.454545  142  15790  31580  There were 31580 visitors!\n",
       "2018  1447.272727  140  15920  31840  There were 31840 visitors!\n",
       "2019  1520.909091  147  16730  33460  There were 33460 visitors!\n",
       "2020   551.000000   59   5510  11020  There were 11020 visitors!"
      ]
     },
     "execution_count": 187,
     "metadata": {},
     "output_type": "execute_result"
    }
   ],
   "source": [
    "(visitors_df\n",
    "    .groupby([\"year\"])[\"visitors_count\"]\n",
    "    .agg([\"mean\", \"min\", \"max\", \"sum\", lambda x: f\"There were {sum(x)} visitors!\"])\n",
    ")"
   ]
  },
  {
   "cell_type": "markdown",
   "id": "4a3b0ea7-1071-4239-9642-0e5e7e1ee972",
   "metadata": {},
   "source": [
    "### Pandas Crosstab"
   ]
  },
  {
   "cell_type": "markdown",
   "id": "d129805d-b52b-4b3b-9d7e-b9937983333d",
   "metadata": {},
   "source": [
    "use pd.crosstab() to produce pivot-like tables"
   ]
  },
  {
   "cell_type": "code",
   "execution_count": 137,
   "id": "3b082e08-28ed-4e37-983f-bb0eb5785efa",
   "metadata": {},
   "outputs": [
    {
     "data": {
      "text/html": [
       "<div>\n",
       "<style scoped>\n",
       "    .dataframe tbody tr th:only-of-type {\n",
       "        vertical-align: middle;\n",
       "    }\n",
       "\n",
       "    .dataframe tbody tr th {\n",
       "        vertical-align: top;\n",
       "    }\n",
       "\n",
       "    .dataframe thead th {\n",
       "        text-align: right;\n",
       "    }\n",
       "</style>\n",
       "<table border=\"1\" class=\"dataframe\">\n",
       "  <thead>\n",
       "    <tr style=\"text-align: right;\">\n",
       "      <th>year</th>\n",
       "      <th>2015</th>\n",
       "      <th>2016</th>\n",
       "      <th>2017</th>\n",
       "      <th>2018</th>\n",
       "      <th>2019</th>\n",
       "      <th>2020</th>\n",
       "    </tr>\n",
       "    <tr>\n",
       "      <th>nationality_en</th>\n",
       "      <th></th>\n",
       "      <th></th>\n",
       "      <th></th>\n",
       "      <th></th>\n",
       "      <th></th>\n",
       "      <th></th>\n",
       "    </tr>\n",
       "  </thead>\n",
       "  <tbody>\n",
       "    <tr>\n",
       "      <th>Nigeria</th>\n",
       "      <td>0</td>\n",
       "      <td>0</td>\n",
       "      <td>0</td>\n",
       "      <td>1</td>\n",
       "      <td>1</td>\n",
       "      <td>1</td>\n",
       "    </tr>\n",
       "    <tr>\n",
       "      <th>Australia</th>\n",
       "      <td>1</td>\n",
       "      <td>1</td>\n",
       "      <td>1</td>\n",
       "      <td>1</td>\n",
       "      <td>1</td>\n",
       "      <td>0</td>\n",
       "    </tr>\n",
       "    <tr>\n",
       "      <th>Canada</th>\n",
       "      <td>1</td>\n",
       "      <td>1</td>\n",
       "      <td>1</td>\n",
       "      <td>1</td>\n",
       "      <td>1</td>\n",
       "      <td>1</td>\n",
       "    </tr>\n",
       "    <tr>\n",
       "      <th>China</th>\n",
       "      <td>1</td>\n",
       "      <td>1</td>\n",
       "      <td>1</td>\n",
       "      <td>1</td>\n",
       "      <td>1</td>\n",
       "      <td>1</td>\n",
       "    </tr>\n",
       "    <tr>\n",
       "      <th>Egypt</th>\n",
       "      <td>1</td>\n",
       "      <td>1</td>\n",
       "      <td>1</td>\n",
       "      <td>1</td>\n",
       "      <td>1</td>\n",
       "      <td>1</td>\n",
       "    </tr>\n",
       "    <tr>\n",
       "      <th>France</th>\n",
       "      <td>1</td>\n",
       "      <td>1</td>\n",
       "      <td>1</td>\n",
       "      <td>1</td>\n",
       "      <td>1</td>\n",
       "      <td>1</td>\n",
       "    </tr>\n",
       "    <tr>\n",
       "      <th>Germany</th>\n",
       "      <td>1</td>\n",
       "      <td>1</td>\n",
       "      <td>1</td>\n",
       "      <td>1</td>\n",
       "      <td>1</td>\n",
       "      <td>1</td>\n",
       "    </tr>\n",
       "    <tr>\n",
       "      <th>India</th>\n",
       "      <td>1</td>\n",
       "      <td>1</td>\n",
       "      <td>1</td>\n",
       "      <td>1</td>\n",
       "      <td>1</td>\n",
       "      <td>1</td>\n",
       "    </tr>\n",
       "    <tr>\n",
       "      <th>Islamic Republic of Iran</th>\n",
       "      <td>1</td>\n",
       "      <td>1</td>\n",
       "      <td>1</td>\n",
       "      <td>1</td>\n",
       "      <td>1</td>\n",
       "      <td>1</td>\n",
       "    </tr>\n",
       "    <tr>\n",
       "      <th>Italy</th>\n",
       "      <td>1</td>\n",
       "      <td>1</td>\n",
       "      <td>1</td>\n",
       "      <td>1</td>\n",
       "      <td>1</td>\n",
       "      <td>1</td>\n",
       "    </tr>\n",
       "    <tr>\n",
       "      <th>Jordan</th>\n",
       "      <td>1</td>\n",
       "      <td>1</td>\n",
       "      <td>1</td>\n",
       "      <td>1</td>\n",
       "      <td>1</td>\n",
       "      <td>0</td>\n",
       "    </tr>\n",
       "    <tr>\n",
       "      <th>KSA</th>\n",
       "      <td>1</td>\n",
       "      <td>1</td>\n",
       "      <td>1</td>\n",
       "      <td>1</td>\n",
       "      <td>1</td>\n",
       "      <td>1</td>\n",
       "    </tr>\n",
       "    <tr>\n",
       "      <th>Kazakhstan</th>\n",
       "      <td>0</td>\n",
       "      <td>0</td>\n",
       "      <td>0</td>\n",
       "      <td>0</td>\n",
       "      <td>1</td>\n",
       "      <td>1</td>\n",
       "    </tr>\n",
       "    <tr>\n",
       "      <th>Kuwait</th>\n",
       "      <td>1</td>\n",
       "      <td>1</td>\n",
       "      <td>1</td>\n",
       "      <td>1</td>\n",
       "      <td>1</td>\n",
       "      <td>1</td>\n",
       "    </tr>\n",
       "    <tr>\n",
       "      <th>Lebanon</th>\n",
       "      <td>0</td>\n",
       "      <td>0</td>\n",
       "      <td>1</td>\n",
       "      <td>0</td>\n",
       "      <td>0</td>\n",
       "      <td>0</td>\n",
       "    </tr>\n",
       "    <tr>\n",
       "      <th>Netherlands</th>\n",
       "      <td>0</td>\n",
       "      <td>0</td>\n",
       "      <td>1</td>\n",
       "      <td>1</td>\n",
       "      <td>0</td>\n",
       "      <td>0</td>\n",
       "    </tr>\n",
       "    <tr>\n",
       "      <th>Nigeria</th>\n",
       "      <td>1</td>\n",
       "      <td>1</td>\n",
       "      <td>0</td>\n",
       "      <td>0</td>\n",
       "      <td>0</td>\n",
       "      <td>0</td>\n",
       "    </tr>\n",
       "    <tr>\n",
       "      <th>Oman</th>\n",
       "      <td>1</td>\n",
       "      <td>1</td>\n",
       "      <td>1</td>\n",
       "      <td>1</td>\n",
       "      <td>1</td>\n",
       "      <td>1</td>\n",
       "    </tr>\n",
       "    <tr>\n",
       "      <th>Other</th>\n",
       "      <td>1</td>\n",
       "      <td>1</td>\n",
       "      <td>1</td>\n",
       "      <td>1</td>\n",
       "      <td>1</td>\n",
       "      <td>1</td>\n",
       "    </tr>\n",
       "    <tr>\n",
       "      <th>Pakistan</th>\n",
       "      <td>1</td>\n",
       "      <td>1</td>\n",
       "      <td>1</td>\n",
       "      <td>1</td>\n",
       "      <td>1</td>\n",
       "      <td>1</td>\n",
       "    </tr>\n",
       "    <tr>\n",
       "      <th>Philippines</th>\n",
       "      <td>1</td>\n",
       "      <td>1</td>\n",
       "      <td>1</td>\n",
       "      <td>1</td>\n",
       "      <td>1</td>\n",
       "      <td>1</td>\n",
       "    </tr>\n",
       "    <tr>\n",
       "      <th>Qatar</th>\n",
       "      <td>1</td>\n",
       "      <td>1</td>\n",
       "      <td>0</td>\n",
       "      <td>0</td>\n",
       "      <td>0</td>\n",
       "      <td>0</td>\n",
       "    </tr>\n",
       "    <tr>\n",
       "      <th>Russian Federation</th>\n",
       "      <td>1</td>\n",
       "      <td>1</td>\n",
       "      <td>1</td>\n",
       "      <td>1</td>\n",
       "      <td>1</td>\n",
       "      <td>1</td>\n",
       "    </tr>\n",
       "    <tr>\n",
       "      <th>Total</th>\n",
       "      <td>1</td>\n",
       "      <td>1</td>\n",
       "      <td>1</td>\n",
       "      <td>1</td>\n",
       "      <td>1</td>\n",
       "      <td>1</td>\n",
       "    </tr>\n",
       "    <tr>\n",
       "      <th>UK</th>\n",
       "      <td>1</td>\n",
       "      <td>1</td>\n",
       "      <td>1</td>\n",
       "      <td>1</td>\n",
       "      <td>1</td>\n",
       "      <td>1</td>\n",
       "    </tr>\n",
       "    <tr>\n",
       "      <th>US</th>\n",
       "      <td>1</td>\n",
       "      <td>1</td>\n",
       "      <td>1</td>\n",
       "      <td>1</td>\n",
       "      <td>1</td>\n",
       "      <td>1</td>\n",
       "    </tr>\n",
       "  </tbody>\n",
       "</table>\n",
       "</div>"
      ],
      "text/plain": [
       "year                       2015  2016  2017  2018  2019  2020\n",
       "nationality_en                                               \n",
       "  Nigeria                     0     0     0     1     1     1\n",
       "Australia                     1     1     1     1     1     0\n",
       "Canada                        1     1     1     1     1     1\n",
       "China                         1     1     1     1     1     1\n",
       "Egypt                         1     1     1     1     1     1\n",
       "France                        1     1     1     1     1     1\n",
       "Germany                       1     1     1     1     1     1\n",
       "India                         1     1     1     1     1     1\n",
       "Islamic Republic of Iran      1     1     1     1     1     1\n",
       "Italy                         1     1     1     1     1     1\n",
       "Jordan                        1     1     1     1     1     0\n",
       "KSA                           1     1     1     1     1     1\n",
       "Kazakhstan                    0     0     0     0     1     1\n",
       "Kuwait                        1     1     1     1     1     1\n",
       "Lebanon                       0     0     1     0     0     0\n",
       "Netherlands                   0     0     1     1     0     0\n",
       "Nigeria                       1     1     0     0     0     0\n",
       "Oman                          1     1     1     1     1     1\n",
       "Other                         1     1     1     1     1     1\n",
       "Pakistan                      1     1     1     1     1     1\n",
       "Philippines                   1     1     1     1     1     1\n",
       "Qatar                         1     1     0     0     0     0\n",
       "Russian Federation            1     1     1     1     1     1\n",
       "Total                         1     1     1     1     1     1\n",
       "UK                            1     1     1     1     1     1\n",
       "US                            1     1     1     1     1     1"
      ]
     },
     "execution_count": 137,
     "metadata": {},
     "output_type": "execute_result"
    }
   ],
   "source": [
    "pd.crosstab(visitors_df['nationality_en'], visitors_df['year'])"
   ]
  },
  {
   "cell_type": "markdown",
   "id": "d1c13bc1-e81b-4d07-9e6d-0f34f19fb319",
   "metadata": {},
   "source": [
    "##  Pivot Table"
   ]
  },
  {
   "cell_type": "code",
   "execution_count": 149,
   "id": "be0f87a9-e735-4809-8d0a-98f61ce9d496",
   "metadata": {},
   "outputs": [
    {
     "data": {
      "text/html": [
       "<div>\n",
       "<style scoped>\n",
       "    .dataframe tbody tr th:only-of-type {\n",
       "        vertical-align: middle;\n",
       "    }\n",
       "\n",
       "    .dataframe tbody tr th {\n",
       "        vertical-align: top;\n",
       "    }\n",
       "\n",
       "    .dataframe thead th {\n",
       "        text-align: right;\n",
       "    }\n",
       "</style>\n",
       "<table border=\"1\" class=\"dataframe\">\n",
       "  <thead>\n",
       "    <tr style=\"text-align: right;\">\n",
       "      <th>year</th>\n",
       "      <th>2015</th>\n",
       "      <th>2016</th>\n",
       "      <th>2017</th>\n",
       "      <th>2018</th>\n",
       "      <th>2019</th>\n",
       "      <th>2020</th>\n",
       "    </tr>\n",
       "    <tr>\n",
       "      <th>nationality_en</th>\n",
       "      <th></th>\n",
       "      <th></th>\n",
       "      <th></th>\n",
       "      <th></th>\n",
       "      <th></th>\n",
       "      <th></th>\n",
       "    </tr>\n",
       "  </thead>\n",
       "  <tbody>\n",
       "    <tr>\n",
       "      <th>Nigeria</th>\n",
       "      <td>NaN</td>\n",
       "      <td>NaN</td>\n",
       "      <td>NaN</td>\n",
       "      <td>185.0</td>\n",
       "      <td>246.0</td>\n",
       "      <td>81.0</td>\n",
       "    </tr>\n",
       "    <tr>\n",
       "      <th>Australia</th>\n",
       "      <td>315.0</td>\n",
       "      <td>283.0</td>\n",
       "      <td>279.0</td>\n",
       "      <td>257.0</td>\n",
       "      <td>255.0</td>\n",
       "      <td>NaN</td>\n",
       "    </tr>\n",
       "    <tr>\n",
       "      <th>Canada</th>\n",
       "      <td>168.0</td>\n",
       "      <td>176.0</td>\n",
       "      <td>173.0</td>\n",
       "      <td>161.0</td>\n",
       "      <td>169.0</td>\n",
       "      <td>59.0</td>\n",
       "    </tr>\n",
       "    <tr>\n",
       "      <th>China</th>\n",
       "      <td>450.0</td>\n",
       "      <td>540.0</td>\n",
       "      <td>764.0</td>\n",
       "      <td>857.0</td>\n",
       "      <td>989.0</td>\n",
       "      <td>182.0</td>\n",
       "    </tr>\n",
       "    <tr>\n",
       "      <th>Egypt</th>\n",
       "      <td>305.0</td>\n",
       "      <td>291.0</td>\n",
       "      <td>288.0</td>\n",
       "      <td>291.0</td>\n",
       "      <td>314.0</td>\n",
       "      <td>170.0</td>\n",
       "    </tr>\n",
       "    <tr>\n",
       "      <th>France</th>\n",
       "      <td>248.0</td>\n",
       "      <td>266.0</td>\n",
       "      <td>298.0</td>\n",
       "      <td>348.0</td>\n",
       "      <td>382.0</td>\n",
       "      <td>166.0</td>\n",
       "    </tr>\n",
       "    <tr>\n",
       "      <th>Germany</th>\n",
       "      <td>461.0</td>\n",
       "      <td>462.0</td>\n",
       "      <td>506.0</td>\n",
       "      <td>567.0</td>\n",
       "      <td>560.0</td>\n",
       "      <td>165.0</td>\n",
       "    </tr>\n",
       "    <tr>\n",
       "      <th>India</th>\n",
       "      <td>1601.0</td>\n",
       "      <td>1800.0</td>\n",
       "      <td>2073.0</td>\n",
       "      <td>2032.0</td>\n",
       "      <td>1970.0</td>\n",
       "      <td>865.0</td>\n",
       "    </tr>\n",
       "    <tr>\n",
       "      <th>Islamic Republic of Iran</th>\n",
       "      <td>462.0</td>\n",
       "      <td>472.0</td>\n",
       "      <td>503.0</td>\n",
       "      <td>316.0</td>\n",
       "      <td>284.0</td>\n",
       "      <td>59.0</td>\n",
       "    </tr>\n",
       "    <tr>\n",
       "      <th>Italy</th>\n",
       "      <td>195.0</td>\n",
       "      <td>204.0</td>\n",
       "      <td>214.0</td>\n",
       "      <td>234.0</td>\n",
       "      <td>247.0</td>\n",
       "      <td>76.0</td>\n",
       "    </tr>\n",
       "    <tr>\n",
       "      <th>Jordan</th>\n",
       "      <td>180.0</td>\n",
       "      <td>162.0</td>\n",
       "      <td>178.0</td>\n",
       "      <td>166.0</td>\n",
       "      <td>162.0</td>\n",
       "      <td>NaN</td>\n",
       "    </tr>\n",
       "    <tr>\n",
       "      <th>KSA</th>\n",
       "      <td>1542.0</td>\n",
       "      <td>1638.0</td>\n",
       "      <td>1529.0</td>\n",
       "      <td>1568.0</td>\n",
       "      <td>1565.0</td>\n",
       "      <td>400.0</td>\n",
       "    </tr>\n",
       "    <tr>\n",
       "      <th>Kazakhstan</th>\n",
       "      <td>NaN</td>\n",
       "      <td>NaN</td>\n",
       "      <td>NaN</td>\n",
       "      <td>NaN</td>\n",
       "      <td>147.0</td>\n",
       "      <td>74.0</td>\n",
       "    </tr>\n",
       "    <tr>\n",
       "      <th>Kuwait</th>\n",
       "      <td>410.0</td>\n",
       "      <td>419.0</td>\n",
       "      <td>402.0</td>\n",
       "      <td>342.0</td>\n",
       "      <td>327.0</td>\n",
       "      <td>84.0</td>\n",
       "    </tr>\n",
       "    <tr>\n",
       "      <th>Lebanon</th>\n",
       "      <td>NaN</td>\n",
       "      <td>NaN</td>\n",
       "      <td>142.0</td>\n",
       "      <td>NaN</td>\n",
       "      <td>NaN</td>\n",
       "      <td>NaN</td>\n",
       "    </tr>\n",
       "    <tr>\n",
       "      <th>Netherlands</th>\n",
       "      <td>NaN</td>\n",
       "      <td>NaN</td>\n",
       "      <td>142.0</td>\n",
       "      <td>140.0</td>\n",
       "      <td>NaN</td>\n",
       "      <td>NaN</td>\n",
       "    </tr>\n",
       "    <tr>\n",
       "      <th>Nigeria</th>\n",
       "      <td>201.0</td>\n",
       "      <td>160.0</td>\n",
       "      <td>NaN</td>\n",
       "      <td>NaN</td>\n",
       "      <td>NaN</td>\n",
       "      <td>NaN</td>\n",
       "    </tr>\n",
       "    <tr>\n",
       "      <th>Oman</th>\n",
       "      <td>1002.0</td>\n",
       "      <td>1037.0</td>\n",
       "      <td>862.0</td>\n",
       "      <td>829.0</td>\n",
       "      <td>1030.0</td>\n",
       "      <td>240.0</td>\n",
       "    </tr>\n",
       "    <tr>\n",
       "      <th>Other</th>\n",
       "      <td>3639.0</td>\n",
       "      <td>3703.0</td>\n",
       "      <td>4006.0</td>\n",
       "      <td>4181.0</td>\n",
       "      <td>4510.0</td>\n",
       "      <td>1694.0</td>\n",
       "    </tr>\n",
       "    <tr>\n",
       "      <th>Pakistan</th>\n",
       "      <td>513.0</td>\n",
       "      <td>607.0</td>\n",
       "      <td>598.0</td>\n",
       "      <td>513.0</td>\n",
       "      <td>501.0</td>\n",
       "      <td>212.0</td>\n",
       "    </tr>\n",
       "    <tr>\n",
       "      <th>Philippines</th>\n",
       "      <td>325.0</td>\n",
       "      <td>390.0</td>\n",
       "      <td>405.0</td>\n",
       "      <td>387.0</td>\n",
       "      <td>477.0</td>\n",
       "      <td>104.0</td>\n",
       "    </tr>\n",
       "    <tr>\n",
       "      <th>Qatar</th>\n",
       "      <td>182.0</td>\n",
       "      <td>198.0</td>\n",
       "      <td>NaN</td>\n",
       "      <td>NaN</td>\n",
       "      <td>NaN</td>\n",
       "      <td>NaN</td>\n",
       "    </tr>\n",
       "    <tr>\n",
       "      <th>Russian Federation</th>\n",
       "      <td>211.0</td>\n",
       "      <td>240.0</td>\n",
       "      <td>530.0</td>\n",
       "      <td>678.0</td>\n",
       "      <td>728.0</td>\n",
       "      <td>296.0</td>\n",
       "    </tr>\n",
       "    <tr>\n",
       "      <th>UK</th>\n",
       "      <td>1188.0</td>\n",
       "      <td>1245.0</td>\n",
       "      <td>1265.0</td>\n",
       "      <td>1212.0</td>\n",
       "      <td>1200.0</td>\n",
       "      <td>392.0</td>\n",
       "    </tr>\n",
       "    <tr>\n",
       "      <th>US</th>\n",
       "      <td>602.0</td>\n",
       "      <td>607.0</td>\n",
       "      <td>633.0</td>\n",
       "      <td>656.0</td>\n",
       "      <td>667.0</td>\n",
       "      <td>191.0</td>\n",
       "    </tr>\n",
       "  </tbody>\n",
       "</table>\n",
       "</div>"
      ],
      "text/plain": [
       "year                         2015    2016    2017    2018    2019    2020\n",
       "nationality_en                                                           \n",
       "  Nigeria                     NaN     NaN     NaN   185.0   246.0    81.0\n",
       "Australia                   315.0   283.0   279.0   257.0   255.0     NaN\n",
       "Canada                      168.0   176.0   173.0   161.0   169.0    59.0\n",
       "China                       450.0   540.0   764.0   857.0   989.0   182.0\n",
       "Egypt                       305.0   291.0   288.0   291.0   314.0   170.0\n",
       "France                      248.0   266.0   298.0   348.0   382.0   166.0\n",
       "Germany                     461.0   462.0   506.0   567.0   560.0   165.0\n",
       "India                      1601.0  1800.0  2073.0  2032.0  1970.0   865.0\n",
       "Islamic Republic of Iran    462.0   472.0   503.0   316.0   284.0    59.0\n",
       "Italy                       195.0   204.0   214.0   234.0   247.0    76.0\n",
       "Jordan                      180.0   162.0   178.0   166.0   162.0     NaN\n",
       "KSA                        1542.0  1638.0  1529.0  1568.0  1565.0   400.0\n",
       "Kazakhstan                    NaN     NaN     NaN     NaN   147.0    74.0\n",
       "Kuwait                      410.0   419.0   402.0   342.0   327.0    84.0\n",
       "Lebanon                       NaN     NaN   142.0     NaN     NaN     NaN\n",
       "Netherlands                   NaN     NaN   142.0   140.0     NaN     NaN\n",
       "Nigeria                     201.0   160.0     NaN     NaN     NaN     NaN\n",
       "Oman                       1002.0  1037.0   862.0   829.0  1030.0   240.0\n",
       "Other                      3639.0  3703.0  4006.0  4181.0  4510.0  1694.0\n",
       "Pakistan                    513.0   607.0   598.0   513.0   501.0   212.0\n",
       "Philippines                 325.0   390.0   405.0   387.0   477.0   104.0\n",
       "Qatar                       182.0   198.0     NaN     NaN     NaN     NaN\n",
       "Russian Federation          211.0   240.0   530.0   678.0   728.0   296.0\n",
       "UK                         1188.0  1245.0  1265.0  1212.0  1200.0   392.0\n",
       "US                          602.0   607.0   633.0   656.0   667.0   191.0"
      ]
     },
     "execution_count": 149,
     "metadata": {},
     "output_type": "execute_result"
    }
   ],
   "source": [
    "(visitors_df\n",
    "     [visitors_df[\"nationality_en\"] != \"Total\"]\n",
    "     .pivot_table(values=\"visitors_count\", columns=\"year\", index=\"nationality_en\")\n",
    ")"
   ]
  },
  {
   "cell_type": "code",
   "execution_count": 150,
   "id": "ad542437-ab88-4292-bedd-d0c10cd74bb9",
   "metadata": {},
   "outputs": [
    {
     "data": {
      "text/html": [
       "<div>\n",
       "<style scoped>\n",
       "    .dataframe tbody tr th:only-of-type {\n",
       "        vertical-align: middle;\n",
       "    }\n",
       "\n",
       "    .dataframe tbody tr th {\n",
       "        vertical-align: top;\n",
       "    }\n",
       "\n",
       "    .dataframe thead th {\n",
       "        text-align: right;\n",
       "    }\n",
       "</style>\n",
       "<table border=\"1\" class=\"dataframe\">\n",
       "  <thead>\n",
       "    <tr style=\"text-align: right;\">\n",
       "      <th>year</th>\n",
       "      <th>2015</th>\n",
       "      <th>2016</th>\n",
       "      <th>2017</th>\n",
       "      <th>2018</th>\n",
       "      <th>2019</th>\n",
       "      <th>2020</th>\n",
       "    </tr>\n",
       "    <tr>\n",
       "      <th>nationality_en</th>\n",
       "      <th></th>\n",
       "      <th></th>\n",
       "      <th></th>\n",
       "      <th></th>\n",
       "      <th></th>\n",
       "      <th></th>\n",
       "    </tr>\n",
       "  </thead>\n",
       "  <tbody>\n",
       "    <tr>\n",
       "      <th>Nigeria</th>\n",
       "      <td>0</td>\n",
       "      <td>0</td>\n",
       "      <td>0</td>\n",
       "      <td>185</td>\n",
       "      <td>246</td>\n",
       "      <td>81</td>\n",
       "    </tr>\n",
       "    <tr>\n",
       "      <th>Australia</th>\n",
       "      <td>315</td>\n",
       "      <td>283</td>\n",
       "      <td>279</td>\n",
       "      <td>257</td>\n",
       "      <td>255</td>\n",
       "      <td>0</td>\n",
       "    </tr>\n",
       "    <tr>\n",
       "      <th>Canada</th>\n",
       "      <td>168</td>\n",
       "      <td>176</td>\n",
       "      <td>173</td>\n",
       "      <td>161</td>\n",
       "      <td>169</td>\n",
       "      <td>59</td>\n",
       "    </tr>\n",
       "    <tr>\n",
       "      <th>China</th>\n",
       "      <td>450</td>\n",
       "      <td>540</td>\n",
       "      <td>764</td>\n",
       "      <td>857</td>\n",
       "      <td>989</td>\n",
       "      <td>182</td>\n",
       "    </tr>\n",
       "    <tr>\n",
       "      <th>Egypt</th>\n",
       "      <td>305</td>\n",
       "      <td>291</td>\n",
       "      <td>288</td>\n",
       "      <td>291</td>\n",
       "      <td>314</td>\n",
       "      <td>170</td>\n",
       "    </tr>\n",
       "    <tr>\n",
       "      <th>France</th>\n",
       "      <td>248</td>\n",
       "      <td>266</td>\n",
       "      <td>298</td>\n",
       "      <td>348</td>\n",
       "      <td>382</td>\n",
       "      <td>166</td>\n",
       "    </tr>\n",
       "    <tr>\n",
       "      <th>Germany</th>\n",
       "      <td>461</td>\n",
       "      <td>462</td>\n",
       "      <td>506</td>\n",
       "      <td>567</td>\n",
       "      <td>560</td>\n",
       "      <td>165</td>\n",
       "    </tr>\n",
       "    <tr>\n",
       "      <th>India</th>\n",
       "      <td>1601</td>\n",
       "      <td>1800</td>\n",
       "      <td>2073</td>\n",
       "      <td>2032</td>\n",
       "      <td>1970</td>\n",
       "      <td>865</td>\n",
       "    </tr>\n",
       "    <tr>\n",
       "      <th>Islamic Republic of Iran</th>\n",
       "      <td>462</td>\n",
       "      <td>472</td>\n",
       "      <td>503</td>\n",
       "      <td>316</td>\n",
       "      <td>284</td>\n",
       "      <td>59</td>\n",
       "    </tr>\n",
       "    <tr>\n",
       "      <th>Italy</th>\n",
       "      <td>195</td>\n",
       "      <td>204</td>\n",
       "      <td>214</td>\n",
       "      <td>234</td>\n",
       "      <td>247</td>\n",
       "      <td>76</td>\n",
       "    </tr>\n",
       "    <tr>\n",
       "      <th>Jordan</th>\n",
       "      <td>180</td>\n",
       "      <td>162</td>\n",
       "      <td>178</td>\n",
       "      <td>166</td>\n",
       "      <td>162</td>\n",
       "      <td>0</td>\n",
       "    </tr>\n",
       "    <tr>\n",
       "      <th>KSA</th>\n",
       "      <td>1542</td>\n",
       "      <td>1638</td>\n",
       "      <td>1529</td>\n",
       "      <td>1568</td>\n",
       "      <td>1565</td>\n",
       "      <td>400</td>\n",
       "    </tr>\n",
       "    <tr>\n",
       "      <th>Kazakhstan</th>\n",
       "      <td>0</td>\n",
       "      <td>0</td>\n",
       "      <td>0</td>\n",
       "      <td>0</td>\n",
       "      <td>147</td>\n",
       "      <td>74</td>\n",
       "    </tr>\n",
       "    <tr>\n",
       "      <th>Kuwait</th>\n",
       "      <td>410</td>\n",
       "      <td>419</td>\n",
       "      <td>402</td>\n",
       "      <td>342</td>\n",
       "      <td>327</td>\n",
       "      <td>84</td>\n",
       "    </tr>\n",
       "    <tr>\n",
       "      <th>Lebanon</th>\n",
       "      <td>0</td>\n",
       "      <td>0</td>\n",
       "      <td>142</td>\n",
       "      <td>0</td>\n",
       "      <td>0</td>\n",
       "      <td>0</td>\n",
       "    </tr>\n",
       "    <tr>\n",
       "      <th>Netherlands</th>\n",
       "      <td>0</td>\n",
       "      <td>0</td>\n",
       "      <td>142</td>\n",
       "      <td>140</td>\n",
       "      <td>0</td>\n",
       "      <td>0</td>\n",
       "    </tr>\n",
       "    <tr>\n",
       "      <th>Nigeria</th>\n",
       "      <td>201</td>\n",
       "      <td>160</td>\n",
       "      <td>0</td>\n",
       "      <td>0</td>\n",
       "      <td>0</td>\n",
       "      <td>0</td>\n",
       "    </tr>\n",
       "    <tr>\n",
       "      <th>Oman</th>\n",
       "      <td>1002</td>\n",
       "      <td>1037</td>\n",
       "      <td>862</td>\n",
       "      <td>829</td>\n",
       "      <td>1030</td>\n",
       "      <td>240</td>\n",
       "    </tr>\n",
       "    <tr>\n",
       "      <th>Other</th>\n",
       "      <td>3639</td>\n",
       "      <td>3703</td>\n",
       "      <td>4006</td>\n",
       "      <td>4181</td>\n",
       "      <td>4510</td>\n",
       "      <td>1694</td>\n",
       "    </tr>\n",
       "    <tr>\n",
       "      <th>Pakistan</th>\n",
       "      <td>513</td>\n",
       "      <td>607</td>\n",
       "      <td>598</td>\n",
       "      <td>513</td>\n",
       "      <td>501</td>\n",
       "      <td>212</td>\n",
       "    </tr>\n",
       "    <tr>\n",
       "      <th>Philippines</th>\n",
       "      <td>325</td>\n",
       "      <td>390</td>\n",
       "      <td>405</td>\n",
       "      <td>387</td>\n",
       "      <td>477</td>\n",
       "      <td>104</td>\n",
       "    </tr>\n",
       "    <tr>\n",
       "      <th>Qatar</th>\n",
       "      <td>182</td>\n",
       "      <td>198</td>\n",
       "      <td>0</td>\n",
       "      <td>0</td>\n",
       "      <td>0</td>\n",
       "      <td>0</td>\n",
       "    </tr>\n",
       "    <tr>\n",
       "      <th>Russian Federation</th>\n",
       "      <td>211</td>\n",
       "      <td>240</td>\n",
       "      <td>530</td>\n",
       "      <td>678</td>\n",
       "      <td>728</td>\n",
       "      <td>296</td>\n",
       "    </tr>\n",
       "    <tr>\n",
       "      <th>UK</th>\n",
       "      <td>1188</td>\n",
       "      <td>1245</td>\n",
       "      <td>1265</td>\n",
       "      <td>1212</td>\n",
       "      <td>1200</td>\n",
       "      <td>392</td>\n",
       "    </tr>\n",
       "    <tr>\n",
       "      <th>US</th>\n",
       "      <td>602</td>\n",
       "      <td>607</td>\n",
       "      <td>633</td>\n",
       "      <td>656</td>\n",
       "      <td>667</td>\n",
       "      <td>191</td>\n",
       "    </tr>\n",
       "  </tbody>\n",
       "</table>\n",
       "</div>"
      ],
      "text/plain": [
       "year                       2015  2016  2017  2018  2019  2020\n",
       "nationality_en                                               \n",
       "  Nigeria                     0     0     0   185   246    81\n",
       "Australia                   315   283   279   257   255     0\n",
       "Canada                      168   176   173   161   169    59\n",
       "China                       450   540   764   857   989   182\n",
       "Egypt                       305   291   288   291   314   170\n",
       "France                      248   266   298   348   382   166\n",
       "Germany                     461   462   506   567   560   165\n",
       "India                      1601  1800  2073  2032  1970   865\n",
       "Islamic Republic of Iran    462   472   503   316   284    59\n",
       "Italy                       195   204   214   234   247    76\n",
       "Jordan                      180   162   178   166   162     0\n",
       "KSA                        1542  1638  1529  1568  1565   400\n",
       "Kazakhstan                    0     0     0     0   147    74\n",
       "Kuwait                      410   419   402   342   327    84\n",
       "Lebanon                       0     0   142     0     0     0\n",
       "Netherlands                   0     0   142   140     0     0\n",
       "Nigeria                     201   160     0     0     0     0\n",
       "Oman                       1002  1037   862   829  1030   240\n",
       "Other                      3639  3703  4006  4181  4510  1694\n",
       "Pakistan                    513   607   598   513   501   212\n",
       "Philippines                 325   390   405   387   477   104\n",
       "Qatar                       182   198     0     0     0     0\n",
       "Russian Federation          211   240   530   678   728   296\n",
       "UK                         1188  1245  1265  1212  1200   392\n",
       "US                          602   607   633   656   667   191"
      ]
     },
     "execution_count": 150,
     "metadata": {},
     "output_type": "execute_result"
    }
   ],
   "source": [
    "(visitors_df\n",
    "     [visitors_df[\"nationality_en\"] != \"Total\"]\n",
    "     .pivot_table(values=\"visitors_count\", columns=\"year\", index=\"nationality_en\", fill_value=0)\n",
    ")"
   ]
  },
  {
   "cell_type": "markdown",
   "id": "71ef69ed-ec9d-4fd1-b3b3-11b85f284e03",
   "metadata": {},
   "source": [
    "we can apply summary functions to specifc axes as well:"
   ]
  },
  {
   "cell_type": "code",
   "execution_count": 161,
   "id": "47b865ac-9bf9-4780-b5f1-e969b81e576e",
   "metadata": {},
   "outputs": [
    {
     "data": {
      "text/plain": [
       "year\n",
       "2015    14200\n",
       "2016    14900\n",
       "2017    15790\n",
       "2018    15920\n",
       "2019    16730\n",
       "2020     5510\n",
       "dtype: int64"
      ]
     },
     "execution_count": 161,
     "metadata": {},
     "output_type": "execute_result"
    },
    {
     "data": {
      "text/plain": [
       "nationality_en\n",
       "  Nigeria                      512\n",
       "Australia                     1389\n",
       "Canada                         906\n",
       "China                         3782\n",
       "Egypt                         1659\n",
       "France                        1708\n",
       "Germany                       2721\n",
       "India                        10341\n",
       "Islamic Republic of Iran      2096\n",
       "Italy                         1170\n",
       "Jordan                         848\n",
       "KSA                           8242\n",
       "Kazakhstan                     221\n",
       "Kuwait                        1984\n",
       "Lebanon                        142\n",
       "Netherlands                    282\n",
       "Nigeria                        361\n",
       "Oman                          5000\n",
       "Other                        21733\n",
       "Pakistan                      2944\n",
       "Philippines                   2088\n",
       "Qatar                          380\n",
       "Russian Federation            2683\n",
       "UK                            6502\n",
       "US                            3356\n",
       "dtype: int64"
      ]
     },
     "execution_count": 161,
     "metadata": {},
     "output_type": "execute_result"
    }
   ],
   "source": [
    "pivot_df = (visitors_df\n",
    "     [visitors_df[\"nationality_en\"] != \"Total\"]\n",
    "     .pivot_table(values=\"visitors_count\", columns=\"year\", index=\"nationality_en\", fill_value=0)\n",
    ")\n",
    "\n",
    "pivot_df.sum(axis=0)\n",
    "pivot_df.sum(axis=1)"
   ]
  },
  {
   "cell_type": "markdown",
   "id": "d0a1035d-090a-461e-a09a-fb5127b39aaf",
   "metadata": {},
   "source": [
    "# Plotting with Seaborn / Plotly"
   ]
  },
  {
   "cell_type": "markdown",
   "id": "3305352d-ea50-4817-a86c-578082a14726",
   "metadata": {},
   "source": [
    "## Seaborn"
   ]
  },
  {
   "cell_type": "markdown",
   "id": "86e531d1-935d-49d1-b1e5-a1701793cc54",
   "metadata": {},
   "source": [
    "\"Seaborn is a Python data visualization library based on matplotlib. It provides a high-level interface for drawing attractive and informative statistical graphics.\" For more info: https://seaborn.pydata.org/"
   ]
  },
  {
   "cell_type": "code",
   "execution_count": 188,
   "id": "78b1e83a-bd92-4be9-a25a-908d515e8b29",
   "metadata": {},
   "outputs": [],
   "source": [
    "import matplotlib.pyplot as plt\n",
    "import seaborn as sns"
   ]
  },
  {
   "cell_type": "code",
   "execution_count": 199,
   "id": "da382a6d-a854-4b9f-8b14-4b6be9296e76",
   "metadata": {},
   "outputs": [],
   "source": [
    "visitors_filtered = visitors_df[~visitors_df[\"nationality_en\"].isin([\"Total\", \"Other\"])]"
   ]
  },
  {
   "cell_type": "code",
   "execution_count": 203,
   "id": "d96dc848-f02b-4344-809a-099559a357dd",
   "metadata": {},
   "outputs": [
    {
     "data": {
      "text/plain": [
       "<AxesSubplot:xlabel='year', ylabel='visitors_count'>"
      ]
     },
     "execution_count": 203,
     "metadata": {},
     "output_type": "execute_result"
    },
    {
     "data": {
      "image/png": "[encoded data removed]",
      "text/plain": [
       "<Figure size 1440x720 with 1 Axes>"
      ]
     },
     "metadata": {
      "needs_background": "light"
     },
     "output_type": "display_data"
    }
   ],
   "source": [
    "fig, ax = plt.subplots(figsize=(20,10))\n",
    "\n",
    "sns.lineplot(\n",
    "    data=visitors_filtered,\n",
    "    x=\"year\",\n",
    "    y=\"visitors_count\",\n",
    "    hue=\"nationality_en\",\n",
    "    ax = ax\n",
    ")"
   ]
  },
  {
   "cell_type": "code",
   "execution_count": 204,
   "id": "7e131e17-5348-45ca-902f-674d1c03de40",
   "metadata": {},
   "outputs": [
    {
     "data": {
      "text/plain": [
       "<AxesSubplot:xlabel='year', ylabel='visitors_count'>"
      ]
     },
     "execution_count": 204,
     "metadata": {},
     "output_type": "execute_result"
    },
    {
     "data": {
      "image/png": "[encoded data removed]",
      "text/plain": [
       "<Figure size 1440x720 with 1 Axes>"
      ]
     },
     "metadata": {
      "needs_background": "light"
     },
     "output_type": "display_data"
    }
   ],
   "source": [
    "fig, ax = plt.subplots(figsize=(20,10))\n",
    "\n",
    "sns.boxplot(\n",
    "    data=visitors_filtered,\n",
    "    x=\"year\",\n",
    "    y=\"visitors_count\",\n",
    "    #hue=\"nationality_en\",\n",
    "    ax = ax\n",
    ")"
   ]
  },
  {
   "cell_type": "markdown",
   "id": "b467aea5-d0cc-4a27-a52c-dd12beae239a",
   "metadata": {},
   "source": [
    "## Plotly"
   ]
  },
  {
   "cell_type": "code",
   "execution_count": 205,
   "id": "58784d60-5e97-452d-99d5-0012cc3e6095",
   "metadata": {},
   "outputs": [],
   "source": [
    "import plotly.express as px"
   ]
  },
  {
   "cell_type": "code",
   "execution_count": 225,
   "id": "ebff39d5-843e-45a3-b026-c7474bac30a3",
   "metadata": {},
   "outputs": [
    {
     "data": {
      "application/vnd.plotly.v1+json": {
       "config": {
        "plotlyServerURL": "https://plot.ly"
       },
       "data": [
        {
         "hovertemplate": "nationality_en=India<br>year=%{x}<br>visitors_count=%{y}<extra></extra>",
         "legendgroup": "India",
         "line": {
          "color": "#636efa",
          "dash": "solid"
         },
         "marker": {
          "symbol": "circle"
         },
         "mode": "lines",
         "name": "India",
         "orientation": "v",
         "showlegend": true,
         "type": "scatter",
         "x": [
          2015,
          2016,
          2017,
          2018,
          2019,
          2020
         ],
         "xaxis": "x",
         "y": [
          1601,
          1800,
          2073,
          2032,
          1970,
          865
         ],
         "yaxis": "y"
        },
        {
         "hovertemplate": "nationality_en=KSA<br>year=%{x}<br>visitors_count=%{y}<extra></extra>",
         "legendgroup": "KSA",
         "line": {
          "color": "#EF553B",
          "dash": "solid"
         },
         "marker": {
          "symbol": "circle"
         },
         "mode": "lines",
         "name": "KSA",
         "orientation": "v",
         "showlegend": true,
         "type": "scatter",
         "x": [
          2015,
          2016,
          2017,
          2018,
          2019,
          2020
         ],
         "xaxis": "x",
         "y": [
          1542,
          1638,
          1529,
          1568,
          1565,
          400
         ],
         "yaxis": "y"
        },
        {
         "hovertemplate": "nationality_en=UK<br>year=%{x}<br>visitors_count=%{y}<extra></extra>",
         "legendgroup": "UK",
         "line": {
          "color": "#00cc96",
          "dash": "solid"
         },
         "marker": {
          "symbol": "circle"
         },
         "mode": "lines",
         "name": "UK",
         "orientation": "v",
         "showlegend": true,
         "type": "scatter",
         "x": [
          2015,
          2016,
          2017,
          2018,
          2019,
          2020
         ],
         "xaxis": "x",
         "y": [
          1188,
          1245,
          1265,
          1212,
          1200,
          392
         ],
         "yaxis": "y"
        },
        {
         "hovertemplate": "nationality_en=Oman<br>year=%{x}<br>visitors_count=%{y}<extra></extra>",
         "legendgroup": "Oman",
         "line": {
          "color": "#ab63fa",
          "dash": "solid"
         },
         "marker": {
          "symbol": "circle"
         },
         "mode": "lines",
         "name": "Oman",
         "orientation": "v",
         "showlegend": true,
         "type": "scatter",
         "x": [
          2015,
          2016,
          2017,
          2018,
          2019,
          2020
         ],
         "xaxis": "x",
         "y": [
          1002,
          1037,
          862,
          829,
          1030,
          240
         ],
         "yaxis": "y"
        },
        {
         "hovertemplate": "nationality_en=US<br>year=%{x}<br>visitors_count=%{y}<extra></extra>",
         "legendgroup": "US",
         "line": {
          "color": "#FFA15A",
          "dash": "solid"
         },
         "marker": {
          "symbol": "circle"
         },
         "mode": "lines",
         "name": "US",
         "orientation": "v",
         "showlegend": true,
         "type": "scatter",
         "x": [
          2015,
          2016,
          2017,
          2018,
          2019,
          2020
         ],
         "xaxis": "x",
         "y": [
          602,
          607,
          633,
          656,
          667,
          191
         ],
         "yaxis": "y"
        },
        {
         "hovertemplate": "nationality_en=Pakistan<br>year=%{x}<br>visitors_count=%{y}<extra></extra>",
         "legendgroup": "Pakistan",
         "line": {
          "color": "#19d3f3",
          "dash": "solid"
         },
         "marker": {
          "symbol": "circle"
         },
         "mode": "lines",
         "name": "Pakistan",
         "orientation": "v",
         "showlegend": true,
         "type": "scatter",
         "x": [
          2015,
          2016,
          2017,
          2018,
          2019,
          2020
         ],
         "xaxis": "x",
         "y": [
          513,
          607,
          598,
          513,
          501,
          212
         ],
         "yaxis": "y"
        },
        {
         "hovertemplate": "nationality_en=Islamic Republic of Iran <br>year=%{x}<br>visitors_count=%{y}<extra></extra>",
         "legendgroup": "Islamic Republic of Iran ",
         "line": {
          "color": "#FF6692",
          "dash": "solid"
         },
         "marker": {
          "symbol": "circle"
         },
         "mode": "lines",
         "name": "Islamic Republic of Iran ",
         "orientation": "v",
         "showlegend": true,
         "type": "scatter",
         "x": [
          2015,
          2016,
          2017,
          2018,
          2019,
          2020
         ],
         "xaxis": "x",
         "y": [
          462,
          472,
          503,
          316,
          284,
          59
         ],
         "yaxis": "y"
        },
        {
         "hovertemplate": "nationality_en=Germany<br>year=%{x}<br>visitors_count=%{y}<extra></extra>",
         "legendgroup": "Germany",
         "line": {
          "color": "#B6E880",
          "dash": "solid"
         },
         "marker": {
          "symbol": "circle"
         },
         "mode": "lines",
         "name": "Germany",
         "orientation": "v",
         "showlegend": true,
         "type": "scatter",
         "x": [
          2015,
          2016,
          2017,
          2018,
          2019,
          2020
         ],
         "xaxis": "x",
         "y": [
          461,
          462,
          506,
          567,
          560,
          165
         ],
         "yaxis": "y"
        },
        {
         "hovertemplate": "nationality_en=China<br>year=%{x}<br>visitors_count=%{y}<extra></extra>",
         "legendgroup": "China",
         "line": {
          "color": "#FF97FF",
          "dash": "solid"
         },
         "marker": {
          "symbol": "circle"
         },
         "mode": "lines",
         "name": "China",
         "orientation": "v",
         "showlegend": true,
         "type": "scatter",
         "x": [
          2015,
          2016,
          2017,
          2018,
          2019,
          2020
         ],
         "xaxis": "x",
         "y": [
          450,
          540,
          764,
          857,
          989,
          182
         ],
         "yaxis": "y"
        },
        {
         "hovertemplate": "nationality_en=Kuwait<br>year=%{x}<br>visitors_count=%{y}<extra></extra>",
         "legendgroup": "Kuwait",
         "line": {
          "color": "#FECB52",
          "dash": "solid"
         },
         "marker": {
          "symbol": "circle"
         },
         "mode": "lines",
         "name": "Kuwait",
         "orientation": "v",
         "showlegend": true,
         "type": "scatter",
         "x": [
          2015,
          2016,
          2017,
          2018,
          2019,
          2020
         ],
         "xaxis": "x",
         "y": [
          410,
          419,
          402,
          342,
          327,
          84
         ],
         "yaxis": "y"
        },
        {
         "hovertemplate": "nationality_en=Philippines<br>year=%{x}<br>visitors_count=%{y}<extra></extra>",
         "legendgroup": "Philippines",
         "line": {
          "color": "#636efa",
          "dash": "solid"
         },
         "marker": {
          "symbol": "circle"
         },
         "mode": "lines",
         "name": "Philippines",
         "orientation": "v",
         "showlegend": true,
         "type": "scatter",
         "x": [
          2015,
          2016,
          2017,
          2018,
          2019,
          2020
         ],
         "xaxis": "x",
         "y": [
          325,
          390,
          405,
          387,
          477,
          104
         ],
         "yaxis": "y"
        },
        {
         "hovertemplate": "nationality_en=Australia<br>year=%{x}<br>visitors_count=%{y}<extra></extra>",
         "legendgroup": "Australia",
         "line": {
          "color": "#EF553B",
          "dash": "solid"
         },
         "marker": {
          "symbol": "circle"
         },
         "mode": "lines",
         "name": "Australia",
         "orientation": "v",
         "showlegend": true,
         "type": "scatter",
         "x": [
          2015,
          2016,
          2017,
          2018,
          2019
         ],
         "xaxis": "x",
         "y": [
          315,
          283,
          279,
          257,
          255
         ],
         "yaxis": "y"
        },
        {
         "hovertemplate": "nationality_en=Egypt<br>year=%{x}<br>visitors_count=%{y}<extra></extra>",
         "legendgroup": "Egypt",
         "line": {
          "color": "#00cc96",
          "dash": "solid"
         },
         "marker": {
          "symbol": "circle"
         },
         "mode": "lines",
         "name": "Egypt",
         "orientation": "v",
         "showlegend": true,
         "type": "scatter",
         "x": [
          2015,
          2016,
          2017,
          2018,
          2019,
          2020
         ],
         "xaxis": "x",
         "y": [
          305,
          291,
          288,
          291,
          314,
          170
         ],
         "yaxis": "y"
        },
        {
         "hovertemplate": "nationality_en=France<br>year=%{x}<br>visitors_count=%{y}<extra></extra>",
         "legendgroup": "France",
         "line": {
          "color": "#ab63fa",
          "dash": "solid"
         },
         "marker": {
          "symbol": "circle"
         },
         "mode": "lines",
         "name": "France",
         "orientation": "v",
         "showlegend": true,
         "type": "scatter",
         "x": [
          2015,
          2016,
          2017,
          2018,
          2019,
          2020
         ],
         "xaxis": "x",
         "y": [
          248,
          266,
          298,
          348,
          382,
          166
         ],
         "yaxis": "y"
        },
        {
         "hovertemplate": "nationality_en=Russian Federation<br>year=%{x}<br>visitors_count=%{y}<extra></extra>",
         "legendgroup": "Russian Federation",
         "line": {
          "color": "#FFA15A",
          "dash": "solid"
         },
         "marker": {
          "symbol": "circle"
         },
         "mode": "lines",
         "name": "Russian Federation",
         "orientation": "v",
         "showlegend": true,
         "type": "scatter",
         "x": [
          2015,
          2016,
          2017,
          2018,
          2019,
          2020
         ],
         "xaxis": "x",
         "y": [
          211,
          240,
          530,
          678,
          728,
          296
         ],
         "yaxis": "y"
        },
        {
         "hovertemplate": "nationality_en=Nigeria<br>year=%{x}<br>visitors_count=%{y}<extra></extra>",
         "legendgroup": "Nigeria",
         "line": {
          "color": "#19d3f3",
          "dash": "solid"
         },
         "marker": {
          "symbol": "circle"
         },
         "mode": "lines",
         "name": "Nigeria",
         "orientation": "v",
         "showlegend": true,
         "type": "scatter",
         "x": [
          2015,
          2016
         ],
         "xaxis": "x",
         "y": [
          201,
          160
         ],
         "yaxis": "y"
        },
        {
         "hovertemplate": "nationality_en=Italy<br>year=%{x}<br>visitors_count=%{y}<extra></extra>",
         "legendgroup": "Italy",
         "line": {
          "color": "#FF6692",
          "dash": "solid"
         },
         "marker": {
          "symbol": "circle"
         },
         "mode": "lines",
         "name": "Italy",
         "orientation": "v",
         "showlegend": true,
         "type": "scatter",
         "x": [
          2015,
          2016,
          2017,
          2018,
          2019,
          2020
         ],
         "xaxis": "x",
         "y": [
          195,
          204,
          214,
          234,
          247,
          76
         ],
         "yaxis": "y"
        },
        {
         "hovertemplate": "nationality_en=Qatar<br>year=%{x}<br>visitors_count=%{y}<extra></extra>",
         "legendgroup": "Qatar",
         "line": {
          "color": "#B6E880",
          "dash": "solid"
         },
         "marker": {
          "symbol": "circle"
         },
         "mode": "lines",
         "name": "Qatar",
         "orientation": "v",
         "showlegend": true,
         "type": "scatter",
         "x": [
          2015,
          2016
         ],
         "xaxis": "x",
         "y": [
          182,
          198
         ],
         "yaxis": "y"
        },
        {
         "hovertemplate": "nationality_en=Jordan<br>year=%{x}<br>visitors_count=%{y}<extra></extra>",
         "legendgroup": "Jordan",
         "line": {
          "color": "#FF97FF",
          "dash": "solid"
         },
         "marker": {
          "symbol": "circle"
         },
         "mode": "lines",
         "name": "Jordan",
         "orientation": "v",
         "showlegend": true,
         "type": "scatter",
         "x": [
          2015,
          2016,
          2017,
          2018,
          2019
         ],
         "xaxis": "x",
         "y": [
          180,
          162,
          178,
          166,
          162
         ],
         "yaxis": "y"
        },
        {
         "hovertemplate": "nationality_en=Canada<br>year=%{x}<br>visitors_count=%{y}<extra></extra>",
         "legendgroup": "Canada",
         "line": {
          "color": "#FECB52",
          "dash": "solid"
         },
         "marker": {
          "symbol": "circle"
         },
         "mode": "lines",
         "name": "Canada",
         "orientation": "v",
         "showlegend": true,
         "type": "scatter",
         "x": [
          2015,
          2016,
          2017,
          2018,
          2019,
          2020
         ],
         "xaxis": "x",
         "y": [
          168,
          176,
          173,
          161,
          169,
          59
         ],
         "yaxis": "y"
        },
        {
         "hovertemplate": "nationality_en=Netherlands<br>year=%{x}<br>visitors_count=%{y}<extra></extra>",
         "legendgroup": "Netherlands",
         "line": {
          "color": "#636efa",
          "dash": "solid"
         },
         "marker": {
          "symbol": "circle"
         },
         "mode": "lines",
         "name": "Netherlands",
         "orientation": "v",
         "showlegend": true,
         "type": "scatter",
         "x": [
          2017,
          2018
         ],
         "xaxis": "x",
         "y": [
          142,
          140
         ],
         "yaxis": "y"
        },
        {
         "hovertemplate": "nationality_en=Lebanon<br>year=%{x}<br>visitors_count=%{y}<extra></extra>",
         "legendgroup": "Lebanon",
         "line": {
          "color": "#EF553B",
          "dash": "solid"
         },
         "marker": {
          "symbol": "circle"
         },
         "mode": "lines",
         "name": "Lebanon",
         "orientation": "v",
         "showlegend": true,
         "type": "scatter",
         "x": [
          2017
         ],
         "xaxis": "x",
         "y": [
          142
         ],
         "yaxis": "y"
        },
        {
         "hovertemplate": "nationality_en=  Nigeria<br>year=%{x}<br>visitors_count=%{y}<extra></extra>",
         "legendgroup": "  Nigeria",
         "line": {
          "color": "#00cc96",
          "dash": "solid"
         },
         "marker": {
          "symbol": "circle"
         },
         "mode": "lines",
         "name": "  Nigeria",
         "orientation": "v",
         "showlegend": true,
         "type": "scatter",
         "x": [
          2018,
          2019,
          2020
         ],
         "xaxis": "x",
         "y": [
          185,
          246,
          81
         ],
         "yaxis": "y"
        },
        {
         "hovertemplate": "nationality_en=Kazakhstan<br>year=%{x}<br>visitors_count=%{y}<extra></extra>",
         "legendgroup": "Kazakhstan",
         "line": {
          "color": "#ab63fa",
          "dash": "solid"
         },
         "marker": {
          "symbol": "circle"
         },
         "mode": "lines",
         "name": "Kazakhstan",
         "orientation": "v",
         "showlegend": true,
         "type": "scatter",
         "x": [
          2019,
          2020
         ],
         "xaxis": "x",
         "y": [
          147,
          74
         ],
         "yaxis": "y"
        }
       ],
       "layout": {
        "height": 600,
        "legend": {
         "title": {
          "text": "nationality_en"
         },
         "tracegroupgap": 0
        },
        "margin": {
         "t": 60
        },
        "template": {
         "data": {
          "bar": [
           {
            "error_x": {
             "color": "#2a3f5f"
            },
            "error_y": {
             "color": "#2a3f5f"
            },
            "marker": {
             "line": {
              "color": "#E5ECF6",
              "width": 0.5
             },
             "pattern": {
              "fillmode": "overlay",
              "size": 10,
              "solidity": 0.2
             }
            },
            "type": "bar"
           }
          ],
          "barpolar": [
           {
            "marker": {
             "line": {
              "color": "#E5ECF6",
              "width": 0.5
             },
             "pattern": {
              "fillmode": "overlay",
              "size": 10,
              "solidity": 0.2
             }
            },
            "type": "barpolar"
           }
          ],
          "carpet": [
           {
            "aaxis": {
             "endlinecolor": "#2a3f5f",
             "gridcolor": "white",
             "linecolor": "white",
             "minorgridcolor": "white",
             "startlinecolor": "#2a3f5f"
            },
            "baxis": {
             "endlinecolor": "#2a3f5f",
             "gridcolor": "white",
             "linecolor": "white",
             "minorgridcolor": "white",
             "startlinecolor": "#2a3f5f"
            },
            "type": "carpet"
           }
          ],
          "choropleth": [
           {
            "colorbar": {
             "outlinewidth": 0,
             "ticks": ""
            },
            "type": "choropleth"
           }
          ],
          "contour": [
           {
            "colorbar": {
             "outlinewidth": 0,
             "ticks": ""
            },
            "colorscale": [
             [
              0,
              "#0d0887"
             ],
             [
              0.1111111111111111,
              "#46039f"
             ],
             [
              0.2222222222222222,
              "#7201a8"
             ],
             [
              0.3333333333333333,
              "#9c179e"
             ],
             [
              0.4444444444444444,
              "#bd3786"
             ],
             [
              0.5555555555555556,
              "#d8576b"
             ],
             [
              0.6666666666666666,
              "#ed7953"
             ],
             [
              0.7777777777777778,
              "#fb9f3a"
             ],
             [
              0.8888888888888888,
              "#fdca26"
             ],
             [
              1,
              "#f0f921"
             ]
            ],
            "type": "contour"
           }
          ],
          "contourcarpet": [
           {
            "colorbar": {
             "outlinewidth": 0,
             "ticks": ""
            },
            "type": "contourcarpet"
           }
          ],
          "heatmap": [
           {
            "colorbar": {
             "outlinewidth": 0,
             "ticks": ""
            },
            "colorscale": [
             [
              0,
              "#0d0887"
             ],
             [
              0.1111111111111111,
              "#46039f"
             ],
             [
              0.2222222222222222,
              "#7201a8"
             ],
             [
              0.3333333333333333,
              "#9c179e"
             ],
             [
              0.4444444444444444,
              "#bd3786"
             ],
             [
              0.5555555555555556,
              "#d8576b"
             ],
             [
              0.6666666666666666,
              "#ed7953"
             ],
             [
              0.7777777777777778,
              "#fb9f3a"
             ],
             [
              0.8888888888888888,
              "#fdca26"
             ],
             [
              1,
              "#f0f921"
             ]
            ],
            "type": "heatmap"
           }
          ],
          "heatmapgl": [
           {
            "colorbar": {
             "outlinewidth": 0,
             "ticks": ""
            },
            "colorscale": [
             [
              0,
              "#0d0887"
             ],
             [
              0.1111111111111111,
              "#46039f"
             ],
             [
              0.2222222222222222,
              "#7201a8"
             ],
             [
              0.3333333333333333,
              "#9c179e"
             ],
             [
              0.4444444444444444,
              "#bd3786"
             ],
             [
              0.5555555555555556,
              "#d8576b"
             ],
             [
              0.6666666666666666,
              "#ed7953"
             ],
             [
              0.7777777777777778,
              "#fb9f3a"
             ],
             [
              0.8888888888888888,
              "#fdca26"
             ],
             [
              1,
              "#f0f921"
             ]
            ],
            "type": "heatmapgl"
           }
          ],
          "histogram": [
           {
            "marker": {
             "pattern": {
              "fillmode": "overlay",
              "size": 10,
              "solidity": 0.2
             }
            },
            "type": "histogram"
           }
          ],
          "histogram2d": [
           {
            "colorbar": {
             "outlinewidth": 0,
             "ticks": ""
            },
            "colorscale": [
             [
              0,
              "#0d0887"
             ],
             [
              0.1111111111111111,
              "#46039f"
             ],
             [
              0.2222222222222222,
              "#7201a8"
             ],
             [
              0.3333333333333333,
              "#9c179e"
             ],
             [
              0.4444444444444444,
              "#bd3786"
             ],
             [
              0.5555555555555556,
              "#d8576b"
             ],
             [
              0.6666666666666666,
              "#ed7953"
             ],
             [
              0.7777777777777778,
              "#fb9f3a"
             ],
             [
              0.8888888888888888,
              "#fdca26"
             ],
             [
              1,
              "#f0f921"
             ]
            ],
            "type": "histogram2d"
           }
          ],
          "histogram2dcontour": [
           {
            "colorbar": {
             "outlinewidth": 0,
             "ticks": ""
            },
            "colorscale": [
             [
              0,
              "#0d0887"
             ],
             [
              0.1111111111111111,
              "#46039f"
             ],
             [
              0.2222222222222222,
              "#7201a8"
             ],
             [
              0.3333333333333333,
              "#9c179e"
             ],
             [
              0.4444444444444444,
              "#bd3786"
             ],
             [
              0.5555555555555556,
              "#d8576b"
             ],
             [
              0.6666666666666666,
              "#ed7953"
             ],
             [
              0.7777777777777778,
              "#fb9f3a"
             ],
             [
              0.8888888888888888,
              "#fdca26"
             ],
             [
              1,
              "#f0f921"
             ]
            ],
            "type": "histogram2dcontour"
           }
          ],
          "mesh3d": [
           {
            "colorbar": {
             "outlinewidth": 0,
             "ticks": ""
            },
            "type": "mesh3d"
           }
          ],
          "parcoords": [
           {
            "line": {
             "colorbar": {
              "outlinewidth": 0,
              "ticks": ""
             }
            },
            "type": "parcoords"
           }
          ],
          "pie": [
           {
            "automargin": true,
            "type": "pie"
           }
          ],
          "scatter": [
           {
            "marker": {
             "colorbar": {
              "outlinewidth": 0,
              "ticks": ""
             }
            },
            "type": "scatter"
           }
          ],
          "scatter3d": [
           {
            "line": {
             "colorbar": {
              "outlinewidth": 0,
              "ticks": ""
             }
            },
            "marker": {
             "colorbar": {
              "outlinewidth": 0,
              "ticks": ""
             }
            },
            "type": "scatter3d"
           }
          ],
          "scattercarpet": [
           {
            "marker": {
             "colorbar": {
              "outlinewidth": 0,
              "ticks": ""
             }
            },
            "type": "scattercarpet"
           }
          ],
          "scattergeo": [
           {
            "marker": {
             "colorbar": {
              "outlinewidth": 0,
              "ticks": ""
             }
            },
            "type": "scattergeo"
           }
          ],
          "scattergl": [
           {
            "marker": {
             "colorbar": {
              "outlinewidth": 0,
              "ticks": ""
             }
            },
            "type": "scattergl"
           }
          ],
          "scattermapbox": [
           {
            "marker": {
             "colorbar": {
              "outlinewidth": 0,
              "ticks": ""
             }
            },
            "type": "scattermapbox"
           }
          ],
          "scatterpolar": [
           {
            "marker": {
             "colorbar": {
              "outlinewidth": 0,
              "ticks": ""
             }
            },
            "type": "scatterpolar"
           }
          ],
          "scatterpolargl": [
           {
            "marker": {
             "colorbar": {
              "outlinewidth": 0,
              "ticks": ""
             }
            },
            "type": "scatterpolargl"
           }
          ],
          "scatterternary": [
           {
            "marker": {
             "colorbar": {
              "outlinewidth": 0,
              "ticks": ""
             }
            },
            "type": "scatterternary"
           }
          ],
          "surface": [
           {
            "colorbar": {
             "outlinewidth": 0,
             "ticks": ""
            },
            "colorscale": [
             [
              0,
              "#0d0887"
             ],
             [
              0.1111111111111111,
              "#46039f"
             ],
             [
              0.2222222222222222,
              "#7201a8"
             ],
             [
              0.3333333333333333,
              "#9c179e"
             ],
             [
              0.4444444444444444,
              "#bd3786"
             ],
             [
              0.5555555555555556,
              "#d8576b"
             ],
             [
              0.6666666666666666,
              "#ed7953"
             ],
             [
              0.7777777777777778,
              "#fb9f3a"
             ],
             [
              0.8888888888888888,
              "#fdca26"
             ],
             [
              1,
              "#f0f921"
             ]
            ],
            "type": "surface"
           }
          ],
          "table": [
           {
            "cells": {
             "fill": {
              "color": "#EBF0F8"
             },
             "line": {
              "color": "white"
             }
            },
            "header": {
             "fill": {
              "color": "#C8D4E3"
             },
             "line": {
              "color": "white"
             }
            },
            "type": "table"
           }
          ]
         },
         "layout": {
          "annotationdefaults": {
           "arrowcolor": "#2a3f5f",
           "arrowhead": 0,
           "arrowwidth": 1
          },
          "autotypenumbers": "strict",
          "coloraxis": {
           "colorbar": {
            "outlinewidth": 0,
            "ticks": ""
           }
          },
          "colorscale": {
           "diverging": [
            [
             0,
             "#8e0152"
            ],
            [
             0.1,
             "#c51b7d"
            ],
            [
             0.2,
             "#de77ae"
            ],
            [
             0.3,
             "#f1b6da"
            ],
            [
             0.4,
             "#fde0ef"
            ],
            [
             0.5,
             "#f7f7f7"
            ],
            [
             0.6,
             "#e6f5d0"
            ],
            [
             0.7,
             "#b8e186"
            ],
            [
             0.8,
             "#7fbc41"
            ],
            [
             0.9,
             "#4d9221"
            ],
            [
             1,
             "#276419"
            ]
           ],
           "sequential": [
            [
             0,
             "#0d0887"
            ],
            [
             0.1111111111111111,
             "#46039f"
            ],
            [
             0.2222222222222222,
             "#7201a8"
            ],
            [
             0.3333333333333333,
             "#9c179e"
            ],
            [
             0.4444444444444444,
             "#bd3786"
            ],
            [
             0.5555555555555556,
             "#d8576b"
            ],
            [
             0.6666666666666666,
             "#ed7953"
            ],
            [
             0.7777777777777778,
             "#fb9f3a"
            ],
            [
             0.8888888888888888,
             "#fdca26"
            ],
            [
             1,
             "#f0f921"
            ]
           ],
           "sequentialminus": [
            [
             0,
             "#0d0887"
            ],
            [
             0.1111111111111111,
             "#46039f"
            ],
            [
             0.2222222222222222,
             "#7201a8"
            ],
            [
             0.3333333333333333,
             "#9c179e"
            ],
            [
             0.4444444444444444,
             "#bd3786"
            ],
            [
             0.5555555555555556,
             "#d8576b"
            ],
            [
             0.6666666666666666,
             "#ed7953"
            ],
            [
             0.7777777777777778,
             "#fb9f3a"
            ],
            [
             0.8888888888888888,
             "#fdca26"
            ],
            [
             1,
             "#f0f921"
            ]
           ]
          },
          "colorway": [
           "#636efa",
           "#EF553B",
           "#00cc96",
           "#ab63fa",
           "#FFA15A",
           "#19d3f3",
           "#FF6692",
           "#B6E880",
           "#FF97FF",
           "#FECB52"
          ],
          "font": {
           "color": "#2a3f5f"
          },
          "geo": {
           "bgcolor": "white",
           "lakecolor": "white",
           "landcolor": "#E5ECF6",
           "showlakes": true,
           "showland": true,
           "subunitcolor": "white"
          },
          "hoverlabel": {
           "align": "left"
          },
          "hovermode": "closest",
          "mapbox": {
           "style": "light"
          },
          "paper_bgcolor": "white",
          "plot_bgcolor": "#E5ECF6",
          "polar": {
           "angularaxis": {
            "gridcolor": "white",
            "linecolor": "white",
            "ticks": ""
           },
           "bgcolor": "#E5ECF6",
           "radialaxis": {
            "gridcolor": "white",
            "linecolor": "white",
            "ticks": ""
           }
          },
          "scene": {
           "xaxis": {
            "backgroundcolor": "#E5ECF6",
            "gridcolor": "white",
            "gridwidth": 2,
            "linecolor": "white",
            "showbackground": true,
            "ticks": "",
            "zerolinecolor": "white"
           },
           "yaxis": {
            "backgroundcolor": "#E5ECF6",
            "gridcolor": "white",
            "gridwidth": 2,
            "linecolor": "white",
            "showbackground": true,
            "ticks": "",
            "zerolinecolor": "white"
           },
           "zaxis": {
            "backgroundcolor": "#E5ECF6",
            "gridcolor": "white",
            "gridwidth": 2,
            "linecolor": "white",
            "showbackground": true,
            "ticks": "",
            "zerolinecolor": "white"
           }
          },
          "shapedefaults": {
           "line": {
            "color": "#2a3f5f"
           }
          },
          "ternary": {
           "aaxis": {
            "gridcolor": "white",
            "linecolor": "white",
            "ticks": ""
           },
           "baxis": {
            "gridcolor": "white",
            "linecolor": "white",
            "ticks": ""
           },
           "bgcolor": "#E5ECF6",
           "caxis": {
            "gridcolor": "white",
            "linecolor": "white",
            "ticks": ""
           }
          },
          "title": {
           "x": 0.05
          },
          "xaxis": {
           "automargin": true,
           "gridcolor": "white",
           "linecolor": "white",
           "ticks": "",
           "title": {
            "standoff": 15
           },
           "zerolinecolor": "white",
           "zerolinewidth": 2
          },
          "yaxis": {
           "automargin": true,
           "gridcolor": "white",
           "linecolor": "white",
           "ticks": "",
           "title": {
            "standoff": 15
           },
           "zerolinecolor": "white",
           "zerolinewidth": 2
          }
         }
        },
        "width": 1200,
        "xaxis": {
         "anchor": "y",
         "autorange": true,
         "domain": [
          0,
          1
         ],
         "range": [
          2015,
          2020
         ],
         "title": {
          "text": "year"
         },
         "type": "linear"
        },
        "yaxis": {
         "anchor": "x",
         "autorange": true,
         "domain": [
          0,
          1
         ],
         "range": [
          -52.8888888888889,
          2184.8888888888887
         ],
         "title": {
          "text": "visitors_count"
         },
         "type": "linear"
        }
       }
      },
      "image/png": "[encoded data removed]",
      "text/html": [
       "<div>                            <div id=\"d7003063-e6e6-491a-9f85-020903c4b0c5\" class=\"plotly-graph-div\" style=\"height:600px; width:1200px;\"></div>            <script type=\"text/javascript\">                require([\"plotly\"], function(Plotly) {                    window.PLOTLYENV=window.PLOTLYENV || {};                                    if (document.getElementById(\"d7003063-e6e6-491a-9f85-020903c4b0c5\")) {                    Plotly.newPlot(                        \"d7003063-e6e6-491a-9f85-020903c4b0c5\",                        [{\"hovertemplate\":\"nationality_en=India<br>year=%{x}<br>visitors_count=%{y}<extra></extra>\",\"legendgroup\":\"India\",\"line\":{\"color\":\"#636efa\",\"dash\":\"solid\"},\"marker\":{\"symbol\":\"circle\"},\"mode\":\"lines\",\"name\":\"India\",\"orientation\":\"v\",\"showlegend\":true,\"x\":[2015,2016,2017,2018,2019,2020],\"xaxis\":\"x\",\"y\":[1601,1800,2073,2032,1970,865],\"yaxis\":\"y\",\"type\":\"scatter\"},{\"hovertemplate\":\"nationality_en=KSA<br>year=%{x}<br>visitors_count=%{y}<extra></extra>\",\"legendgroup\":\"KSA\",\"line\":{\"color\":\"#EF553B\",\"dash\":\"solid\"},\"marker\":{\"symbol\":\"circle\"},\"mode\":\"lines\",\"name\":\"KSA\",\"orientation\":\"v\",\"showlegend\":true,\"x\":[2015,2016,2017,2018,2019,2020],\"xaxis\":\"x\",\"y\":[1542,1638,1529,1568,1565,400],\"yaxis\":\"y\",\"type\":\"scatter\"},{\"hovertemplate\":\"nationality_en=UK<br>year=%{x}<br>visitors_count=%{y}<extra></extra>\",\"legendgroup\":\"UK\",\"line\":{\"color\":\"#00cc96\",\"dash\":\"solid\"},\"marker\":{\"symbol\":\"circle\"},\"mode\":\"lines\",\"name\":\"UK\",\"orientation\":\"v\",\"showlegend\":true,\"x\":[2015,2016,2017,2018,2019,2020],\"xaxis\":\"x\",\"y\":[1188,1245,1265,1212,1200,392],\"yaxis\":\"y\",\"type\":\"scatter\"},{\"hovertemplate\":\"nationality_en=Oman<br>year=%{x}<br>visitors_count=%{y}<extra></extra>\",\"legendgroup\":\"Oman\",\"line\":{\"color\":\"#ab63fa\",\"dash\":\"solid\"},\"marker\":{\"symbol\":\"circle\"},\"mode\":\"lines\",\"name\":\"Oman\",\"orientation\":\"v\",\"showlegend\":true,\"x\":[2015,2016,2017,2018,2019,2020],\"xaxis\":\"x\",\"y\":[1002,1037,862,829,1030,240],\"yaxis\":\"y\",\"type\":\"scatter\"},{\"hovertemplate\":\"nationality_en=US<br>year=%{x}<br>visitors_count=%{y}<extra></extra>\",\"legendgroup\":\"US\",\"line\":{\"color\":\"#FFA15A\",\"dash\":\"solid\"},\"marker\":{\"symbol\":\"circle\"},\"mode\":\"lines\",\"name\":\"US\",\"orientation\":\"v\",\"showlegend\":true,\"x\":[2015,2016,2017,2018,2019,2020],\"xaxis\":\"x\",\"y\":[602,607,633,656,667,191],\"yaxis\":\"y\",\"type\":\"scatter\"},{\"hovertemplate\":\"nationality_en=Pakistan<br>year=%{x}<br>visitors_count=%{y}<extra></extra>\",\"legendgroup\":\"Pakistan\",\"line\":{\"color\":\"#19d3f3\",\"dash\":\"solid\"},\"marker\":{\"symbol\":\"circle\"},\"mode\":\"lines\",\"name\":\"Pakistan\",\"orientation\":\"v\",\"showlegend\":true,\"x\":[2015,2016,2017,2018,2019,2020],\"xaxis\":\"x\",\"y\":[513,607,598,513,501,212],\"yaxis\":\"y\",\"type\":\"scatter\"},{\"hovertemplate\":\"nationality_en=Islamic Republic of Iran <br>year=%{x}<br>visitors_count=%{y}<extra></extra>\",\"legendgroup\":\"Islamic Republic of Iran \",\"line\":{\"color\":\"#FF6692\",\"dash\":\"solid\"},\"marker\":{\"symbol\":\"circle\"},\"mode\":\"lines\",\"name\":\"Islamic Republic of Iran \",\"orientation\":\"v\",\"showlegend\":true,\"x\":[2015,2016,2017,2018,2019,2020],\"xaxis\":\"x\",\"y\":[462,472,503,316,284,59],\"yaxis\":\"y\",\"type\":\"scatter\"},{\"hovertemplate\":\"nationality_en=Germany<br>year=%{x}<br>visitors_count=%{y}<extra></extra>\",\"legendgroup\":\"Germany\",\"line\":{\"color\":\"#B6E880\",\"dash\":\"solid\"},\"marker\":{\"symbol\":\"circle\"},\"mode\":\"lines\",\"name\":\"Germany\",\"orientation\":\"v\",\"showlegend\":true,\"x\":[2015,2016,2017,2018,2019,2020],\"xaxis\":\"x\",\"y\":[461,462,506,567,560,165],\"yaxis\":\"y\",\"type\":\"scatter\"},{\"hovertemplate\":\"nationality_en=China<br>year=%{x}<br>visitors_count=%{y}<extra></extra>\",\"legendgroup\":\"China\",\"line\":{\"color\":\"#FF97FF\",\"dash\":\"solid\"},\"marker\":{\"symbol\":\"circle\"},\"mode\":\"lines\",\"name\":\"China\",\"orientation\":\"v\",\"showlegend\":true,\"x\":[2015,2016,2017,2018,2019,2020],\"xaxis\":\"x\",\"y\":[450,540,764,857,989,182],\"yaxis\":\"y\",\"type\":\"scatter\"},{\"hovertemplate\":\"nationality_en=Kuwait<br>year=%{x}<br>visitors_count=%{y}<extra></extra>\",\"legendgroup\":\"Kuwait\",\"line\":{\"color\":\"#FECB52\",\"dash\":\"solid\"},\"marker\":{\"symbol\":\"circle\"},\"mode\":\"lines\",\"name\":\"Kuwait\",\"orientation\":\"v\",\"showlegend\":true,\"x\":[2015,2016,2017,2018,2019,2020],\"xaxis\":\"x\",\"y\":[410,419,402,342,327,84],\"yaxis\":\"y\",\"type\":\"scatter\"},{\"hovertemplate\":\"nationality_en=Philippines<br>year=%{x}<br>visitors_count=%{y}<extra></extra>\",\"legendgroup\":\"Philippines\",\"line\":{\"color\":\"#636efa\",\"dash\":\"solid\"},\"marker\":{\"symbol\":\"circle\"},\"mode\":\"lines\",\"name\":\"Philippines\",\"orientation\":\"v\",\"showlegend\":true,\"x\":[2015,2016,2017,2018,2019,2020],\"xaxis\":\"x\",\"y\":[325,390,405,387,477,104],\"yaxis\":\"y\",\"type\":\"scatter\"},{\"hovertemplate\":\"nationality_en=Australia<br>year=%{x}<br>visitors_count=%{y}<extra></extra>\",\"legendgroup\":\"Australia\",\"line\":{\"color\":\"#EF553B\",\"dash\":\"solid\"},\"marker\":{\"symbol\":\"circle\"},\"mode\":\"lines\",\"name\":\"Australia\",\"orientation\":\"v\",\"showlegend\":true,\"x\":[2015,2016,2017,2018,2019],\"xaxis\":\"x\",\"y\":[315,283,279,257,255],\"yaxis\":\"y\",\"type\":\"scatter\"},{\"hovertemplate\":\"nationality_en=Egypt<br>year=%{x}<br>visitors_count=%{y}<extra></extra>\",\"legendgroup\":\"Egypt\",\"line\":{\"color\":\"#00cc96\",\"dash\":\"solid\"},\"marker\":{\"symbol\":\"circle\"},\"mode\":\"lines\",\"name\":\"Egypt\",\"orientation\":\"v\",\"showlegend\":true,\"x\":[2015,2016,2017,2018,2019,2020],\"xaxis\":\"x\",\"y\":[305,291,288,291,314,170],\"yaxis\":\"y\",\"type\":\"scatter\"},{\"hovertemplate\":\"nationality_en=France<br>year=%{x}<br>visitors_count=%{y}<extra></extra>\",\"legendgroup\":\"France\",\"line\":{\"color\":\"#ab63fa\",\"dash\":\"solid\"},\"marker\":{\"symbol\":\"circle\"},\"mode\":\"lines\",\"name\":\"France\",\"orientation\":\"v\",\"showlegend\":true,\"x\":[2015,2016,2017,2018,2019,2020],\"xaxis\":\"x\",\"y\":[248,266,298,348,382,166],\"yaxis\":\"y\",\"type\":\"scatter\"},{\"hovertemplate\":\"nationality_en=Russian Federation<br>year=%{x}<br>visitors_count=%{y}<extra></extra>\",\"legendgroup\":\"Russian Federation\",\"line\":{\"color\":\"#FFA15A\",\"dash\":\"solid\"},\"marker\":{\"symbol\":\"circle\"},\"mode\":\"lines\",\"name\":\"Russian Federation\",\"orientation\":\"v\",\"showlegend\":true,\"x\":[2015,2016,2017,2018,2019,2020],\"xaxis\":\"x\",\"y\":[211,240,530,678,728,296],\"yaxis\":\"y\",\"type\":\"scatter\"},{\"hovertemplate\":\"nationality_en=Nigeria<br>year=%{x}<br>visitors_count=%{y}<extra></extra>\",\"legendgroup\":\"Nigeria\",\"line\":{\"color\":\"#19d3f3\",\"dash\":\"solid\"},\"marker\":{\"symbol\":\"circle\"},\"mode\":\"lines\",\"name\":\"Nigeria\",\"orientation\":\"v\",\"showlegend\":true,\"x\":[2015,2016],\"xaxis\":\"x\",\"y\":[201,160],\"yaxis\":\"y\",\"type\":\"scatter\"},{\"hovertemplate\":\"nationality_en=Italy<br>year=%{x}<br>visitors_count=%{y}<extra></extra>\",\"legendgroup\":\"Italy\",\"line\":{\"color\":\"#FF6692\",\"dash\":\"solid\"},\"marker\":{\"symbol\":\"circle\"},\"mode\":\"lines\",\"name\":\"Italy\",\"orientation\":\"v\",\"showlegend\":true,\"x\":[2015,2016,2017,2018,2019,2020],\"xaxis\":\"x\",\"y\":[195,204,214,234,247,76],\"yaxis\":\"y\",\"type\":\"scatter\"},{\"hovertemplate\":\"nationality_en=Qatar<br>year=%{x}<br>visitors_count=%{y}<extra></extra>\",\"legendgroup\":\"Qatar\",\"line\":{\"color\":\"#B6E880\",\"dash\":\"solid\"},\"marker\":{\"symbol\":\"circle\"},\"mode\":\"lines\",\"name\":\"Qatar\",\"orientation\":\"v\",\"showlegend\":true,\"x\":[2015,2016],\"xaxis\":\"x\",\"y\":[182,198],\"yaxis\":\"y\",\"type\":\"scatter\"},{\"hovertemplate\":\"nationality_en=Jordan<br>year=%{x}<br>visitors_count=%{y}<extra></extra>\",\"legendgroup\":\"Jordan\",\"line\":{\"color\":\"#FF97FF\",\"dash\":\"solid\"},\"marker\":{\"symbol\":\"circle\"},\"mode\":\"lines\",\"name\":\"Jordan\",\"orientation\":\"v\",\"showlegend\":true,\"x\":[2015,2016,2017,2018,2019],\"xaxis\":\"x\",\"y\":[180,162,178,166,162],\"yaxis\":\"y\",\"type\":\"scatter\"},{\"hovertemplate\":\"nationality_en=Canada<br>year=%{x}<br>visitors_count=%{y}<extra></extra>\",\"legendgroup\":\"Canada\",\"line\":{\"color\":\"#FECB52\",\"dash\":\"solid\"},\"marker\":{\"symbol\":\"circle\"},\"mode\":\"lines\",\"name\":\"Canada\",\"orientation\":\"v\",\"showlegend\":true,\"x\":[2015,2016,2017,2018,2019,2020],\"xaxis\":\"x\",\"y\":[168,176,173,161,169,59],\"yaxis\":\"y\",\"type\":\"scatter\"},{\"hovertemplate\":\"nationality_en=Netherlands<br>year=%{x}<br>visitors_count=%{y}<extra></extra>\",\"legendgroup\":\"Netherlands\",\"line\":{\"color\":\"#636efa\",\"dash\":\"solid\"},\"marker\":{\"symbol\":\"circle\"},\"mode\":\"lines\",\"name\":\"Netherlands\",\"orientation\":\"v\",\"showlegend\":true,\"x\":[2017,2018],\"xaxis\":\"x\",\"y\":[142,140],\"yaxis\":\"y\",\"type\":\"scatter\"},{\"hovertemplate\":\"nationality_en=Lebanon<br>year=%{x}<br>visitors_count=%{y}<extra></extra>\",\"legendgroup\":\"Lebanon\",\"line\":{\"color\":\"#EF553B\",\"dash\":\"solid\"},\"marker\":{\"symbol\":\"circle\"},\"mode\":\"lines\",\"name\":\"Lebanon\",\"orientation\":\"v\",\"showlegend\":true,\"x\":[2017],\"xaxis\":\"x\",\"y\":[142],\"yaxis\":\"y\",\"type\":\"scatter\"},{\"hovertemplate\":\"nationality_en=  Nigeria<br>year=%{x}<br>visitors_count=%{y}<extra></extra>\",\"legendgroup\":\"  Nigeria\",\"line\":{\"color\":\"#00cc96\",\"dash\":\"solid\"},\"marker\":{\"symbol\":\"circle\"},\"mode\":\"lines\",\"name\":\"  Nigeria\",\"orientation\":\"v\",\"showlegend\":true,\"x\":[2018,2019,2020],\"xaxis\":\"x\",\"y\":[185,246,81],\"yaxis\":\"y\",\"type\":\"scatter\"},{\"hovertemplate\":\"nationality_en=Kazakhstan<br>year=%{x}<br>visitors_count=%{y}<extra></extra>\",\"legendgroup\":\"Kazakhstan\",\"line\":{\"color\":\"#ab63fa\",\"dash\":\"solid\"},\"marker\":{\"symbol\":\"circle\"},\"mode\":\"lines\",\"name\":\"Kazakhstan\",\"orientation\":\"v\",\"showlegend\":true,\"x\":[2019,2020],\"xaxis\":\"x\",\"y\":[147,74],\"yaxis\":\"y\",\"type\":\"scatter\"}],                        {\"template\":{\"data\":{\"bar\":[{\"error_x\":{\"color\":\"#2a3f5f\"},\"error_y\":{\"color\":\"#2a3f5f\"},\"marker\":{\"line\":{\"color\":\"#E5ECF6\",\"width\":0.5},\"pattern\":{\"fillmode\":\"overlay\",\"size\":10,\"solidity\":0.2}},\"type\":\"bar\"}],\"barpolar\":[{\"marker\":{\"line\":{\"color\":\"#E5ECF6\",\"width\":0.5},\"pattern\":{\"fillmode\":\"overlay\",\"size\":10,\"solidity\":0.2}},\"type\":\"barpolar\"}],\"carpet\":[{\"aaxis\":{\"endlinecolor\":\"#2a3f5f\",\"gridcolor\":\"white\",\"linecolor\":\"white\",\"minorgridcolor\":\"white\",\"startlinecolor\":\"#2a3f5f\"},\"baxis\":{\"endlinecolor\":\"#2a3f5f\",\"gridcolor\":\"white\",\"linecolor\":\"white\",\"minorgridcolor\":\"white\",\"startlinecolor\":\"#2a3f5f\"},\"type\":\"carpet\"}],\"choropleth\":[{\"colorbar\":{\"outlinewidth\":0,\"ticks\":\"\"},\"type\":\"choropleth\"}],\"contour\":[{\"colorbar\":{\"outlinewidth\":0,\"ticks\":\"\"},\"colorscale\":[[0.0,\"#0d0887\"],[0.1111111111111111,\"#46039f\"],[0.2222222222222222,\"#7201a8\"],[0.3333333333333333,\"#9c179e\"],[0.4444444444444444,\"#bd3786\"],[0.5555555555555556,\"#d8576b\"],[0.6666666666666666,\"#ed7953\"],[0.7777777777777778,\"#fb9f3a\"],[0.8888888888888888,\"#fdca26\"],[1.0,\"#f0f921\"]],\"type\":\"contour\"}],\"contourcarpet\":[{\"colorbar\":{\"outlinewidth\":0,\"ticks\":\"\"},\"type\":\"contourcarpet\"}],\"heatmap\":[{\"colorbar\":{\"outlinewidth\":0,\"ticks\":\"\"},\"colorscale\":[[0.0,\"#0d0887\"],[0.1111111111111111,\"#46039f\"],[0.2222222222222222,\"#7201a8\"],[0.3333333333333333,\"#9c179e\"],[0.4444444444444444,\"#bd3786\"],[0.5555555555555556,\"#d8576b\"],[0.6666666666666666,\"#ed7953\"],[0.7777777777777778,\"#fb9f3a\"],[0.8888888888888888,\"#fdca26\"],[1.0,\"#f0f921\"]],\"type\":\"heatmap\"}],\"heatmapgl\":[{\"colorbar\":{\"outlinewidth\":0,\"ticks\":\"\"},\"colorscale\":[[0.0,\"#0d0887\"],[0.1111111111111111,\"#46039f\"],[0.2222222222222222,\"#7201a8\"],[0.3333333333333333,\"#9c179e\"],[0.4444444444444444,\"#bd3786\"],[0.5555555555555556,\"#d8576b\"],[0.6666666666666666,\"#ed7953\"],[0.7777777777777778,\"#fb9f3a\"],[0.8888888888888888,\"#fdca26\"],[1.0,\"#f0f921\"]],\"type\":\"heatmapgl\"}],\"histogram\":[{\"marker\":{\"pattern\":{\"fillmode\":\"overlay\",\"size\":10,\"solidity\":0.2}},\"type\":\"histogram\"}],\"histogram2d\":[{\"colorbar\":{\"outlinewidth\":0,\"ticks\":\"\"},\"colorscale\":[[0.0,\"#0d0887\"],[0.1111111111111111,\"#46039f\"],[0.2222222222222222,\"#7201a8\"],[0.3333333333333333,\"#9c179e\"],[0.4444444444444444,\"#bd3786\"],[0.5555555555555556,\"#d8576b\"],[0.6666666666666666,\"#ed7953\"],[0.7777777777777778,\"#fb9f3a\"],[0.8888888888888888,\"#fdca26\"],[1.0,\"#f0f921\"]],\"type\":\"histogram2d\"}],\"histogram2dcontour\":[{\"colorbar\":{\"outlinewidth\":0,\"ticks\":\"\"},\"colorscale\":[[0.0,\"#0d0887\"],[0.1111111111111111,\"#46039f\"],[0.2222222222222222,\"#7201a8\"],[0.3333333333333333,\"#9c179e\"],[0.4444444444444444,\"#bd3786\"],[0.5555555555555556,\"#d8576b\"],[0.6666666666666666,\"#ed7953\"],[0.7777777777777778,\"#fb9f3a\"],[0.8888888888888888,\"#fdca26\"],[1.0,\"#f0f921\"]],\"type\":\"histogram2dcontour\"}],\"mesh3d\":[{\"colorbar\":{\"outlinewidth\":0,\"ticks\":\"\"},\"type\":\"mesh3d\"}],\"parcoords\":[{\"line\":{\"colorbar\":{\"outlinewidth\":0,\"ticks\":\"\"}},\"type\":\"parcoords\"}],\"pie\":[{\"automargin\":true,\"type\":\"pie\"}],\"scatter\":[{\"marker\":{\"colorbar\":{\"outlinewidth\":0,\"ticks\":\"\"}},\"type\":\"scatter\"}],\"scatter3d\":[{\"line\":{\"colorbar\":{\"outlinewidth\":0,\"ticks\":\"\"}},\"marker\":{\"colorbar\":{\"outlinewidth\":0,\"ticks\":\"\"}},\"type\":\"scatter3d\"}],\"scattercarpet\":[{\"marker\":{\"colorbar\":{\"outlinewidth\":0,\"ticks\":\"\"}},\"type\":\"scattercarpet\"}],\"scattergeo\":[{\"marker\":{\"colorbar\":{\"outlinewidth\":0,\"ticks\":\"\"}},\"type\":\"scattergeo\"}],\"scattergl\":[{\"marker\":{\"colorbar\":{\"outlinewidth\":0,\"ticks\":\"\"}},\"type\":\"scattergl\"}],\"scattermapbox\":[{\"marker\":{\"colorbar\":{\"outlinewidth\":0,\"ticks\":\"\"}},\"type\":\"scattermapbox\"}],\"scatterpolar\":[{\"marker\":{\"colorbar\":{\"outlinewidth\":0,\"ticks\":\"\"}},\"type\":\"scatterpolar\"}],\"scatterpolargl\":[{\"marker\":{\"colorbar\":{\"outlinewidth\":0,\"ticks\":\"\"}},\"type\":\"scatterpolargl\"}],\"scatterternary\":[{\"marker\":{\"colorbar\":{\"outlinewidth\":0,\"ticks\":\"\"}},\"type\":\"scatterternary\"}],\"surface\":[{\"colorbar\":{\"outlinewidth\":0,\"ticks\":\"\"},\"colorscale\":[[0.0,\"#0d0887\"],[0.1111111111111111,\"#46039f\"],[0.2222222222222222,\"#7201a8\"],[0.3333333333333333,\"#9c179e\"],[0.4444444444444444,\"#bd3786\"],[0.5555555555555556,\"#d8576b\"],[0.6666666666666666,\"#ed7953\"],[0.7777777777777778,\"#fb9f3a\"],[0.8888888888888888,\"#fdca26\"],[1.0,\"#f0f921\"]],\"type\":\"surface\"}],\"table\":[{\"cells\":{\"fill\":{\"color\":\"#EBF0F8\"},\"line\":{\"color\":\"white\"}},\"header\":{\"fill\":{\"color\":\"#C8D4E3\"},\"line\":{\"color\":\"white\"}},\"type\":\"table\"}]},\"layout\":{\"annotationdefaults\":{\"arrowcolor\":\"#2a3f5f\",\"arrowhead\":0,\"arrowwidth\":1},\"autotypenumbers\":\"strict\",\"coloraxis\":{\"colorbar\":{\"outlinewidth\":0,\"ticks\":\"\"}},\"colorscale\":{\"diverging\":[[0,\"#8e0152\"],[0.1,\"#c51b7d\"],[0.2,\"#de77ae\"],[0.3,\"#f1b6da\"],[0.4,\"#fde0ef\"],[0.5,\"#f7f7f7\"],[0.6,\"#e6f5d0\"],[0.7,\"#b8e186\"],[0.8,\"#7fbc41\"],[0.9,\"#4d9221\"],[1,\"#276419\"]],\"sequential\":[[0.0,\"#0d0887\"],[0.1111111111111111,\"#46039f\"],[0.2222222222222222,\"#7201a8\"],[0.3333333333333333,\"#9c179e\"],[0.4444444444444444,\"#bd3786\"],[0.5555555555555556,\"#d8576b\"],[0.6666666666666666,\"#ed7953\"],[0.7777777777777778,\"#fb9f3a\"],[0.8888888888888888,\"#fdca26\"],[1.0,\"#f0f921\"]],\"sequentialminus\":[[0.0,\"#0d0887\"],[0.1111111111111111,\"#46039f\"],[0.2222222222222222,\"#7201a8\"],[0.3333333333333333,\"#9c179e\"],[0.4444444444444444,\"#bd3786\"],[0.5555555555555556,\"#d8576b\"],[0.6666666666666666,\"#ed7953\"],[0.7777777777777778,\"#fb9f3a\"],[0.8888888888888888,\"#fdca26\"],[1.0,\"#f0f921\"]]},\"colorway\":[\"#636efa\",\"#EF553B\",\"#00cc96\",\"#ab63fa\",\"#FFA15A\",\"#19d3f3\",\"#FF6692\",\"#B6E880\",\"#FF97FF\",\"#FECB52\"],\"font\":{\"color\":\"#2a3f5f\"},\"geo\":{\"bgcolor\":\"white\",\"lakecolor\":\"white\",\"landcolor\":\"#E5ECF6\",\"showlakes\":true,\"showland\":true,\"subunitcolor\":\"white\"},\"hoverlabel\":{\"align\":\"left\"},\"hovermode\":\"closest\",\"mapbox\":{\"style\":\"light\"},\"paper_bgcolor\":\"white\",\"plot_bgcolor\":\"#E5ECF6\",\"polar\":{\"angularaxis\":{\"gridcolor\":\"white\",\"linecolor\":\"white\",\"ticks\":\"\"},\"bgcolor\":\"#E5ECF6\",\"radialaxis\":{\"gridcolor\":\"white\",\"linecolor\":\"white\",\"ticks\":\"\"}},\"scene\":{\"xaxis\":{\"backgroundcolor\":\"#E5ECF6\",\"gridcolor\":\"white\",\"gridwidth\":2,\"linecolor\":\"white\",\"showbackground\":true,\"ticks\":\"\",\"zerolinecolor\":\"white\"},\"yaxis\":{\"backgroundcolor\":\"#E5ECF6\",\"gridcolor\":\"white\",\"gridwidth\":2,\"linecolor\":\"white\",\"showbackground\":true,\"ticks\":\"\",\"zerolinecolor\":\"white\"},\"zaxis\":{\"backgroundcolor\":\"#E5ECF6\",\"gridcolor\":\"white\",\"gridwidth\":2,\"linecolor\":\"white\",\"showbackground\":true,\"ticks\":\"\",\"zerolinecolor\":\"white\"}},\"shapedefaults\":{\"line\":{\"color\":\"#2a3f5f\"}},\"ternary\":{\"aaxis\":{\"gridcolor\":\"white\",\"linecolor\":\"white\",\"ticks\":\"\"},\"baxis\":{\"gridcolor\":\"white\",\"linecolor\":\"white\",\"ticks\":\"\"},\"bgcolor\":\"#E5ECF6\",\"caxis\":{\"gridcolor\":\"white\",\"linecolor\":\"white\",\"ticks\":\"\"}},\"title\":{\"x\":0.05},\"xaxis\":{\"automargin\":true,\"gridcolor\":\"white\",\"linecolor\":\"white\",\"ticks\":\"\",\"title\":{\"standoff\":15},\"zerolinecolor\":\"white\",\"zerolinewidth\":2},\"yaxis\":{\"automargin\":true,\"gridcolor\":\"white\",\"linecolor\":\"white\",\"ticks\":\"\",\"title\":{\"standoff\":15},\"zerolinecolor\":\"white\",\"zerolinewidth\":2}}},\"xaxis\":{\"anchor\":\"y\",\"domain\":[0.0,1.0],\"title\":{\"text\":\"year\"}},\"yaxis\":{\"anchor\":\"x\",\"domain\":[0.0,1.0],\"title\":{\"text\":\"visitors_count\"}},\"legend\":{\"title\":{\"text\":\"nationality_en\"},\"tracegroupgap\":0},\"margin\":{\"t\":60},\"height\":600,\"width\":1200},                        {\"responsive\": true}                    ).then(function(){\n",
       "                            \n",
       "var gd = document.getElementById('d7003063-e6e6-491a-9f85-020903c4b0c5');\n",
       "var x = new MutationObserver(function (mutations, observer) {{\n",
       "        var display = window.getComputedStyle(gd).display;\n",
       "        if (!display || display === 'none') {{\n",
       "            console.log([gd, 'removed!']);\n",
       "            Plotly.purge(gd);\n",
       "            observer.disconnect();\n",
       "        }}\n",
       "}});\n",
       "\n",
       "// Listen for the removal of the full notebook cells\n",
       "var notebookContainer = gd.closest('#notebook-container');\n",
       "if (notebookContainer) {{\n",
       "    x.observe(notebookContainer, {childList: true});\n",
       "}}\n",
       "\n",
       "// Listen for the clearing of the current output cell\n",
       "var outputEl = gd.closest('.output');\n",
       "if (outputEl) {{\n",
       "    x.observe(outputEl, {childList: true});\n",
       "}}\n",
       "\n",
       "                        })                };                });            </script>        </div>"
      ]
     },
     "metadata": {},
     "output_type": "display_data"
    }
   ],
   "source": [
    "px.line(\n",
    "    data_frame=visitors_filtered,\n",
    "    x=\"year\",\n",
    "    y=\"visitors_count\",\n",
    "    color=\"nationality_en\",\n",
    "    height=600,\n",
    "    width=1200,\n",
    ")"
   ]
  },
  {
   "cell_type": "code",
   "execution_count": 226,
   "id": "77e1ee08-a430-49ca-93a4-65e13e3a4666",
   "metadata": {},
   "outputs": [
    {
     "data": {
      "application/vnd.plotly.v1+json": {
       "config": {
        "plotlyServerURL": "https://plot.ly"
       },
       "data": [
        {
         "alignmentgroup": "True",
         "customdata": [
          [
           "India",
           "الهند"
          ],
          [
           "KSA",
           "المملكة العربية السعودية"
          ],
          [
           "UK",
           "المملكة المتحدة"
          ],
          [
           "Oman",
           "عُمان"
          ],
          [
           "US",
           "الولايات المتحدة"
          ],
          [
           "Pakistan",
           "باكستان"
          ],
          [
           "Islamic Republic of Iran ",
           "جمهورية  ايران الإسلامية"
          ],
          [
           "Germany",
           "ألمانيا"
          ],
          [
           "China",
           "الصين"
          ],
          [
           "Kuwait",
           "الكويت"
          ],
          [
           "Philippines",
           "الفلبين"
          ],
          [
           "Australia",
           "أستراليا"
          ],
          [
           "Egypt",
           "مصر"
          ],
          [
           "France",
           "فرنسا"
          ],
          [
           "Russian Federation",
           "الاتحاد الروسي"
          ],
          [
           "Nigeria",
           "نيجيريا"
          ],
          [
           "Italy",
           "إيطاليا"
          ],
          [
           "Qatar",
           "قطر"
          ],
          [
           "Jordan",
           "الأردن"
          ],
          [
           "Canada",
           "كندا"
          ],
          [
           "India",
           "الهند"
          ],
          [
           "KSA",
           "المملكة العربية السعودية"
          ],
          [
           "UK",
           "المملكة المتحدة"
          ],
          [
           "Oman",
           "عُمان"
          ],
          [
           "US",
           "الولايات المتحدة"
          ],
          [
           "Pakistan",
           "باكستان"
          ],
          [
           "China",
           "الصين"
          ],
          [
           "Islamic Republic of Iran ",
           "جمهورية  ايران الإسلامية"
          ],
          [
           "Germany",
           "ألمانيا"
          ],
          [
           "Kuwait",
           "الكويت"
          ],
          [
           "Philippines",
           "الفلبين"
          ],
          [
           "Egypt",
           "مصر"
          ],
          [
           "Australia",
           "أستراليا"
          ],
          [
           "France",
           "فرنسا"
          ],
          [
           "Russian Federation",
           "الاتحاد الروسي"
          ],
          [
           "Italy",
           "إيطاليا"
          ],
          [
           "Qatar",
           "قطر"
          ],
          [
           "Canada",
           "كندا"
          ],
          [
           "Jordan",
           "الأردن"
          ],
          [
           "Nigeria",
           "نيجيريا"
          ],
          [
           "India",
           "الهند"
          ],
          [
           "KSA",
           "المملكة العربية السعودية"
          ],
          [
           "UK",
           "المملكة المتحدة"
          ],
          [
           "Oman",
           "عُمان"
          ],
          [
           "US",
           "الولايات المتحدة"
          ],
          [
           "Pakistan",
           "باكستان"
          ],
          [
           "China",
           "الصين"
          ],
          [
           "Islamic Republic of Iran ",
           "جمهورية  ايران الإسلامية"
          ],
          [
           "Germany",
           "ألمانيا"
          ],
          [
           "Kuwait",
           "الكويت"
          ],
          [
           "Philippines",
           "الفلبين"
          ],
          [
           "Egypt",
           "مصر"
          ],
          [
           "Australia",
           "أستراليا"
          ],
          [
           "France",
           "فرنسا"
          ],
          [
           "Russian Federation",
           "الاتحاد الروسي"
          ],
          [
           "Italy",
           "إيطاليا"
          ],
          [
           "Canada",
           "كندا"
          ],
          [
           "Jordan",
           "الأردن"
          ],
          [
           "Netherlands",
           "هولندا"
          ],
          [
           "Lebanon",
           "لبنان"
          ],
          [
           "India",
           "الهند"
          ],
          [
           "KSA",
           "المملكة العربية السعودية"
          ],
          [
           "UK",
           "المملكة المتحدة"
          ],
          [
           "China",
           "الصين"
          ],
          [
           "Oman",
           "عُمان"
          ],
          [
           "US",
           "الولايات المتحدة"
          ],
          [
           "Russian Federation",
           "الاتحاد الروسي"
          ],
          [
           "Germany",
           "ألمانيا"
          ],
          [
           "Pakistan",
           "باكستان"
          ],
          [
           "Kuwait",
           "الكويت"
          ],
          [
           "Philippines",
           "الفلبين"
          ],
          [
           "Islamic Republic of Iran ",
           "جمهورية  ايران الإسلامية"
          ],
          [
           "France",
           "فرنسا"
          ],
          [
           "Egypt",
           "مصر"
          ],
          [
           "Australia",
           "أستراليا"
          ],
          [
           "Italy",
           "إيطاليا"
          ],
          [
           "  Nigeria",
           "  نيجيريا"
          ],
          [
           "Jordan",
           "الأردن"
          ],
          [
           "Canada",
           "كندا"
          ],
          [
           "Netherlands",
           "هولندا"
          ],
          [
           "India",
           "الهند"
          ],
          [
           "KSA",
           "المملكة العربية السعودية"
          ],
          [
           "UK",
           "المملكة المتحدة"
          ],
          [
           "Oman",
           "عُمان"
          ],
          [
           "China",
           "الصين"
          ],
          [
           "Russian Federation",
           "الاتحاد الروسي"
          ],
          [
           "US",
           "الولايات المتحدة"
          ],
          [
           "Germany",
           "ألمانيا"
          ],
          [
           "Pakistan",
           "باكستان"
          ],
          [
           "Philippines",
           "الفلبين"
          ],
          [
           "France",
           "فرنسا"
          ],
          [
           "Kuwait",
           "الكويت"
          ],
          [
           "Egypt",
           "مصر"
          ],
          [
           "Islamic Republic of Iran ",
           "جمهورية  ايران الإسلامية"
          ],
          [
           "Australia",
           "أستراليا"
          ],
          [
           "Italy",
           "إيطاليا"
          ],
          [
           "  Nigeria",
           "  نيجيريا"
          ],
          [
           "Canada",
           "كندا"
          ],
          [
           "Jordan",
           "الأردن"
          ],
          [
           "Kazakhstan",
           "كازاخستان"
          ],
          [
           "India",
           "الهند"
          ],
          [
           "KSA",
           "المملكة العربية السعودية"
          ],
          [
           "UK",
           "المملكة المتحدة"
          ],
          [
           "Russian Federation",
           "الاتحاد الروسي"
          ],
          [
           "Oman",
           "عُمان"
          ],
          [
           "Pakistan",
           "باكستان"
          ],
          [
           "US",
           "الولايات المتحدة"
          ],
          [
           "China",
           "الصين"
          ],
          [
           "Egypt",
           "مصر"
          ],
          [
           "France",
           "فرنسا"
          ],
          [
           "Germany",
           "ألمانيا"
          ],
          [
           "Philippines",
           "الفلبين"
          ],
          [
           "Kuwait",
           "الكويت"
          ],
          [
           "  Nigeria",
           "  نيجيريا"
          ],
          [
           "Italy",
           "إيطاليا"
          ],
          [
           "Kazakhstan",
           "كازاخستان"
          ],
          [
           "Canada",
           "كندا"
          ],
          [
           "Islamic Republic of Iran ",
           "جمهورية  ايران الإسلامية"
          ]
         ],
         "hovertemplate": "year=%{x}<br>visitors_count=%{y}<br>nationality_en=%{customdata[0]}<br>nationality_ar=%{customdata[1]}<extra></extra>",
         "legendgroup": "",
         "marker": {
          "color": "#636efa"
         },
         "name": "",
         "notched": false,
         "offsetgroup": "",
         "orientation": "v",
         "showlegend": false,
         "type": "box",
         "x": [
          2015,
          2015,
          2015,
          2015,
          2015,
          2015,
          2015,
          2015,
          2015,
          2015,
          2015,
          2015,
          2015,
          2015,
          2015,
          2015,
          2015,
          2015,
          2015,
          2015,
          2016,
          2016,
          2016,
          2016,
          2016,
          2016,
          2016,
          2016,
          2016,
          2016,
          2016,
          2016,
          2016,
          2016,
          2016,
          2016,
          2016,
          2016,
          2016,
          2016,
          2017,
          2017,
          2017,
          2017,
          2017,
          2017,
          2017,
          2017,
          2017,
          2017,
          2017,
          2017,
          2017,
          2017,
          2017,
          2017,
          2017,
          2017,
          2017,
          2017,
          2018,
          2018,
          2018,
          2018,
          2018,
          2018,
          2018,
          2018,
          2018,
          2018,
          2018,
          2018,
          2018,
          2018,
          2018,
          2018,
          2018,
          2018,
          2018,
          2018,
          2019,
          2019,
          2019,
          2019,
          2019,
          2019,
          2019,
          2019,
          2019,
          2019,
          2019,
          2019,
          2019,
          2019,
          2019,
          2019,
          2019,
          2019,
          2019,
          2019,
          2020,
          2020,
          2020,
          2020,
          2020,
          2020,
          2020,
          2020,
          2020,
          2020,
          2020,
          2020,
          2020,
          2020,
          2020,
          2020,
          2020,
          2020
         ],
         "x0": " ",
         "xaxis": "x",
         "y": [
          1601,
          1542,
          1188,
          1002,
          602,
          513,
          462,
          461,
          450,
          410,
          325,
          315,
          305,
          248,
          211,
          201,
          195,
          182,
          180,
          168,
          1800,
          1638,
          1245,
          1037,
          607,
          607,
          540,
          472,
          462,
          419,
          390,
          291,
          283,
          266,
          240,
          204,
          198,
          176,
          162,
          160,
          2073,
          1529,
          1265,
          862,
          633,
          598,
          764,
          503,
          506,
          402,
          405,
          288,
          279,
          298,
          530,
          214,
          173,
          178,
          142,
          142,
          2032,
          1568,
          1212,
          857,
          829,
          656,
          678,
          567,
          513,
          342,
          387,
          316,
          348,
          291,
          257,
          234,
          185,
          166,
          161,
          140,
          1970,
          1565,
          1200,
          1030,
          989,
          728,
          667,
          560,
          501,
          477,
          382,
          327,
          314,
          284,
          255,
          247,
          246,
          169,
          162,
          147,
          865,
          400,
          392,
          296,
          240,
          212,
          191,
          182,
          170,
          166,
          165,
          104,
          84,
          81,
          76,
          74,
          59,
          59
         ],
         "y0": " ",
         "yaxis": "y"
        }
       ],
       "layout": {
        "boxmode": "group",
        "height": 600,
        "legend": {
         "tracegroupgap": 0
        },
        "margin": {
         "t": 60
        },
        "template": {
         "data": {
          "bar": [
           {
            "error_x": {
             "color": "#2a3f5f"
            },
            "error_y": {
             "color": "#2a3f5f"
            },
            "marker": {
             "line": {
              "color": "#E5ECF6",
              "width": 0.5
             },
             "pattern": {
              "fillmode": "overlay",
              "size": 10,
              "solidity": 0.2
             }
            },
            "type": "bar"
           }
          ],
          "barpolar": [
           {
            "marker": {
             "line": {
              "color": "#E5ECF6",
              "width": 0.5
             },
             "pattern": {
              "fillmode": "overlay",
              "size": 10,
              "solidity": 0.2
             }
            },
            "type": "barpolar"
           }
          ],
          "carpet": [
           {
            "aaxis": {
             "endlinecolor": "#2a3f5f",
             "gridcolor": "white",
             "linecolor": "white",
             "minorgridcolor": "white",
             "startlinecolor": "#2a3f5f"
            },
            "baxis": {
             "endlinecolor": "#2a3f5f",
             "gridcolor": "white",
             "linecolor": "white",
             "minorgridcolor": "white",
             "startlinecolor": "#2a3f5f"
            },
            "type": "carpet"
           }
          ],
          "choropleth": [
           {
            "colorbar": {
             "outlinewidth": 0,
             "ticks": ""
            },
            "type": "choropleth"
           }
          ],
          "contour": [
           {
            "colorbar": {
             "outlinewidth": 0,
             "ticks": ""
            },
            "colorscale": [
             [
              0,
              "#0d0887"
             ],
             [
              0.1111111111111111,
              "#46039f"
             ],
             [
              0.2222222222222222,
              "#7201a8"
             ],
             [
              0.3333333333333333,
              "#9c179e"
             ],
             [
              0.4444444444444444,
              "#bd3786"
             ],
             [
              0.5555555555555556,
              "#d8576b"
             ],
             [
              0.6666666666666666,
              "#ed7953"
             ],
             [
              0.7777777777777778,
              "#fb9f3a"
             ],
             [
              0.8888888888888888,
              "#fdca26"
             ],
             [
              1,
              "#f0f921"
             ]
            ],
            "type": "contour"
           }
          ],
          "contourcarpet": [
           {
            "colorbar": {
             "outlinewidth": 0,
             "ticks": ""
            },
            "type": "contourcarpet"
           }
          ],
          "heatmap": [
           {
            "colorbar": {
             "outlinewidth": 0,
             "ticks": ""
            },
            "colorscale": [
             [
              0,
              "#0d0887"
             ],
             [
              0.1111111111111111,
              "#46039f"
             ],
             [
              0.2222222222222222,
              "#7201a8"
             ],
             [
              0.3333333333333333,
              "#9c179e"
             ],
             [
              0.4444444444444444,
              "#bd3786"
             ],
             [
              0.5555555555555556,
              "#d8576b"
             ],
             [
              0.6666666666666666,
              "#ed7953"
             ],
             [
              0.7777777777777778,
              "#fb9f3a"
             ],
             [
              0.8888888888888888,
              "#fdca26"
             ],
             [
              1,
              "#f0f921"
             ]
            ],
            "type": "heatmap"
           }
          ],
          "heatmapgl": [
           {
            "colorbar": {
             "outlinewidth": 0,
             "ticks": ""
            },
            "colorscale": [
             [
              0,
              "#0d0887"
             ],
             [
              0.1111111111111111,
              "#46039f"
             ],
             [
              0.2222222222222222,
              "#7201a8"
             ],
             [
              0.3333333333333333,
              "#9c179e"
             ],
             [
              0.4444444444444444,
              "#bd3786"
             ],
             [
              0.5555555555555556,
              "#d8576b"
             ],
             [
              0.6666666666666666,
              "#ed7953"
             ],
             [
              0.7777777777777778,
              "#fb9f3a"
             ],
             [
              0.8888888888888888,
              "#fdca26"
             ],
             [
              1,
              "#f0f921"
             ]
            ],
            "type": "heatmapgl"
           }
          ],
          "histogram": [
           {
            "marker": {
             "pattern": {
              "fillmode": "overlay",
              "size": 10,
              "solidity": 0.2
             }
            },
            "type": "histogram"
           }
          ],
          "histogram2d": [
           {
            "colorbar": {
             "outlinewidth": 0,
             "ticks": ""
            },
            "colorscale": [
             [
              0,
              "#0d0887"
             ],
             [
              0.1111111111111111,
              "#46039f"
             ],
             [
              0.2222222222222222,
              "#7201a8"
             ],
             [
              0.3333333333333333,
              "#9c179e"
             ],
             [
              0.4444444444444444,
              "#bd3786"
             ],
             [
              0.5555555555555556,
              "#d8576b"
             ],
             [
              0.6666666666666666,
              "#ed7953"
             ],
             [
              0.7777777777777778,
              "#fb9f3a"
             ],
             [
              0.8888888888888888,
              "#fdca26"
             ],
             [
              1,
              "#f0f921"
             ]
            ],
            "type": "histogram2d"
           }
          ],
          "histogram2dcontour": [
           {
            "colorbar": {
             "outlinewidth": 0,
             "ticks": ""
            },
            "colorscale": [
             [
              0,
              "#0d0887"
             ],
             [
              0.1111111111111111,
              "#46039f"
             ],
             [
              0.2222222222222222,
              "#7201a8"
             ],
             [
              0.3333333333333333,
              "#9c179e"
             ],
             [
              0.4444444444444444,
              "#bd3786"
             ],
             [
              0.5555555555555556,
              "#d8576b"
             ],
             [
              0.6666666666666666,
              "#ed7953"
             ],
             [
              0.7777777777777778,
              "#fb9f3a"
             ],
             [
              0.8888888888888888,
              "#fdca26"
             ],
             [
              1,
              "#f0f921"
             ]
            ],
            "type": "histogram2dcontour"
           }
          ],
          "mesh3d": [
           {
            "colorbar": {
             "outlinewidth": 0,
             "ticks": ""
            },
            "type": "mesh3d"
           }
          ],
          "parcoords": [
           {
            "line": {
             "colorbar": {
              "outlinewidth": 0,
              "ticks": ""
             }
            },
            "type": "parcoords"
           }
          ],
          "pie": [
           {
            "automargin": true,
            "type": "pie"
           }
          ],
          "scatter": [
           {
            "marker": {
             "colorbar": {
              "outlinewidth": 0,
              "ticks": ""
             }
            },
            "type": "scatter"
           }
          ],
          "scatter3d": [
           {
            "line": {
             "colorbar": {
              "outlinewidth": 0,
              "ticks": ""
             }
            },
            "marker": {
             "colorbar": {
              "outlinewidth": 0,
              "ticks": ""
             }
            },
            "type": "scatter3d"
           }
          ],
          "scattercarpet": [
           {
            "marker": {
             "colorbar": {
              "outlinewidth": 0,
              "ticks": ""
             }
            },
            "type": "scattercarpet"
           }
          ],
          "scattergeo": [
           {
            "marker": {
             "colorbar": {
              "outlinewidth": 0,
              "ticks": ""
             }
            },
            "type": "scattergeo"
           }
          ],
          "scattergl": [
           {
            "marker": {
             "colorbar": {
              "outlinewidth": 0,
              "ticks": ""
             }
            },
            "type": "scattergl"
           }
          ],
          "scattermapbox": [
           {
            "marker": {
             "colorbar": {
              "outlinewidth": 0,
              "ticks": ""
             }
            },
            "type": "scattermapbox"
           }
          ],
          "scatterpolar": [
           {
            "marker": {
             "colorbar": {
              "outlinewidth": 0,
              "ticks": ""
             }
            },
            "type": "scatterpolar"
           }
          ],
          "scatterpolargl": [
           {
            "marker": {
             "colorbar": {
              "outlinewidth": 0,
              "ticks": ""
             }
            },
            "type": "scatterpolargl"
           }
          ],
          "scatterternary": [
           {
            "marker": {
             "colorbar": {
              "outlinewidth": 0,
              "ticks": ""
             }
            },
            "type": "scatterternary"
           }
          ],
          "surface": [
           {
            "colorbar": {
             "outlinewidth": 0,
             "ticks": ""
            },
            "colorscale": [
             [
              0,
              "#0d0887"
             ],
             [
              0.1111111111111111,
              "#46039f"
             ],
             [
              0.2222222222222222,
              "#7201a8"
             ],
             [
              0.3333333333333333,
              "#9c179e"
             ],
             [
              0.4444444444444444,
              "#bd3786"
             ],
             [
              0.5555555555555556,
              "#d8576b"
             ],
             [
              0.6666666666666666,
              "#ed7953"
             ],
             [
              0.7777777777777778,
              "#fb9f3a"
             ],
             [
              0.8888888888888888,
              "#fdca26"
             ],
             [
              1,
              "#f0f921"
             ]
            ],
            "type": "surface"
           }
          ],
          "table": [
           {
            "cells": {
             "fill": {
              "color": "#EBF0F8"
             },
             "line": {
              "color": "white"
             }
            },
            "header": {
             "fill": {
              "color": "#C8D4E3"
             },
             "line": {
              "color": "white"
             }
            },
            "type": "table"
           }
          ]
         },
         "layout": {
          "annotationdefaults": {
           "arrowcolor": "#2a3f5f",
           "arrowhead": 0,
           "arrowwidth": 1
          },
          "autotypenumbers": "strict",
          "coloraxis": {
           "colorbar": {
            "outlinewidth": 0,
            "ticks": ""
           }
          },
          "colorscale": {
           "diverging": [
            [
             0,
             "#8e0152"
            ],
            [
             0.1,
             "#c51b7d"
            ],
            [
             0.2,
             "#de77ae"
            ],
            [
             0.3,
             "#f1b6da"
            ],
            [
             0.4,
             "#fde0ef"
            ],
            [
             0.5,
             "#f7f7f7"
            ],
            [
             0.6,
             "#e6f5d0"
            ],
            [
             0.7,
             "#b8e186"
            ],
            [
             0.8,
             "#7fbc41"
            ],
            [
             0.9,
             "#4d9221"
            ],
            [
             1,
             "#276419"
            ]
           ],
           "sequential": [
            [
             0,
             "#0d0887"
            ],
            [
             0.1111111111111111,
             "#46039f"
            ],
            [
             0.2222222222222222,
             "#7201a8"
            ],
            [
             0.3333333333333333,
             "#9c179e"
            ],
            [
             0.4444444444444444,
             "#bd3786"
            ],
            [
             0.5555555555555556,
             "#d8576b"
            ],
            [
             0.6666666666666666,
             "#ed7953"
            ],
            [
             0.7777777777777778,
             "#fb9f3a"
            ],
            [
             0.8888888888888888,
             "#fdca26"
            ],
            [
             1,
             "#f0f921"
            ]
           ],
           "sequentialminus": [
            [
             0,
             "#0d0887"
            ],
            [
             0.1111111111111111,
             "#46039f"
            ],
            [
             0.2222222222222222,
             "#7201a8"
            ],
            [
             0.3333333333333333,
             "#9c179e"
            ],
            [
             0.4444444444444444,
             "#bd3786"
            ],
            [
             0.5555555555555556,
             "#d8576b"
            ],
            [
             0.6666666666666666,
             "#ed7953"
            ],
            [
             0.7777777777777778,
             "#fb9f3a"
            ],
            [
             0.8888888888888888,
             "#fdca26"
            ],
            [
             1,
             "#f0f921"
            ]
           ]
          },
          "colorway": [
           "#636efa",
           "#EF553B",
           "#00cc96",
           "#ab63fa",
           "#FFA15A",
           "#19d3f3",
           "#FF6692",
           "#B6E880",
           "#FF97FF",
           "#FECB52"
          ],
          "font": {
           "color": "#2a3f5f"
          },
          "geo": {
           "bgcolor": "white",
           "lakecolor": "white",
           "landcolor": "#E5ECF6",
           "showlakes": true,
           "showland": true,
           "subunitcolor": "white"
          },
          "hoverlabel": {
           "align": "left"
          },
          "hovermode": "closest",
          "mapbox": {
           "style": "light"
          },
          "paper_bgcolor": "white",
          "plot_bgcolor": "#E5ECF6",
          "polar": {
           "angularaxis": {
            "gridcolor": "white",
            "linecolor": "white",
            "ticks": ""
           },
           "bgcolor": "#E5ECF6",
           "radialaxis": {
            "gridcolor": "white",
            "linecolor": "white",
            "ticks": ""
           }
          },
          "scene": {
           "xaxis": {
            "backgroundcolor": "#E5ECF6",
            "gridcolor": "white",
            "gridwidth": 2,
            "linecolor": "white",
            "showbackground": true,
            "ticks": "",
            "zerolinecolor": "white"
           },
           "yaxis": {
            "backgroundcolor": "#E5ECF6",
            "gridcolor": "white",
            "gridwidth": 2,
            "linecolor": "white",
            "showbackground": true,
            "ticks": "",
            "zerolinecolor": "white"
           },
           "zaxis": {
            "backgroundcolor": "#E5ECF6",
            "gridcolor": "white",
            "gridwidth": 2,
            "linecolor": "white",
            "showbackground": true,
            "ticks": "",
            "zerolinecolor": "white"
           }
          },
          "shapedefaults": {
           "line": {
            "color": "#2a3f5f"
           }
          },
          "ternary": {
           "aaxis": {
            "gridcolor": "white",
            "linecolor": "white",
            "ticks": ""
           },
           "baxis": {
            "gridcolor": "white",
            "linecolor": "white",
            "ticks": ""
           },
           "bgcolor": "#E5ECF6",
           "caxis": {
            "gridcolor": "white",
            "linecolor": "white",
            "ticks": ""
           }
          },
          "title": {
           "x": 0.05
          },
          "xaxis": {
           "automargin": true,
           "gridcolor": "white",
           "linecolor": "white",
           "ticks": "",
           "title": {
            "standoff": 15
           },
           "zerolinecolor": "white",
           "zerolinewidth": 2
          },
          "yaxis": {
           "automargin": true,
           "gridcolor": "white",
           "linecolor": "white",
           "ticks": "",
           "title": {
            "standoff": 15
           },
           "zerolinecolor": "white",
           "zerolinewidth": 2
          }
         }
        },
        "width": 1500,
        "xaxis": {
         "anchor": "y",
         "autorange": true,
         "domain": [
          0,
          1
         ],
         "range": [
          2014.5,
          2020.5
         ],
         "title": {
          "text": "year"
         },
         "type": "linear"
        },
        "yaxis": {
         "anchor": "x",
         "autorange": true,
         "domain": [
          0,
          1
         ],
         "range": [
          -52.8888888888889,
          2184.8888888888887
         ],
         "title": {
          "text": "visitors_count"
         },
         "type": "linear"
        }
       }
      },
      "image/png": "[encoded data removed]",
      "text/html": [
       "<div>                            <div id=\"2131e580-e66a-4e07-a5e0-7a15f3135e0b\" class=\"plotly-graph-div\" style=\"height:600px; width:1500px;\"></div>            <script type=\"text/javascript\">                require([\"plotly\"], function(Plotly) {                    window.PLOTLYENV=window.PLOTLYENV || {};                                    if (document.getElementById(\"2131e580-e66a-4e07-a5e0-7a15f3135e0b\")) {                    Plotly.newPlot(                        \"2131e580-e66a-4e07-a5e0-7a15f3135e0b\",                        [{\"alignmentgroup\":\"True\",\"customdata\":[[\"India\",\"\\u0627\\u0644\\u0647\\u0646\\u062f\"],[\"KSA\",\"\\u0627\\u0644\\u0645\\u0645\\u0644\\u0643\\u0629 \\u0627\\u0644\\u0639\\u0631\\u0628\\u064a\\u0629 \\u0627\\u0644\\u0633\\u0639\\u0648\\u062f\\u064a\\u0629\"],[\"UK\",\"\\u0627\\u0644\\u0645\\u0645\\u0644\\u0643\\u0629 \\u0627\\u0644\\u0645\\u062a\\u062d\\u062f\\u0629\"],[\"Oman\",\"\\u0639\\u064f\\u0645\\u0627\\u0646\"],[\"US\",\"\\u0627\\u0644\\u0648\\u0644\\u0627\\u064a\\u0627\\u062a \\u0627\\u0644\\u0645\\u062a\\u062d\\u062f\\u0629\"],[\"Pakistan\",\"\\u0628\\u0627\\u0643\\u0633\\u062a\\u0627\\u0646\"],[\"Islamic Republic of Iran \",\"\\u062c\\u0645\\u0647\\u0648\\u0631\\u064a\\u0629  \\u0627\\u064a\\u0631\\u0627\\u0646 \\u0627\\u0644\\u0625\\u0633\\u0644\\u0627\\u0645\\u064a\\u0629\"],[\"Germany\",\"\\u0623\\u0644\\u0645\\u0627\\u0646\\u064a\\u0627\"],[\"China\",\"\\u0627\\u0644\\u0635\\u064a\\u0646\"],[\"Kuwait\",\"\\u0627\\u0644\\u0643\\u0648\\u064a\\u062a\"],[\"Philippines\",\"\\u0627\\u0644\\u0641\\u0644\\u0628\\u064a\\u0646\"],[\"Australia\",\"\\u0623\\u0633\\u062a\\u0631\\u0627\\u0644\\u064a\\u0627\"],[\"Egypt\",\"\\u0645\\u0635\\u0631\"],[\"France\",\"\\u0641\\u0631\\u0646\\u0633\\u0627\"],[\"Russian Federation\",\"\\u0627\\u0644\\u0627\\u062a\\u062d\\u0627\\u062f \\u0627\\u0644\\u0631\\u0648\\u0633\\u064a\"],[\"Nigeria\",\"\\u0646\\u064a\\u062c\\u064a\\u0631\\u064a\\u0627\"],[\"Italy\",\"\\u0625\\u064a\\u0637\\u0627\\u0644\\u064a\\u0627\"],[\"Qatar\",\"\\u0642\\u0637\\u0631\"],[\"Jordan\",\"\\u0627\\u0644\\u0623\\u0631\\u062f\\u0646\"],[\"Canada\",\"\\u0643\\u0646\\u062f\\u0627\"],[\"India\",\"\\u0627\\u0644\\u0647\\u0646\\u062f\"],[\"KSA\",\"\\u0627\\u0644\\u0645\\u0645\\u0644\\u0643\\u0629 \\u0627\\u0644\\u0639\\u0631\\u0628\\u064a\\u0629 \\u0627\\u0644\\u0633\\u0639\\u0648\\u062f\\u064a\\u0629\"],[\"UK\",\"\\u0627\\u0644\\u0645\\u0645\\u0644\\u0643\\u0629 \\u0627\\u0644\\u0645\\u062a\\u062d\\u062f\\u0629\"],[\"Oman\",\"\\u0639\\u064f\\u0645\\u0627\\u0646\"],[\"US\",\"\\u0627\\u0644\\u0648\\u0644\\u0627\\u064a\\u0627\\u062a \\u0627\\u0644\\u0645\\u062a\\u062d\\u062f\\u0629\"],[\"Pakistan\",\"\\u0628\\u0627\\u0643\\u0633\\u062a\\u0627\\u0646\"],[\"China\",\"\\u0627\\u0644\\u0635\\u064a\\u0646\"],[\"Islamic Republic of Iran \",\"\\u062c\\u0645\\u0647\\u0648\\u0631\\u064a\\u0629  \\u0627\\u064a\\u0631\\u0627\\u0646 \\u0627\\u0644\\u0625\\u0633\\u0644\\u0627\\u0645\\u064a\\u0629\"],[\"Germany\",\"\\u0623\\u0644\\u0645\\u0627\\u0646\\u064a\\u0627\"],[\"Kuwait\",\"\\u0627\\u0644\\u0643\\u0648\\u064a\\u062a\"],[\"Philippines\",\"\\u0627\\u0644\\u0641\\u0644\\u0628\\u064a\\u0646\"],[\"Egypt\",\"\\u0645\\u0635\\u0631\"],[\"Australia\",\"\\u0623\\u0633\\u062a\\u0631\\u0627\\u0644\\u064a\\u0627\"],[\"France\",\"\\u0641\\u0631\\u0646\\u0633\\u0627\"],[\"Russian Federation\",\"\\u0627\\u0644\\u0627\\u062a\\u062d\\u0627\\u062f \\u0627\\u0644\\u0631\\u0648\\u0633\\u064a\"],[\"Italy\",\"\\u0625\\u064a\\u0637\\u0627\\u0644\\u064a\\u0627\"],[\"Qatar\",\"\\u0642\\u0637\\u0631\"],[\"Canada\",\"\\u0643\\u0646\\u062f\\u0627\"],[\"Jordan\",\"\\u0627\\u0644\\u0623\\u0631\\u062f\\u0646\"],[\"Nigeria\",\"\\u0646\\u064a\\u062c\\u064a\\u0631\\u064a\\u0627\"],[\"India\",\"\\u0627\\u0644\\u0647\\u0646\\u062f\"],[\"KSA\",\"\\u0627\\u0644\\u0645\\u0645\\u0644\\u0643\\u0629 \\u0627\\u0644\\u0639\\u0631\\u0628\\u064a\\u0629 \\u0627\\u0644\\u0633\\u0639\\u0648\\u062f\\u064a\\u0629\"],[\"UK\",\"\\u0627\\u0644\\u0645\\u0645\\u0644\\u0643\\u0629 \\u0627\\u0644\\u0645\\u062a\\u062d\\u062f\\u0629\"],[\"Oman\",\"\\u0639\\u064f\\u0645\\u0627\\u0646\"],[\"US\",\"\\u0627\\u0644\\u0648\\u0644\\u0627\\u064a\\u0627\\u062a \\u0627\\u0644\\u0645\\u062a\\u062d\\u062f\\u0629\"],[\"Pakistan\",\"\\u0628\\u0627\\u0643\\u0633\\u062a\\u0627\\u0646\"],[\"China\",\"\\u0627\\u0644\\u0635\\u064a\\u0646\"],[\"Islamic Republic of Iran \",\"\\u062c\\u0645\\u0647\\u0648\\u0631\\u064a\\u0629  \\u0627\\u064a\\u0631\\u0627\\u0646 \\u0627\\u0644\\u0625\\u0633\\u0644\\u0627\\u0645\\u064a\\u0629\"],[\"Germany\",\"\\u0623\\u0644\\u0645\\u0627\\u0646\\u064a\\u0627\"],[\"Kuwait\",\"\\u0627\\u0644\\u0643\\u0648\\u064a\\u062a\"],[\"Philippines\",\"\\u0627\\u0644\\u0641\\u0644\\u0628\\u064a\\u0646\"],[\"Egypt\",\"\\u0645\\u0635\\u0631\"],[\"Australia\",\"\\u0623\\u0633\\u062a\\u0631\\u0627\\u0644\\u064a\\u0627\"],[\"France\",\"\\u0641\\u0631\\u0646\\u0633\\u0627\"],[\"Russian Federation\",\"\\u0627\\u0644\\u0627\\u062a\\u062d\\u0627\\u062f \\u0627\\u0644\\u0631\\u0648\\u0633\\u064a\"],[\"Italy\",\"\\u0625\\u064a\\u0637\\u0627\\u0644\\u064a\\u0627\"],[\"Canada\",\"\\u0643\\u0646\\u062f\\u0627\"],[\"Jordan\",\"\\u0627\\u0644\\u0623\\u0631\\u062f\\u0646\"],[\"Netherlands\",\"\\u0647\\u0648\\u0644\\u0646\\u062f\\u0627\"],[\"Lebanon\",\"\\u0644\\u0628\\u0646\\u0627\\u0646\"],[\"India\",\"\\u0627\\u0644\\u0647\\u0646\\u062f\"],[\"KSA\",\"\\u0627\\u0644\\u0645\\u0645\\u0644\\u0643\\u0629 \\u0627\\u0644\\u0639\\u0631\\u0628\\u064a\\u0629 \\u0627\\u0644\\u0633\\u0639\\u0648\\u062f\\u064a\\u0629\"],[\"UK\",\"\\u0627\\u0644\\u0645\\u0645\\u0644\\u0643\\u0629 \\u0627\\u0644\\u0645\\u062a\\u062d\\u062f\\u0629\"],[\"China\",\"\\u0627\\u0644\\u0635\\u064a\\u0646\"],[\"Oman\",\"\\u0639\\u064f\\u0645\\u0627\\u0646\"],[\"US\",\"\\u0627\\u0644\\u0648\\u0644\\u0627\\u064a\\u0627\\u062a \\u0627\\u0644\\u0645\\u062a\\u062d\\u062f\\u0629\"],[\"Russian Federation\",\"\\u0627\\u0644\\u0627\\u062a\\u062d\\u0627\\u062f \\u0627\\u0644\\u0631\\u0648\\u0633\\u064a\"],[\"Germany\",\"\\u0623\\u0644\\u0645\\u0627\\u0646\\u064a\\u0627\"],[\"Pakistan\",\"\\u0628\\u0627\\u0643\\u0633\\u062a\\u0627\\u0646\"],[\"Kuwait\",\"\\u0627\\u0644\\u0643\\u0648\\u064a\\u062a\"],[\"Philippines\",\"\\u0627\\u0644\\u0641\\u0644\\u0628\\u064a\\u0646\"],[\"Islamic Republic of Iran \",\"\\u062c\\u0645\\u0647\\u0648\\u0631\\u064a\\u0629  \\u0627\\u064a\\u0631\\u0627\\u0646 \\u0627\\u0644\\u0625\\u0633\\u0644\\u0627\\u0645\\u064a\\u0629\"],[\"France\",\"\\u0641\\u0631\\u0646\\u0633\\u0627\"],[\"Egypt\",\"\\u0645\\u0635\\u0631\"],[\"Australia\",\"\\u0623\\u0633\\u062a\\u0631\\u0627\\u0644\\u064a\\u0627\"],[\"Italy\",\"\\u0625\\u064a\\u0637\\u0627\\u0644\\u064a\\u0627\"],[\"  Nigeria\",\"  \\u0646\\u064a\\u062c\\u064a\\u0631\\u064a\\u0627\"],[\"Jordan\",\"\\u0627\\u0644\\u0623\\u0631\\u062f\\u0646\"],[\"Canada\",\"\\u0643\\u0646\\u062f\\u0627\"],[\"Netherlands\",\"\\u0647\\u0648\\u0644\\u0646\\u062f\\u0627\"],[\"India\",\"\\u0627\\u0644\\u0647\\u0646\\u062f\"],[\"KSA\",\"\\u0627\\u0644\\u0645\\u0645\\u0644\\u0643\\u0629 \\u0627\\u0644\\u0639\\u0631\\u0628\\u064a\\u0629 \\u0627\\u0644\\u0633\\u0639\\u0648\\u062f\\u064a\\u0629\"],[\"UK\",\"\\u0627\\u0644\\u0645\\u0645\\u0644\\u0643\\u0629 \\u0627\\u0644\\u0645\\u062a\\u062d\\u062f\\u0629\"],[\"Oman\",\"\\u0639\\u064f\\u0645\\u0627\\u0646\"],[\"China\",\"\\u0627\\u0644\\u0635\\u064a\\u0646\"],[\"Russian Federation\",\"\\u0627\\u0644\\u0627\\u062a\\u062d\\u0627\\u062f \\u0627\\u0644\\u0631\\u0648\\u0633\\u064a\"],[\"US\",\"\\u0627\\u0644\\u0648\\u0644\\u0627\\u064a\\u0627\\u062a \\u0627\\u0644\\u0645\\u062a\\u062d\\u062f\\u0629\"],[\"Germany\",\"\\u0623\\u0644\\u0645\\u0627\\u0646\\u064a\\u0627\"],[\"Pakistan\",\"\\u0628\\u0627\\u0643\\u0633\\u062a\\u0627\\u0646\"],[\"Philippines\",\"\\u0627\\u0644\\u0641\\u0644\\u0628\\u064a\\u0646\"],[\"France\",\"\\u0641\\u0631\\u0646\\u0633\\u0627\"],[\"Kuwait\",\"\\u0627\\u0644\\u0643\\u0648\\u064a\\u062a\"],[\"Egypt\",\"\\u0645\\u0635\\u0631\"],[\"Islamic Republic of Iran \",\"\\u062c\\u0645\\u0647\\u0648\\u0631\\u064a\\u0629  \\u0627\\u064a\\u0631\\u0627\\u0646 \\u0627\\u0644\\u0625\\u0633\\u0644\\u0627\\u0645\\u064a\\u0629\"],[\"Australia\",\"\\u0623\\u0633\\u062a\\u0631\\u0627\\u0644\\u064a\\u0627\"],[\"Italy\",\"\\u0625\\u064a\\u0637\\u0627\\u0644\\u064a\\u0627\"],[\"  Nigeria\",\"  \\u0646\\u064a\\u062c\\u064a\\u0631\\u064a\\u0627\"],[\"Canada\",\"\\u0643\\u0646\\u062f\\u0627\"],[\"Jordan\",\"\\u0627\\u0644\\u0623\\u0631\\u062f\\u0646\"],[\"Kazakhstan\",\"\\u0643\\u0627\\u0632\\u0627\\u062e\\u0633\\u062a\\u0627\\u0646\"],[\"India\",\"\\u0627\\u0644\\u0647\\u0646\\u062f\"],[\"KSA\",\"\\u0627\\u0644\\u0645\\u0645\\u0644\\u0643\\u0629 \\u0627\\u0644\\u0639\\u0631\\u0628\\u064a\\u0629 \\u0627\\u0644\\u0633\\u0639\\u0648\\u062f\\u064a\\u0629\"],[\"UK\",\"\\u0627\\u0644\\u0645\\u0645\\u0644\\u0643\\u0629 \\u0627\\u0644\\u0645\\u062a\\u062d\\u062f\\u0629\"],[\"Russian Federation\",\"\\u0627\\u0644\\u0627\\u062a\\u062d\\u0627\\u062f \\u0627\\u0644\\u0631\\u0648\\u0633\\u064a\"],[\"Oman\",\"\\u0639\\u064f\\u0645\\u0627\\u0646\"],[\"Pakistan\",\"\\u0628\\u0627\\u0643\\u0633\\u062a\\u0627\\u0646\"],[\"US\",\"\\u0627\\u0644\\u0648\\u0644\\u0627\\u064a\\u0627\\u062a \\u0627\\u0644\\u0645\\u062a\\u062d\\u062f\\u0629\"],[\"China\",\"\\u0627\\u0644\\u0635\\u064a\\u0646\"],[\"Egypt\",\"\\u0645\\u0635\\u0631\"],[\"France\",\"\\u0641\\u0631\\u0646\\u0633\\u0627\"],[\"Germany\",\"\\u0623\\u0644\\u0645\\u0627\\u0646\\u064a\\u0627\"],[\"Philippines\",\"\\u0627\\u0644\\u0641\\u0644\\u0628\\u064a\\u0646\"],[\"Kuwait\",\"\\u0627\\u0644\\u0643\\u0648\\u064a\\u062a\"],[\"  Nigeria\",\"  \\u0646\\u064a\\u062c\\u064a\\u0631\\u064a\\u0627\"],[\"Italy\",\"\\u0625\\u064a\\u0637\\u0627\\u0644\\u064a\\u0627\"],[\"Kazakhstan\",\"\\u0643\\u0627\\u0632\\u0627\\u062e\\u0633\\u062a\\u0627\\u0646\"],[\"Canada\",\"\\u0643\\u0646\\u062f\\u0627\"],[\"Islamic Republic of Iran \",\"\\u062c\\u0645\\u0647\\u0648\\u0631\\u064a\\u0629  \\u0627\\u064a\\u0631\\u0627\\u0646 \\u0627\\u0644\\u0625\\u0633\\u0644\\u0627\\u0645\\u064a\\u0629\"]],\"hovertemplate\":\"year=%{x}<br>visitors_count=%{y}<br>nationality_en=%{customdata[0]}<br>nationality_ar=%{customdata[1]}<extra></extra>\",\"legendgroup\":\"\",\"marker\":{\"color\":\"#636efa\"},\"name\":\"\",\"notched\":false,\"offsetgroup\":\"\",\"orientation\":\"v\",\"showlegend\":false,\"x\":[2015,2015,2015,2015,2015,2015,2015,2015,2015,2015,2015,2015,2015,2015,2015,2015,2015,2015,2015,2015,2016,2016,2016,2016,2016,2016,2016,2016,2016,2016,2016,2016,2016,2016,2016,2016,2016,2016,2016,2016,2017,2017,2017,2017,2017,2017,2017,2017,2017,2017,2017,2017,2017,2017,2017,2017,2017,2017,2017,2017,2018,2018,2018,2018,2018,2018,2018,2018,2018,2018,2018,2018,2018,2018,2018,2018,2018,2018,2018,2018,2019,2019,2019,2019,2019,2019,2019,2019,2019,2019,2019,2019,2019,2019,2019,2019,2019,2019,2019,2019,2020,2020,2020,2020,2020,2020,2020,2020,2020,2020,2020,2020,2020,2020,2020,2020,2020,2020],\"x0\":\" \",\"xaxis\":\"x\",\"y\":[1601,1542,1188,1002,602,513,462,461,450,410,325,315,305,248,211,201,195,182,180,168,1800,1638,1245,1037,607,607,540,472,462,419,390,291,283,266,240,204,198,176,162,160,2073,1529,1265,862,633,598,764,503,506,402,405,288,279,298,530,214,173,178,142,142,2032,1568,1212,857,829,656,678,567,513,342,387,316,348,291,257,234,185,166,161,140,1970,1565,1200,1030,989,728,667,560,501,477,382,327,314,284,255,247,246,169,162,147,865,400,392,296,240,212,191,182,170,166,165,104,84,81,76,74,59,59],\"y0\":\" \",\"yaxis\":\"y\",\"type\":\"box\"}],                        {\"template\":{\"data\":{\"bar\":[{\"error_x\":{\"color\":\"#2a3f5f\"},\"error_y\":{\"color\":\"#2a3f5f\"},\"marker\":{\"line\":{\"color\":\"#E5ECF6\",\"width\":0.5},\"pattern\":{\"fillmode\":\"overlay\",\"size\":10,\"solidity\":0.2}},\"type\":\"bar\"}],\"barpolar\":[{\"marker\":{\"line\":{\"color\":\"#E5ECF6\",\"width\":0.5},\"pattern\":{\"fillmode\":\"overlay\",\"size\":10,\"solidity\":0.2}},\"type\":\"barpolar\"}],\"carpet\":[{\"aaxis\":{\"endlinecolor\":\"#2a3f5f\",\"gridcolor\":\"white\",\"linecolor\":\"white\",\"minorgridcolor\":\"white\",\"startlinecolor\":\"#2a3f5f\"},\"baxis\":{\"endlinecolor\":\"#2a3f5f\",\"gridcolor\":\"white\",\"linecolor\":\"white\",\"minorgridcolor\":\"white\",\"startlinecolor\":\"#2a3f5f\"},\"type\":\"carpet\"}],\"choropleth\":[{\"colorbar\":{\"outlinewidth\":0,\"ticks\":\"\"},\"type\":\"choropleth\"}],\"contour\":[{\"colorbar\":{\"outlinewidth\":0,\"ticks\":\"\"},\"colorscale\":[[0.0,\"#0d0887\"],[0.1111111111111111,\"#46039f\"],[0.2222222222222222,\"#7201a8\"],[0.3333333333333333,\"#9c179e\"],[0.4444444444444444,\"#bd3786\"],[0.5555555555555556,\"#d8576b\"],[0.6666666666666666,\"#ed7953\"],[0.7777777777777778,\"#fb9f3a\"],[0.8888888888888888,\"#fdca26\"],[1.0,\"#f0f921\"]],\"type\":\"contour\"}],\"contourcarpet\":[{\"colorbar\":{\"outlinewidth\":0,\"ticks\":\"\"},\"type\":\"contourcarpet\"}],\"heatmap\":[{\"colorbar\":{\"outlinewidth\":0,\"ticks\":\"\"},\"colorscale\":[[0.0,\"#0d0887\"],[0.1111111111111111,\"#46039f\"],[0.2222222222222222,\"#7201a8\"],[0.3333333333333333,\"#9c179e\"],[0.4444444444444444,\"#bd3786\"],[0.5555555555555556,\"#d8576b\"],[0.6666666666666666,\"#ed7953\"],[0.7777777777777778,\"#fb9f3a\"],[0.8888888888888888,\"#fdca26\"],[1.0,\"#f0f921\"]],\"type\":\"heatmap\"}],\"heatmapgl\":[{\"colorbar\":{\"outlinewidth\":0,\"ticks\":\"\"},\"colorscale\":[[0.0,\"#0d0887\"],[0.1111111111111111,\"#46039f\"],[0.2222222222222222,\"#7201a8\"],[0.3333333333333333,\"#9c179e\"],[0.4444444444444444,\"#bd3786\"],[0.5555555555555556,\"#d8576b\"],[0.6666666666666666,\"#ed7953\"],[0.7777777777777778,\"#fb9f3a\"],[0.8888888888888888,\"#fdca26\"],[1.0,\"#f0f921\"]],\"type\":\"heatmapgl\"}],\"histogram\":[{\"marker\":{\"pattern\":{\"fillmode\":\"overlay\",\"size\":10,\"solidity\":0.2}},\"type\":\"histogram\"}],\"histogram2d\":[{\"colorbar\":{\"outlinewidth\":0,\"ticks\":\"\"},\"colorscale\":[[0.0,\"#0d0887\"],[0.1111111111111111,\"#46039f\"],[0.2222222222222222,\"#7201a8\"],[0.3333333333333333,\"#9c179e\"],[0.4444444444444444,\"#bd3786\"],[0.5555555555555556,\"#d8576b\"],[0.6666666666666666,\"#ed7953\"],[0.7777777777777778,\"#fb9f3a\"],[0.8888888888888888,\"#fdca26\"],[1.0,\"#f0f921\"]],\"type\":\"histogram2d\"}],\"histogram2dcontour\":[{\"colorbar\":{\"outlinewidth\":0,\"ticks\":\"\"},\"colorscale\":[[0.0,\"#0d0887\"],[0.1111111111111111,\"#46039f\"],[0.2222222222222222,\"#7201a8\"],[0.3333333333333333,\"#9c179e\"],[0.4444444444444444,\"#bd3786\"],[0.5555555555555556,\"#d8576b\"],[0.6666666666666666,\"#ed7953\"],[0.7777777777777778,\"#fb9f3a\"],[0.8888888888888888,\"#fdca26\"],[1.0,\"#f0f921\"]],\"type\":\"histogram2dcontour\"}],\"mesh3d\":[{\"colorbar\":{\"outlinewidth\":0,\"ticks\":\"\"},\"type\":\"mesh3d\"}],\"parcoords\":[{\"line\":{\"colorbar\":{\"outlinewidth\":0,\"ticks\":\"\"}},\"type\":\"parcoords\"}],\"pie\":[{\"automargin\":true,\"type\":\"pie\"}],\"scatter\":[{\"marker\":{\"colorbar\":{\"outlinewidth\":0,\"ticks\":\"\"}},\"type\":\"scatter\"}],\"scatter3d\":[{\"line\":{\"colorbar\":{\"outlinewidth\":0,\"ticks\":\"\"}},\"marker\":{\"colorbar\":{\"outlinewidth\":0,\"ticks\":\"\"}},\"type\":\"scatter3d\"}],\"scattercarpet\":[{\"marker\":{\"colorbar\":{\"outlinewidth\":0,\"ticks\":\"\"}},\"type\":\"scattercarpet\"}],\"scattergeo\":[{\"marker\":{\"colorbar\":{\"outlinewidth\":0,\"ticks\":\"\"}},\"type\":\"scattergeo\"}],\"scattergl\":[{\"marker\":{\"colorbar\":{\"outlinewidth\":0,\"ticks\":\"\"}},\"type\":\"scattergl\"}],\"scattermapbox\":[{\"marker\":{\"colorbar\":{\"outlinewidth\":0,\"ticks\":\"\"}},\"type\":\"scattermapbox\"}],\"scatterpolar\":[{\"marker\":{\"colorbar\":{\"outlinewidth\":0,\"ticks\":\"\"}},\"type\":\"scatterpolar\"}],\"scatterpolargl\":[{\"marker\":{\"colorbar\":{\"outlinewidth\":0,\"ticks\":\"\"}},\"type\":\"scatterpolargl\"}],\"scatterternary\":[{\"marker\":{\"colorbar\":{\"outlinewidth\":0,\"ticks\":\"\"}},\"type\":\"scatterternary\"}],\"surface\":[{\"colorbar\":{\"outlinewidth\":0,\"ticks\":\"\"},\"colorscale\":[[0.0,\"#0d0887\"],[0.1111111111111111,\"#46039f\"],[0.2222222222222222,\"#7201a8\"],[0.3333333333333333,\"#9c179e\"],[0.4444444444444444,\"#bd3786\"],[0.5555555555555556,\"#d8576b\"],[0.6666666666666666,\"#ed7953\"],[0.7777777777777778,\"#fb9f3a\"],[0.8888888888888888,\"#fdca26\"],[1.0,\"#f0f921\"]],\"type\":\"surface\"}],\"table\":[{\"cells\":{\"fill\":{\"color\":\"#EBF0F8\"},\"line\":{\"color\":\"white\"}},\"header\":{\"fill\":{\"color\":\"#C8D4E3\"},\"line\":{\"color\":\"white\"}},\"type\":\"table\"}]},\"layout\":{\"annotationdefaults\":{\"arrowcolor\":\"#2a3f5f\",\"arrowhead\":0,\"arrowwidth\":1},\"autotypenumbers\":\"strict\",\"coloraxis\":{\"colorbar\":{\"outlinewidth\":0,\"ticks\":\"\"}},\"colorscale\":{\"diverging\":[[0,\"#8e0152\"],[0.1,\"#c51b7d\"],[0.2,\"#de77ae\"],[0.3,\"#f1b6da\"],[0.4,\"#fde0ef\"],[0.5,\"#f7f7f7\"],[0.6,\"#e6f5d0\"],[0.7,\"#b8e186\"],[0.8,\"#7fbc41\"],[0.9,\"#4d9221\"],[1,\"#276419\"]],\"sequential\":[[0.0,\"#0d0887\"],[0.1111111111111111,\"#46039f\"],[0.2222222222222222,\"#7201a8\"],[0.3333333333333333,\"#9c179e\"],[0.4444444444444444,\"#bd3786\"],[0.5555555555555556,\"#d8576b\"],[0.6666666666666666,\"#ed7953\"],[0.7777777777777778,\"#fb9f3a\"],[0.8888888888888888,\"#fdca26\"],[1.0,\"#f0f921\"]],\"sequentialminus\":[[0.0,\"#0d0887\"],[0.1111111111111111,\"#46039f\"],[0.2222222222222222,\"#7201a8\"],[0.3333333333333333,\"#9c179e\"],[0.4444444444444444,\"#bd3786\"],[0.5555555555555556,\"#d8576b\"],[0.6666666666666666,\"#ed7953\"],[0.7777777777777778,\"#fb9f3a\"],[0.8888888888888888,\"#fdca26\"],[1.0,\"#f0f921\"]]},\"colorway\":[\"#636efa\",\"#EF553B\",\"#00cc96\",\"#ab63fa\",\"#FFA15A\",\"#19d3f3\",\"#FF6692\",\"#B6E880\",\"#FF97FF\",\"#FECB52\"],\"font\":{\"color\":\"#2a3f5f\"},\"geo\":{\"bgcolor\":\"white\",\"lakecolor\":\"white\",\"landcolor\":\"#E5ECF6\",\"showlakes\":true,\"showland\":true,\"subunitcolor\":\"white\"},\"hoverlabel\":{\"align\":\"left\"},\"hovermode\":\"closest\",\"mapbox\":{\"style\":\"light\"},\"paper_bgcolor\":\"white\",\"plot_bgcolor\":\"#E5ECF6\",\"polar\":{\"angularaxis\":{\"gridcolor\":\"white\",\"linecolor\":\"white\",\"ticks\":\"\"},\"bgcolor\":\"#E5ECF6\",\"radialaxis\":{\"gridcolor\":\"white\",\"linecolor\":\"white\",\"ticks\":\"\"}},\"scene\":{\"xaxis\":{\"backgroundcolor\":\"#E5ECF6\",\"gridcolor\":\"white\",\"gridwidth\":2,\"linecolor\":\"white\",\"showbackground\":true,\"ticks\":\"\",\"zerolinecolor\":\"white\"},\"yaxis\":{\"backgroundcolor\":\"#E5ECF6\",\"gridcolor\":\"white\",\"gridwidth\":2,\"linecolor\":\"white\",\"showbackground\":true,\"ticks\":\"\",\"zerolinecolor\":\"white\"},\"zaxis\":{\"backgroundcolor\":\"#E5ECF6\",\"gridcolor\":\"white\",\"gridwidth\":2,\"linecolor\":\"white\",\"showbackground\":true,\"ticks\":\"\",\"zerolinecolor\":\"white\"}},\"shapedefaults\":{\"line\":{\"color\":\"#2a3f5f\"}},\"ternary\":{\"aaxis\":{\"gridcolor\":\"white\",\"linecolor\":\"white\",\"ticks\":\"\"},\"baxis\":{\"gridcolor\":\"white\",\"linecolor\":\"white\",\"ticks\":\"\"},\"bgcolor\":\"#E5ECF6\",\"caxis\":{\"gridcolor\":\"white\",\"linecolor\":\"white\",\"ticks\":\"\"}},\"title\":{\"x\":0.05},\"xaxis\":{\"automargin\":true,\"gridcolor\":\"white\",\"linecolor\":\"white\",\"ticks\":\"\",\"title\":{\"standoff\":15},\"zerolinecolor\":\"white\",\"zerolinewidth\":2},\"yaxis\":{\"automargin\":true,\"gridcolor\":\"white\",\"linecolor\":\"white\",\"ticks\":\"\",\"title\":{\"standoff\":15},\"zerolinecolor\":\"white\",\"zerolinewidth\":2}}},\"xaxis\":{\"anchor\":\"y\",\"domain\":[0.0,1.0],\"title\":{\"text\":\"year\"}},\"yaxis\":{\"anchor\":\"x\",\"domain\":[0.0,1.0],\"title\":{\"text\":\"visitors_count\"}},\"legend\":{\"tracegroupgap\":0},\"margin\":{\"t\":60},\"boxmode\":\"group\",\"height\":600,\"width\":1500},                        {\"responsive\": true}                    ).then(function(){\n",
       "                            \n",
       "var gd = document.getElementById('2131e580-e66a-4e07-a5e0-7a15f3135e0b');\n",
       "var x = new MutationObserver(function (mutations, observer) {{\n",
       "        var display = window.getComputedStyle(gd).display;\n",
       "        if (!display || display === 'none') {{\n",
       "            console.log([gd, 'removed!']);\n",
       "            Plotly.purge(gd);\n",
       "            observer.disconnect();\n",
       "        }}\n",
       "}});\n",
       "\n",
       "// Listen for the removal of the full notebook cells\n",
       "var notebookContainer = gd.closest('#notebook-container');\n",
       "if (notebookContainer) {{\n",
       "    x.observe(notebookContainer, {childList: true});\n",
       "}}\n",
       "\n",
       "// Listen for the clearing of the current output cell\n",
       "var outputEl = gd.closest('.output');\n",
       "if (outputEl) {{\n",
       "    x.observe(outputEl, {childList: true});\n",
       "}}\n",
       "\n",
       "                        })                };                });            </script>        </div>"
      ]
     },
     "metadata": {},
     "output_type": "display_data"
    }
   ],
   "source": [
    "px.box(\n",
    "    data_frame=visitors_filtered,\n",
    "    x=\"year\",\n",
    "    y=\"visitors_count\",\n",
    "    hover_data=[\"nationality_en\", \"nationality_ar\"],\n",
    "    height=600,\n",
    "    width=1500,\n",
    ")"
   ]
  }
 ],
 "metadata": {
  "kernelspec": {
   "display_name": "Python 3 (ipykernel)",
   "language": "python",
   "name": "python3"
  },
  "language_info": {
   "codemirror_mode": {
    "name": "ipython",
    "version": 3
   },
   "file_extension": ".py",
   "mimetype": "text/x-python",
   "name": "python",
   "nbconvert_exporter": "python",
   "pygments_lexer": "ipython3",
   "version": "3.9.12"
  },
  "toc-autonumbering": true,
  "toc-showcode": false,
  "toc-showmarkdowntxt": false,
  "toc-showtags": false
 },
 "nbformat": 4,
 "nbformat_minor": 5
}
